{
  "nbformat": 4,
  "nbformat_minor": 0,
  "metadata": {
    "colab": {
      "name": "FOMAML.ipynb",
      "provenance": [],
      "collapsed_sections": [],
      "authorship_tag": "ABX9TyORZuCurUEMisfAHdodw9kE",
      "include_colab_link": true
    },
    "kernelspec": {
      "name": "python3",
      "display_name": "Python 3"
    }
  },
  "cells": [
    {
      "cell_type": "markdown",
      "metadata": {
        "id": "view-in-github",
        "colab_type": "text"
      },
      "source": [
        "<a href=\"https://colab.research.google.com/github/chettkulkarni/advanced_deep_learning/blob/master/Assignment4/Assignment4_FOMAML.ipynb\" target=\"_parent\"><img src=\"https://colab.research.google.com/assets/colab-badge.svg\" alt=\"Open In Colab\"/></a>"
      ]
    },
    {
      "cell_type": "code",
      "metadata": {
        "id": "BSwLvFP8CUdc"
      },
      "source": [
        ""
      ],
      "execution_count": null,
      "outputs": []
    },
    {
      "cell_type": "markdown",
      "metadata": {
        "id": "7RP2ewnnCSm0"
      },
      "source": [
        "# FOMAML\n",
        "First order meta learning algorithms"
      ]
    },
    {
      "cell_type": "markdown",
      "metadata": {
        "id": "DsVa7N6DChsQ"
      },
      "source": [
        "# Importing Libraries"
      ]
    },
    {
      "cell_type": "code",
      "metadata": {
        "id": "eO7Tv6_MAj3i"
      },
      "source": [
        "import matplotlib.pyplot as plt\n",
        "import numpy as np\n",
        "import random\n",
        "import tensorflow as tf\n",
        "from tensorflow import keras\n",
        "from tensorflow.keras import layers\n",
        "import tensorflow_datasets as tfds"
      ],
      "execution_count": 1,
      "outputs": []
    },
    {
      "cell_type": "markdown",
      "metadata": {
        "id": "CdyO7NqHClAz"
      },
      "source": [
        "# Seiing up hyper parmeters"
      ]
    },
    {
      "cell_type": "code",
      "metadata": {
        "id": "tnsGGu4cAz7a"
      },
      "source": [
        "learning_rate = 0.003\n",
        "meta_step_size = 0.25\n",
        "\n",
        "inner_batch_size = 25\n",
        "eval_batch_size = 25\n",
        "\n",
        "meta_iters = 2000\n",
        "eval_iters = 5\n",
        "inner_iters = 4\n",
        "\n",
        "eval_interval = 1\n",
        "train_shots = 20\n",
        "shots = 5\n",
        "classes = 5"
      ],
      "execution_count": 2,
      "outputs": []
    },
    {
      "cell_type": "markdown",
      "metadata": {
        "id": "I3FFidSBCn0B"
      },
      "source": [
        "# Downloading dataset"
      ]
    },
    {
      "cell_type": "code",
      "metadata": {
        "id": "5ACK_QX0_9H7"
      },
      "source": [
        "class Dataset:\n",
        "    # This class will facilitate the creation of a few-shot dataset\n",
        "    # from the Omniglot dataset that can be sampled from quickly while also\n",
        "    # allowing to create new labels at the same time.\n",
        "    def __init__(self, training):\n",
        "        # Download the tfrecord files containing the omniglot data and convert to a\n",
        "        # dataset.\n",
        "        split = \"train\" if training else \"test\"\n",
        "        ds = tfds.load(\"omniglot\", split=split, as_supervised=True, shuffle_files=False)\n",
        "        # Iterate over the dataset to get each individual image and its class,\n",
        "        # and put that data into a dictionary.\n",
        "        self.data = {}\n",
        "\n",
        "        def extraction(image, label):\n",
        "            # This function will shrink the Omniglot images to the desired size,\n",
        "            # scale pixel values and convert the RGB image to grayscale\n",
        "            image = tf.image.convert_image_dtype(image, tf.float32)\n",
        "            image = tf.image.rgb_to_grayscale(image)\n",
        "            image = tf.image.resize(image, [28, 28])\n",
        "            return image, label\n",
        "\n",
        "        for image, label in ds.map(extraction):\n",
        "            image = image.numpy()\n",
        "            label = str(label.numpy())\n",
        "            if label not in self.data:\n",
        "                self.data[label] = []\n",
        "            self.data[label].append(image)\n",
        "            self.labels = list(self.data.keys())\n",
        "\n",
        "    def get_mini_dataset(\n",
        "        self, batch_size, repetitions, shots, num_classes, split=False\n",
        "    ):\n",
        "        temp_labels = np.zeros(shape=(num_classes * shots))\n",
        "        temp_images = np.zeros(shape=(num_classes * shots, 28, 28, 1))\n",
        "        if split:\n",
        "            test_labels = np.zeros(shape=(num_classes))\n",
        "            test_images = np.zeros(shape=(num_classes, 28, 28, 1))\n",
        "\n",
        "        # Get a random subset of labels from the entire label set.\n",
        "        label_subset = random.choices(self.labels, k=num_classes)\n",
        "        for class_idx, class_obj in enumerate(label_subset):\n",
        "            # Use enumerated index value as a temporary label for mini-batch in\n",
        "            # few shot learning.\n",
        "            temp_labels[class_idx * shots : (class_idx + 1) * shots] = class_idx\n",
        "            # If creating a split dataset for testing, select an extra sample from each\n",
        "            # label to create the test dataset.\n",
        "            if split:\n",
        "                test_labels[class_idx] = class_idx\n",
        "                images_to_split = random.choices(\n",
        "                    self.data[label_subset[class_idx]], k=shots + 1\n",
        "                )\n",
        "                test_images[class_idx] = images_to_split[-1]\n",
        "                temp_images[\n",
        "                    class_idx * shots : (class_idx + 1) * shots\n",
        "                ] = images_to_split[:-1]\n",
        "            else:\n",
        "                # For each index in the randomly selected label_subset, sample the\n",
        "                # necessary number of images.\n",
        "                temp_images[\n",
        "                    class_idx * shots : (class_idx + 1) * shots\n",
        "                ] = random.choices(self.data[label_subset[class_idx]], k=shots)\n",
        "\n",
        "        dataset = tf.data.Dataset.from_tensor_slices(\n",
        "            (temp_images.astype(np.float32), temp_labels.astype(np.int32))\n",
        "        )\n",
        "        dataset = dataset.shuffle(100).batch(batch_size).repeat(repetitions)\n",
        "        if split:\n",
        "            return dataset, test_images, test_labels\n",
        "        return dataset"
      ],
      "execution_count": 3,
      "outputs": []
    },
    {
      "cell_type": "code",
      "metadata": {
        "id": "uOIZBdp7BTAA"
      },
      "source": [
        "import urllib3\n",
        "\n",
        "urllib3.disable_warnings()  # Disable SSL warnings that may happen during download.\n",
        "train_dataset = Dataset(training=True)\n",
        "test_dataset = Dataset(training=False)"
      ],
      "execution_count": 4,
      "outputs": []
    },
    {
      "cell_type": "code",
      "metadata": {
        "id": "M5jLtFzpBe-V"
      },
      "source": [
        "import numpy as np"
      ],
      "execution_count": 5,
      "outputs": []
    },
    {
      "cell_type": "markdown",
      "metadata": {
        "id": "lligsBEiCqtC"
      },
      "source": [
        "# Setting up random sample points"
      ]
    },
    {
      "cell_type": "code",
      "metadata": {
        "id": "i7MdACuVArY1"
      },
      "source": [
        "def sample_points(k):\n",
        "    x = np.random.rand(k,50)\n",
        "    y = np.random.choice([0, 1], size=k, p=[.5, .5]).reshape([-1,1])\n",
        "    return x,y"
      ],
      "execution_count": 6,
      "outputs": []
    },
    {
      "cell_type": "code",
      "metadata": {
        "id": "icBbNyeFBiBD",
        "outputId": "7ce4e72b-b973-496b-d536-574cbf2f48a2",
        "colab": {
          "base_uri": "https://localhost:8080/"
        }
      },
      "source": [
        "x, y = sample_points(10)\n",
        "print (x[0])\n",
        "print (y[0])"
      ],
      "execution_count": 7,
      "outputs": [
        {
          "output_type": "stream",
          "text": [
            "[0.97574433 0.55955738 0.13557148 0.66415823 0.85607692 0.52519513\n",
            " 0.63159657 0.91413648 0.43428085 0.72383374 0.48006366 0.06450493\n",
            " 0.33109623 0.87549579 0.63943971 0.41258637 0.9735772  0.86593606\n",
            " 0.60421508 0.7861783  0.33496339 0.91658178 0.97822687 0.74089744\n",
            " 0.77710831 0.42735763 0.23399818 0.72475301 0.76300761 0.9277901\n",
            " 0.63293497 0.01499949 0.59359894 0.6652844  0.66987309 0.40916722\n",
            " 0.85180733 0.83383166 0.93836033 0.97861546 0.28452296 0.7228755\n",
            " 0.90556005 0.69385375 0.71753979 0.9414141  0.15878973 0.71466391\n",
            " 0.70181011 0.1506192 ]\n",
            "[0]\n"
          ],
          "name": "stdout"
        }
      ]
    },
    {
      "cell_type": "markdown",
      "metadata": {
        "id": "ulivgU1RCu5F"
      },
      "source": [
        "# FOMAML model\n",
        "Here we will try to optimise and get better rates"
      ]
    },
    {
      "cell_type": "code",
      "metadata": {
        "id": "9888zzTQBlSa"
      },
      "source": [
        "class FOMAML(object):\n",
        "    def __init__(self):\n",
        "        \n",
        "        #initialize number of tasks i.e number of tasks we need in each batch of tasks\n",
        "        self.num_tasks = 10\n",
        "        \n",
        "        #number of samples i.e number of shots  -number of data points (k) we need to have in each task\n",
        "        self.num_samples = 10\n",
        "\n",
        "        #number of epochs i.e training iterations\n",
        "        self.epochs = 10000\n",
        "        \n",
        "        #hyperparameter for the inner loop (inner gradient update)\n",
        "        self.alpha = 0.0001\n",
        "        \n",
        "        #hyperparameter for the outer loop (outer gradient update) i.e meta optimization\n",
        "        self.beta = 0.0001\n",
        "       \n",
        "        #randomly initialize our model parameter theta\n",
        "        self.theta = np.random.normal(size=50).reshape(50, 1)\n",
        "      \n",
        "    #define our sigmoid activation function  \n",
        "    def sigmoid(self,a):\n",
        "        return 1.0 / (1 + np.exp(-a))\n",
        "    \n",
        "    \n",
        "    #now let us get to the interesting part i.e training :P\n",
        "    def train(self):\n",
        "        \n",
        "        #for the number of epochs,\n",
        "        for e in range(self.epochs):        \n",
        "            \n",
        "            self.theta_ = []\n",
        "            \n",
        "            #for task i in batch of tasks\n",
        "            for i in range(self.num_tasks):\n",
        "               \n",
        "                #sample k data points and prepare our train set\n",
        "                XTrain, YTrain = sample_points(self.num_samples)\n",
        "                \n",
        "                a = np.matmul(XTrain, self.theta)\n",
        "\n",
        "                YHat = self.sigmoid(a)\n",
        "\n",
        "                #since we are performing classification, we use cross entropy loss as our loss function\n",
        "                loss = ((np.matmul(-YTrain.T, np.log(YHat)) - np.matmul((1 -YTrain.T), np.log(1 - YHat)))/self.num_samples)[0][0]\n",
        "                \n",
        "                #minimize the loss by calculating gradients\n",
        "                gradient = np.matmul(XTrain.T, (YHat - YTrain)) / self.num_samples\n",
        "\n",
        "                #update the gradients and find the optimal parameter theta' for each of tasks\n",
        "                self.theta_.append(self.theta - self.alpha*gradient)\n",
        "                \n",
        "     \n",
        "            #initialize meta gradients\n",
        "            meta_gradient = np.zeros(self.theta.shape)\n",
        "                        \n",
        "            for i in range(self.num_tasks):\n",
        "            \n",
        "                #sample k data points and prepare our test set for meta training\n",
        "                XTest, YTest = sample_points(10)\n",
        "\n",
        "                #predict the value of y\n",
        "                a = np.matmul(XTest, self.theta_[i])\n",
        "                \n",
        "                YPred = self.sigmoid(a)\n",
        "                           \n",
        "                #compute meta gradients\n",
        "                meta_gradient += np.matmul(XTest.T, (YPred - YTest)) / self.num_samples\n",
        "\n",
        "  \n",
        "            #update our randomly initialized model parameter theta with the meta gradients\n",
        "            self.theta = self.theta-self.beta*meta_gradient/self.num_tasks\n",
        "                                       \n",
        "            if e%1000==0:\n",
        "                print (\"Epoch {}: Loss {}\\n\".format(e,loss) )            \n",
        "                print ('Updated Model Parameter Theta\\n')\n",
        "                print ('Sampling Next Batch of Tasks \\n')\n",
        "                print ('---------------------------------\\n')"
      ],
      "execution_count": 8,
      "outputs": []
    },
    {
      "cell_type": "code",
      "metadata": {
        "id": "Jpdkx0udBlkW",
        "outputId": "86428491-a401-47f7-af46-34a7734e864b",
        "colab": {
          "base_uri": "https://localhost:8080/"
        }
      },
      "source": [
        "model = FOMAML()\n",
        "model.train()"
      ],
      "execution_count": 9,
      "outputs": [
        {
          "output_type": "stream",
          "text": [
            "Epoch 0: Loss 2.973697733861663\n",
            "\n",
            "Updated Model Parameter Theta\n",
            "\n",
            "Sampling Next Batch of Tasks \n",
            "\n",
            "---------------------------------\n",
            "\n",
            "Epoch 1000: Loss 1.7733073537116901\n",
            "\n",
            "Updated Model Parameter Theta\n",
            "\n",
            "Sampling Next Batch of Tasks \n",
            "\n",
            "---------------------------------\n",
            "\n",
            "Epoch 2000: Loss 2.6940183561550537\n",
            "\n",
            "Updated Model Parameter Theta\n",
            "\n",
            "Sampling Next Batch of Tasks \n",
            "\n",
            "---------------------------------\n",
            "\n",
            "Epoch 3000: Loss 3.112564964019643\n",
            "\n",
            "Updated Model Parameter Theta\n",
            "\n",
            "Sampling Next Batch of Tasks \n",
            "\n",
            "---------------------------------\n",
            "\n",
            "Epoch 4000: Loss 1.4024467630018111\n",
            "\n",
            "Updated Model Parameter Theta\n",
            "\n",
            "Sampling Next Batch of Tasks \n",
            "\n",
            "---------------------------------\n",
            "\n",
            "Epoch 5000: Loss 1.7137500715042506\n",
            "\n",
            "Updated Model Parameter Theta\n",
            "\n",
            "Sampling Next Batch of Tasks \n",
            "\n",
            "---------------------------------\n",
            "\n",
            "Epoch 6000: Loss 2.0961217014544653\n",
            "\n",
            "Updated Model Parameter Theta\n",
            "\n",
            "Sampling Next Batch of Tasks \n",
            "\n",
            "---------------------------------\n",
            "\n",
            "Epoch 7000: Loss 1.231077434752016\n",
            "\n",
            "Updated Model Parameter Theta\n",
            "\n",
            "Sampling Next Batch of Tasks \n",
            "\n",
            "---------------------------------\n",
            "\n",
            "Epoch 8000: Loss 0.5571210904346673\n",
            "\n",
            "Updated Model Parameter Theta\n",
            "\n",
            "Sampling Next Batch of Tasks \n",
            "\n",
            "---------------------------------\n",
            "\n",
            "Epoch 9000: Loss 1.5354595636962922\n",
            "\n",
            "Updated Model Parameter Theta\n",
            "\n",
            "Sampling Next Batch of Tasks \n",
            "\n",
            "---------------------------------\n",
            "\n"
          ],
          "name": "stdout"
        }
      ]
    },
    {
      "cell_type": "code",
      "metadata": {
        "id": "9vJA6OSKBr8a"
      },
      "source": [
        ""
      ],
      "execution_count": null,
      "outputs": []
    }
  ]
}