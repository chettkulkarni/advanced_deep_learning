{
  "nbformat": 4,
  "nbformat_minor": 0,
  "metadata": {
    "colab": {
      "name": "Multi Task Learning.ipynb",
      "provenance": [],
      "collapsed_sections": [],
      "authorship_tag": "ABX9TyMsrWMdVwqRtHaQz90ivjMT",
      "include_colab_link": true
    },
    "kernelspec": {
      "name": "python3",
      "display_name": "Python 3"
    },
    "accelerator": "GPU",
    "widgets": {
      "application/vnd.jupyter.widget-state+json": {
        "e3c1b7e0b174481fb7a0e12ace332445": {
          "model_module": "@jupyter-widgets/controls",
          "model_name": "HBoxModel",
          "state": {
            "_view_name": "HBoxView",
            "_dom_classes": [],
            "_model_name": "HBoxModel",
            "_view_module": "@jupyter-widgets/controls",
            "_model_module_version": "1.5.0",
            "_view_count": null,
            "_view_module_version": "1.5.0",
            "box_style": "",
            "layout": "IPY_MODEL_5733678b9cbd4ab283c82a77ef465798",
            "_model_module": "@jupyter-widgets/controls",
            "children": [
              "IPY_MODEL_743f58566195495d8319a7ad0a683a4b",
              "IPY_MODEL_0313489d341f4136ac8065e151169a22"
            ]
          }
        },
        "5733678b9cbd4ab283c82a77ef465798": {
          "model_module": "@jupyter-widgets/base",
          "model_name": "LayoutModel",
          "state": {
            "_view_name": "LayoutView",
            "grid_template_rows": null,
            "right": null,
            "justify_content": null,
            "_view_module": "@jupyter-widgets/base",
            "overflow": null,
            "_model_module_version": "1.2.0",
            "_view_count": null,
            "flex_flow": null,
            "width": null,
            "min_width": null,
            "border": null,
            "align_items": null,
            "bottom": null,
            "_model_module": "@jupyter-widgets/base",
            "top": null,
            "grid_column": null,
            "overflow_y": null,
            "overflow_x": null,
            "grid_auto_flow": null,
            "grid_area": null,
            "grid_template_columns": null,
            "flex": null,
            "_model_name": "LayoutModel",
            "justify_items": null,
            "grid_row": null,
            "max_height": null,
            "align_content": null,
            "visibility": null,
            "align_self": null,
            "height": null,
            "min_height": null,
            "padding": null,
            "grid_auto_rows": null,
            "grid_gap": null,
            "max_width": null,
            "order": null,
            "_view_module_version": "1.2.0",
            "grid_template_areas": null,
            "object_position": null,
            "object_fit": null,
            "grid_auto_columns": null,
            "margin": null,
            "display": null,
            "left": null
          }
        },
        "743f58566195495d8319a7ad0a683a4b": {
          "model_module": "@jupyter-widgets/controls",
          "model_name": "FloatProgressModel",
          "state": {
            "_view_name": "ProgressView",
            "style": "IPY_MODEL_92be97921790406daf652e7c58c79501",
            "_dom_classes": [],
            "description": "Downloading: 100%",
            "_model_name": "FloatProgressModel",
            "bar_style": "success",
            "max": 28940,
            "_view_module": "@jupyter-widgets/controls",
            "_model_module_version": "1.5.0",
            "value": 28940,
            "_view_count": null,
            "_view_module_version": "1.5.0",
            "orientation": "horizontal",
            "min": 0,
            "description_tooltip": null,
            "_model_module": "@jupyter-widgets/controls",
            "layout": "IPY_MODEL_82e14dce3942468097336be32c8fad1b"
          }
        },
        "0313489d341f4136ac8065e151169a22": {
          "model_module": "@jupyter-widgets/controls",
          "model_name": "HTMLModel",
          "state": {
            "_view_name": "HTMLView",
            "style": "IPY_MODEL_7f55a579ebdf4786a8e222cfeab5554e",
            "_dom_classes": [],
            "description": "",
            "_model_name": "HTMLModel",
            "placeholder": "​",
            "_view_module": "@jupyter-widgets/controls",
            "_model_module_version": "1.5.0",
            "value": " 28.9k/28.9k [00:00&lt;00:00, 839kB/s]",
            "_view_count": null,
            "_view_module_version": "1.5.0",
            "description_tooltip": null,
            "_model_module": "@jupyter-widgets/controls",
            "layout": "IPY_MODEL_be19619e18af4bbfa0b5c8112fabc6ff"
          }
        },
        "92be97921790406daf652e7c58c79501": {
          "model_module": "@jupyter-widgets/controls",
          "model_name": "ProgressStyleModel",
          "state": {
            "_view_name": "StyleView",
            "_model_name": "ProgressStyleModel",
            "description_width": "initial",
            "_view_module": "@jupyter-widgets/base",
            "_model_module_version": "1.5.0",
            "_view_count": null,
            "_view_module_version": "1.2.0",
            "bar_color": null,
            "_model_module": "@jupyter-widgets/controls"
          }
        },
        "82e14dce3942468097336be32c8fad1b": {
          "model_module": "@jupyter-widgets/base",
          "model_name": "LayoutModel",
          "state": {
            "_view_name": "LayoutView",
            "grid_template_rows": null,
            "right": null,
            "justify_content": null,
            "_view_module": "@jupyter-widgets/base",
            "overflow": null,
            "_model_module_version": "1.2.0",
            "_view_count": null,
            "flex_flow": null,
            "width": null,
            "min_width": null,
            "border": null,
            "align_items": null,
            "bottom": null,
            "_model_module": "@jupyter-widgets/base",
            "top": null,
            "grid_column": null,
            "overflow_y": null,
            "overflow_x": null,
            "grid_auto_flow": null,
            "grid_area": null,
            "grid_template_columns": null,
            "flex": null,
            "_model_name": "LayoutModel",
            "justify_items": null,
            "grid_row": null,
            "max_height": null,
            "align_content": null,
            "visibility": null,
            "align_self": null,
            "height": null,
            "min_height": null,
            "padding": null,
            "grid_auto_rows": null,
            "grid_gap": null,
            "max_width": null,
            "order": null,
            "_view_module_version": "1.2.0",
            "grid_template_areas": null,
            "object_position": null,
            "object_fit": null,
            "grid_auto_columns": null,
            "margin": null,
            "display": null,
            "left": null
          }
        },
        "7f55a579ebdf4786a8e222cfeab5554e": {
          "model_module": "@jupyter-widgets/controls",
          "model_name": "DescriptionStyleModel",
          "state": {
            "_view_name": "StyleView",
            "_model_name": "DescriptionStyleModel",
            "description_width": "",
            "_view_module": "@jupyter-widgets/base",
            "_model_module_version": "1.5.0",
            "_view_count": null,
            "_view_module_version": "1.2.0",
            "_model_module": "@jupyter-widgets/controls"
          }
        },
        "be19619e18af4bbfa0b5c8112fabc6ff": {
          "model_module": "@jupyter-widgets/base",
          "model_name": "LayoutModel",
          "state": {
            "_view_name": "LayoutView",
            "grid_template_rows": null,
            "right": null,
            "justify_content": null,
            "_view_module": "@jupyter-widgets/base",
            "overflow": null,
            "_model_module_version": "1.2.0",
            "_view_count": null,
            "flex_flow": null,
            "width": null,
            "min_width": null,
            "border": null,
            "align_items": null,
            "bottom": null,
            "_model_module": "@jupyter-widgets/base",
            "top": null,
            "grid_column": null,
            "overflow_y": null,
            "overflow_x": null,
            "grid_auto_flow": null,
            "grid_area": null,
            "grid_template_columns": null,
            "flex": null,
            "_model_name": "LayoutModel",
            "justify_items": null,
            "grid_row": null,
            "max_height": null,
            "align_content": null,
            "visibility": null,
            "align_self": null,
            "height": null,
            "min_height": null,
            "padding": null,
            "grid_auto_rows": null,
            "grid_gap": null,
            "max_width": null,
            "order": null,
            "_view_module_version": "1.2.0",
            "grid_template_areas": null,
            "object_position": null,
            "object_fit": null,
            "grid_auto_columns": null,
            "margin": null,
            "display": null,
            "left": null
          }
        },
        "be0f70b62a1047449517b16050fad183": {
          "model_module": "@jupyter-widgets/controls",
          "model_name": "HBoxModel",
          "state": {
            "_view_name": "HBoxView",
            "_dom_classes": [],
            "_model_name": "HBoxModel",
            "_view_module": "@jupyter-widgets/controls",
            "_model_module_version": "1.5.0",
            "_view_count": null,
            "_view_module_version": "1.5.0",
            "box_style": "",
            "layout": "IPY_MODEL_4d4b550ad1c04009b3259f0f6a8a46bd",
            "_model_module": "@jupyter-widgets/controls",
            "children": [
              "IPY_MODEL_6f2fa4a2a11f4f66a558033418826a5e",
              "IPY_MODEL_d4928bfad3724a67831196b2e8df5d8c"
            ]
          }
        },
        "4d4b550ad1c04009b3259f0f6a8a46bd": {
          "model_module": "@jupyter-widgets/base",
          "model_name": "LayoutModel",
          "state": {
            "_view_name": "LayoutView",
            "grid_template_rows": null,
            "right": null,
            "justify_content": null,
            "_view_module": "@jupyter-widgets/base",
            "overflow": null,
            "_model_module_version": "1.2.0",
            "_view_count": null,
            "flex_flow": null,
            "width": null,
            "min_width": null,
            "border": null,
            "align_items": null,
            "bottom": null,
            "_model_module": "@jupyter-widgets/base",
            "top": null,
            "grid_column": null,
            "overflow_y": null,
            "overflow_x": null,
            "grid_auto_flow": null,
            "grid_area": null,
            "grid_template_columns": null,
            "flex": null,
            "_model_name": "LayoutModel",
            "justify_items": null,
            "grid_row": null,
            "max_height": null,
            "align_content": null,
            "visibility": null,
            "align_self": null,
            "height": null,
            "min_height": null,
            "padding": null,
            "grid_auto_rows": null,
            "grid_gap": null,
            "max_width": null,
            "order": null,
            "_view_module_version": "1.2.0",
            "grid_template_areas": null,
            "object_position": null,
            "object_fit": null,
            "grid_auto_columns": null,
            "margin": null,
            "display": null,
            "left": null
          }
        },
        "6f2fa4a2a11f4f66a558033418826a5e": {
          "model_module": "@jupyter-widgets/controls",
          "model_name": "FloatProgressModel",
          "state": {
            "_view_name": "ProgressView",
            "style": "IPY_MODEL_a8d1f25be9fd41d7a038a60e371f4372",
            "_dom_classes": [],
            "description": "Downloading: 100%",
            "_model_name": "FloatProgressModel",
            "bar_style": "success",
            "max": 30329,
            "_view_module": "@jupyter-widgets/controls",
            "_model_module_version": "1.5.0",
            "value": 30329,
            "_view_count": null,
            "_view_module_version": "1.5.0",
            "orientation": "horizontal",
            "min": 0,
            "description_tooltip": null,
            "_model_module": "@jupyter-widgets/controls",
            "layout": "IPY_MODEL_497018b272ff40d785e6472a1bc8d3cf"
          }
        },
        "d4928bfad3724a67831196b2e8df5d8c": {
          "model_module": "@jupyter-widgets/controls",
          "model_name": "HTMLModel",
          "state": {
            "_view_name": "HTMLView",
            "style": "IPY_MODEL_74dd5b4310d646bba10b198e143fbf9d",
            "_dom_classes": [],
            "description": "",
            "_model_name": "HTMLModel",
            "placeholder": "​",
            "_view_module": "@jupyter-widgets/controls",
            "_model_module_version": "1.5.0",
            "value": " 30.3k/30.3k [00:00&lt;00:00, 375kB/s]",
            "_view_count": null,
            "_view_module_version": "1.5.0",
            "description_tooltip": null,
            "_model_module": "@jupyter-widgets/controls",
            "layout": "IPY_MODEL_a1be81d320024104ac6e1761c0dde42f"
          }
        },
        "a8d1f25be9fd41d7a038a60e371f4372": {
          "model_module": "@jupyter-widgets/controls",
          "model_name": "ProgressStyleModel",
          "state": {
            "_view_name": "StyleView",
            "_model_name": "ProgressStyleModel",
            "description_width": "initial",
            "_view_module": "@jupyter-widgets/base",
            "_model_module_version": "1.5.0",
            "_view_count": null,
            "_view_module_version": "1.2.0",
            "bar_color": null,
            "_model_module": "@jupyter-widgets/controls"
          }
        },
        "497018b272ff40d785e6472a1bc8d3cf": {
          "model_module": "@jupyter-widgets/base",
          "model_name": "LayoutModel",
          "state": {
            "_view_name": "LayoutView",
            "grid_template_rows": null,
            "right": null,
            "justify_content": null,
            "_view_module": "@jupyter-widgets/base",
            "overflow": null,
            "_model_module_version": "1.2.0",
            "_view_count": null,
            "flex_flow": null,
            "width": null,
            "min_width": null,
            "border": null,
            "align_items": null,
            "bottom": null,
            "_model_module": "@jupyter-widgets/base",
            "top": null,
            "grid_column": null,
            "overflow_y": null,
            "overflow_x": null,
            "grid_auto_flow": null,
            "grid_area": null,
            "grid_template_columns": null,
            "flex": null,
            "_model_name": "LayoutModel",
            "justify_items": null,
            "grid_row": null,
            "max_height": null,
            "align_content": null,
            "visibility": null,
            "align_self": null,
            "height": null,
            "min_height": null,
            "padding": null,
            "grid_auto_rows": null,
            "grid_gap": null,
            "max_width": null,
            "order": null,
            "_view_module_version": "1.2.0",
            "grid_template_areas": null,
            "object_position": null,
            "object_fit": null,
            "grid_auto_columns": null,
            "margin": null,
            "display": null,
            "left": null
          }
        },
        "74dd5b4310d646bba10b198e143fbf9d": {
          "model_module": "@jupyter-widgets/controls",
          "model_name": "DescriptionStyleModel",
          "state": {
            "_view_name": "StyleView",
            "_model_name": "DescriptionStyleModel",
            "description_width": "",
            "_view_module": "@jupyter-widgets/base",
            "_model_module_version": "1.5.0",
            "_view_count": null,
            "_view_module_version": "1.2.0",
            "_model_module": "@jupyter-widgets/controls"
          }
        },
        "a1be81d320024104ac6e1761c0dde42f": {
          "model_module": "@jupyter-widgets/base",
          "model_name": "LayoutModel",
          "state": {
            "_view_name": "LayoutView",
            "grid_template_rows": null,
            "right": null,
            "justify_content": null,
            "_view_module": "@jupyter-widgets/base",
            "overflow": null,
            "_model_module_version": "1.2.0",
            "_view_count": null,
            "flex_flow": null,
            "width": null,
            "min_width": null,
            "border": null,
            "align_items": null,
            "bottom": null,
            "_model_module": "@jupyter-widgets/base",
            "top": null,
            "grid_column": null,
            "overflow_y": null,
            "overflow_x": null,
            "grid_auto_flow": null,
            "grid_area": null,
            "grid_template_columns": null,
            "flex": null,
            "_model_name": "LayoutModel",
            "justify_items": null,
            "grid_row": null,
            "max_height": null,
            "align_content": null,
            "visibility": null,
            "align_self": null,
            "height": null,
            "min_height": null,
            "padding": null,
            "grid_auto_rows": null,
            "grid_gap": null,
            "max_width": null,
            "order": null,
            "_view_module_version": "1.2.0",
            "grid_template_areas": null,
            "object_position": null,
            "object_fit": null,
            "grid_auto_columns": null,
            "margin": null,
            "display": null,
            "left": null
          }
        },
        "4a0f0c2d6a7e48a6944f6142b193297b": {
          "model_module": "@jupyter-widgets/controls",
          "model_name": "HBoxModel",
          "state": {
            "_view_name": "HBoxView",
            "_dom_classes": [],
            "_model_name": "HBoxModel",
            "_view_module": "@jupyter-widgets/controls",
            "_model_module_version": "1.5.0",
            "_view_count": null,
            "_view_module_version": "1.5.0",
            "box_style": "",
            "layout": "IPY_MODEL_34161fd5543941a080f9adbbbf2ba0d2",
            "_model_module": "@jupyter-widgets/controls",
            "children": [
              "IPY_MODEL_5dbb5ebe8b9b4481aab9131231718edd",
              "IPY_MODEL_ea9125357d784caa947821ebe17ebd6f"
            ]
          }
        },
        "34161fd5543941a080f9adbbbf2ba0d2": {
          "model_module": "@jupyter-widgets/base",
          "model_name": "LayoutModel",
          "state": {
            "_view_name": "LayoutView",
            "grid_template_rows": null,
            "right": null,
            "justify_content": null,
            "_view_module": "@jupyter-widgets/base",
            "overflow": null,
            "_model_module_version": "1.2.0",
            "_view_count": null,
            "flex_flow": null,
            "width": null,
            "min_width": null,
            "border": null,
            "align_items": null,
            "bottom": null,
            "_model_module": "@jupyter-widgets/base",
            "top": null,
            "grid_column": null,
            "overflow_y": null,
            "overflow_x": null,
            "grid_auto_flow": null,
            "grid_area": null,
            "grid_template_columns": null,
            "flex": null,
            "_model_name": "LayoutModel",
            "justify_items": null,
            "grid_row": null,
            "max_height": null,
            "align_content": null,
            "visibility": null,
            "align_self": null,
            "height": null,
            "min_height": null,
            "padding": null,
            "grid_auto_rows": null,
            "grid_gap": null,
            "max_width": null,
            "order": null,
            "_view_module_version": "1.2.0",
            "grid_template_areas": null,
            "object_position": null,
            "object_fit": null,
            "grid_auto_columns": null,
            "margin": null,
            "display": null,
            "left": null
          }
        },
        "5dbb5ebe8b9b4481aab9131231718edd": {
          "model_module": "@jupyter-widgets/controls",
          "model_name": "FloatProgressModel",
          "state": {
            "_view_name": "ProgressView",
            "style": "IPY_MODEL_a3198d70d2404948af70b6f7f5ed404a",
            "_dom_classes": [],
            "description": "Downloading: 100%",
            "_model_name": "FloatProgressModel",
            "bar_style": "success",
            "max": 802872,
            "_view_module": "@jupyter-widgets/controls",
            "_model_module_version": "1.5.0",
            "value": 802872,
            "_view_count": null,
            "_view_module_version": "1.5.0",
            "orientation": "horizontal",
            "min": 0,
            "description_tooltip": null,
            "_model_module": "@jupyter-widgets/controls",
            "layout": "IPY_MODEL_a5356e18d18d4c53b0202183518efaef"
          }
        },
        "ea9125357d784caa947821ebe17ebd6f": {
          "model_module": "@jupyter-widgets/controls",
          "model_name": "HTMLModel",
          "state": {
            "_view_name": "HTMLView",
            "style": "IPY_MODEL_c5aa3a916b9c4dbf9137c3415b34be42",
            "_dom_classes": [],
            "description": "",
            "_model_name": "HTMLModel",
            "placeholder": "​",
            "_view_module": "@jupyter-widgets/controls",
            "_model_module_version": "1.5.0",
            "value": " 803k/803k [00:00&lt;00:00, 7.32MB/s]",
            "_view_count": null,
            "_view_module_version": "1.5.0",
            "description_tooltip": null,
            "_model_module": "@jupyter-widgets/controls",
            "layout": "IPY_MODEL_eb508e5287aa470c8b62d772ac4b2667"
          }
        },
        "a3198d70d2404948af70b6f7f5ed404a": {
          "model_module": "@jupyter-widgets/controls",
          "model_name": "ProgressStyleModel",
          "state": {
            "_view_name": "StyleView",
            "_model_name": "ProgressStyleModel",
            "description_width": "initial",
            "_view_module": "@jupyter-widgets/base",
            "_model_module_version": "1.5.0",
            "_view_count": null,
            "_view_module_version": "1.2.0",
            "bar_color": null,
            "_model_module": "@jupyter-widgets/controls"
          }
        },
        "a5356e18d18d4c53b0202183518efaef": {
          "model_module": "@jupyter-widgets/base",
          "model_name": "LayoutModel",
          "state": {
            "_view_name": "LayoutView",
            "grid_template_rows": null,
            "right": null,
            "justify_content": null,
            "_view_module": "@jupyter-widgets/base",
            "overflow": null,
            "_model_module_version": "1.2.0",
            "_view_count": null,
            "flex_flow": null,
            "width": null,
            "min_width": null,
            "border": null,
            "align_items": null,
            "bottom": null,
            "_model_module": "@jupyter-widgets/base",
            "top": null,
            "grid_column": null,
            "overflow_y": null,
            "overflow_x": null,
            "grid_auto_flow": null,
            "grid_area": null,
            "grid_template_columns": null,
            "flex": null,
            "_model_name": "LayoutModel",
            "justify_items": null,
            "grid_row": null,
            "max_height": null,
            "align_content": null,
            "visibility": null,
            "align_self": null,
            "height": null,
            "min_height": null,
            "padding": null,
            "grid_auto_rows": null,
            "grid_gap": null,
            "max_width": null,
            "order": null,
            "_view_module_version": "1.2.0",
            "grid_template_areas": null,
            "object_position": null,
            "object_fit": null,
            "grid_auto_columns": null,
            "margin": null,
            "display": null,
            "left": null
          }
        },
        "c5aa3a916b9c4dbf9137c3415b34be42": {
          "model_module": "@jupyter-widgets/controls",
          "model_name": "DescriptionStyleModel",
          "state": {
            "_view_name": "StyleView",
            "_model_name": "DescriptionStyleModel",
            "description_width": "",
            "_view_module": "@jupyter-widgets/base",
            "_model_module_version": "1.5.0",
            "_view_count": null,
            "_view_module_version": "1.2.0",
            "_model_module": "@jupyter-widgets/controls"
          }
        },
        "eb508e5287aa470c8b62d772ac4b2667": {
          "model_module": "@jupyter-widgets/base",
          "model_name": "LayoutModel",
          "state": {
            "_view_name": "LayoutView",
            "grid_template_rows": null,
            "right": null,
            "justify_content": null,
            "_view_module": "@jupyter-widgets/base",
            "overflow": null,
            "_model_module_version": "1.2.0",
            "_view_count": null,
            "flex_flow": null,
            "width": null,
            "min_width": null,
            "border": null,
            "align_items": null,
            "bottom": null,
            "_model_module": "@jupyter-widgets/base",
            "top": null,
            "grid_column": null,
            "overflow_y": null,
            "overflow_x": null,
            "grid_auto_flow": null,
            "grid_area": null,
            "grid_template_columns": null,
            "flex": null,
            "_model_name": "LayoutModel",
            "justify_items": null,
            "grid_row": null,
            "max_height": null,
            "align_content": null,
            "visibility": null,
            "align_self": null,
            "height": null,
            "min_height": null,
            "padding": null,
            "grid_auto_rows": null,
            "grid_gap": null,
            "max_width": null,
            "order": null,
            "_view_module_version": "1.2.0",
            "grid_template_areas": null,
            "object_position": null,
            "object_fit": null,
            "grid_auto_columns": null,
            "margin": null,
            "display": null,
            "left": null
          }
        },
        "e0b9dee2a9a4481fbe3a000a61692770": {
          "model_module": "@jupyter-widgets/controls",
          "model_name": "HBoxModel",
          "state": {
            "_view_name": "HBoxView",
            "_dom_classes": [],
            "_model_name": "HBoxModel",
            "_view_module": "@jupyter-widgets/controls",
            "_model_module_version": "1.5.0",
            "_view_count": null,
            "_view_module_version": "1.5.0",
            "box_style": "",
            "layout": "IPY_MODEL_c089cd51711245c28a9a22c7624c165a",
            "_model_module": "@jupyter-widgets/controls",
            "children": [
              "IPY_MODEL_b7fb255dcb6d4eafb4c5599e58d27568",
              "IPY_MODEL_2ca4439534b44e3a9a788dae39a085c3"
            ]
          }
        },
        "c089cd51711245c28a9a22c7624c165a": {
          "model_module": "@jupyter-widgets/base",
          "model_name": "LayoutModel",
          "state": {
            "_view_name": "LayoutView",
            "grid_template_rows": null,
            "right": null,
            "justify_content": null,
            "_view_module": "@jupyter-widgets/base",
            "overflow": null,
            "_model_module_version": "1.2.0",
            "_view_count": null,
            "flex_flow": null,
            "width": null,
            "min_width": null,
            "border": null,
            "align_items": null,
            "bottom": null,
            "_model_module": "@jupyter-widgets/base",
            "top": null,
            "grid_column": null,
            "overflow_y": null,
            "overflow_x": null,
            "grid_auto_flow": null,
            "grid_area": null,
            "grid_template_columns": null,
            "flex": null,
            "_model_name": "LayoutModel",
            "justify_items": null,
            "grid_row": null,
            "max_height": null,
            "align_content": null,
            "visibility": null,
            "align_self": null,
            "height": null,
            "min_height": null,
            "padding": null,
            "grid_auto_rows": null,
            "grid_gap": null,
            "max_width": null,
            "order": null,
            "_view_module_version": "1.2.0",
            "grid_template_areas": null,
            "object_position": null,
            "object_fit": null,
            "grid_auto_columns": null,
            "margin": null,
            "display": null,
            "left": null
          }
        },
        "b7fb255dcb6d4eafb4c5599e58d27568": {
          "model_module": "@jupyter-widgets/controls",
          "model_name": "FloatProgressModel",
          "state": {
            "_view_name": "ProgressView",
            "style": "IPY_MODEL_0e7d5f7564514ff796f4a23b2d239056",
            "_dom_classes": [],
            "description": "",
            "_model_name": "FloatProgressModel",
            "bar_style": "info",
            "max": 1,
            "_view_module": "@jupyter-widgets/controls",
            "_model_module_version": "1.5.0",
            "value": 1,
            "_view_count": null,
            "_view_module_version": "1.5.0",
            "orientation": "horizontal",
            "min": 0,
            "description_tooltip": null,
            "_model_module": "@jupyter-widgets/controls",
            "layout": "IPY_MODEL_0a89f1155e0745c28a93b813404b248f"
          }
        },
        "2ca4439534b44e3a9a788dae39a085c3": {
          "model_module": "@jupyter-widgets/controls",
          "model_name": "HTMLModel",
          "state": {
            "_view_name": "HTMLView",
            "style": "IPY_MODEL_3d02043f101f4fdf8ab7fe7b265cc4e8",
            "_dom_classes": [],
            "description": "",
            "_model_name": "HTMLModel",
            "placeholder": "​",
            "_view_module": "@jupyter-widgets/controls",
            "_model_module_version": "1.5.0",
            "value": " 5749/0 [00:00&lt;00:00, 25818.79 examples/s]",
            "_view_count": null,
            "_view_module_version": "1.5.0",
            "description_tooltip": null,
            "_model_module": "@jupyter-widgets/controls",
            "layout": "IPY_MODEL_cc810c231c424421b6c04b998200ef61"
          }
        },
        "0e7d5f7564514ff796f4a23b2d239056": {
          "model_module": "@jupyter-widgets/controls",
          "model_name": "ProgressStyleModel",
          "state": {
            "_view_name": "StyleView",
            "_model_name": "ProgressStyleModel",
            "description_width": "initial",
            "_view_module": "@jupyter-widgets/base",
            "_model_module_version": "1.5.0",
            "_view_count": null,
            "_view_module_version": "1.2.0",
            "bar_color": null,
            "_model_module": "@jupyter-widgets/controls"
          }
        },
        "0a89f1155e0745c28a93b813404b248f": {
          "model_module": "@jupyter-widgets/base",
          "model_name": "LayoutModel",
          "state": {
            "_view_name": "LayoutView",
            "grid_template_rows": null,
            "right": null,
            "justify_content": null,
            "_view_module": "@jupyter-widgets/base",
            "overflow": null,
            "_model_module_version": "1.2.0",
            "_view_count": null,
            "flex_flow": null,
            "width": null,
            "min_width": null,
            "border": null,
            "align_items": null,
            "bottom": null,
            "_model_module": "@jupyter-widgets/base",
            "top": null,
            "grid_column": null,
            "overflow_y": null,
            "overflow_x": null,
            "grid_auto_flow": null,
            "grid_area": null,
            "grid_template_columns": null,
            "flex": null,
            "_model_name": "LayoutModel",
            "justify_items": null,
            "grid_row": null,
            "max_height": null,
            "align_content": null,
            "visibility": null,
            "align_self": null,
            "height": null,
            "min_height": null,
            "padding": null,
            "grid_auto_rows": null,
            "grid_gap": null,
            "max_width": null,
            "order": null,
            "_view_module_version": "1.2.0",
            "grid_template_areas": null,
            "object_position": null,
            "object_fit": null,
            "grid_auto_columns": null,
            "margin": null,
            "display": null,
            "left": null
          }
        },
        "3d02043f101f4fdf8ab7fe7b265cc4e8": {
          "model_module": "@jupyter-widgets/controls",
          "model_name": "DescriptionStyleModel",
          "state": {
            "_view_name": "StyleView",
            "_model_name": "DescriptionStyleModel",
            "description_width": "",
            "_view_module": "@jupyter-widgets/base",
            "_model_module_version": "1.5.0",
            "_view_count": null,
            "_view_module_version": "1.2.0",
            "_model_module": "@jupyter-widgets/controls"
          }
        },
        "cc810c231c424421b6c04b998200ef61": {
          "model_module": "@jupyter-widgets/base",
          "model_name": "LayoutModel",
          "state": {
            "_view_name": "LayoutView",
            "grid_template_rows": null,
            "right": null,
            "justify_content": null,
            "_view_module": "@jupyter-widgets/base",
            "overflow": null,
            "_model_module_version": "1.2.0",
            "_view_count": null,
            "flex_flow": null,
            "width": null,
            "min_width": null,
            "border": null,
            "align_items": null,
            "bottom": null,
            "_model_module": "@jupyter-widgets/base",
            "top": null,
            "grid_column": null,
            "overflow_y": null,
            "overflow_x": null,
            "grid_auto_flow": null,
            "grid_area": null,
            "grid_template_columns": null,
            "flex": null,
            "_model_name": "LayoutModel",
            "justify_items": null,
            "grid_row": null,
            "max_height": null,
            "align_content": null,
            "visibility": null,
            "align_self": null,
            "height": null,
            "min_height": null,
            "padding": null,
            "grid_auto_rows": null,
            "grid_gap": null,
            "max_width": null,
            "order": null,
            "_view_module_version": "1.2.0",
            "grid_template_areas": null,
            "object_position": null,
            "object_fit": null,
            "grid_auto_columns": null,
            "margin": null,
            "display": null,
            "left": null
          }
        },
        "c293fe8c910842f08c733d9139a07d68": {
          "model_module": "@jupyter-widgets/controls",
          "model_name": "HBoxModel",
          "state": {
            "_view_name": "HBoxView",
            "_dom_classes": [],
            "_model_name": "HBoxModel",
            "_view_module": "@jupyter-widgets/controls",
            "_model_module_version": "1.5.0",
            "_view_count": null,
            "_view_module_version": "1.5.0",
            "box_style": "",
            "layout": "IPY_MODEL_20ab418d63124b62a9801c8faa4a5d93",
            "_model_module": "@jupyter-widgets/controls",
            "children": [
              "IPY_MODEL_04acdc083494485eae630d1b9f9ba427",
              "IPY_MODEL_f66fa9ba80d345cf8a6f691bd12eb1ad"
            ]
          }
        },
        "20ab418d63124b62a9801c8faa4a5d93": {
          "model_module": "@jupyter-widgets/base",
          "model_name": "LayoutModel",
          "state": {
            "_view_name": "LayoutView",
            "grid_template_rows": null,
            "right": null,
            "justify_content": null,
            "_view_module": "@jupyter-widgets/base",
            "overflow": null,
            "_model_module_version": "1.2.0",
            "_view_count": null,
            "flex_flow": null,
            "width": null,
            "min_width": null,
            "border": null,
            "align_items": null,
            "bottom": null,
            "_model_module": "@jupyter-widgets/base",
            "top": null,
            "grid_column": null,
            "overflow_y": null,
            "overflow_x": null,
            "grid_auto_flow": null,
            "grid_area": null,
            "grid_template_columns": null,
            "flex": null,
            "_model_name": "LayoutModel",
            "justify_items": null,
            "grid_row": null,
            "max_height": null,
            "align_content": null,
            "visibility": null,
            "align_self": null,
            "height": null,
            "min_height": null,
            "padding": null,
            "grid_auto_rows": null,
            "grid_gap": null,
            "max_width": null,
            "order": null,
            "_view_module_version": "1.2.0",
            "grid_template_areas": null,
            "object_position": null,
            "object_fit": null,
            "grid_auto_columns": null,
            "margin": null,
            "display": null,
            "left": null
          }
        },
        "04acdc083494485eae630d1b9f9ba427": {
          "model_module": "@jupyter-widgets/controls",
          "model_name": "FloatProgressModel",
          "state": {
            "_view_name": "ProgressView",
            "style": "IPY_MODEL_9e71393cdabc43e9b256354c365687bd",
            "_dom_classes": [],
            "description": "",
            "_model_name": "FloatProgressModel",
            "bar_style": "info",
            "max": 1,
            "_view_module": "@jupyter-widgets/controls",
            "_model_module_version": "1.5.0",
            "value": 1,
            "_view_count": null,
            "_view_module_version": "1.5.0",
            "orientation": "horizontal",
            "min": 0,
            "description_tooltip": null,
            "_model_module": "@jupyter-widgets/controls",
            "layout": "IPY_MODEL_16d6dbf52e1e4701ad3fda963db34ff0"
          }
        },
        "f66fa9ba80d345cf8a6f691bd12eb1ad": {
          "model_module": "@jupyter-widgets/controls",
          "model_name": "HTMLModel",
          "state": {
            "_view_name": "HTMLView",
            "style": "IPY_MODEL_c9ccc3e7dd334121a018de8bd1cbb2db",
            "_dom_classes": [],
            "description": "",
            "_model_name": "HTMLModel",
            "placeholder": "​",
            "_view_module": "@jupyter-widgets/controls",
            "_model_module_version": "1.5.0",
            "value": " 1500/0 [00:00&lt;00:00, 18683.26 examples/s]",
            "_view_count": null,
            "_view_module_version": "1.5.0",
            "description_tooltip": null,
            "_model_module": "@jupyter-widgets/controls",
            "layout": "IPY_MODEL_fb6b3ac715eb4fda963a4b2a6c45f597"
          }
        },
        "9e71393cdabc43e9b256354c365687bd": {
          "model_module": "@jupyter-widgets/controls",
          "model_name": "ProgressStyleModel",
          "state": {
            "_view_name": "StyleView",
            "_model_name": "ProgressStyleModel",
            "description_width": "initial",
            "_view_module": "@jupyter-widgets/base",
            "_model_module_version": "1.5.0",
            "_view_count": null,
            "_view_module_version": "1.2.0",
            "bar_color": null,
            "_model_module": "@jupyter-widgets/controls"
          }
        },
        "16d6dbf52e1e4701ad3fda963db34ff0": {
          "model_module": "@jupyter-widgets/base",
          "model_name": "LayoutModel",
          "state": {
            "_view_name": "LayoutView",
            "grid_template_rows": null,
            "right": null,
            "justify_content": null,
            "_view_module": "@jupyter-widgets/base",
            "overflow": null,
            "_model_module_version": "1.2.0",
            "_view_count": null,
            "flex_flow": null,
            "width": null,
            "min_width": null,
            "border": null,
            "align_items": null,
            "bottom": null,
            "_model_module": "@jupyter-widgets/base",
            "top": null,
            "grid_column": null,
            "overflow_y": null,
            "overflow_x": null,
            "grid_auto_flow": null,
            "grid_area": null,
            "grid_template_columns": null,
            "flex": null,
            "_model_name": "LayoutModel",
            "justify_items": null,
            "grid_row": null,
            "max_height": null,
            "align_content": null,
            "visibility": null,
            "align_self": null,
            "height": null,
            "min_height": null,
            "padding": null,
            "grid_auto_rows": null,
            "grid_gap": null,
            "max_width": null,
            "order": null,
            "_view_module_version": "1.2.0",
            "grid_template_areas": null,
            "object_position": null,
            "object_fit": null,
            "grid_auto_columns": null,
            "margin": null,
            "display": null,
            "left": null
          }
        },
        "c9ccc3e7dd334121a018de8bd1cbb2db": {
          "model_module": "@jupyter-widgets/controls",
          "model_name": "DescriptionStyleModel",
          "state": {
            "_view_name": "StyleView",
            "_model_name": "DescriptionStyleModel",
            "description_width": "",
            "_view_module": "@jupyter-widgets/base",
            "_model_module_version": "1.5.0",
            "_view_count": null,
            "_view_module_version": "1.2.0",
            "_model_module": "@jupyter-widgets/controls"
          }
        },
        "fb6b3ac715eb4fda963a4b2a6c45f597": {
          "model_module": "@jupyter-widgets/base",
          "model_name": "LayoutModel",
          "state": {
            "_view_name": "LayoutView",
            "grid_template_rows": null,
            "right": null,
            "justify_content": null,
            "_view_module": "@jupyter-widgets/base",
            "overflow": null,
            "_model_module_version": "1.2.0",
            "_view_count": null,
            "flex_flow": null,
            "width": null,
            "min_width": null,
            "border": null,
            "align_items": null,
            "bottom": null,
            "_model_module": "@jupyter-widgets/base",
            "top": null,
            "grid_column": null,
            "overflow_y": null,
            "overflow_x": null,
            "grid_auto_flow": null,
            "grid_area": null,
            "grid_template_columns": null,
            "flex": null,
            "_model_name": "LayoutModel",
            "justify_items": null,
            "grid_row": null,
            "max_height": null,
            "align_content": null,
            "visibility": null,
            "align_self": null,
            "height": null,
            "min_height": null,
            "padding": null,
            "grid_auto_rows": null,
            "grid_gap": null,
            "max_width": null,
            "order": null,
            "_view_module_version": "1.2.0",
            "grid_template_areas": null,
            "object_position": null,
            "object_fit": null,
            "grid_auto_columns": null,
            "margin": null,
            "display": null,
            "left": null
          }
        },
        "28037a600f4b4efdae29f07ed1d298a0": {
          "model_module": "@jupyter-widgets/controls",
          "model_name": "HBoxModel",
          "state": {
            "_view_name": "HBoxView",
            "_dom_classes": [],
            "_model_name": "HBoxModel",
            "_view_module": "@jupyter-widgets/controls",
            "_model_module_version": "1.5.0",
            "_view_count": null,
            "_view_module_version": "1.5.0",
            "box_style": "",
            "layout": "IPY_MODEL_08ba2ee19d5949d0b88e4bc59b999f62",
            "_model_module": "@jupyter-widgets/controls",
            "children": [
              "IPY_MODEL_bccc8ea9b893413b8023c80ef7684a63",
              "IPY_MODEL_dc8f2f9c46284213a61feed1ed01864d"
            ]
          }
        },
        "08ba2ee19d5949d0b88e4bc59b999f62": {
          "model_module": "@jupyter-widgets/base",
          "model_name": "LayoutModel",
          "state": {
            "_view_name": "LayoutView",
            "grid_template_rows": null,
            "right": null,
            "justify_content": null,
            "_view_module": "@jupyter-widgets/base",
            "overflow": null,
            "_model_module_version": "1.2.0",
            "_view_count": null,
            "flex_flow": null,
            "width": null,
            "min_width": null,
            "border": null,
            "align_items": null,
            "bottom": null,
            "_model_module": "@jupyter-widgets/base",
            "top": null,
            "grid_column": null,
            "overflow_y": null,
            "overflow_x": null,
            "grid_auto_flow": null,
            "grid_area": null,
            "grid_template_columns": null,
            "flex": null,
            "_model_name": "LayoutModel",
            "justify_items": null,
            "grid_row": null,
            "max_height": null,
            "align_content": null,
            "visibility": null,
            "align_self": null,
            "height": null,
            "min_height": null,
            "padding": null,
            "grid_auto_rows": null,
            "grid_gap": null,
            "max_width": null,
            "order": null,
            "_view_module_version": "1.2.0",
            "grid_template_areas": null,
            "object_position": null,
            "object_fit": null,
            "grid_auto_columns": null,
            "margin": null,
            "display": null,
            "left": null
          }
        },
        "bccc8ea9b893413b8023c80ef7684a63": {
          "model_module": "@jupyter-widgets/controls",
          "model_name": "FloatProgressModel",
          "state": {
            "_view_name": "ProgressView",
            "style": "IPY_MODEL_422069d5181a4c0bb9152cf24a1bec7f",
            "_dom_classes": [],
            "description": "",
            "_model_name": "FloatProgressModel",
            "bar_style": "info",
            "max": 1,
            "_view_module": "@jupyter-widgets/controls",
            "_model_module_version": "1.5.0",
            "value": 1,
            "_view_count": null,
            "_view_module_version": "1.5.0",
            "orientation": "horizontal",
            "min": 0,
            "description_tooltip": null,
            "_model_module": "@jupyter-widgets/controls",
            "layout": "IPY_MODEL_ea66c979d74d499d8d05bcd0bd588757"
          }
        },
        "dc8f2f9c46284213a61feed1ed01864d": {
          "model_module": "@jupyter-widgets/controls",
          "model_name": "HTMLModel",
          "state": {
            "_view_name": "HTMLView",
            "style": "IPY_MODEL_eb5e5ad6a27547e19768e3f7fd4e07d0",
            "_dom_classes": [],
            "description": "",
            "_model_name": "HTMLModel",
            "placeholder": "​",
            "_view_module": "@jupyter-widgets/controls",
            "_model_module_version": "1.5.0",
            "value": " 1379/0 [00:00&lt;00:00, 17502.13 examples/s]",
            "_view_count": null,
            "_view_module_version": "1.5.0",
            "description_tooltip": null,
            "_model_module": "@jupyter-widgets/controls",
            "layout": "IPY_MODEL_6616f7532e0a457da690fe427268a68f"
          }
        },
        "422069d5181a4c0bb9152cf24a1bec7f": {
          "model_module": "@jupyter-widgets/controls",
          "model_name": "ProgressStyleModel",
          "state": {
            "_view_name": "StyleView",
            "_model_name": "ProgressStyleModel",
            "description_width": "initial",
            "_view_module": "@jupyter-widgets/base",
            "_model_module_version": "1.5.0",
            "_view_count": null,
            "_view_module_version": "1.2.0",
            "bar_color": null,
            "_model_module": "@jupyter-widgets/controls"
          }
        },
        "ea66c979d74d499d8d05bcd0bd588757": {
          "model_module": "@jupyter-widgets/base",
          "model_name": "LayoutModel",
          "state": {
            "_view_name": "LayoutView",
            "grid_template_rows": null,
            "right": null,
            "justify_content": null,
            "_view_module": "@jupyter-widgets/base",
            "overflow": null,
            "_model_module_version": "1.2.0",
            "_view_count": null,
            "flex_flow": null,
            "width": null,
            "min_width": null,
            "border": null,
            "align_items": null,
            "bottom": null,
            "_model_module": "@jupyter-widgets/base",
            "top": null,
            "grid_column": null,
            "overflow_y": null,
            "overflow_x": null,
            "grid_auto_flow": null,
            "grid_area": null,
            "grid_template_columns": null,
            "flex": null,
            "_model_name": "LayoutModel",
            "justify_items": null,
            "grid_row": null,
            "max_height": null,
            "align_content": null,
            "visibility": null,
            "align_self": null,
            "height": null,
            "min_height": null,
            "padding": null,
            "grid_auto_rows": null,
            "grid_gap": null,
            "max_width": null,
            "order": null,
            "_view_module_version": "1.2.0",
            "grid_template_areas": null,
            "object_position": null,
            "object_fit": null,
            "grid_auto_columns": null,
            "margin": null,
            "display": null,
            "left": null
          }
        },
        "eb5e5ad6a27547e19768e3f7fd4e07d0": {
          "model_module": "@jupyter-widgets/controls",
          "model_name": "DescriptionStyleModel",
          "state": {
            "_view_name": "StyleView",
            "_model_name": "DescriptionStyleModel",
            "description_width": "",
            "_view_module": "@jupyter-widgets/base",
            "_model_module_version": "1.5.0",
            "_view_count": null,
            "_view_module_version": "1.2.0",
            "_model_module": "@jupyter-widgets/controls"
          }
        },
        "6616f7532e0a457da690fe427268a68f": {
          "model_module": "@jupyter-widgets/base",
          "model_name": "LayoutModel",
          "state": {
            "_view_name": "LayoutView",
            "grid_template_rows": null,
            "right": null,
            "justify_content": null,
            "_view_module": "@jupyter-widgets/base",
            "overflow": null,
            "_model_module_version": "1.2.0",
            "_view_count": null,
            "flex_flow": null,
            "width": null,
            "min_width": null,
            "border": null,
            "align_items": null,
            "bottom": null,
            "_model_module": "@jupyter-widgets/base",
            "top": null,
            "grid_column": null,
            "overflow_y": null,
            "overflow_x": null,
            "grid_auto_flow": null,
            "grid_area": null,
            "grid_template_columns": null,
            "flex": null,
            "_model_name": "LayoutModel",
            "justify_items": null,
            "grid_row": null,
            "max_height": null,
            "align_content": null,
            "visibility": null,
            "align_self": null,
            "height": null,
            "min_height": null,
            "padding": null,
            "grid_auto_rows": null,
            "grid_gap": null,
            "max_width": null,
            "order": null,
            "_view_module_version": "1.2.0",
            "grid_template_areas": null,
            "object_position": null,
            "object_fit": null,
            "grid_auto_columns": null,
            "margin": null,
            "display": null,
            "left": null
          }
        },
        "04f6a90db7c54b89a0c8227ef28b42b7": {
          "model_module": "@jupyter-widgets/controls",
          "model_name": "HBoxModel",
          "state": {
            "_view_name": "HBoxView",
            "_dom_classes": [],
            "_model_name": "HBoxModel",
            "_view_module": "@jupyter-widgets/controls",
            "_model_module_version": "1.5.0",
            "_view_count": null,
            "_view_module_version": "1.5.0",
            "box_style": "",
            "layout": "IPY_MODEL_992fe43c6c6047a18b61515e3bf0835f",
            "_model_module": "@jupyter-widgets/controls",
            "children": [
              "IPY_MODEL_00866835ce6e4ec6a4449330d8b12dfe",
              "IPY_MODEL_6b6542f0545641399f1fad340f47ac79"
            ]
          }
        },
        "992fe43c6c6047a18b61515e3bf0835f": {
          "model_module": "@jupyter-widgets/base",
          "model_name": "LayoutModel",
          "state": {
            "_view_name": "LayoutView",
            "grid_template_rows": null,
            "right": null,
            "justify_content": null,
            "_view_module": "@jupyter-widgets/base",
            "overflow": null,
            "_model_module_version": "1.2.0",
            "_view_count": null,
            "flex_flow": null,
            "width": null,
            "min_width": null,
            "border": null,
            "align_items": null,
            "bottom": null,
            "_model_module": "@jupyter-widgets/base",
            "top": null,
            "grid_column": null,
            "overflow_y": null,
            "overflow_x": null,
            "grid_auto_flow": null,
            "grid_area": null,
            "grid_template_columns": null,
            "flex": null,
            "_model_name": "LayoutModel",
            "justify_items": null,
            "grid_row": null,
            "max_height": null,
            "align_content": null,
            "visibility": null,
            "align_self": null,
            "height": null,
            "min_height": null,
            "padding": null,
            "grid_auto_rows": null,
            "grid_gap": null,
            "max_width": null,
            "order": null,
            "_view_module_version": "1.2.0",
            "grid_template_areas": null,
            "object_position": null,
            "object_fit": null,
            "grid_auto_columns": null,
            "margin": null,
            "display": null,
            "left": null
          }
        },
        "00866835ce6e4ec6a4449330d8b12dfe": {
          "model_module": "@jupyter-widgets/controls",
          "model_name": "FloatProgressModel",
          "state": {
            "_view_name": "ProgressView",
            "style": "IPY_MODEL_f05ab67dc0314273a9eb1195fc22c73e",
            "_dom_classes": [],
            "description": "Downloading: 100%",
            "_model_name": "FloatProgressModel",
            "bar_style": "success",
            "max": 697150,
            "_view_module": "@jupyter-widgets/controls",
            "_model_module_version": "1.5.0",
            "value": 697150,
            "_view_count": null,
            "_view_module_version": "1.5.0",
            "orientation": "horizontal",
            "min": 0,
            "description_tooltip": null,
            "_model_module": "@jupyter-widgets/controls",
            "layout": "IPY_MODEL_f0edc2c7b7964e0d85278859033a4563"
          }
        },
        "6b6542f0545641399f1fad340f47ac79": {
          "model_module": "@jupyter-widgets/controls",
          "model_name": "HTMLModel",
          "state": {
            "_view_name": "HTMLView",
            "style": "IPY_MODEL_3d6d35fb9b7b458a9a42e6d6b84d5d93",
            "_dom_classes": [],
            "description": "",
            "_model_name": "HTMLModel",
            "placeholder": "​",
            "_view_module": "@jupyter-widgets/controls",
            "_model_module_version": "1.5.0",
            "value": " 697k/697k [00:00&lt;00:00, 5.54MB/s]",
            "_view_count": null,
            "_view_module_version": "1.5.0",
            "description_tooltip": null,
            "_model_module": "@jupyter-widgets/controls",
            "layout": "IPY_MODEL_7c67fd7773cb41e1985b4cb91514cef3"
          }
        },
        "f05ab67dc0314273a9eb1195fc22c73e": {
          "model_module": "@jupyter-widgets/controls",
          "model_name": "ProgressStyleModel",
          "state": {
            "_view_name": "StyleView",
            "_model_name": "ProgressStyleModel",
            "description_width": "initial",
            "_view_module": "@jupyter-widgets/base",
            "_model_module_version": "1.5.0",
            "_view_count": null,
            "_view_module_version": "1.2.0",
            "bar_color": null,
            "_model_module": "@jupyter-widgets/controls"
          }
        },
        "f0edc2c7b7964e0d85278859033a4563": {
          "model_module": "@jupyter-widgets/base",
          "model_name": "LayoutModel",
          "state": {
            "_view_name": "LayoutView",
            "grid_template_rows": null,
            "right": null,
            "justify_content": null,
            "_view_module": "@jupyter-widgets/base",
            "overflow": null,
            "_model_module_version": "1.2.0",
            "_view_count": null,
            "flex_flow": null,
            "width": null,
            "min_width": null,
            "border": null,
            "align_items": null,
            "bottom": null,
            "_model_module": "@jupyter-widgets/base",
            "top": null,
            "grid_column": null,
            "overflow_y": null,
            "overflow_x": null,
            "grid_auto_flow": null,
            "grid_area": null,
            "grid_template_columns": null,
            "flex": null,
            "_model_name": "LayoutModel",
            "justify_items": null,
            "grid_row": null,
            "max_height": null,
            "align_content": null,
            "visibility": null,
            "align_self": null,
            "height": null,
            "min_height": null,
            "padding": null,
            "grid_auto_rows": null,
            "grid_gap": null,
            "max_width": null,
            "order": null,
            "_view_module_version": "1.2.0",
            "grid_template_areas": null,
            "object_position": null,
            "object_fit": null,
            "grid_auto_columns": null,
            "margin": null,
            "display": null,
            "left": null
          }
        },
        "3d6d35fb9b7b458a9a42e6d6b84d5d93": {
          "model_module": "@jupyter-widgets/controls",
          "model_name": "DescriptionStyleModel",
          "state": {
            "_view_name": "StyleView",
            "_model_name": "DescriptionStyleModel",
            "description_width": "",
            "_view_module": "@jupyter-widgets/base",
            "_model_module_version": "1.5.0",
            "_view_count": null,
            "_view_module_version": "1.2.0",
            "_model_module": "@jupyter-widgets/controls"
          }
        },
        "7c67fd7773cb41e1985b4cb91514cef3": {
          "model_module": "@jupyter-widgets/base",
          "model_name": "LayoutModel",
          "state": {
            "_view_name": "LayoutView",
            "grid_template_rows": null,
            "right": null,
            "justify_content": null,
            "_view_module": "@jupyter-widgets/base",
            "overflow": null,
            "_model_module_version": "1.2.0",
            "_view_count": null,
            "flex_flow": null,
            "width": null,
            "min_width": null,
            "border": null,
            "align_items": null,
            "bottom": null,
            "_model_module": "@jupyter-widgets/base",
            "top": null,
            "grid_column": null,
            "overflow_y": null,
            "overflow_x": null,
            "grid_auto_flow": null,
            "grid_area": null,
            "grid_template_columns": null,
            "flex": null,
            "_model_name": "LayoutModel",
            "justify_items": null,
            "grid_row": null,
            "max_height": null,
            "align_content": null,
            "visibility": null,
            "align_self": null,
            "height": null,
            "min_height": null,
            "padding": null,
            "grid_auto_rows": null,
            "grid_gap": null,
            "max_width": null,
            "order": null,
            "_view_module_version": "1.2.0",
            "grid_template_areas": null,
            "object_position": null,
            "object_fit": null,
            "grid_auto_columns": null,
            "margin": null,
            "display": null,
            "left": null
          }
        },
        "9feb9b8631ce4b259cbd7a0e6b94014a": {
          "model_module": "@jupyter-widgets/controls",
          "model_name": "HBoxModel",
          "state": {
            "_view_name": "HBoxView",
            "_dom_classes": [],
            "_model_name": "HBoxModel",
            "_view_module": "@jupyter-widgets/controls",
            "_model_module_version": "1.5.0",
            "_view_count": null,
            "_view_module_version": "1.5.0",
            "box_style": "",
            "layout": "IPY_MODEL_3091d746fe054e14a12b9ca6bf0f8957",
            "_model_module": "@jupyter-widgets/controls",
            "children": [
              "IPY_MODEL_843ba675d47645e980632c946e0e6491",
              "IPY_MODEL_6abd4cb0aa63418890dbd8ef64432e96"
            ]
          }
        },
        "3091d746fe054e14a12b9ca6bf0f8957": {
          "model_module": "@jupyter-widgets/base",
          "model_name": "LayoutModel",
          "state": {
            "_view_name": "LayoutView",
            "grid_template_rows": null,
            "right": null,
            "justify_content": null,
            "_view_module": "@jupyter-widgets/base",
            "overflow": null,
            "_model_module_version": "1.2.0",
            "_view_count": null,
            "flex_flow": null,
            "width": null,
            "min_width": null,
            "border": null,
            "align_items": null,
            "bottom": null,
            "_model_module": "@jupyter-widgets/base",
            "top": null,
            "grid_column": null,
            "overflow_y": null,
            "overflow_x": null,
            "grid_auto_flow": null,
            "grid_area": null,
            "grid_template_columns": null,
            "flex": null,
            "_model_name": "LayoutModel",
            "justify_items": null,
            "grid_row": null,
            "max_height": null,
            "align_content": null,
            "visibility": null,
            "align_self": null,
            "height": null,
            "min_height": null,
            "padding": null,
            "grid_auto_rows": null,
            "grid_gap": null,
            "max_width": null,
            "order": null,
            "_view_module_version": "1.2.0",
            "grid_template_areas": null,
            "object_position": null,
            "object_fit": null,
            "grid_auto_columns": null,
            "margin": null,
            "display": null,
            "left": null
          }
        },
        "843ba675d47645e980632c946e0e6491": {
          "model_module": "@jupyter-widgets/controls",
          "model_name": "FloatProgressModel",
          "state": {
            "_view_name": "ProgressView",
            "style": "IPY_MODEL_d2da6877e94b4e098a603748edeeaaeb",
            "_dom_classes": [],
            "description": "",
            "_model_name": "FloatProgressModel",
            "bar_style": "info",
            "max": 1,
            "_view_module": "@jupyter-widgets/controls",
            "_model_module_version": "1.5.0",
            "value": 1,
            "_view_count": null,
            "_view_module_version": "1.5.0",
            "orientation": "horizontal",
            "min": 0,
            "description_tooltip": null,
            "_model_module": "@jupyter-widgets/controls",
            "layout": "IPY_MODEL_8c0952b7ab5f4bcaa3166e9a26231224"
          }
        },
        "6abd4cb0aa63418890dbd8ef64432e96": {
          "model_module": "@jupyter-widgets/controls",
          "model_name": "HTMLModel",
          "state": {
            "_view_name": "HTMLView",
            "style": "IPY_MODEL_d7aaa04ad6814f17a08b088e9e239b23",
            "_dom_classes": [],
            "description": "",
            "_model_name": "HTMLModel",
            "placeholder": "​",
            "_view_module": "@jupyter-widgets/controls",
            "_model_module_version": "1.5.0",
            "value": " 2490/0 [00:00&lt;00:00, 22639.16 examples/s]",
            "_view_count": null,
            "_view_module_version": "1.5.0",
            "description_tooltip": null,
            "_model_module": "@jupyter-widgets/controls",
            "layout": "IPY_MODEL_3f96486b5bc74ca7b095e334f3b6cc64"
          }
        },
        "d2da6877e94b4e098a603748edeeaaeb": {
          "model_module": "@jupyter-widgets/controls",
          "model_name": "ProgressStyleModel",
          "state": {
            "_view_name": "StyleView",
            "_model_name": "ProgressStyleModel",
            "description_width": "initial",
            "_view_module": "@jupyter-widgets/base",
            "_model_module_version": "1.5.0",
            "_view_count": null,
            "_view_module_version": "1.2.0",
            "bar_color": null,
            "_model_module": "@jupyter-widgets/controls"
          }
        },
        "8c0952b7ab5f4bcaa3166e9a26231224": {
          "model_module": "@jupyter-widgets/base",
          "model_name": "LayoutModel",
          "state": {
            "_view_name": "LayoutView",
            "grid_template_rows": null,
            "right": null,
            "justify_content": null,
            "_view_module": "@jupyter-widgets/base",
            "overflow": null,
            "_model_module_version": "1.2.0",
            "_view_count": null,
            "flex_flow": null,
            "width": null,
            "min_width": null,
            "border": null,
            "align_items": null,
            "bottom": null,
            "_model_module": "@jupyter-widgets/base",
            "top": null,
            "grid_column": null,
            "overflow_y": null,
            "overflow_x": null,
            "grid_auto_flow": null,
            "grid_area": null,
            "grid_template_columns": null,
            "flex": null,
            "_model_name": "LayoutModel",
            "justify_items": null,
            "grid_row": null,
            "max_height": null,
            "align_content": null,
            "visibility": null,
            "align_self": null,
            "height": null,
            "min_height": null,
            "padding": null,
            "grid_auto_rows": null,
            "grid_gap": null,
            "max_width": null,
            "order": null,
            "_view_module_version": "1.2.0",
            "grid_template_areas": null,
            "object_position": null,
            "object_fit": null,
            "grid_auto_columns": null,
            "margin": null,
            "display": null,
            "left": null
          }
        },
        "d7aaa04ad6814f17a08b088e9e239b23": {
          "model_module": "@jupyter-widgets/controls",
          "model_name": "DescriptionStyleModel",
          "state": {
            "_view_name": "StyleView",
            "_model_name": "DescriptionStyleModel",
            "description_width": "",
            "_view_module": "@jupyter-widgets/base",
            "_model_module_version": "1.5.0",
            "_view_count": null,
            "_view_module_version": "1.2.0",
            "_model_module": "@jupyter-widgets/controls"
          }
        },
        "3f96486b5bc74ca7b095e334f3b6cc64": {
          "model_module": "@jupyter-widgets/base",
          "model_name": "LayoutModel",
          "state": {
            "_view_name": "LayoutView",
            "grid_template_rows": null,
            "right": null,
            "justify_content": null,
            "_view_module": "@jupyter-widgets/base",
            "overflow": null,
            "_model_module_version": "1.2.0",
            "_view_count": null,
            "flex_flow": null,
            "width": null,
            "min_width": null,
            "border": null,
            "align_items": null,
            "bottom": null,
            "_model_module": "@jupyter-widgets/base",
            "top": null,
            "grid_column": null,
            "overflow_y": null,
            "overflow_x": null,
            "grid_auto_flow": null,
            "grid_area": null,
            "grid_template_columns": null,
            "flex": null,
            "_model_name": "LayoutModel",
            "justify_items": null,
            "grid_row": null,
            "max_height": null,
            "align_content": null,
            "visibility": null,
            "align_self": null,
            "height": null,
            "min_height": null,
            "padding": null,
            "grid_auto_rows": null,
            "grid_gap": null,
            "max_width": null,
            "order": null,
            "_view_module_version": "1.2.0",
            "grid_template_areas": null,
            "object_position": null,
            "object_fit": null,
            "grid_auto_columns": null,
            "margin": null,
            "display": null,
            "left": null
          }
        },
        "52f62882f32e4f89a8941e6dc3ab8cbc": {
          "model_module": "@jupyter-widgets/controls",
          "model_name": "HBoxModel",
          "state": {
            "_view_name": "HBoxView",
            "_dom_classes": [],
            "_model_name": "HBoxModel",
            "_view_module": "@jupyter-widgets/controls",
            "_model_module_version": "1.5.0",
            "_view_count": null,
            "_view_module_version": "1.5.0",
            "box_style": "",
            "layout": "IPY_MODEL_bd4f12c40b1944b0b79ff12fe8970633",
            "_model_module": "@jupyter-widgets/controls",
            "children": [
              "IPY_MODEL_e8036906435d470ea1681cd4b822cc00",
              "IPY_MODEL_36489ece6a764213822791bd5a6e6de1"
            ]
          }
        },
        "bd4f12c40b1944b0b79ff12fe8970633": {
          "model_module": "@jupyter-widgets/base",
          "model_name": "LayoutModel",
          "state": {
            "_view_name": "LayoutView",
            "grid_template_rows": null,
            "right": null,
            "justify_content": null,
            "_view_module": "@jupyter-widgets/base",
            "overflow": null,
            "_model_module_version": "1.2.0",
            "_view_count": null,
            "flex_flow": null,
            "width": null,
            "min_width": null,
            "border": null,
            "align_items": null,
            "bottom": null,
            "_model_module": "@jupyter-widgets/base",
            "top": null,
            "grid_column": null,
            "overflow_y": null,
            "overflow_x": null,
            "grid_auto_flow": null,
            "grid_area": null,
            "grid_template_columns": null,
            "flex": null,
            "_model_name": "LayoutModel",
            "justify_items": null,
            "grid_row": null,
            "max_height": null,
            "align_content": null,
            "visibility": null,
            "align_self": null,
            "height": null,
            "min_height": null,
            "padding": null,
            "grid_auto_rows": null,
            "grid_gap": null,
            "max_width": null,
            "order": null,
            "_view_module_version": "1.2.0",
            "grid_template_areas": null,
            "object_position": null,
            "object_fit": null,
            "grid_auto_columns": null,
            "margin": null,
            "display": null,
            "left": null
          }
        },
        "e8036906435d470ea1681cd4b822cc00": {
          "model_module": "@jupyter-widgets/controls",
          "model_name": "FloatProgressModel",
          "state": {
            "_view_name": "ProgressView",
            "style": "IPY_MODEL_b721cf0a6ce04e4aa5418a7a4c8515c3",
            "_dom_classes": [],
            "description": "",
            "_model_name": "FloatProgressModel",
            "bar_style": "info",
            "max": 1,
            "_view_module": "@jupyter-widgets/controls",
            "_model_module_version": "1.5.0",
            "value": 1,
            "_view_count": null,
            "_view_module_version": "1.5.0",
            "orientation": "horizontal",
            "min": 0,
            "description_tooltip": null,
            "_model_module": "@jupyter-widgets/controls",
            "layout": "IPY_MODEL_6a2e8c1254264453969db04ecc9f3457"
          }
        },
        "36489ece6a764213822791bd5a6e6de1": {
          "model_module": "@jupyter-widgets/controls",
          "model_name": "HTMLModel",
          "state": {
            "_view_name": "HTMLView",
            "style": "IPY_MODEL_ef1831b05aaa41bb8960a9383df53fcf",
            "_dom_classes": [],
            "description": "",
            "_model_name": "HTMLModel",
            "placeholder": "​",
            "_view_module": "@jupyter-widgets/controls",
            "_model_module_version": "1.5.0",
            "value": " 277/0 [00:00&lt;00:00, 6041.84 examples/s]",
            "_view_count": null,
            "_view_module_version": "1.5.0",
            "description_tooltip": null,
            "_model_module": "@jupyter-widgets/controls",
            "layout": "IPY_MODEL_39e83a6447c1468088f1df537ccd3a3f"
          }
        },
        "b721cf0a6ce04e4aa5418a7a4c8515c3": {
          "model_module": "@jupyter-widgets/controls",
          "model_name": "ProgressStyleModel",
          "state": {
            "_view_name": "StyleView",
            "_model_name": "ProgressStyleModel",
            "description_width": "initial",
            "_view_module": "@jupyter-widgets/base",
            "_model_module_version": "1.5.0",
            "_view_count": null,
            "_view_module_version": "1.2.0",
            "bar_color": null,
            "_model_module": "@jupyter-widgets/controls"
          }
        },
        "6a2e8c1254264453969db04ecc9f3457": {
          "model_module": "@jupyter-widgets/base",
          "model_name": "LayoutModel",
          "state": {
            "_view_name": "LayoutView",
            "grid_template_rows": null,
            "right": null,
            "justify_content": null,
            "_view_module": "@jupyter-widgets/base",
            "overflow": null,
            "_model_module_version": "1.2.0",
            "_view_count": null,
            "flex_flow": null,
            "width": null,
            "min_width": null,
            "border": null,
            "align_items": null,
            "bottom": null,
            "_model_module": "@jupyter-widgets/base",
            "top": null,
            "grid_column": null,
            "overflow_y": null,
            "overflow_x": null,
            "grid_auto_flow": null,
            "grid_area": null,
            "grid_template_columns": null,
            "flex": null,
            "_model_name": "LayoutModel",
            "justify_items": null,
            "grid_row": null,
            "max_height": null,
            "align_content": null,
            "visibility": null,
            "align_self": null,
            "height": null,
            "min_height": null,
            "padding": null,
            "grid_auto_rows": null,
            "grid_gap": null,
            "max_width": null,
            "order": null,
            "_view_module_version": "1.2.0",
            "grid_template_areas": null,
            "object_position": null,
            "object_fit": null,
            "grid_auto_columns": null,
            "margin": null,
            "display": null,
            "left": null
          }
        },
        "ef1831b05aaa41bb8960a9383df53fcf": {
          "model_module": "@jupyter-widgets/controls",
          "model_name": "DescriptionStyleModel",
          "state": {
            "_view_name": "StyleView",
            "_model_name": "DescriptionStyleModel",
            "description_width": "",
            "_view_module": "@jupyter-widgets/base",
            "_model_module_version": "1.5.0",
            "_view_count": null,
            "_view_module_version": "1.2.0",
            "_model_module": "@jupyter-widgets/controls"
          }
        },
        "39e83a6447c1468088f1df537ccd3a3f": {
          "model_module": "@jupyter-widgets/base",
          "model_name": "LayoutModel",
          "state": {
            "_view_name": "LayoutView",
            "grid_template_rows": null,
            "right": null,
            "justify_content": null,
            "_view_module": "@jupyter-widgets/base",
            "overflow": null,
            "_model_module_version": "1.2.0",
            "_view_count": null,
            "flex_flow": null,
            "width": null,
            "min_width": null,
            "border": null,
            "align_items": null,
            "bottom": null,
            "_model_module": "@jupyter-widgets/base",
            "top": null,
            "grid_column": null,
            "overflow_y": null,
            "overflow_x": null,
            "grid_auto_flow": null,
            "grid_area": null,
            "grid_template_columns": null,
            "flex": null,
            "_model_name": "LayoutModel",
            "justify_items": null,
            "grid_row": null,
            "max_height": null,
            "align_content": null,
            "visibility": null,
            "align_self": null,
            "height": null,
            "min_height": null,
            "padding": null,
            "grid_auto_rows": null,
            "grid_gap": null,
            "max_width": null,
            "order": null,
            "_view_module_version": "1.2.0",
            "grid_template_areas": null,
            "object_position": null,
            "object_fit": null,
            "grid_auto_columns": null,
            "margin": null,
            "display": null,
            "left": null
          }
        },
        "341f03803fac4186a359ae366bf9ee45": {
          "model_module": "@jupyter-widgets/controls",
          "model_name": "HBoxModel",
          "state": {
            "_view_name": "HBoxView",
            "_dom_classes": [],
            "_model_name": "HBoxModel",
            "_view_module": "@jupyter-widgets/controls",
            "_model_module_version": "1.5.0",
            "_view_count": null,
            "_view_module_version": "1.5.0",
            "box_style": "",
            "layout": "IPY_MODEL_9e07585521ac4437a4f7425553daa897",
            "_model_module": "@jupyter-widgets/controls",
            "children": [
              "IPY_MODEL_1fdac0527a5943ad89da722c7c9b49f6",
              "IPY_MODEL_7b63994021ce4a999adfd6a247e588bc"
            ]
          }
        },
        "9e07585521ac4437a4f7425553daa897": {
          "model_module": "@jupyter-widgets/base",
          "model_name": "LayoutModel",
          "state": {
            "_view_name": "LayoutView",
            "grid_template_rows": null,
            "right": null,
            "justify_content": null,
            "_view_module": "@jupyter-widgets/base",
            "overflow": null,
            "_model_module_version": "1.2.0",
            "_view_count": null,
            "flex_flow": null,
            "width": null,
            "min_width": null,
            "border": null,
            "align_items": null,
            "bottom": null,
            "_model_module": "@jupyter-widgets/base",
            "top": null,
            "grid_column": null,
            "overflow_y": null,
            "overflow_x": null,
            "grid_auto_flow": null,
            "grid_area": null,
            "grid_template_columns": null,
            "flex": null,
            "_model_name": "LayoutModel",
            "justify_items": null,
            "grid_row": null,
            "max_height": null,
            "align_content": null,
            "visibility": null,
            "align_self": null,
            "height": null,
            "min_height": null,
            "padding": null,
            "grid_auto_rows": null,
            "grid_gap": null,
            "max_width": null,
            "order": null,
            "_view_module_version": "1.2.0",
            "grid_template_areas": null,
            "object_position": null,
            "object_fit": null,
            "grid_auto_columns": null,
            "margin": null,
            "display": null,
            "left": null
          }
        },
        "1fdac0527a5943ad89da722c7c9b49f6": {
          "model_module": "@jupyter-widgets/controls",
          "model_name": "FloatProgressModel",
          "state": {
            "_view_name": "ProgressView",
            "style": "IPY_MODEL_d8ea2a1b7ab64106890ed76fde0f3e68",
            "_dom_classes": [],
            "description": "",
            "_model_name": "FloatProgressModel",
            "bar_style": "info",
            "max": 1,
            "_view_module": "@jupyter-widgets/controls",
            "_model_module_version": "1.5.0",
            "value": 1,
            "_view_count": null,
            "_view_module_version": "1.5.0",
            "orientation": "horizontal",
            "min": 0,
            "description_tooltip": null,
            "_model_module": "@jupyter-widgets/controls",
            "layout": "IPY_MODEL_0ec6cb38278e45579e672c28c0ace58d"
          }
        },
        "7b63994021ce4a999adfd6a247e588bc": {
          "model_module": "@jupyter-widgets/controls",
          "model_name": "HTMLModel",
          "state": {
            "_view_name": "HTMLView",
            "style": "IPY_MODEL_69a96c0e6475488c8f9aea5ab8a39ecc",
            "_dom_classes": [],
            "description": "",
            "_model_name": "HTMLModel",
            "placeholder": "​",
            "_view_module": "@jupyter-widgets/controls",
            "_model_module_version": "1.5.0",
            "value": " 3000/0 [00:00&lt;00:00, 17668.21 examples/s]",
            "_view_count": null,
            "_view_module_version": "1.5.0",
            "description_tooltip": null,
            "_model_module": "@jupyter-widgets/controls",
            "layout": "IPY_MODEL_f9aafbd3e02a49a088c523dd6302bc4b"
          }
        },
        "d8ea2a1b7ab64106890ed76fde0f3e68": {
          "model_module": "@jupyter-widgets/controls",
          "model_name": "ProgressStyleModel",
          "state": {
            "_view_name": "StyleView",
            "_model_name": "ProgressStyleModel",
            "description_width": "initial",
            "_view_module": "@jupyter-widgets/base",
            "_model_module_version": "1.5.0",
            "_view_count": null,
            "_view_module_version": "1.2.0",
            "bar_color": null,
            "_model_module": "@jupyter-widgets/controls"
          }
        },
        "0ec6cb38278e45579e672c28c0ace58d": {
          "model_module": "@jupyter-widgets/base",
          "model_name": "LayoutModel",
          "state": {
            "_view_name": "LayoutView",
            "grid_template_rows": null,
            "right": null,
            "justify_content": null,
            "_view_module": "@jupyter-widgets/base",
            "overflow": null,
            "_model_module_version": "1.2.0",
            "_view_count": null,
            "flex_flow": null,
            "width": null,
            "min_width": null,
            "border": null,
            "align_items": null,
            "bottom": null,
            "_model_module": "@jupyter-widgets/base",
            "top": null,
            "grid_column": null,
            "overflow_y": null,
            "overflow_x": null,
            "grid_auto_flow": null,
            "grid_area": null,
            "grid_template_columns": null,
            "flex": null,
            "_model_name": "LayoutModel",
            "justify_items": null,
            "grid_row": null,
            "max_height": null,
            "align_content": null,
            "visibility": null,
            "align_self": null,
            "height": null,
            "min_height": null,
            "padding": null,
            "grid_auto_rows": null,
            "grid_gap": null,
            "max_width": null,
            "order": null,
            "_view_module_version": "1.2.0",
            "grid_template_areas": null,
            "object_position": null,
            "object_fit": null,
            "grid_auto_columns": null,
            "margin": null,
            "display": null,
            "left": null
          }
        },
        "69a96c0e6475488c8f9aea5ab8a39ecc": {
          "model_module": "@jupyter-widgets/controls",
          "model_name": "DescriptionStyleModel",
          "state": {
            "_view_name": "StyleView",
            "_model_name": "DescriptionStyleModel",
            "description_width": "",
            "_view_module": "@jupyter-widgets/base",
            "_model_module_version": "1.5.0",
            "_view_count": null,
            "_view_module_version": "1.2.0",
            "_model_module": "@jupyter-widgets/controls"
          }
        },
        "f9aafbd3e02a49a088c523dd6302bc4b": {
          "model_module": "@jupyter-widgets/base",
          "model_name": "LayoutModel",
          "state": {
            "_view_name": "LayoutView",
            "grid_template_rows": null,
            "right": null,
            "justify_content": null,
            "_view_module": "@jupyter-widgets/base",
            "overflow": null,
            "_model_module_version": "1.2.0",
            "_view_count": null,
            "flex_flow": null,
            "width": null,
            "min_width": null,
            "border": null,
            "align_items": null,
            "bottom": null,
            "_model_module": "@jupyter-widgets/base",
            "top": null,
            "grid_column": null,
            "overflow_y": null,
            "overflow_x": null,
            "grid_auto_flow": null,
            "grid_area": null,
            "grid_template_columns": null,
            "flex": null,
            "_model_name": "LayoutModel",
            "justify_items": null,
            "grid_row": null,
            "max_height": null,
            "align_content": null,
            "visibility": null,
            "align_self": null,
            "height": null,
            "min_height": null,
            "padding": null,
            "grid_auto_rows": null,
            "grid_gap": null,
            "max_width": null,
            "order": null,
            "_view_module_version": "1.2.0",
            "grid_template_areas": null,
            "object_position": null,
            "object_fit": null,
            "grid_auto_columns": null,
            "margin": null,
            "display": null,
            "left": null
          }
        },
        "bf4709ca8ab2421188ec529ab7061804": {
          "model_module": "@jupyter-widgets/controls",
          "model_name": "HBoxModel",
          "state": {
            "_view_name": "HBoxView",
            "_dom_classes": [],
            "_model_name": "HBoxModel",
            "_view_module": "@jupyter-widgets/controls",
            "_model_module_version": "1.5.0",
            "_view_count": null,
            "_view_module_version": "1.5.0",
            "box_style": "",
            "layout": "IPY_MODEL_bd09f32defde428a88f10da607ca62c8",
            "_model_module": "@jupyter-widgets/controls",
            "children": [
              "IPY_MODEL_b063d9294f2846f2827c89db6560dfe7",
              "IPY_MODEL_9c0ba3af8288439fb749dc4659a2542c"
            ]
          }
        },
        "bd09f32defde428a88f10da607ca62c8": {
          "model_module": "@jupyter-widgets/base",
          "model_name": "LayoutModel",
          "state": {
            "_view_name": "LayoutView",
            "grid_template_rows": null,
            "right": null,
            "justify_content": null,
            "_view_module": "@jupyter-widgets/base",
            "overflow": null,
            "_model_module_version": "1.2.0",
            "_view_count": null,
            "flex_flow": null,
            "width": null,
            "min_width": null,
            "border": null,
            "align_items": null,
            "bottom": null,
            "_model_module": "@jupyter-widgets/base",
            "top": null,
            "grid_column": null,
            "overflow_y": null,
            "overflow_x": null,
            "grid_auto_flow": null,
            "grid_area": null,
            "grid_template_columns": null,
            "flex": null,
            "_model_name": "LayoutModel",
            "justify_items": null,
            "grid_row": null,
            "max_height": null,
            "align_content": null,
            "visibility": null,
            "align_self": null,
            "height": null,
            "min_height": null,
            "padding": null,
            "grid_auto_rows": null,
            "grid_gap": null,
            "max_width": null,
            "order": null,
            "_view_module_version": "1.2.0",
            "grid_template_areas": null,
            "object_position": null,
            "object_fit": null,
            "grid_auto_columns": null,
            "margin": null,
            "display": null,
            "left": null
          }
        },
        "b063d9294f2846f2827c89db6560dfe7": {
          "model_module": "@jupyter-widgets/controls",
          "model_name": "FloatProgressModel",
          "state": {
            "_view_name": "ProgressView",
            "style": "IPY_MODEL_87e2a0adb7c947c081c1ab83ab2d7866",
            "_dom_classes": [],
            "description": "Downloading: 100%",
            "_model_name": "FloatProgressModel",
            "bar_style": "success",
            "max": 4021,
            "_view_module": "@jupyter-widgets/controls",
            "_model_module_version": "1.5.0",
            "value": 4021,
            "_view_count": null,
            "_view_module_version": "1.5.0",
            "orientation": "horizontal",
            "min": 0,
            "description_tooltip": null,
            "_model_module": "@jupyter-widgets/controls",
            "layout": "IPY_MODEL_bb83e0cfe7224561a0abc141c1df3930"
          }
        },
        "9c0ba3af8288439fb749dc4659a2542c": {
          "model_module": "@jupyter-widgets/controls",
          "model_name": "HTMLModel",
          "state": {
            "_view_name": "HTMLView",
            "style": "IPY_MODEL_743389851e784a5784cf6c62a65c87fd",
            "_dom_classes": [],
            "description": "",
            "_model_name": "HTMLModel",
            "placeholder": "​",
            "_view_module": "@jupyter-widgets/controls",
            "_model_module_version": "1.5.0",
            "value": " 4.02k/4.02k [00:00&lt;00:00, 14.0kB/s]",
            "_view_count": null,
            "_view_module_version": "1.5.0",
            "description_tooltip": null,
            "_model_module": "@jupyter-widgets/controls",
            "layout": "IPY_MODEL_2d1a6b0b9ff847e0a2550a55ac0bf05f"
          }
        },
        "87e2a0adb7c947c081c1ab83ab2d7866": {
          "model_module": "@jupyter-widgets/controls",
          "model_name": "ProgressStyleModel",
          "state": {
            "_view_name": "StyleView",
            "_model_name": "ProgressStyleModel",
            "description_width": "initial",
            "_view_module": "@jupyter-widgets/base",
            "_model_module_version": "1.5.0",
            "_view_count": null,
            "_view_module_version": "1.2.0",
            "bar_color": null,
            "_model_module": "@jupyter-widgets/controls"
          }
        },
        "bb83e0cfe7224561a0abc141c1df3930": {
          "model_module": "@jupyter-widgets/base",
          "model_name": "LayoutModel",
          "state": {
            "_view_name": "LayoutView",
            "grid_template_rows": null,
            "right": null,
            "justify_content": null,
            "_view_module": "@jupyter-widgets/base",
            "overflow": null,
            "_model_module_version": "1.2.0",
            "_view_count": null,
            "flex_flow": null,
            "width": null,
            "min_width": null,
            "border": null,
            "align_items": null,
            "bottom": null,
            "_model_module": "@jupyter-widgets/base",
            "top": null,
            "grid_column": null,
            "overflow_y": null,
            "overflow_x": null,
            "grid_auto_flow": null,
            "grid_area": null,
            "grid_template_columns": null,
            "flex": null,
            "_model_name": "LayoutModel",
            "justify_items": null,
            "grid_row": null,
            "max_height": null,
            "align_content": null,
            "visibility": null,
            "align_self": null,
            "height": null,
            "min_height": null,
            "padding": null,
            "grid_auto_rows": null,
            "grid_gap": null,
            "max_width": null,
            "order": null,
            "_view_module_version": "1.2.0",
            "grid_template_areas": null,
            "object_position": null,
            "object_fit": null,
            "grid_auto_columns": null,
            "margin": null,
            "display": null,
            "left": null
          }
        },
        "743389851e784a5784cf6c62a65c87fd": {
          "model_module": "@jupyter-widgets/controls",
          "model_name": "DescriptionStyleModel",
          "state": {
            "_view_name": "StyleView",
            "_model_name": "DescriptionStyleModel",
            "description_width": "",
            "_view_module": "@jupyter-widgets/base",
            "_model_module_version": "1.5.0",
            "_view_count": null,
            "_view_module_version": "1.2.0",
            "_model_module": "@jupyter-widgets/controls"
          }
        },
        "2d1a6b0b9ff847e0a2550a55ac0bf05f": {
          "model_module": "@jupyter-widgets/base",
          "model_name": "LayoutModel",
          "state": {
            "_view_name": "LayoutView",
            "grid_template_rows": null,
            "right": null,
            "justify_content": null,
            "_view_module": "@jupyter-widgets/base",
            "overflow": null,
            "_model_module_version": "1.2.0",
            "_view_count": null,
            "flex_flow": null,
            "width": null,
            "min_width": null,
            "border": null,
            "align_items": null,
            "bottom": null,
            "_model_module": "@jupyter-widgets/base",
            "top": null,
            "grid_column": null,
            "overflow_y": null,
            "overflow_x": null,
            "grid_auto_flow": null,
            "grid_area": null,
            "grid_template_columns": null,
            "flex": null,
            "_model_name": "LayoutModel",
            "justify_items": null,
            "grid_row": null,
            "max_height": null,
            "align_content": null,
            "visibility": null,
            "align_self": null,
            "height": null,
            "min_height": null,
            "padding": null,
            "grid_auto_rows": null,
            "grid_gap": null,
            "max_width": null,
            "order": null,
            "_view_module_version": "1.2.0",
            "grid_template_areas": null,
            "object_position": null,
            "object_fit": null,
            "grid_auto_columns": null,
            "margin": null,
            "display": null,
            "left": null
          }
        },
        "25721c9e424e4cc9a96636dd9857dd32": {
          "model_module": "@jupyter-widgets/controls",
          "model_name": "HBoxModel",
          "state": {
            "_view_name": "HBoxView",
            "_dom_classes": [],
            "_model_name": "HBoxModel",
            "_view_module": "@jupyter-widgets/controls",
            "_model_module_version": "1.5.0",
            "_view_count": null,
            "_view_module_version": "1.5.0",
            "box_style": "",
            "layout": "IPY_MODEL_ab391e7fba6d4ee9b23bd90e98f1aa5c",
            "_model_module": "@jupyter-widgets/controls",
            "children": [
              "IPY_MODEL_d8b6ac8759924f8da2068ebda8948cf1",
              "IPY_MODEL_d50087f1e7914a3d953d4aed091cc212"
            ]
          }
        },
        "ab391e7fba6d4ee9b23bd90e98f1aa5c": {
          "model_module": "@jupyter-widgets/base",
          "model_name": "LayoutModel",
          "state": {
            "_view_name": "LayoutView",
            "grid_template_rows": null,
            "right": null,
            "justify_content": null,
            "_view_module": "@jupyter-widgets/base",
            "overflow": null,
            "_model_module_version": "1.2.0",
            "_view_count": null,
            "flex_flow": null,
            "width": null,
            "min_width": null,
            "border": null,
            "align_items": null,
            "bottom": null,
            "_model_module": "@jupyter-widgets/base",
            "top": null,
            "grid_column": null,
            "overflow_y": null,
            "overflow_x": null,
            "grid_auto_flow": null,
            "grid_area": null,
            "grid_template_columns": null,
            "flex": null,
            "_model_name": "LayoutModel",
            "justify_items": null,
            "grid_row": null,
            "max_height": null,
            "align_content": null,
            "visibility": null,
            "align_self": null,
            "height": null,
            "min_height": null,
            "padding": null,
            "grid_auto_rows": null,
            "grid_gap": null,
            "max_width": null,
            "order": null,
            "_view_module_version": "1.2.0",
            "grid_template_areas": null,
            "object_position": null,
            "object_fit": null,
            "grid_auto_columns": null,
            "margin": null,
            "display": null,
            "left": null
          }
        },
        "d8b6ac8759924f8da2068ebda8948cf1": {
          "model_module": "@jupyter-widgets/controls",
          "model_name": "FloatProgressModel",
          "state": {
            "_view_name": "ProgressView",
            "style": "IPY_MODEL_33900b0f002d47ddb35d251a1f45d488",
            "_dom_classes": [],
            "description": "Downloading: 100%",
            "_model_name": "FloatProgressModel",
            "bar_style": "success",
            "max": 2306,
            "_view_module": "@jupyter-widgets/controls",
            "_model_module_version": "1.5.0",
            "value": 2306,
            "_view_count": null,
            "_view_module_version": "1.5.0",
            "orientation": "horizontal",
            "min": 0,
            "description_tooltip": null,
            "_model_module": "@jupyter-widgets/controls",
            "layout": "IPY_MODEL_964c71aa77c04751980636151b6d7efe"
          }
        },
        "d50087f1e7914a3d953d4aed091cc212": {
          "model_module": "@jupyter-widgets/controls",
          "model_name": "HTMLModel",
          "state": {
            "_view_name": "HTMLView",
            "style": "IPY_MODEL_5ed940b3ee0b41569cd49882d8966147",
            "_dom_classes": [],
            "description": "",
            "_model_name": "HTMLModel",
            "placeholder": "​",
            "_view_module": "@jupyter-widgets/controls",
            "_model_module_version": "1.5.0",
            "value": " 2.31k/2.31k [00:00&lt;00:00, 16.6kB/s]",
            "_view_count": null,
            "_view_module_version": "1.5.0",
            "description_tooltip": null,
            "_model_module": "@jupyter-widgets/controls",
            "layout": "IPY_MODEL_361025d6a60743b8aeb8524d55de43c4"
          }
        },
        "33900b0f002d47ddb35d251a1f45d488": {
          "model_module": "@jupyter-widgets/controls",
          "model_name": "ProgressStyleModel",
          "state": {
            "_view_name": "StyleView",
            "_model_name": "ProgressStyleModel",
            "description_width": "initial",
            "_view_module": "@jupyter-widgets/base",
            "_model_module_version": "1.5.0",
            "_view_count": null,
            "_view_module_version": "1.2.0",
            "bar_color": null,
            "_model_module": "@jupyter-widgets/controls"
          }
        },
        "964c71aa77c04751980636151b6d7efe": {
          "model_module": "@jupyter-widgets/base",
          "model_name": "LayoutModel",
          "state": {
            "_view_name": "LayoutView",
            "grid_template_rows": null,
            "right": null,
            "justify_content": null,
            "_view_module": "@jupyter-widgets/base",
            "overflow": null,
            "_model_module_version": "1.2.0",
            "_view_count": null,
            "flex_flow": null,
            "width": null,
            "min_width": null,
            "border": null,
            "align_items": null,
            "bottom": null,
            "_model_module": "@jupyter-widgets/base",
            "top": null,
            "grid_column": null,
            "overflow_y": null,
            "overflow_x": null,
            "grid_auto_flow": null,
            "grid_area": null,
            "grid_template_columns": null,
            "flex": null,
            "_model_name": "LayoutModel",
            "justify_items": null,
            "grid_row": null,
            "max_height": null,
            "align_content": null,
            "visibility": null,
            "align_self": null,
            "height": null,
            "min_height": null,
            "padding": null,
            "grid_auto_rows": null,
            "grid_gap": null,
            "max_width": null,
            "order": null,
            "_view_module_version": "1.2.0",
            "grid_template_areas": null,
            "object_position": null,
            "object_fit": null,
            "grid_auto_columns": null,
            "margin": null,
            "display": null,
            "left": null
          }
        },
        "5ed940b3ee0b41569cd49882d8966147": {
          "model_module": "@jupyter-widgets/controls",
          "model_name": "DescriptionStyleModel",
          "state": {
            "_view_name": "StyleView",
            "_model_name": "DescriptionStyleModel",
            "description_width": "",
            "_view_module": "@jupyter-widgets/base",
            "_model_module_version": "1.5.0",
            "_view_count": null,
            "_view_module_version": "1.2.0",
            "_model_module": "@jupyter-widgets/controls"
          }
        },
        "361025d6a60743b8aeb8524d55de43c4": {
          "model_module": "@jupyter-widgets/base",
          "model_name": "LayoutModel",
          "state": {
            "_view_name": "LayoutView",
            "grid_template_rows": null,
            "right": null,
            "justify_content": null,
            "_view_module": "@jupyter-widgets/base",
            "overflow": null,
            "_model_module_version": "1.2.0",
            "_view_count": null,
            "flex_flow": null,
            "width": null,
            "min_width": null,
            "border": null,
            "align_items": null,
            "bottom": null,
            "_model_module": "@jupyter-widgets/base",
            "top": null,
            "grid_column": null,
            "overflow_y": null,
            "overflow_x": null,
            "grid_auto_flow": null,
            "grid_area": null,
            "grid_template_columns": null,
            "flex": null,
            "_model_name": "LayoutModel",
            "justify_items": null,
            "grid_row": null,
            "max_height": null,
            "align_content": null,
            "visibility": null,
            "align_self": null,
            "height": null,
            "min_height": null,
            "padding": null,
            "grid_auto_rows": null,
            "grid_gap": null,
            "max_width": null,
            "order": null,
            "_view_module_version": "1.2.0",
            "grid_template_areas": null,
            "object_position": null,
            "object_fit": null,
            "grid_auto_columns": null,
            "margin": null,
            "display": null,
            "left": null
          }
        },
        "d339b6c70f2c40d0952d9ef74f7f2530": {
          "model_module": "@jupyter-widgets/controls",
          "model_name": "HBoxModel",
          "state": {
            "_view_name": "HBoxView",
            "_dom_classes": [],
            "_model_name": "HBoxModel",
            "_view_module": "@jupyter-widgets/controls",
            "_model_module_version": "1.5.0",
            "_view_count": null,
            "_view_module_version": "1.5.0",
            "box_style": "",
            "layout": "IPY_MODEL_4d2c4583ac2443f2ac73a06bf9336660",
            "_model_module": "@jupyter-widgets/controls",
            "children": [
              "IPY_MODEL_2e98054ab9d34780a6947327dcf2e09c",
              "IPY_MODEL_0c5c6aa835ac465b93c80cbdfc225d0e"
            ]
          }
        },
        "4d2c4583ac2443f2ac73a06bf9336660": {
          "model_module": "@jupyter-widgets/base",
          "model_name": "LayoutModel",
          "state": {
            "_view_name": "LayoutView",
            "grid_template_rows": null,
            "right": null,
            "justify_content": null,
            "_view_module": "@jupyter-widgets/base",
            "overflow": null,
            "_model_module_version": "1.2.0",
            "_view_count": null,
            "flex_flow": null,
            "width": null,
            "min_width": null,
            "border": null,
            "align_items": null,
            "bottom": null,
            "_model_module": "@jupyter-widgets/base",
            "top": null,
            "grid_column": null,
            "overflow_y": null,
            "overflow_x": null,
            "grid_auto_flow": null,
            "grid_area": null,
            "grid_template_columns": null,
            "flex": null,
            "_model_name": "LayoutModel",
            "justify_items": null,
            "grid_row": null,
            "max_height": null,
            "align_content": null,
            "visibility": null,
            "align_self": null,
            "height": null,
            "min_height": null,
            "padding": null,
            "grid_auto_rows": null,
            "grid_gap": null,
            "max_width": null,
            "order": null,
            "_view_module_version": "1.2.0",
            "grid_template_areas": null,
            "object_position": null,
            "object_fit": null,
            "grid_auto_columns": null,
            "margin": null,
            "display": null,
            "left": null
          }
        },
        "2e98054ab9d34780a6947327dcf2e09c": {
          "model_module": "@jupyter-widgets/controls",
          "model_name": "FloatProgressModel",
          "state": {
            "_view_name": "ProgressView",
            "style": "IPY_MODEL_49cdb9c5967d4f75befd19eccd0c25ce",
            "_dom_classes": [],
            "description": "Downloading: 100%",
            "_model_name": "FloatProgressModel",
            "bar_style": "success",
            "max": 3785890,
            "_view_module": "@jupyter-widgets/controls",
            "_model_module_version": "1.5.0",
            "value": 3785890,
            "_view_count": null,
            "_view_module_version": "1.5.0",
            "orientation": "horizontal",
            "min": 0,
            "description_tooltip": null,
            "_model_module": "@jupyter-widgets/controls",
            "layout": "IPY_MODEL_b27d769c57694bcca572045fe2b968c2"
          }
        },
        "0c5c6aa835ac465b93c80cbdfc225d0e": {
          "model_module": "@jupyter-widgets/controls",
          "model_name": "HTMLModel",
          "state": {
            "_view_name": "HTMLView",
            "style": "IPY_MODEL_8e8d2b7d6fac4beb9f22ed1e001b2f84",
            "_dom_classes": [],
            "description": "",
            "_model_name": "HTMLModel",
            "placeholder": "​",
            "_view_module": "@jupyter-widgets/controls",
            "_model_module_version": "1.5.0",
            "value": " 3.79M/3.79M [00:00&lt;00:00, 5.54MB/s]",
            "_view_count": null,
            "_view_module_version": "1.5.0",
            "description_tooltip": null,
            "_model_module": "@jupyter-widgets/controls",
            "layout": "IPY_MODEL_d949b7ff949d4ad48ca65b43fa0cc6b6"
          }
        },
        "49cdb9c5967d4f75befd19eccd0c25ce": {
          "model_module": "@jupyter-widgets/controls",
          "model_name": "ProgressStyleModel",
          "state": {
            "_view_name": "StyleView",
            "_model_name": "ProgressStyleModel",
            "description_width": "initial",
            "_view_module": "@jupyter-widgets/base",
            "_model_module_version": "1.5.0",
            "_view_count": null,
            "_view_module_version": "1.2.0",
            "bar_color": null,
            "_model_module": "@jupyter-widgets/controls"
          }
        },
        "b27d769c57694bcca572045fe2b968c2": {
          "model_module": "@jupyter-widgets/base",
          "model_name": "LayoutModel",
          "state": {
            "_view_name": "LayoutView",
            "grid_template_rows": null,
            "right": null,
            "justify_content": null,
            "_view_module": "@jupyter-widgets/base",
            "overflow": null,
            "_model_module_version": "1.2.0",
            "_view_count": null,
            "flex_flow": null,
            "width": null,
            "min_width": null,
            "border": null,
            "align_items": null,
            "bottom": null,
            "_model_module": "@jupyter-widgets/base",
            "top": null,
            "grid_column": null,
            "overflow_y": null,
            "overflow_x": null,
            "grid_auto_flow": null,
            "grid_area": null,
            "grid_template_columns": null,
            "flex": null,
            "_model_name": "LayoutModel",
            "justify_items": null,
            "grid_row": null,
            "max_height": null,
            "align_content": null,
            "visibility": null,
            "align_self": null,
            "height": null,
            "min_height": null,
            "padding": null,
            "grid_auto_rows": null,
            "grid_gap": null,
            "max_width": null,
            "order": null,
            "_view_module_version": "1.2.0",
            "grid_template_areas": null,
            "object_position": null,
            "object_fit": null,
            "grid_auto_columns": null,
            "margin": null,
            "display": null,
            "left": null
          }
        },
        "8e8d2b7d6fac4beb9f22ed1e001b2f84": {
          "model_module": "@jupyter-widgets/controls",
          "model_name": "DescriptionStyleModel",
          "state": {
            "_view_name": "StyleView",
            "_model_name": "DescriptionStyleModel",
            "description_width": "",
            "_view_module": "@jupyter-widgets/base",
            "_model_module_version": "1.5.0",
            "_view_count": null,
            "_view_module_version": "1.2.0",
            "_model_module": "@jupyter-widgets/controls"
          }
        },
        "d949b7ff949d4ad48ca65b43fa0cc6b6": {
          "model_module": "@jupyter-widgets/base",
          "model_name": "LayoutModel",
          "state": {
            "_view_name": "LayoutView",
            "grid_template_rows": null,
            "right": null,
            "justify_content": null,
            "_view_module": "@jupyter-widgets/base",
            "overflow": null,
            "_model_module_version": "1.2.0",
            "_view_count": null,
            "flex_flow": null,
            "width": null,
            "min_width": null,
            "border": null,
            "align_items": null,
            "bottom": null,
            "_model_module": "@jupyter-widgets/base",
            "top": null,
            "grid_column": null,
            "overflow_y": null,
            "overflow_x": null,
            "grid_auto_flow": null,
            "grid_area": null,
            "grid_template_columns": null,
            "flex": null,
            "_model_name": "LayoutModel",
            "justify_items": null,
            "grid_row": null,
            "max_height": null,
            "align_content": null,
            "visibility": null,
            "align_self": null,
            "height": null,
            "min_height": null,
            "padding": null,
            "grid_auto_rows": null,
            "grid_gap": null,
            "max_width": null,
            "order": null,
            "_view_module_version": "1.2.0",
            "grid_template_areas": null,
            "object_position": null,
            "object_fit": null,
            "grid_auto_columns": null,
            "margin": null,
            "display": null,
            "left": null
          }
        },
        "a03f31f5bff746659ee340c99deeb2d5": {
          "model_module": "@jupyter-widgets/controls",
          "model_name": "HBoxModel",
          "state": {
            "_view_name": "HBoxView",
            "_dom_classes": [],
            "_model_name": "HBoxModel",
            "_view_module": "@jupyter-widgets/controls",
            "_model_module_version": "1.5.0",
            "_view_count": null,
            "_view_module_version": "1.5.0",
            "box_style": "",
            "layout": "IPY_MODEL_99c4336aa3b445d2adc121731ed0294b",
            "_model_module": "@jupyter-widgets/controls",
            "children": [
              "IPY_MODEL_41a440c69ac8449395e7bf3eed865f3f",
              "IPY_MODEL_32c23f5d09004900a365b816a15287f2"
            ]
          }
        },
        "99c4336aa3b445d2adc121731ed0294b": {
          "model_module": "@jupyter-widgets/base",
          "model_name": "LayoutModel",
          "state": {
            "_view_name": "LayoutView",
            "grid_template_rows": null,
            "right": null,
            "justify_content": null,
            "_view_module": "@jupyter-widgets/base",
            "overflow": null,
            "_model_module_version": "1.2.0",
            "_view_count": null,
            "flex_flow": null,
            "width": null,
            "min_width": null,
            "border": null,
            "align_items": null,
            "bottom": null,
            "_model_module": "@jupyter-widgets/base",
            "top": null,
            "grid_column": null,
            "overflow_y": null,
            "overflow_x": null,
            "grid_auto_flow": null,
            "grid_area": null,
            "grid_template_columns": null,
            "flex": null,
            "_model_name": "LayoutModel",
            "justify_items": null,
            "grid_row": null,
            "max_height": null,
            "align_content": null,
            "visibility": null,
            "align_self": null,
            "height": null,
            "min_height": null,
            "padding": null,
            "grid_auto_rows": null,
            "grid_gap": null,
            "max_width": null,
            "order": null,
            "_view_module_version": "1.2.0",
            "grid_template_areas": null,
            "object_position": null,
            "object_fit": null,
            "grid_auto_columns": null,
            "margin": null,
            "display": null,
            "left": null
          }
        },
        "41a440c69ac8449395e7bf3eed865f3f": {
          "model_module": "@jupyter-widgets/controls",
          "model_name": "FloatProgressModel",
          "state": {
            "_view_name": "ProgressView",
            "style": "IPY_MODEL_a02284c9b87449e397118ea6d5d4e7ed",
            "_dom_classes": [],
            "description": "Downloading: 100%",
            "_model_name": "FloatProgressModel",
            "bar_style": "success",
            "max": 423148,
            "_view_module": "@jupyter-widgets/controls",
            "_model_module_version": "1.5.0",
            "value": 423148,
            "_view_count": null,
            "_view_module_version": "1.5.0",
            "orientation": "horizontal",
            "min": 0,
            "description_tooltip": null,
            "_model_module": "@jupyter-widgets/controls",
            "layout": "IPY_MODEL_6f205d1129e940b28153691875ade418"
          }
        },
        "32c23f5d09004900a365b816a15287f2": {
          "model_module": "@jupyter-widgets/controls",
          "model_name": "HTMLModel",
          "state": {
            "_view_name": "HTMLView",
            "style": "IPY_MODEL_48a82c856ab24e4aa98436462e0aa138",
            "_dom_classes": [],
            "description": "",
            "_model_name": "HTMLModel",
            "placeholder": "​",
            "_view_module": "@jupyter-widgets/controls",
            "_model_module_version": "1.5.0",
            "value": " 423k/423k [00:00&lt;00:00, 1.04MB/s]",
            "_view_count": null,
            "_view_module_version": "1.5.0",
            "description_tooltip": null,
            "_model_module": "@jupyter-widgets/controls",
            "layout": "IPY_MODEL_396c9d78f75e4590bd30226bfc91974e"
          }
        },
        "a02284c9b87449e397118ea6d5d4e7ed": {
          "model_module": "@jupyter-widgets/controls",
          "model_name": "ProgressStyleModel",
          "state": {
            "_view_name": "StyleView",
            "_model_name": "ProgressStyleModel",
            "description_width": "initial",
            "_view_module": "@jupyter-widgets/base",
            "_model_module_version": "1.5.0",
            "_view_count": null,
            "_view_module_version": "1.2.0",
            "bar_color": null,
            "_model_module": "@jupyter-widgets/controls"
          }
        },
        "6f205d1129e940b28153691875ade418": {
          "model_module": "@jupyter-widgets/base",
          "model_name": "LayoutModel",
          "state": {
            "_view_name": "LayoutView",
            "grid_template_rows": null,
            "right": null,
            "justify_content": null,
            "_view_module": "@jupyter-widgets/base",
            "overflow": null,
            "_model_module_version": "1.2.0",
            "_view_count": null,
            "flex_flow": null,
            "width": null,
            "min_width": null,
            "border": null,
            "align_items": null,
            "bottom": null,
            "_model_module": "@jupyter-widgets/base",
            "top": null,
            "grid_column": null,
            "overflow_y": null,
            "overflow_x": null,
            "grid_auto_flow": null,
            "grid_area": null,
            "grid_template_columns": null,
            "flex": null,
            "_model_name": "LayoutModel",
            "justify_items": null,
            "grid_row": null,
            "max_height": null,
            "align_content": null,
            "visibility": null,
            "align_self": null,
            "height": null,
            "min_height": null,
            "padding": null,
            "grid_auto_rows": null,
            "grid_gap": null,
            "max_width": null,
            "order": null,
            "_view_module_version": "1.2.0",
            "grid_template_areas": null,
            "object_position": null,
            "object_fit": null,
            "grid_auto_columns": null,
            "margin": null,
            "display": null,
            "left": null
          }
        },
        "48a82c856ab24e4aa98436462e0aa138": {
          "model_module": "@jupyter-widgets/controls",
          "model_name": "DescriptionStyleModel",
          "state": {
            "_view_name": "StyleView",
            "_model_name": "DescriptionStyleModel",
            "description_width": "",
            "_view_module": "@jupyter-widgets/base",
            "_model_module_version": "1.5.0",
            "_view_count": null,
            "_view_module_version": "1.2.0",
            "_model_module": "@jupyter-widgets/controls"
          }
        },
        "396c9d78f75e4590bd30226bfc91974e": {
          "model_module": "@jupyter-widgets/base",
          "model_name": "LayoutModel",
          "state": {
            "_view_name": "LayoutView",
            "grid_template_rows": null,
            "right": null,
            "justify_content": null,
            "_view_module": "@jupyter-widgets/base",
            "overflow": null,
            "_model_module_version": "1.2.0",
            "_view_count": null,
            "flex_flow": null,
            "width": null,
            "min_width": null,
            "border": null,
            "align_items": null,
            "bottom": null,
            "_model_module": "@jupyter-widgets/base",
            "top": null,
            "grid_column": null,
            "overflow_y": null,
            "overflow_x": null,
            "grid_auto_flow": null,
            "grid_area": null,
            "grid_template_columns": null,
            "flex": null,
            "_model_name": "LayoutModel",
            "justify_items": null,
            "grid_row": null,
            "max_height": null,
            "align_content": null,
            "visibility": null,
            "align_self": null,
            "height": null,
            "min_height": null,
            "padding": null,
            "grid_auto_rows": null,
            "grid_gap": null,
            "max_width": null,
            "order": null,
            "_view_module_version": "1.2.0",
            "grid_template_areas": null,
            "object_position": null,
            "object_fit": null,
            "grid_auto_columns": null,
            "margin": null,
            "display": null,
            "left": null
          }
        },
        "b99c532bc11548d9beba5b7e79485bd8": {
          "model_module": "@jupyter-widgets/controls",
          "model_name": "HBoxModel",
          "state": {
            "_view_name": "HBoxView",
            "_dom_classes": [],
            "_model_name": "HBoxModel",
            "_view_module": "@jupyter-widgets/controls",
            "_model_module_version": "1.5.0",
            "_view_count": null,
            "_view_module_version": "1.5.0",
            "box_style": "",
            "layout": "IPY_MODEL_359c0ff8e6b74a93a1509d3f1e3daf5b",
            "_model_module": "@jupyter-widgets/controls",
            "children": [
              "IPY_MODEL_be538f6806d64adaab2988e4046890ca",
              "IPY_MODEL_9e46819a6990425d9b91cfc112827020"
            ]
          }
        },
        "359c0ff8e6b74a93a1509d3f1e3daf5b": {
          "model_module": "@jupyter-widgets/base",
          "model_name": "LayoutModel",
          "state": {
            "_view_name": "LayoutView",
            "grid_template_rows": null,
            "right": null,
            "justify_content": null,
            "_view_module": "@jupyter-widgets/base",
            "overflow": null,
            "_model_module_version": "1.2.0",
            "_view_count": null,
            "flex_flow": null,
            "width": null,
            "min_width": null,
            "border": null,
            "align_items": null,
            "bottom": null,
            "_model_module": "@jupyter-widgets/base",
            "top": null,
            "grid_column": null,
            "overflow_y": null,
            "overflow_x": null,
            "grid_auto_flow": null,
            "grid_area": null,
            "grid_template_columns": null,
            "flex": null,
            "_model_name": "LayoutModel",
            "justify_items": null,
            "grid_row": null,
            "max_height": null,
            "align_content": null,
            "visibility": null,
            "align_self": null,
            "height": null,
            "min_height": null,
            "padding": null,
            "grid_auto_rows": null,
            "grid_gap": null,
            "max_width": null,
            "order": null,
            "_view_module_version": "1.2.0",
            "grid_template_areas": null,
            "object_position": null,
            "object_fit": null,
            "grid_auto_columns": null,
            "margin": null,
            "display": null,
            "left": null
          }
        },
        "be538f6806d64adaab2988e4046890ca": {
          "model_module": "@jupyter-widgets/controls",
          "model_name": "FloatProgressModel",
          "state": {
            "_view_name": "ProgressView",
            "style": "IPY_MODEL_c2c00c4cf14f4e5488831a54e7564d92",
            "_dom_classes": [],
            "description": "Downloading: 100%",
            "_model_name": "FloatProgressModel",
            "bar_style": "success",
            "max": 471653,
            "_view_module": "@jupyter-widgets/controls",
            "_model_module_version": "1.5.0",
            "value": 471653,
            "_view_count": null,
            "_view_module_version": "1.5.0",
            "orientation": "horizontal",
            "min": 0,
            "description_tooltip": null,
            "_model_module": "@jupyter-widgets/controls",
            "layout": "IPY_MODEL_b2470c839de94b36869f9505e64959fa"
          }
        },
        "9e46819a6990425d9b91cfc112827020": {
          "model_module": "@jupyter-widgets/controls",
          "model_name": "HTMLModel",
          "state": {
            "_view_name": "HTMLView",
            "style": "IPY_MODEL_c4bed0888ab54b03a860feafa9ce42dc",
            "_dom_classes": [],
            "description": "",
            "_model_name": "HTMLModel",
            "placeholder": "​",
            "_view_module": "@jupyter-widgets/controls",
            "_model_module_version": "1.5.0",
            "value": " 472k/472k [00:00&lt;00:00, 1.96MB/s]",
            "_view_count": null,
            "_view_module_version": "1.5.0",
            "description_tooltip": null,
            "_model_module": "@jupyter-widgets/controls",
            "layout": "IPY_MODEL_98aac6a80a6244399d8a974d959a9dcf"
          }
        },
        "c2c00c4cf14f4e5488831a54e7564d92": {
          "model_module": "@jupyter-widgets/controls",
          "model_name": "ProgressStyleModel",
          "state": {
            "_view_name": "StyleView",
            "_model_name": "ProgressStyleModel",
            "description_width": "initial",
            "_view_module": "@jupyter-widgets/base",
            "_model_module_version": "1.5.0",
            "_view_count": null,
            "_view_module_version": "1.2.0",
            "bar_color": null,
            "_model_module": "@jupyter-widgets/controls"
          }
        },
        "b2470c839de94b36869f9505e64959fa": {
          "model_module": "@jupyter-widgets/base",
          "model_name": "LayoutModel",
          "state": {
            "_view_name": "LayoutView",
            "grid_template_rows": null,
            "right": null,
            "justify_content": null,
            "_view_module": "@jupyter-widgets/base",
            "overflow": null,
            "_model_module_version": "1.2.0",
            "_view_count": null,
            "flex_flow": null,
            "width": null,
            "min_width": null,
            "border": null,
            "align_items": null,
            "bottom": null,
            "_model_module": "@jupyter-widgets/base",
            "top": null,
            "grid_column": null,
            "overflow_y": null,
            "overflow_x": null,
            "grid_auto_flow": null,
            "grid_area": null,
            "grid_template_columns": null,
            "flex": null,
            "_model_name": "LayoutModel",
            "justify_items": null,
            "grid_row": null,
            "max_height": null,
            "align_content": null,
            "visibility": null,
            "align_self": null,
            "height": null,
            "min_height": null,
            "padding": null,
            "grid_auto_rows": null,
            "grid_gap": null,
            "max_width": null,
            "order": null,
            "_view_module_version": "1.2.0",
            "grid_template_areas": null,
            "object_position": null,
            "object_fit": null,
            "grid_auto_columns": null,
            "margin": null,
            "display": null,
            "left": null
          }
        },
        "c4bed0888ab54b03a860feafa9ce42dc": {
          "model_module": "@jupyter-widgets/controls",
          "model_name": "DescriptionStyleModel",
          "state": {
            "_view_name": "StyleView",
            "_model_name": "DescriptionStyleModel",
            "description_width": "",
            "_view_module": "@jupyter-widgets/base",
            "_model_module_version": "1.5.0",
            "_view_count": null,
            "_view_module_version": "1.2.0",
            "_model_module": "@jupyter-widgets/controls"
          }
        },
        "98aac6a80a6244399d8a974d959a9dcf": {
          "model_module": "@jupyter-widgets/base",
          "model_name": "LayoutModel",
          "state": {
            "_view_name": "LayoutView",
            "grid_template_rows": null,
            "right": null,
            "justify_content": null,
            "_view_module": "@jupyter-widgets/base",
            "overflow": null,
            "_model_module_version": "1.2.0",
            "_view_count": null,
            "flex_flow": null,
            "width": null,
            "min_width": null,
            "border": null,
            "align_items": null,
            "bottom": null,
            "_model_module": "@jupyter-widgets/base",
            "top": null,
            "grid_column": null,
            "overflow_y": null,
            "overflow_x": null,
            "grid_auto_flow": null,
            "grid_area": null,
            "grid_template_columns": null,
            "flex": null,
            "_model_name": "LayoutModel",
            "justify_items": null,
            "grid_row": null,
            "max_height": null,
            "align_content": null,
            "visibility": null,
            "align_self": null,
            "height": null,
            "min_height": null,
            "padding": null,
            "grid_auto_rows": null,
            "grid_gap": null,
            "max_width": null,
            "order": null,
            "_view_module_version": "1.2.0",
            "grid_template_areas": null,
            "object_position": null,
            "object_fit": null,
            "grid_auto_columns": null,
            "margin": null,
            "display": null,
            "left": null
          }
        },
        "d2b7b2f2af72499d9f7b60ab21bf00cf": {
          "model_module": "@jupyter-widgets/controls",
          "model_name": "HBoxModel",
          "state": {
            "_view_name": "HBoxView",
            "_dom_classes": [],
            "_model_name": "HBoxModel",
            "_view_module": "@jupyter-widgets/controls",
            "_model_module_version": "1.5.0",
            "_view_count": null,
            "_view_module_version": "1.5.0",
            "box_style": "",
            "layout": "IPY_MODEL_2ccb09e2429b4721bbcad7b30f7c9991",
            "_model_module": "@jupyter-widgets/controls",
            "children": [
              "IPY_MODEL_a4cd8e7f0ce04681898d1379e6fada7c",
              "IPY_MODEL_c961ff2bd5d040479e438bdd95d032d9"
            ]
          }
        },
        "2ccb09e2429b4721bbcad7b30f7c9991": {
          "model_module": "@jupyter-widgets/base",
          "model_name": "LayoutModel",
          "state": {
            "_view_name": "LayoutView",
            "grid_template_rows": null,
            "right": null,
            "justify_content": null,
            "_view_module": "@jupyter-widgets/base",
            "overflow": null,
            "_model_module_version": "1.2.0",
            "_view_count": null,
            "flex_flow": null,
            "width": null,
            "min_width": null,
            "border": null,
            "align_items": null,
            "bottom": null,
            "_model_module": "@jupyter-widgets/base",
            "top": null,
            "grid_column": null,
            "overflow_y": null,
            "overflow_x": null,
            "grid_auto_flow": null,
            "grid_area": null,
            "grid_template_columns": null,
            "flex": null,
            "_model_name": "LayoutModel",
            "justify_items": null,
            "grid_row": null,
            "max_height": null,
            "align_content": null,
            "visibility": null,
            "align_self": null,
            "height": null,
            "min_height": null,
            "padding": null,
            "grid_auto_rows": null,
            "grid_gap": null,
            "max_width": null,
            "order": null,
            "_view_module_version": "1.2.0",
            "grid_template_areas": null,
            "object_position": null,
            "object_fit": null,
            "grid_auto_columns": null,
            "margin": null,
            "display": null,
            "left": null
          }
        },
        "a4cd8e7f0ce04681898d1379e6fada7c": {
          "model_module": "@jupyter-widgets/controls",
          "model_name": "FloatProgressModel",
          "state": {
            "_view_name": "ProgressView",
            "style": "IPY_MODEL_c91915256e15476dbea37483d237fdd9",
            "_dom_classes": [],
            "description": "",
            "_model_name": "FloatProgressModel",
            "bar_style": "info",
            "max": 1,
            "_view_module": "@jupyter-widgets/controls",
            "_model_module_version": "1.5.0",
            "value": 1,
            "_view_count": null,
            "_view_module_version": "1.5.0",
            "orientation": "horizontal",
            "min": 0,
            "description_tooltip": null,
            "_model_module": "@jupyter-widgets/controls",
            "layout": "IPY_MODEL_de3e64adb1724c90a409ffeee5717368"
          }
        },
        "c961ff2bd5d040479e438bdd95d032d9": {
          "model_module": "@jupyter-widgets/controls",
          "model_name": "HTMLModel",
          "state": {
            "_view_name": "HTMLView",
            "style": "IPY_MODEL_006e97e0ed1b481ba1de0be2792dd52f",
            "_dom_classes": [],
            "description": "",
            "_model_name": "HTMLModel",
            "placeholder": "​",
            "_view_module": "@jupyter-widgets/controls",
            "_model_module_version": "1.5.0",
            "value": " 9741/0 [00:00&lt;00:00, 14962.68 examples/s]",
            "_view_count": null,
            "_view_module_version": "1.5.0",
            "description_tooltip": null,
            "_model_module": "@jupyter-widgets/controls",
            "layout": "IPY_MODEL_30f373fb900e4124b2327d11acead13b"
          }
        },
        "c91915256e15476dbea37483d237fdd9": {
          "model_module": "@jupyter-widgets/controls",
          "model_name": "ProgressStyleModel",
          "state": {
            "_view_name": "StyleView",
            "_model_name": "ProgressStyleModel",
            "description_width": "initial",
            "_view_module": "@jupyter-widgets/base",
            "_model_module_version": "1.5.0",
            "_view_count": null,
            "_view_module_version": "1.2.0",
            "bar_color": null,
            "_model_module": "@jupyter-widgets/controls"
          }
        },
        "de3e64adb1724c90a409ffeee5717368": {
          "model_module": "@jupyter-widgets/base",
          "model_name": "LayoutModel",
          "state": {
            "_view_name": "LayoutView",
            "grid_template_rows": null,
            "right": null,
            "justify_content": null,
            "_view_module": "@jupyter-widgets/base",
            "overflow": null,
            "_model_module_version": "1.2.0",
            "_view_count": null,
            "flex_flow": null,
            "width": null,
            "min_width": null,
            "border": null,
            "align_items": null,
            "bottom": null,
            "_model_module": "@jupyter-widgets/base",
            "top": null,
            "grid_column": null,
            "overflow_y": null,
            "overflow_x": null,
            "grid_auto_flow": null,
            "grid_area": null,
            "grid_template_columns": null,
            "flex": null,
            "_model_name": "LayoutModel",
            "justify_items": null,
            "grid_row": null,
            "max_height": null,
            "align_content": null,
            "visibility": null,
            "align_self": null,
            "height": null,
            "min_height": null,
            "padding": null,
            "grid_auto_rows": null,
            "grid_gap": null,
            "max_width": null,
            "order": null,
            "_view_module_version": "1.2.0",
            "grid_template_areas": null,
            "object_position": null,
            "object_fit": null,
            "grid_auto_columns": null,
            "margin": null,
            "display": null,
            "left": null
          }
        },
        "006e97e0ed1b481ba1de0be2792dd52f": {
          "model_module": "@jupyter-widgets/controls",
          "model_name": "DescriptionStyleModel",
          "state": {
            "_view_name": "StyleView",
            "_model_name": "DescriptionStyleModel",
            "description_width": "",
            "_view_module": "@jupyter-widgets/base",
            "_model_module_version": "1.5.0",
            "_view_count": null,
            "_view_module_version": "1.2.0",
            "_model_module": "@jupyter-widgets/controls"
          }
        },
        "30f373fb900e4124b2327d11acead13b": {
          "model_module": "@jupyter-widgets/base",
          "model_name": "LayoutModel",
          "state": {
            "_view_name": "LayoutView",
            "grid_template_rows": null,
            "right": null,
            "justify_content": null,
            "_view_module": "@jupyter-widgets/base",
            "overflow": null,
            "_model_module_version": "1.2.0",
            "_view_count": null,
            "flex_flow": null,
            "width": null,
            "min_width": null,
            "border": null,
            "align_items": null,
            "bottom": null,
            "_model_module": "@jupyter-widgets/base",
            "top": null,
            "grid_column": null,
            "overflow_y": null,
            "overflow_x": null,
            "grid_auto_flow": null,
            "grid_area": null,
            "grid_template_columns": null,
            "flex": null,
            "_model_name": "LayoutModel",
            "justify_items": null,
            "grid_row": null,
            "max_height": null,
            "align_content": null,
            "visibility": null,
            "align_self": null,
            "height": null,
            "min_height": null,
            "padding": null,
            "grid_auto_rows": null,
            "grid_gap": null,
            "max_width": null,
            "order": null,
            "_view_module_version": "1.2.0",
            "grid_template_areas": null,
            "object_position": null,
            "object_fit": null,
            "grid_auto_columns": null,
            "margin": null,
            "display": null,
            "left": null
          }
        },
        "891e3f0bd89541b4b7bbf74b4e7038fa": {
          "model_module": "@jupyter-widgets/controls",
          "model_name": "HBoxModel",
          "state": {
            "_view_name": "HBoxView",
            "_dom_classes": [],
            "_model_name": "HBoxModel",
            "_view_module": "@jupyter-widgets/controls",
            "_model_module_version": "1.5.0",
            "_view_count": null,
            "_view_module_version": "1.5.0",
            "box_style": "",
            "layout": "IPY_MODEL_74851dc68ab143af91906c3857918cf1",
            "_model_module": "@jupyter-widgets/controls",
            "children": [
              "IPY_MODEL_35389d7416ba441cbe43abaf04a96695",
              "IPY_MODEL_4d0463289b964c4eb7fcfd5bb6ba1b9e"
            ]
          }
        },
        "74851dc68ab143af91906c3857918cf1": {
          "model_module": "@jupyter-widgets/base",
          "model_name": "LayoutModel",
          "state": {
            "_view_name": "LayoutView",
            "grid_template_rows": null,
            "right": null,
            "justify_content": null,
            "_view_module": "@jupyter-widgets/base",
            "overflow": null,
            "_model_module_version": "1.2.0",
            "_view_count": null,
            "flex_flow": null,
            "width": null,
            "min_width": null,
            "border": null,
            "align_items": null,
            "bottom": null,
            "_model_module": "@jupyter-widgets/base",
            "top": null,
            "grid_column": null,
            "overflow_y": null,
            "overflow_x": null,
            "grid_auto_flow": null,
            "grid_area": null,
            "grid_template_columns": null,
            "flex": null,
            "_model_name": "LayoutModel",
            "justify_items": null,
            "grid_row": null,
            "max_height": null,
            "align_content": null,
            "visibility": null,
            "align_self": null,
            "height": null,
            "min_height": null,
            "padding": null,
            "grid_auto_rows": null,
            "grid_gap": null,
            "max_width": null,
            "order": null,
            "_view_module_version": "1.2.0",
            "grid_template_areas": null,
            "object_position": null,
            "object_fit": null,
            "grid_auto_columns": null,
            "margin": null,
            "display": null,
            "left": null
          }
        },
        "35389d7416ba441cbe43abaf04a96695": {
          "model_module": "@jupyter-widgets/controls",
          "model_name": "FloatProgressModel",
          "state": {
            "_view_name": "ProgressView",
            "style": "IPY_MODEL_06ecfba2a9624cf8b8722bafb17e12da",
            "_dom_classes": [],
            "description": "",
            "_model_name": "FloatProgressModel",
            "bar_style": "info",
            "max": 1,
            "_view_module": "@jupyter-widgets/controls",
            "_model_module_version": "1.5.0",
            "value": 1,
            "_view_count": null,
            "_view_module_version": "1.5.0",
            "orientation": "horizontal",
            "min": 0,
            "description_tooltip": null,
            "_model_module": "@jupyter-widgets/controls",
            "layout": "IPY_MODEL_783b1972bc55446ca4ac23b59c3198f0"
          }
        },
        "4d0463289b964c4eb7fcfd5bb6ba1b9e": {
          "model_module": "@jupyter-widgets/controls",
          "model_name": "HTMLModel",
          "state": {
            "_view_name": "HTMLView",
            "style": "IPY_MODEL_9bfa073b62c847f98d5117b9326ea471",
            "_dom_classes": [],
            "description": "",
            "_model_name": "HTMLModel",
            "placeholder": "​",
            "_view_module": "@jupyter-widgets/controls",
            "_model_module_version": "1.5.0",
            "value": " 1221/0 [00:00&lt;00:00, 14452.26 examples/s]",
            "_view_count": null,
            "_view_module_version": "1.5.0",
            "description_tooltip": null,
            "_model_module": "@jupyter-widgets/controls",
            "layout": "IPY_MODEL_0df67e77081543e1a02e607be0cf8de3"
          }
        },
        "06ecfba2a9624cf8b8722bafb17e12da": {
          "model_module": "@jupyter-widgets/controls",
          "model_name": "ProgressStyleModel",
          "state": {
            "_view_name": "StyleView",
            "_model_name": "ProgressStyleModel",
            "description_width": "initial",
            "_view_module": "@jupyter-widgets/base",
            "_model_module_version": "1.5.0",
            "_view_count": null,
            "_view_module_version": "1.2.0",
            "bar_color": null,
            "_model_module": "@jupyter-widgets/controls"
          }
        },
        "783b1972bc55446ca4ac23b59c3198f0": {
          "model_module": "@jupyter-widgets/base",
          "model_name": "LayoutModel",
          "state": {
            "_view_name": "LayoutView",
            "grid_template_rows": null,
            "right": null,
            "justify_content": null,
            "_view_module": "@jupyter-widgets/base",
            "overflow": null,
            "_model_module_version": "1.2.0",
            "_view_count": null,
            "flex_flow": null,
            "width": null,
            "min_width": null,
            "border": null,
            "align_items": null,
            "bottom": null,
            "_model_module": "@jupyter-widgets/base",
            "top": null,
            "grid_column": null,
            "overflow_y": null,
            "overflow_x": null,
            "grid_auto_flow": null,
            "grid_area": null,
            "grid_template_columns": null,
            "flex": null,
            "_model_name": "LayoutModel",
            "justify_items": null,
            "grid_row": null,
            "max_height": null,
            "align_content": null,
            "visibility": null,
            "align_self": null,
            "height": null,
            "min_height": null,
            "padding": null,
            "grid_auto_rows": null,
            "grid_gap": null,
            "max_width": null,
            "order": null,
            "_view_module_version": "1.2.0",
            "grid_template_areas": null,
            "object_position": null,
            "object_fit": null,
            "grid_auto_columns": null,
            "margin": null,
            "display": null,
            "left": null
          }
        },
        "9bfa073b62c847f98d5117b9326ea471": {
          "model_module": "@jupyter-widgets/controls",
          "model_name": "DescriptionStyleModel",
          "state": {
            "_view_name": "StyleView",
            "_model_name": "DescriptionStyleModel",
            "description_width": "",
            "_view_module": "@jupyter-widgets/base",
            "_model_module_version": "1.5.0",
            "_view_count": null,
            "_view_module_version": "1.2.0",
            "_model_module": "@jupyter-widgets/controls"
          }
        },
        "0df67e77081543e1a02e607be0cf8de3": {
          "model_module": "@jupyter-widgets/base",
          "model_name": "LayoutModel",
          "state": {
            "_view_name": "LayoutView",
            "grid_template_rows": null,
            "right": null,
            "justify_content": null,
            "_view_module": "@jupyter-widgets/base",
            "overflow": null,
            "_model_module_version": "1.2.0",
            "_view_count": null,
            "flex_flow": null,
            "width": null,
            "min_width": null,
            "border": null,
            "align_items": null,
            "bottom": null,
            "_model_module": "@jupyter-widgets/base",
            "top": null,
            "grid_column": null,
            "overflow_y": null,
            "overflow_x": null,
            "grid_auto_flow": null,
            "grid_area": null,
            "grid_template_columns": null,
            "flex": null,
            "_model_name": "LayoutModel",
            "justify_items": null,
            "grid_row": null,
            "max_height": null,
            "align_content": null,
            "visibility": null,
            "align_self": null,
            "height": null,
            "min_height": null,
            "padding": null,
            "grid_auto_rows": null,
            "grid_gap": null,
            "max_width": null,
            "order": null,
            "_view_module_version": "1.2.0",
            "grid_template_areas": null,
            "object_position": null,
            "object_fit": null,
            "grid_auto_columns": null,
            "margin": null,
            "display": null,
            "left": null
          }
        },
        "bf1660a7a6ea40009a9cb82a3adb122c": {
          "model_module": "@jupyter-widgets/controls",
          "model_name": "HBoxModel",
          "state": {
            "_view_name": "HBoxView",
            "_dom_classes": [],
            "_model_name": "HBoxModel",
            "_view_module": "@jupyter-widgets/controls",
            "_model_module_version": "1.5.0",
            "_view_count": null,
            "_view_module_version": "1.5.0",
            "box_style": "",
            "layout": "IPY_MODEL_b61914f90d974afca5483ea5ff61c8ef",
            "_model_module": "@jupyter-widgets/controls",
            "children": [
              "IPY_MODEL_a40a3751d30e4c7e8b0c12e89a1b32c9",
              "IPY_MODEL_18ccb94fd53a4d4badcedffc22ceeaae"
            ]
          }
        },
        "b61914f90d974afca5483ea5ff61c8ef": {
          "model_module": "@jupyter-widgets/base",
          "model_name": "LayoutModel",
          "state": {
            "_view_name": "LayoutView",
            "grid_template_rows": null,
            "right": null,
            "justify_content": null,
            "_view_module": "@jupyter-widgets/base",
            "overflow": null,
            "_model_module_version": "1.2.0",
            "_view_count": null,
            "flex_flow": null,
            "width": null,
            "min_width": null,
            "border": null,
            "align_items": null,
            "bottom": null,
            "_model_module": "@jupyter-widgets/base",
            "top": null,
            "grid_column": null,
            "overflow_y": null,
            "overflow_x": null,
            "grid_auto_flow": null,
            "grid_area": null,
            "grid_template_columns": null,
            "flex": null,
            "_model_name": "LayoutModel",
            "justify_items": null,
            "grid_row": null,
            "max_height": null,
            "align_content": null,
            "visibility": null,
            "align_self": null,
            "height": null,
            "min_height": null,
            "padding": null,
            "grid_auto_rows": null,
            "grid_gap": null,
            "max_width": null,
            "order": null,
            "_view_module_version": "1.2.0",
            "grid_template_areas": null,
            "object_position": null,
            "object_fit": null,
            "grid_auto_columns": null,
            "margin": null,
            "display": null,
            "left": null
          }
        },
        "a40a3751d30e4c7e8b0c12e89a1b32c9": {
          "model_module": "@jupyter-widgets/controls",
          "model_name": "FloatProgressModel",
          "state": {
            "_view_name": "ProgressView",
            "style": "IPY_MODEL_4e46234af11b4d7fbd405ef62ef81585",
            "_dom_classes": [],
            "description": "",
            "_model_name": "FloatProgressModel",
            "bar_style": "info",
            "max": 1,
            "_view_module": "@jupyter-widgets/controls",
            "_model_module_version": "1.5.0",
            "value": 1,
            "_view_count": null,
            "_view_module_version": "1.5.0",
            "orientation": "horizontal",
            "min": 0,
            "description_tooltip": null,
            "_model_module": "@jupyter-widgets/controls",
            "layout": "IPY_MODEL_020a21d907ec4f39b7f4fd6c3ddf6821"
          }
        },
        "18ccb94fd53a4d4badcedffc22ceeaae": {
          "model_module": "@jupyter-widgets/controls",
          "model_name": "HTMLModel",
          "state": {
            "_view_name": "HTMLView",
            "style": "IPY_MODEL_553fa9ad69fa4013b2b6a64c5e106830",
            "_dom_classes": [],
            "description": "",
            "_model_name": "HTMLModel",
            "placeholder": "​",
            "_view_module": "@jupyter-widgets/controls",
            "_model_module_version": "1.5.0",
            "value": " 1140/0 [00:00&lt;00:00, 13236.37 examples/s]",
            "_view_count": null,
            "_view_module_version": "1.5.0",
            "description_tooltip": null,
            "_model_module": "@jupyter-widgets/controls",
            "layout": "IPY_MODEL_d2e2250d99f249eb8046cfe664521f9f"
          }
        },
        "4e46234af11b4d7fbd405ef62ef81585": {
          "model_module": "@jupyter-widgets/controls",
          "model_name": "ProgressStyleModel",
          "state": {
            "_view_name": "StyleView",
            "_model_name": "ProgressStyleModel",
            "description_width": "initial",
            "_view_module": "@jupyter-widgets/base",
            "_model_module_version": "1.5.0",
            "_view_count": null,
            "_view_module_version": "1.2.0",
            "bar_color": null,
            "_model_module": "@jupyter-widgets/controls"
          }
        },
        "020a21d907ec4f39b7f4fd6c3ddf6821": {
          "model_module": "@jupyter-widgets/base",
          "model_name": "LayoutModel",
          "state": {
            "_view_name": "LayoutView",
            "grid_template_rows": null,
            "right": null,
            "justify_content": null,
            "_view_module": "@jupyter-widgets/base",
            "overflow": null,
            "_model_module_version": "1.2.0",
            "_view_count": null,
            "flex_flow": null,
            "width": null,
            "min_width": null,
            "border": null,
            "align_items": null,
            "bottom": null,
            "_model_module": "@jupyter-widgets/base",
            "top": null,
            "grid_column": null,
            "overflow_y": null,
            "overflow_x": null,
            "grid_auto_flow": null,
            "grid_area": null,
            "grid_template_columns": null,
            "flex": null,
            "_model_name": "LayoutModel",
            "justify_items": null,
            "grid_row": null,
            "max_height": null,
            "align_content": null,
            "visibility": null,
            "align_self": null,
            "height": null,
            "min_height": null,
            "padding": null,
            "grid_auto_rows": null,
            "grid_gap": null,
            "max_width": null,
            "order": null,
            "_view_module_version": "1.2.0",
            "grid_template_areas": null,
            "object_position": null,
            "object_fit": null,
            "grid_auto_columns": null,
            "margin": null,
            "display": null,
            "left": null
          }
        },
        "553fa9ad69fa4013b2b6a64c5e106830": {
          "model_module": "@jupyter-widgets/controls",
          "model_name": "DescriptionStyleModel",
          "state": {
            "_view_name": "StyleView",
            "_model_name": "DescriptionStyleModel",
            "description_width": "",
            "_view_module": "@jupyter-widgets/base",
            "_model_module_version": "1.5.0",
            "_view_count": null,
            "_view_module_version": "1.2.0",
            "_model_module": "@jupyter-widgets/controls"
          }
        },
        "d2e2250d99f249eb8046cfe664521f9f": {
          "model_module": "@jupyter-widgets/base",
          "model_name": "LayoutModel",
          "state": {
            "_view_name": "LayoutView",
            "grid_template_rows": null,
            "right": null,
            "justify_content": null,
            "_view_module": "@jupyter-widgets/base",
            "overflow": null,
            "_model_module_version": "1.2.0",
            "_view_count": null,
            "flex_flow": null,
            "width": null,
            "min_width": null,
            "border": null,
            "align_items": null,
            "bottom": null,
            "_model_module": "@jupyter-widgets/base",
            "top": null,
            "grid_column": null,
            "overflow_y": null,
            "overflow_x": null,
            "grid_auto_flow": null,
            "grid_area": null,
            "grid_template_columns": null,
            "flex": null,
            "_model_name": "LayoutModel",
            "justify_items": null,
            "grid_row": null,
            "max_height": null,
            "align_content": null,
            "visibility": null,
            "align_self": null,
            "height": null,
            "min_height": null,
            "padding": null,
            "grid_auto_rows": null,
            "grid_gap": null,
            "max_width": null,
            "order": null,
            "_view_module_version": "1.2.0",
            "grid_template_areas": null,
            "object_position": null,
            "object_fit": null,
            "grid_auto_columns": null,
            "margin": null,
            "display": null,
            "left": null
          }
        },
        "0d48353f07ab47dc8c97f3055f4c60d4": {
          "model_module": "@jupyter-widgets/controls",
          "model_name": "HBoxModel",
          "state": {
            "_view_name": "HBoxView",
            "_dom_classes": [],
            "_model_name": "HBoxModel",
            "_view_module": "@jupyter-widgets/controls",
            "_model_module_version": "1.5.0",
            "_view_count": null,
            "_view_module_version": "1.5.0",
            "box_style": "",
            "layout": "IPY_MODEL_d043db66e85d4801ab5eddaf7f37b824",
            "_model_module": "@jupyter-widgets/controls",
            "children": [
              "IPY_MODEL_40a39a7cb9f442558fb257a59865f0ba",
              "IPY_MODEL_b7f45ec42ada44af96c94778377fa3fe"
            ]
          }
        },
        "d043db66e85d4801ab5eddaf7f37b824": {
          "model_module": "@jupyter-widgets/base",
          "model_name": "LayoutModel",
          "state": {
            "_view_name": "LayoutView",
            "grid_template_rows": null,
            "right": null,
            "justify_content": null,
            "_view_module": "@jupyter-widgets/base",
            "overflow": null,
            "_model_module_version": "1.2.0",
            "_view_count": null,
            "flex_flow": null,
            "width": null,
            "min_width": null,
            "border": null,
            "align_items": null,
            "bottom": null,
            "_model_module": "@jupyter-widgets/base",
            "top": null,
            "grid_column": null,
            "overflow_y": null,
            "overflow_x": null,
            "grid_auto_flow": null,
            "grid_area": null,
            "grid_template_columns": null,
            "flex": null,
            "_model_name": "LayoutModel",
            "justify_items": null,
            "grid_row": null,
            "max_height": null,
            "align_content": null,
            "visibility": null,
            "align_self": null,
            "height": null,
            "min_height": null,
            "padding": null,
            "grid_auto_rows": null,
            "grid_gap": null,
            "max_width": null,
            "order": null,
            "_view_module_version": "1.2.0",
            "grid_template_areas": null,
            "object_position": null,
            "object_fit": null,
            "grid_auto_columns": null,
            "margin": null,
            "display": null,
            "left": null
          }
        },
        "40a39a7cb9f442558fb257a59865f0ba": {
          "model_module": "@jupyter-widgets/controls",
          "model_name": "FloatProgressModel",
          "state": {
            "_view_name": "ProgressView",
            "style": "IPY_MODEL_75c2b3e40b02451d8daabe6afe6e5908",
            "_dom_classes": [],
            "description": "Downloading: 100%",
            "_model_name": "FloatProgressModel",
            "bar_style": "success",
            "max": 481,
            "_view_module": "@jupyter-widgets/controls",
            "_model_module_version": "1.5.0",
            "value": 481,
            "_view_count": null,
            "_view_module_version": "1.5.0",
            "orientation": "horizontal",
            "min": 0,
            "description_tooltip": null,
            "_model_module": "@jupyter-widgets/controls",
            "layout": "IPY_MODEL_6e1a758940704ac588533305a9908bf2"
          }
        },
        "b7f45ec42ada44af96c94778377fa3fe": {
          "model_module": "@jupyter-widgets/controls",
          "model_name": "HTMLModel",
          "state": {
            "_view_name": "HTMLView",
            "style": "IPY_MODEL_75a3744fa19f4de386bf7220b7733088",
            "_dom_classes": [],
            "description": "",
            "_model_name": "HTMLModel",
            "placeholder": "​",
            "_view_module": "@jupyter-widgets/controls",
            "_model_module_version": "1.5.0",
            "value": " 481/481 [00:00&lt;00:00, 1.82kB/s]",
            "_view_count": null,
            "_view_module_version": "1.5.0",
            "description_tooltip": null,
            "_model_module": "@jupyter-widgets/controls",
            "layout": "IPY_MODEL_5b32000358fb405d8b0e6b0743d6493f"
          }
        },
        "75c2b3e40b02451d8daabe6afe6e5908": {
          "model_module": "@jupyter-widgets/controls",
          "model_name": "ProgressStyleModel",
          "state": {
            "_view_name": "StyleView",
            "_model_name": "ProgressStyleModel",
            "description_width": "initial",
            "_view_module": "@jupyter-widgets/base",
            "_model_module_version": "1.5.0",
            "_view_count": null,
            "_view_module_version": "1.2.0",
            "bar_color": null,
            "_model_module": "@jupyter-widgets/controls"
          }
        },
        "6e1a758940704ac588533305a9908bf2": {
          "model_module": "@jupyter-widgets/base",
          "model_name": "LayoutModel",
          "state": {
            "_view_name": "LayoutView",
            "grid_template_rows": null,
            "right": null,
            "justify_content": null,
            "_view_module": "@jupyter-widgets/base",
            "overflow": null,
            "_model_module_version": "1.2.0",
            "_view_count": null,
            "flex_flow": null,
            "width": null,
            "min_width": null,
            "border": null,
            "align_items": null,
            "bottom": null,
            "_model_module": "@jupyter-widgets/base",
            "top": null,
            "grid_column": null,
            "overflow_y": null,
            "overflow_x": null,
            "grid_auto_flow": null,
            "grid_area": null,
            "grid_template_columns": null,
            "flex": null,
            "_model_name": "LayoutModel",
            "justify_items": null,
            "grid_row": null,
            "max_height": null,
            "align_content": null,
            "visibility": null,
            "align_self": null,
            "height": null,
            "min_height": null,
            "padding": null,
            "grid_auto_rows": null,
            "grid_gap": null,
            "max_width": null,
            "order": null,
            "_view_module_version": "1.2.0",
            "grid_template_areas": null,
            "object_position": null,
            "object_fit": null,
            "grid_auto_columns": null,
            "margin": null,
            "display": null,
            "left": null
          }
        },
        "75a3744fa19f4de386bf7220b7733088": {
          "model_module": "@jupyter-widgets/controls",
          "model_name": "DescriptionStyleModel",
          "state": {
            "_view_name": "StyleView",
            "_model_name": "DescriptionStyleModel",
            "description_width": "",
            "_view_module": "@jupyter-widgets/base",
            "_model_module_version": "1.5.0",
            "_view_count": null,
            "_view_module_version": "1.2.0",
            "_model_module": "@jupyter-widgets/controls"
          }
        },
        "5b32000358fb405d8b0e6b0743d6493f": {
          "model_module": "@jupyter-widgets/base",
          "model_name": "LayoutModel",
          "state": {
            "_view_name": "LayoutView",
            "grid_template_rows": null,
            "right": null,
            "justify_content": null,
            "_view_module": "@jupyter-widgets/base",
            "overflow": null,
            "_model_module_version": "1.2.0",
            "_view_count": null,
            "flex_flow": null,
            "width": null,
            "min_width": null,
            "border": null,
            "align_items": null,
            "bottom": null,
            "_model_module": "@jupyter-widgets/base",
            "top": null,
            "grid_column": null,
            "overflow_y": null,
            "overflow_x": null,
            "grid_auto_flow": null,
            "grid_area": null,
            "grid_template_columns": null,
            "flex": null,
            "_model_name": "LayoutModel",
            "justify_items": null,
            "grid_row": null,
            "max_height": null,
            "align_content": null,
            "visibility": null,
            "align_self": null,
            "height": null,
            "min_height": null,
            "padding": null,
            "grid_auto_rows": null,
            "grid_gap": null,
            "max_width": null,
            "order": null,
            "_view_module_version": "1.2.0",
            "grid_template_areas": null,
            "object_position": null,
            "object_fit": null,
            "grid_auto_columns": null,
            "margin": null,
            "display": null,
            "left": null
          }
        },
        "74beb5086ad04f6c97400b49ade2f8bf": {
          "model_module": "@jupyter-widgets/controls",
          "model_name": "HBoxModel",
          "state": {
            "_view_name": "HBoxView",
            "_dom_classes": [],
            "_model_name": "HBoxModel",
            "_view_module": "@jupyter-widgets/controls",
            "_model_module_version": "1.5.0",
            "_view_count": null,
            "_view_module_version": "1.5.0",
            "box_style": "",
            "layout": "IPY_MODEL_8c4a2effb41b416a9cd325218ecf7dc7",
            "_model_module": "@jupyter-widgets/controls",
            "children": [
              "IPY_MODEL_f48ac86722b5429390ee63ff3f7e0f1b",
              "IPY_MODEL_361ac55a341a4243886ca652dfe71dca"
            ]
          }
        },
        "8c4a2effb41b416a9cd325218ecf7dc7": {
          "model_module": "@jupyter-widgets/base",
          "model_name": "LayoutModel",
          "state": {
            "_view_name": "LayoutView",
            "grid_template_rows": null,
            "right": null,
            "justify_content": null,
            "_view_module": "@jupyter-widgets/base",
            "overflow": null,
            "_model_module_version": "1.2.0",
            "_view_count": null,
            "flex_flow": null,
            "width": null,
            "min_width": null,
            "border": null,
            "align_items": null,
            "bottom": null,
            "_model_module": "@jupyter-widgets/base",
            "top": null,
            "grid_column": null,
            "overflow_y": null,
            "overflow_x": null,
            "grid_auto_flow": null,
            "grid_area": null,
            "grid_template_columns": null,
            "flex": null,
            "_model_name": "LayoutModel",
            "justify_items": null,
            "grid_row": null,
            "max_height": null,
            "align_content": null,
            "visibility": null,
            "align_self": null,
            "height": null,
            "min_height": null,
            "padding": null,
            "grid_auto_rows": null,
            "grid_gap": null,
            "max_width": null,
            "order": null,
            "_view_module_version": "1.2.0",
            "grid_template_areas": null,
            "object_position": null,
            "object_fit": null,
            "grid_auto_columns": null,
            "margin": null,
            "display": null,
            "left": null
          }
        },
        "f48ac86722b5429390ee63ff3f7e0f1b": {
          "model_module": "@jupyter-widgets/controls",
          "model_name": "FloatProgressModel",
          "state": {
            "_view_name": "ProgressView",
            "style": "IPY_MODEL_170d2a0df5e543ba8bac3e7be33ba469",
            "_dom_classes": [],
            "description": "Downloading: 100%",
            "_model_name": "FloatProgressModel",
            "bar_style": "success",
            "max": 501200538,
            "_view_module": "@jupyter-widgets/controls",
            "_model_module_version": "1.5.0",
            "value": 501200538,
            "_view_count": null,
            "_view_module_version": "1.5.0",
            "orientation": "horizontal",
            "min": 0,
            "description_tooltip": null,
            "_model_module": "@jupyter-widgets/controls",
            "layout": "IPY_MODEL_cb915f3fb4554aeeab5ed896569b0fc8"
          }
        },
        "361ac55a341a4243886ca652dfe71dca": {
          "model_module": "@jupyter-widgets/controls",
          "model_name": "HTMLModel",
          "state": {
            "_view_name": "HTMLView",
            "style": "IPY_MODEL_54c827b533274f07b1f58e008c672c78",
            "_dom_classes": [],
            "description": "",
            "_model_name": "HTMLModel",
            "placeholder": "​",
            "_view_module": "@jupyter-widgets/controls",
            "_model_module_version": "1.5.0",
            "value": " 501M/501M [00:07&lt;00:00, 70.6MB/s]",
            "_view_count": null,
            "_view_module_version": "1.5.0",
            "description_tooltip": null,
            "_model_module": "@jupyter-widgets/controls",
            "layout": "IPY_MODEL_05c5f72753024294a89396bc3844d749"
          }
        },
        "170d2a0df5e543ba8bac3e7be33ba469": {
          "model_module": "@jupyter-widgets/controls",
          "model_name": "ProgressStyleModel",
          "state": {
            "_view_name": "StyleView",
            "_model_name": "ProgressStyleModel",
            "description_width": "initial",
            "_view_module": "@jupyter-widgets/base",
            "_model_module_version": "1.5.0",
            "_view_count": null,
            "_view_module_version": "1.2.0",
            "bar_color": null,
            "_model_module": "@jupyter-widgets/controls"
          }
        },
        "cb915f3fb4554aeeab5ed896569b0fc8": {
          "model_module": "@jupyter-widgets/base",
          "model_name": "LayoutModel",
          "state": {
            "_view_name": "LayoutView",
            "grid_template_rows": null,
            "right": null,
            "justify_content": null,
            "_view_module": "@jupyter-widgets/base",
            "overflow": null,
            "_model_module_version": "1.2.0",
            "_view_count": null,
            "flex_flow": null,
            "width": null,
            "min_width": null,
            "border": null,
            "align_items": null,
            "bottom": null,
            "_model_module": "@jupyter-widgets/base",
            "top": null,
            "grid_column": null,
            "overflow_y": null,
            "overflow_x": null,
            "grid_auto_flow": null,
            "grid_area": null,
            "grid_template_columns": null,
            "flex": null,
            "_model_name": "LayoutModel",
            "justify_items": null,
            "grid_row": null,
            "max_height": null,
            "align_content": null,
            "visibility": null,
            "align_self": null,
            "height": null,
            "min_height": null,
            "padding": null,
            "grid_auto_rows": null,
            "grid_gap": null,
            "max_width": null,
            "order": null,
            "_view_module_version": "1.2.0",
            "grid_template_areas": null,
            "object_position": null,
            "object_fit": null,
            "grid_auto_columns": null,
            "margin": null,
            "display": null,
            "left": null
          }
        },
        "54c827b533274f07b1f58e008c672c78": {
          "model_module": "@jupyter-widgets/controls",
          "model_name": "DescriptionStyleModel",
          "state": {
            "_view_name": "StyleView",
            "_model_name": "DescriptionStyleModel",
            "description_width": "",
            "_view_module": "@jupyter-widgets/base",
            "_model_module_version": "1.5.0",
            "_view_count": null,
            "_view_module_version": "1.2.0",
            "_model_module": "@jupyter-widgets/controls"
          }
        },
        "05c5f72753024294a89396bc3844d749": {
          "model_module": "@jupyter-widgets/base",
          "model_name": "LayoutModel",
          "state": {
            "_view_name": "LayoutView",
            "grid_template_rows": null,
            "right": null,
            "justify_content": null,
            "_view_module": "@jupyter-widgets/base",
            "overflow": null,
            "_model_module_version": "1.2.0",
            "_view_count": null,
            "flex_flow": null,
            "width": null,
            "min_width": null,
            "border": null,
            "align_items": null,
            "bottom": null,
            "_model_module": "@jupyter-widgets/base",
            "top": null,
            "grid_column": null,
            "overflow_y": null,
            "overflow_x": null,
            "grid_auto_flow": null,
            "grid_area": null,
            "grid_template_columns": null,
            "flex": null,
            "_model_name": "LayoutModel",
            "justify_items": null,
            "grid_row": null,
            "max_height": null,
            "align_content": null,
            "visibility": null,
            "align_self": null,
            "height": null,
            "min_height": null,
            "padding": null,
            "grid_auto_rows": null,
            "grid_gap": null,
            "max_width": null,
            "order": null,
            "_view_module_version": "1.2.0",
            "grid_template_areas": null,
            "object_position": null,
            "object_fit": null,
            "grid_auto_columns": null,
            "margin": null,
            "display": null,
            "left": null
          }
        },
        "5a10810957ad4ba5ad1a131ccc388e72": {
          "model_module": "@jupyter-widgets/controls",
          "model_name": "HBoxModel",
          "state": {
            "_view_name": "HBoxView",
            "_dom_classes": [],
            "_model_name": "HBoxModel",
            "_view_module": "@jupyter-widgets/controls",
            "_model_module_version": "1.5.0",
            "_view_count": null,
            "_view_module_version": "1.5.0",
            "box_style": "",
            "layout": "IPY_MODEL_cd12fe46ff0d42b5935b0d372ae940cb",
            "_model_module": "@jupyter-widgets/controls",
            "children": [
              "IPY_MODEL_52130e524d5b4d4c88248d6936d51e09",
              "IPY_MODEL_7005bdfc681e4fb7ad737b276937388b"
            ]
          }
        },
        "cd12fe46ff0d42b5935b0d372ae940cb": {
          "model_module": "@jupyter-widgets/base",
          "model_name": "LayoutModel",
          "state": {
            "_view_name": "LayoutView",
            "grid_template_rows": null,
            "right": null,
            "justify_content": null,
            "_view_module": "@jupyter-widgets/base",
            "overflow": null,
            "_model_module_version": "1.2.0",
            "_view_count": null,
            "flex_flow": null,
            "width": null,
            "min_width": null,
            "border": null,
            "align_items": null,
            "bottom": null,
            "_model_module": "@jupyter-widgets/base",
            "top": null,
            "grid_column": null,
            "overflow_y": null,
            "overflow_x": null,
            "grid_auto_flow": null,
            "grid_area": null,
            "grid_template_columns": null,
            "flex": null,
            "_model_name": "LayoutModel",
            "justify_items": null,
            "grid_row": null,
            "max_height": null,
            "align_content": null,
            "visibility": null,
            "align_self": null,
            "height": null,
            "min_height": null,
            "padding": null,
            "grid_auto_rows": null,
            "grid_gap": null,
            "max_width": null,
            "order": null,
            "_view_module_version": "1.2.0",
            "grid_template_areas": null,
            "object_position": null,
            "object_fit": null,
            "grid_auto_columns": null,
            "margin": null,
            "display": null,
            "left": null
          }
        },
        "52130e524d5b4d4c88248d6936d51e09": {
          "model_module": "@jupyter-widgets/controls",
          "model_name": "FloatProgressModel",
          "state": {
            "_view_name": "ProgressView",
            "style": "IPY_MODEL_69760da6ed534e3ab207e463c6fbf41e",
            "_dom_classes": [],
            "description": "Downloading: 100%",
            "_model_name": "FloatProgressModel",
            "bar_style": "success",
            "max": 898823,
            "_view_module": "@jupyter-widgets/controls",
            "_model_module_version": "1.5.0",
            "value": 898823,
            "_view_count": null,
            "_view_module_version": "1.5.0",
            "orientation": "horizontal",
            "min": 0,
            "description_tooltip": null,
            "_model_module": "@jupyter-widgets/controls",
            "layout": "IPY_MODEL_cf153a460f2e487e8b12421a9b7bc241"
          }
        },
        "7005bdfc681e4fb7ad737b276937388b": {
          "model_module": "@jupyter-widgets/controls",
          "model_name": "HTMLModel",
          "state": {
            "_view_name": "HTMLView",
            "style": "IPY_MODEL_691c6d2b2d4644e1a6904c211a3bc057",
            "_dom_classes": [],
            "description": "",
            "_model_name": "HTMLModel",
            "placeholder": "​",
            "_view_module": "@jupyter-widgets/controls",
            "_model_module_version": "1.5.0",
            "value": " 899k/899k [00:00&lt;00:00, 3.78MB/s]",
            "_view_count": null,
            "_view_module_version": "1.5.0",
            "description_tooltip": null,
            "_model_module": "@jupyter-widgets/controls",
            "layout": "IPY_MODEL_72a2809de2da45a79346e61d5aacbb35"
          }
        },
        "69760da6ed534e3ab207e463c6fbf41e": {
          "model_module": "@jupyter-widgets/controls",
          "model_name": "ProgressStyleModel",
          "state": {
            "_view_name": "StyleView",
            "_model_name": "ProgressStyleModel",
            "description_width": "initial",
            "_view_module": "@jupyter-widgets/base",
            "_model_module_version": "1.5.0",
            "_view_count": null,
            "_view_module_version": "1.2.0",
            "bar_color": null,
            "_model_module": "@jupyter-widgets/controls"
          }
        },
        "cf153a460f2e487e8b12421a9b7bc241": {
          "model_module": "@jupyter-widgets/base",
          "model_name": "LayoutModel",
          "state": {
            "_view_name": "LayoutView",
            "grid_template_rows": null,
            "right": null,
            "justify_content": null,
            "_view_module": "@jupyter-widgets/base",
            "overflow": null,
            "_model_module_version": "1.2.0",
            "_view_count": null,
            "flex_flow": null,
            "width": null,
            "min_width": null,
            "border": null,
            "align_items": null,
            "bottom": null,
            "_model_module": "@jupyter-widgets/base",
            "top": null,
            "grid_column": null,
            "overflow_y": null,
            "overflow_x": null,
            "grid_auto_flow": null,
            "grid_area": null,
            "grid_template_columns": null,
            "flex": null,
            "_model_name": "LayoutModel",
            "justify_items": null,
            "grid_row": null,
            "max_height": null,
            "align_content": null,
            "visibility": null,
            "align_self": null,
            "height": null,
            "min_height": null,
            "padding": null,
            "grid_auto_rows": null,
            "grid_gap": null,
            "max_width": null,
            "order": null,
            "_view_module_version": "1.2.0",
            "grid_template_areas": null,
            "object_position": null,
            "object_fit": null,
            "grid_auto_columns": null,
            "margin": null,
            "display": null,
            "left": null
          }
        },
        "691c6d2b2d4644e1a6904c211a3bc057": {
          "model_module": "@jupyter-widgets/controls",
          "model_name": "DescriptionStyleModel",
          "state": {
            "_view_name": "StyleView",
            "_model_name": "DescriptionStyleModel",
            "description_width": "",
            "_view_module": "@jupyter-widgets/base",
            "_model_module_version": "1.5.0",
            "_view_count": null,
            "_view_module_version": "1.2.0",
            "_model_module": "@jupyter-widgets/controls"
          }
        },
        "72a2809de2da45a79346e61d5aacbb35": {
          "model_module": "@jupyter-widgets/base",
          "model_name": "LayoutModel",
          "state": {
            "_view_name": "LayoutView",
            "grid_template_rows": null,
            "right": null,
            "justify_content": null,
            "_view_module": "@jupyter-widgets/base",
            "overflow": null,
            "_model_module_version": "1.2.0",
            "_view_count": null,
            "flex_flow": null,
            "width": null,
            "min_width": null,
            "border": null,
            "align_items": null,
            "bottom": null,
            "_model_module": "@jupyter-widgets/base",
            "top": null,
            "grid_column": null,
            "overflow_y": null,
            "overflow_x": null,
            "grid_auto_flow": null,
            "grid_area": null,
            "grid_template_columns": null,
            "flex": null,
            "_model_name": "LayoutModel",
            "justify_items": null,
            "grid_row": null,
            "max_height": null,
            "align_content": null,
            "visibility": null,
            "align_self": null,
            "height": null,
            "min_height": null,
            "padding": null,
            "grid_auto_rows": null,
            "grid_gap": null,
            "max_width": null,
            "order": null,
            "_view_module_version": "1.2.0",
            "grid_template_areas": null,
            "object_position": null,
            "object_fit": null,
            "grid_auto_columns": null,
            "margin": null,
            "display": null,
            "left": null
          }
        },
        "f5d9093168e348f588e0bb5be9fcb361": {
          "model_module": "@jupyter-widgets/controls",
          "model_name": "HBoxModel",
          "state": {
            "_view_name": "HBoxView",
            "_dom_classes": [],
            "_model_name": "HBoxModel",
            "_view_module": "@jupyter-widgets/controls",
            "_model_module_version": "1.5.0",
            "_view_count": null,
            "_view_module_version": "1.5.0",
            "box_style": "",
            "layout": "IPY_MODEL_891de988d2154868aff30013b02e6a26",
            "_model_module": "@jupyter-widgets/controls",
            "children": [
              "IPY_MODEL_2c78728919a048c69e233fe8192a3294",
              "IPY_MODEL_b1b18784db47411ea556c7187cf8f8f7"
            ]
          }
        },
        "891de988d2154868aff30013b02e6a26": {
          "model_module": "@jupyter-widgets/base",
          "model_name": "LayoutModel",
          "state": {
            "_view_name": "LayoutView",
            "grid_template_rows": null,
            "right": null,
            "justify_content": null,
            "_view_module": "@jupyter-widgets/base",
            "overflow": null,
            "_model_module_version": "1.2.0",
            "_view_count": null,
            "flex_flow": null,
            "width": null,
            "min_width": null,
            "border": null,
            "align_items": null,
            "bottom": null,
            "_model_module": "@jupyter-widgets/base",
            "top": null,
            "grid_column": null,
            "overflow_y": null,
            "overflow_x": null,
            "grid_auto_flow": null,
            "grid_area": null,
            "grid_template_columns": null,
            "flex": null,
            "_model_name": "LayoutModel",
            "justify_items": null,
            "grid_row": null,
            "max_height": null,
            "align_content": null,
            "visibility": null,
            "align_self": null,
            "height": null,
            "min_height": null,
            "padding": null,
            "grid_auto_rows": null,
            "grid_gap": null,
            "max_width": null,
            "order": null,
            "_view_module_version": "1.2.0",
            "grid_template_areas": null,
            "object_position": null,
            "object_fit": null,
            "grid_auto_columns": null,
            "margin": null,
            "display": null,
            "left": null
          }
        },
        "2c78728919a048c69e233fe8192a3294": {
          "model_module": "@jupyter-widgets/controls",
          "model_name": "FloatProgressModel",
          "state": {
            "_view_name": "ProgressView",
            "style": "IPY_MODEL_a66e03e819ec453e8fd926edcaa9da5d",
            "_dom_classes": [],
            "description": "Downloading: 100%",
            "_model_name": "FloatProgressModel",
            "bar_style": "success",
            "max": 456318,
            "_view_module": "@jupyter-widgets/controls",
            "_model_module_version": "1.5.0",
            "value": 456318,
            "_view_count": null,
            "_view_module_version": "1.5.0",
            "orientation": "horizontal",
            "min": 0,
            "description_tooltip": null,
            "_model_module": "@jupyter-widgets/controls",
            "layout": "IPY_MODEL_b26e6d1c14b34a4e93e7d2e3bc5e3e26"
          }
        },
        "b1b18784db47411ea556c7187cf8f8f7": {
          "model_module": "@jupyter-widgets/controls",
          "model_name": "HTMLModel",
          "state": {
            "_view_name": "HTMLView",
            "style": "IPY_MODEL_d6aad7fb6e264c929b5f6c951162c617",
            "_dom_classes": [],
            "description": "",
            "_model_name": "HTMLModel",
            "placeholder": "​",
            "_view_module": "@jupyter-widgets/controls",
            "_model_module_version": "1.5.0",
            "value": " 456k/456k [00:00&lt;00:00, 4.48MB/s]",
            "_view_count": null,
            "_view_module_version": "1.5.0",
            "description_tooltip": null,
            "_model_module": "@jupyter-widgets/controls",
            "layout": "IPY_MODEL_befaa5b18c9143f9adb8c204275ddc64"
          }
        },
        "a66e03e819ec453e8fd926edcaa9da5d": {
          "model_module": "@jupyter-widgets/controls",
          "model_name": "ProgressStyleModel",
          "state": {
            "_view_name": "StyleView",
            "_model_name": "ProgressStyleModel",
            "description_width": "initial",
            "_view_module": "@jupyter-widgets/base",
            "_model_module_version": "1.5.0",
            "_view_count": null,
            "_view_module_version": "1.2.0",
            "bar_color": null,
            "_model_module": "@jupyter-widgets/controls"
          }
        },
        "b26e6d1c14b34a4e93e7d2e3bc5e3e26": {
          "model_module": "@jupyter-widgets/base",
          "model_name": "LayoutModel",
          "state": {
            "_view_name": "LayoutView",
            "grid_template_rows": null,
            "right": null,
            "justify_content": null,
            "_view_module": "@jupyter-widgets/base",
            "overflow": null,
            "_model_module_version": "1.2.0",
            "_view_count": null,
            "flex_flow": null,
            "width": null,
            "min_width": null,
            "border": null,
            "align_items": null,
            "bottom": null,
            "_model_module": "@jupyter-widgets/base",
            "top": null,
            "grid_column": null,
            "overflow_y": null,
            "overflow_x": null,
            "grid_auto_flow": null,
            "grid_area": null,
            "grid_template_columns": null,
            "flex": null,
            "_model_name": "LayoutModel",
            "justify_items": null,
            "grid_row": null,
            "max_height": null,
            "align_content": null,
            "visibility": null,
            "align_self": null,
            "height": null,
            "min_height": null,
            "padding": null,
            "grid_auto_rows": null,
            "grid_gap": null,
            "max_width": null,
            "order": null,
            "_view_module_version": "1.2.0",
            "grid_template_areas": null,
            "object_position": null,
            "object_fit": null,
            "grid_auto_columns": null,
            "margin": null,
            "display": null,
            "left": null
          }
        },
        "d6aad7fb6e264c929b5f6c951162c617": {
          "model_module": "@jupyter-widgets/controls",
          "model_name": "DescriptionStyleModel",
          "state": {
            "_view_name": "StyleView",
            "_model_name": "DescriptionStyleModel",
            "description_width": "",
            "_view_module": "@jupyter-widgets/base",
            "_model_module_version": "1.5.0",
            "_view_count": null,
            "_view_module_version": "1.2.0",
            "_model_module": "@jupyter-widgets/controls"
          }
        },
        "befaa5b18c9143f9adb8c204275ddc64": {
          "model_module": "@jupyter-widgets/base",
          "model_name": "LayoutModel",
          "state": {
            "_view_name": "LayoutView",
            "grid_template_rows": null,
            "right": null,
            "justify_content": null,
            "_view_module": "@jupyter-widgets/base",
            "overflow": null,
            "_model_module_version": "1.2.0",
            "_view_count": null,
            "flex_flow": null,
            "width": null,
            "min_width": null,
            "border": null,
            "align_items": null,
            "bottom": null,
            "_model_module": "@jupyter-widgets/base",
            "top": null,
            "grid_column": null,
            "overflow_y": null,
            "overflow_x": null,
            "grid_auto_flow": null,
            "grid_area": null,
            "grid_template_columns": null,
            "flex": null,
            "_model_name": "LayoutModel",
            "justify_items": null,
            "grid_row": null,
            "max_height": null,
            "align_content": null,
            "visibility": null,
            "align_self": null,
            "height": null,
            "min_height": null,
            "padding": null,
            "grid_auto_rows": null,
            "grid_gap": null,
            "max_width": null,
            "order": null,
            "_view_module_version": "1.2.0",
            "grid_template_areas": null,
            "object_position": null,
            "object_fit": null,
            "grid_auto_columns": null,
            "margin": null,
            "display": null,
            "left": null
          }
        },
        "c0b59a414f554cd1a156e987bd4a7e35": {
          "model_module": "@jupyter-widgets/controls",
          "model_name": "HBoxModel",
          "state": {
            "_view_name": "HBoxView",
            "_dom_classes": [],
            "_model_name": "HBoxModel",
            "_view_module": "@jupyter-widgets/controls",
            "_model_module_version": "1.5.0",
            "_view_count": null,
            "_view_module_version": "1.5.0",
            "box_style": "",
            "layout": "IPY_MODEL_37071ea1aa5a4d03949a0c4c7fae571e",
            "_model_module": "@jupyter-widgets/controls",
            "children": [
              "IPY_MODEL_a700a1490b25478e88241d023535ffb8",
              "IPY_MODEL_e0756a050aab47f3b2dfcf654a4416ed"
            ]
          }
        },
        "37071ea1aa5a4d03949a0c4c7fae571e": {
          "model_module": "@jupyter-widgets/base",
          "model_name": "LayoutModel",
          "state": {
            "_view_name": "LayoutView",
            "grid_template_rows": null,
            "right": null,
            "justify_content": null,
            "_view_module": "@jupyter-widgets/base",
            "overflow": null,
            "_model_module_version": "1.2.0",
            "_view_count": null,
            "flex_flow": null,
            "width": null,
            "min_width": null,
            "border": null,
            "align_items": null,
            "bottom": null,
            "_model_module": "@jupyter-widgets/base",
            "top": null,
            "grid_column": null,
            "overflow_y": null,
            "overflow_x": null,
            "grid_auto_flow": null,
            "grid_area": null,
            "grid_template_columns": null,
            "flex": null,
            "_model_name": "LayoutModel",
            "justify_items": null,
            "grid_row": null,
            "max_height": null,
            "align_content": null,
            "visibility": null,
            "align_self": null,
            "height": null,
            "min_height": null,
            "padding": null,
            "grid_auto_rows": null,
            "grid_gap": null,
            "max_width": null,
            "order": null,
            "_view_module_version": "1.2.0",
            "grid_template_areas": null,
            "object_position": null,
            "object_fit": null,
            "grid_auto_columns": null,
            "margin": null,
            "display": null,
            "left": null
          }
        },
        "a700a1490b25478e88241d023535ffb8": {
          "model_module": "@jupyter-widgets/controls",
          "model_name": "FloatProgressModel",
          "state": {
            "_view_name": "ProgressView",
            "style": "IPY_MODEL_18fe00e64b0a43eb9ab29bf7086b9276",
            "_dom_classes": [],
            "description": "Epoch: 100%",
            "_model_name": "FloatProgressModel",
            "bar_style": "success",
            "max": 3,
            "_view_module": "@jupyter-widgets/controls",
            "_model_module_version": "1.5.0",
            "value": 3,
            "_view_count": null,
            "_view_module_version": "1.5.0",
            "orientation": "horizontal",
            "min": 0,
            "description_tooltip": null,
            "_model_module": "@jupyter-widgets/controls",
            "layout": "IPY_MODEL_0c55d251864a46d694883fa2fd9ebeec"
          }
        },
        "e0756a050aab47f3b2dfcf654a4416ed": {
          "model_module": "@jupyter-widgets/controls",
          "model_name": "HTMLModel",
          "state": {
            "_view_name": "HTMLView",
            "style": "IPY_MODEL_5557ee93e73545f583d4a3f19a17614c",
            "_dom_classes": [],
            "description": "",
            "_model_name": "HTMLModel",
            "placeholder": "​",
            "_view_module": "@jupyter-widgets/controls",
            "_model_module_version": "1.5.0",
            "value": " 3/3 [1:05:26&lt;00:00, 1308.82s/it]",
            "_view_count": null,
            "_view_module_version": "1.5.0",
            "description_tooltip": null,
            "_model_module": "@jupyter-widgets/controls",
            "layout": "IPY_MODEL_e6229190fa934080b6d4600e153c52aa"
          }
        },
        "18fe00e64b0a43eb9ab29bf7086b9276": {
          "model_module": "@jupyter-widgets/controls",
          "model_name": "ProgressStyleModel",
          "state": {
            "_view_name": "StyleView",
            "_model_name": "ProgressStyleModel",
            "description_width": "initial",
            "_view_module": "@jupyter-widgets/base",
            "_model_module_version": "1.5.0",
            "_view_count": null,
            "_view_module_version": "1.2.0",
            "bar_color": null,
            "_model_module": "@jupyter-widgets/controls"
          }
        },
        "0c55d251864a46d694883fa2fd9ebeec": {
          "model_module": "@jupyter-widgets/base",
          "model_name": "LayoutModel",
          "state": {
            "_view_name": "LayoutView",
            "grid_template_rows": null,
            "right": null,
            "justify_content": null,
            "_view_module": "@jupyter-widgets/base",
            "overflow": null,
            "_model_module_version": "1.2.0",
            "_view_count": null,
            "flex_flow": null,
            "width": null,
            "min_width": null,
            "border": null,
            "align_items": null,
            "bottom": null,
            "_model_module": "@jupyter-widgets/base",
            "top": null,
            "grid_column": null,
            "overflow_y": null,
            "overflow_x": null,
            "grid_auto_flow": null,
            "grid_area": null,
            "grid_template_columns": null,
            "flex": null,
            "_model_name": "LayoutModel",
            "justify_items": null,
            "grid_row": null,
            "max_height": null,
            "align_content": null,
            "visibility": null,
            "align_self": null,
            "height": null,
            "min_height": null,
            "padding": null,
            "grid_auto_rows": null,
            "grid_gap": null,
            "max_width": null,
            "order": null,
            "_view_module_version": "1.2.0",
            "grid_template_areas": null,
            "object_position": null,
            "object_fit": null,
            "grid_auto_columns": null,
            "margin": null,
            "display": null,
            "left": null
          }
        },
        "5557ee93e73545f583d4a3f19a17614c": {
          "model_module": "@jupyter-widgets/controls",
          "model_name": "DescriptionStyleModel",
          "state": {
            "_view_name": "StyleView",
            "_model_name": "DescriptionStyleModel",
            "description_width": "",
            "_view_module": "@jupyter-widgets/base",
            "_model_module_version": "1.5.0",
            "_view_count": null,
            "_view_module_version": "1.2.0",
            "_model_module": "@jupyter-widgets/controls"
          }
        },
        "e6229190fa934080b6d4600e153c52aa": {
          "model_module": "@jupyter-widgets/base",
          "model_name": "LayoutModel",
          "state": {
            "_view_name": "LayoutView",
            "grid_template_rows": null,
            "right": null,
            "justify_content": null,
            "_view_module": "@jupyter-widgets/base",
            "overflow": null,
            "_model_module_version": "1.2.0",
            "_view_count": null,
            "flex_flow": null,
            "width": null,
            "min_width": null,
            "border": null,
            "align_items": null,
            "bottom": null,
            "_model_module": "@jupyter-widgets/base",
            "top": null,
            "grid_column": null,
            "overflow_y": null,
            "overflow_x": null,
            "grid_auto_flow": null,
            "grid_area": null,
            "grid_template_columns": null,
            "flex": null,
            "_model_name": "LayoutModel",
            "justify_items": null,
            "grid_row": null,
            "max_height": null,
            "align_content": null,
            "visibility": null,
            "align_self": null,
            "height": null,
            "min_height": null,
            "padding": null,
            "grid_auto_rows": null,
            "grid_gap": null,
            "max_width": null,
            "order": null,
            "_view_module_version": "1.2.0",
            "grid_template_areas": null,
            "object_position": null,
            "object_fit": null,
            "grid_auto_columns": null,
            "margin": null,
            "display": null,
            "left": null
          }
        },
        "1bd9fe55df3e422d9241d797dda5f0d3": {
          "model_module": "@jupyter-widgets/controls",
          "model_name": "HBoxModel",
          "state": {
            "_view_name": "HBoxView",
            "_dom_classes": [],
            "_model_name": "HBoxModel",
            "_view_module": "@jupyter-widgets/controls",
            "_model_module_version": "1.5.0",
            "_view_count": null,
            "_view_module_version": "1.5.0",
            "box_style": "",
            "layout": "IPY_MODEL_d2d609215acf4e269e37db6431ed81e4",
            "_model_module": "@jupyter-widgets/controls",
            "children": [
              "IPY_MODEL_62d9c83b9404432985db7d454fba400e",
              "IPY_MODEL_e6499b761c8d4a219d98cf0551175c03"
            ]
          }
        },
        "d2d609215acf4e269e37db6431ed81e4": {
          "model_module": "@jupyter-widgets/base",
          "model_name": "LayoutModel",
          "state": {
            "_view_name": "LayoutView",
            "grid_template_rows": null,
            "right": null,
            "justify_content": null,
            "_view_module": "@jupyter-widgets/base",
            "overflow": null,
            "_model_module_version": "1.2.0",
            "_view_count": null,
            "flex_flow": null,
            "width": null,
            "min_width": null,
            "border": null,
            "align_items": null,
            "bottom": null,
            "_model_module": "@jupyter-widgets/base",
            "top": null,
            "grid_column": null,
            "overflow_y": null,
            "overflow_x": null,
            "grid_auto_flow": null,
            "grid_area": null,
            "grid_template_columns": null,
            "flex": null,
            "_model_name": "LayoutModel",
            "justify_items": null,
            "grid_row": null,
            "max_height": null,
            "align_content": null,
            "visibility": null,
            "align_self": null,
            "height": null,
            "min_height": null,
            "padding": null,
            "grid_auto_rows": null,
            "grid_gap": null,
            "max_width": null,
            "order": null,
            "_view_module_version": "1.2.0",
            "grid_template_areas": null,
            "object_position": null,
            "object_fit": null,
            "grid_auto_columns": null,
            "margin": null,
            "display": null,
            "left": null
          }
        },
        "62d9c83b9404432985db7d454fba400e": {
          "model_module": "@jupyter-widgets/controls",
          "model_name": "FloatProgressModel",
          "state": {
            "_view_name": "ProgressView",
            "style": "IPY_MODEL_843845d4d96a454e91a5d29f7f1b4932",
            "_dom_classes": [],
            "description": "Iteration: 100%",
            "_model_name": "FloatProgressModel",
            "bar_style": "success",
            "max": 1125,
            "_view_module": "@jupyter-widgets/controls",
            "_model_module_version": "1.5.0",
            "value": 1125,
            "_view_count": null,
            "_view_module_version": "1.5.0",
            "orientation": "horizontal",
            "min": 0,
            "description_tooltip": null,
            "_model_module": "@jupyter-widgets/controls",
            "layout": "IPY_MODEL_a18ef93bac514c97ab74e9616cbb3431"
          }
        },
        "e6499b761c8d4a219d98cf0551175c03": {
          "model_module": "@jupyter-widgets/controls",
          "model_name": "HTMLModel",
          "state": {
            "_view_name": "HTMLView",
            "style": "IPY_MODEL_1bf40c2e55a243b792852b8188c2090a",
            "_dom_classes": [],
            "description": "",
            "_model_name": "HTMLModel",
            "placeholder": "​",
            "_view_module": "@jupyter-widgets/controls",
            "_model_module_version": "1.5.0",
            "value": " 1125/1125 [21:42&lt;00:00,  1.16s/it]",
            "_view_count": null,
            "_view_module_version": "1.5.0",
            "description_tooltip": null,
            "_model_module": "@jupyter-widgets/controls",
            "layout": "IPY_MODEL_5037ecbda6ba415ab0c04a1dd3481c5d"
          }
        },
        "843845d4d96a454e91a5d29f7f1b4932": {
          "model_module": "@jupyter-widgets/controls",
          "model_name": "ProgressStyleModel",
          "state": {
            "_view_name": "StyleView",
            "_model_name": "ProgressStyleModel",
            "description_width": "initial",
            "_view_module": "@jupyter-widgets/base",
            "_model_module_version": "1.5.0",
            "_view_count": null,
            "_view_module_version": "1.2.0",
            "bar_color": null,
            "_model_module": "@jupyter-widgets/controls"
          }
        },
        "a18ef93bac514c97ab74e9616cbb3431": {
          "model_module": "@jupyter-widgets/base",
          "model_name": "LayoutModel",
          "state": {
            "_view_name": "LayoutView",
            "grid_template_rows": null,
            "right": null,
            "justify_content": null,
            "_view_module": "@jupyter-widgets/base",
            "overflow": null,
            "_model_module_version": "1.2.0",
            "_view_count": null,
            "flex_flow": null,
            "width": null,
            "min_width": null,
            "border": null,
            "align_items": null,
            "bottom": null,
            "_model_module": "@jupyter-widgets/base",
            "top": null,
            "grid_column": null,
            "overflow_y": null,
            "overflow_x": null,
            "grid_auto_flow": null,
            "grid_area": null,
            "grid_template_columns": null,
            "flex": null,
            "_model_name": "LayoutModel",
            "justify_items": null,
            "grid_row": null,
            "max_height": null,
            "align_content": null,
            "visibility": null,
            "align_self": null,
            "height": null,
            "min_height": null,
            "padding": null,
            "grid_auto_rows": null,
            "grid_gap": null,
            "max_width": null,
            "order": null,
            "_view_module_version": "1.2.0",
            "grid_template_areas": null,
            "object_position": null,
            "object_fit": null,
            "grid_auto_columns": null,
            "margin": null,
            "display": null,
            "left": null
          }
        },
        "1bf40c2e55a243b792852b8188c2090a": {
          "model_module": "@jupyter-widgets/controls",
          "model_name": "DescriptionStyleModel",
          "state": {
            "_view_name": "StyleView",
            "_model_name": "DescriptionStyleModel",
            "description_width": "",
            "_view_module": "@jupyter-widgets/base",
            "_model_module_version": "1.5.0",
            "_view_count": null,
            "_view_module_version": "1.2.0",
            "_model_module": "@jupyter-widgets/controls"
          }
        },
        "5037ecbda6ba415ab0c04a1dd3481c5d": {
          "model_module": "@jupyter-widgets/base",
          "model_name": "LayoutModel",
          "state": {
            "_view_name": "LayoutView",
            "grid_template_rows": null,
            "right": null,
            "justify_content": null,
            "_view_module": "@jupyter-widgets/base",
            "overflow": null,
            "_model_module_version": "1.2.0",
            "_view_count": null,
            "flex_flow": null,
            "width": null,
            "min_width": null,
            "border": null,
            "align_items": null,
            "bottom": null,
            "_model_module": "@jupyter-widgets/base",
            "top": null,
            "grid_column": null,
            "overflow_y": null,
            "overflow_x": null,
            "grid_auto_flow": null,
            "grid_area": null,
            "grid_template_columns": null,
            "flex": null,
            "_model_name": "LayoutModel",
            "justify_items": null,
            "grid_row": null,
            "max_height": null,
            "align_content": null,
            "visibility": null,
            "align_self": null,
            "height": null,
            "min_height": null,
            "padding": null,
            "grid_auto_rows": null,
            "grid_gap": null,
            "max_width": null,
            "order": null,
            "_view_module_version": "1.2.0",
            "grid_template_areas": null,
            "object_position": null,
            "object_fit": null,
            "grid_auto_columns": null,
            "margin": null,
            "display": null,
            "left": null
          }
        },
        "2d57671e6e264382bcaf95cd929bfd3c": {
          "model_module": "@jupyter-widgets/controls",
          "model_name": "HBoxModel",
          "state": {
            "_view_name": "HBoxView",
            "_dom_classes": [],
            "_model_name": "HBoxModel",
            "_view_module": "@jupyter-widgets/controls",
            "_model_module_version": "1.5.0",
            "_view_count": null,
            "_view_module_version": "1.5.0",
            "box_style": "",
            "layout": "IPY_MODEL_42b27b103873439dbb642e4f5950ba22",
            "_model_module": "@jupyter-widgets/controls",
            "children": [
              "IPY_MODEL_02aaa095cbc7479cab4c969679f2bc84",
              "IPY_MODEL_122a57dc921a488cb8112bd9e8e8e8d8"
            ]
          }
        },
        "42b27b103873439dbb642e4f5950ba22": {
          "model_module": "@jupyter-widgets/base",
          "model_name": "LayoutModel",
          "state": {
            "_view_name": "LayoutView",
            "grid_template_rows": null,
            "right": null,
            "justify_content": null,
            "_view_module": "@jupyter-widgets/base",
            "overflow": null,
            "_model_module_version": "1.2.0",
            "_view_count": null,
            "flex_flow": null,
            "width": null,
            "min_width": null,
            "border": null,
            "align_items": null,
            "bottom": null,
            "_model_module": "@jupyter-widgets/base",
            "top": null,
            "grid_column": null,
            "overflow_y": null,
            "overflow_x": null,
            "grid_auto_flow": null,
            "grid_area": null,
            "grid_template_columns": null,
            "flex": null,
            "_model_name": "LayoutModel",
            "justify_items": null,
            "grid_row": null,
            "max_height": null,
            "align_content": null,
            "visibility": null,
            "align_self": null,
            "height": null,
            "min_height": null,
            "padding": null,
            "grid_auto_rows": null,
            "grid_gap": null,
            "max_width": null,
            "order": null,
            "_view_module_version": "1.2.0",
            "grid_template_areas": null,
            "object_position": null,
            "object_fit": null,
            "grid_auto_columns": null,
            "margin": null,
            "display": null,
            "left": null
          }
        },
        "02aaa095cbc7479cab4c969679f2bc84": {
          "model_module": "@jupyter-widgets/controls",
          "model_name": "FloatProgressModel",
          "state": {
            "_view_name": "ProgressView",
            "style": "IPY_MODEL_bd71e61fa70c4d518a151284c2ea750c",
            "_dom_classes": [],
            "description": "Iteration: 100%",
            "_model_name": "FloatProgressModel",
            "bar_style": "success",
            "max": 1125,
            "_view_module": "@jupyter-widgets/controls",
            "_model_module_version": "1.5.0",
            "value": 1125,
            "_view_count": null,
            "_view_module_version": "1.5.0",
            "orientation": "horizontal",
            "min": 0,
            "description_tooltip": null,
            "_model_module": "@jupyter-widgets/controls",
            "layout": "IPY_MODEL_76df45abb86141279550d40ab4081e4c"
          }
        },
        "122a57dc921a488cb8112bd9e8e8e8d8": {
          "model_module": "@jupyter-widgets/controls",
          "model_name": "HTMLModel",
          "state": {
            "_view_name": "HTMLView",
            "style": "IPY_MODEL_4372f53a5ffc4eca8a96663701c50528",
            "_dom_classes": [],
            "description": "",
            "_model_name": "HTMLModel",
            "placeholder": "​",
            "_view_module": "@jupyter-widgets/controls",
            "_model_module_version": "1.5.0",
            "value": " 1125/1125 [21:52&lt;00:00,  1.17s/it]",
            "_view_count": null,
            "_view_module_version": "1.5.0",
            "description_tooltip": null,
            "_model_module": "@jupyter-widgets/controls",
            "layout": "IPY_MODEL_757caeac4726451390bc5ca8bde8f8bd"
          }
        },
        "bd71e61fa70c4d518a151284c2ea750c": {
          "model_module": "@jupyter-widgets/controls",
          "model_name": "ProgressStyleModel",
          "state": {
            "_view_name": "StyleView",
            "_model_name": "ProgressStyleModel",
            "description_width": "initial",
            "_view_module": "@jupyter-widgets/base",
            "_model_module_version": "1.5.0",
            "_view_count": null,
            "_view_module_version": "1.2.0",
            "bar_color": null,
            "_model_module": "@jupyter-widgets/controls"
          }
        },
        "76df45abb86141279550d40ab4081e4c": {
          "model_module": "@jupyter-widgets/base",
          "model_name": "LayoutModel",
          "state": {
            "_view_name": "LayoutView",
            "grid_template_rows": null,
            "right": null,
            "justify_content": null,
            "_view_module": "@jupyter-widgets/base",
            "overflow": null,
            "_model_module_version": "1.2.0",
            "_view_count": null,
            "flex_flow": null,
            "width": null,
            "min_width": null,
            "border": null,
            "align_items": null,
            "bottom": null,
            "_model_module": "@jupyter-widgets/base",
            "top": null,
            "grid_column": null,
            "overflow_y": null,
            "overflow_x": null,
            "grid_auto_flow": null,
            "grid_area": null,
            "grid_template_columns": null,
            "flex": null,
            "_model_name": "LayoutModel",
            "justify_items": null,
            "grid_row": null,
            "max_height": null,
            "align_content": null,
            "visibility": null,
            "align_self": null,
            "height": null,
            "min_height": null,
            "padding": null,
            "grid_auto_rows": null,
            "grid_gap": null,
            "max_width": null,
            "order": null,
            "_view_module_version": "1.2.0",
            "grid_template_areas": null,
            "object_position": null,
            "object_fit": null,
            "grid_auto_columns": null,
            "margin": null,
            "display": null,
            "left": null
          }
        },
        "4372f53a5ffc4eca8a96663701c50528": {
          "model_module": "@jupyter-widgets/controls",
          "model_name": "DescriptionStyleModel",
          "state": {
            "_view_name": "StyleView",
            "_model_name": "DescriptionStyleModel",
            "description_width": "",
            "_view_module": "@jupyter-widgets/base",
            "_model_module_version": "1.5.0",
            "_view_count": null,
            "_view_module_version": "1.2.0",
            "_model_module": "@jupyter-widgets/controls"
          }
        },
        "757caeac4726451390bc5ca8bde8f8bd": {
          "model_module": "@jupyter-widgets/base",
          "model_name": "LayoutModel",
          "state": {
            "_view_name": "LayoutView",
            "grid_template_rows": null,
            "right": null,
            "justify_content": null,
            "_view_module": "@jupyter-widgets/base",
            "overflow": null,
            "_model_module_version": "1.2.0",
            "_view_count": null,
            "flex_flow": null,
            "width": null,
            "min_width": null,
            "border": null,
            "align_items": null,
            "bottom": null,
            "_model_module": "@jupyter-widgets/base",
            "top": null,
            "grid_column": null,
            "overflow_y": null,
            "overflow_x": null,
            "grid_auto_flow": null,
            "grid_area": null,
            "grid_template_columns": null,
            "flex": null,
            "_model_name": "LayoutModel",
            "justify_items": null,
            "grid_row": null,
            "max_height": null,
            "align_content": null,
            "visibility": null,
            "align_self": null,
            "height": null,
            "min_height": null,
            "padding": null,
            "grid_auto_rows": null,
            "grid_gap": null,
            "max_width": null,
            "order": null,
            "_view_module_version": "1.2.0",
            "grid_template_areas": null,
            "object_position": null,
            "object_fit": null,
            "grid_auto_columns": null,
            "margin": null,
            "display": null,
            "left": null
          }
        },
        "5f54d6619c1f4dffbb4b1212f5bc6e47": {
          "model_module": "@jupyter-widgets/controls",
          "model_name": "HBoxModel",
          "state": {
            "_view_name": "HBoxView",
            "_dom_classes": [],
            "_model_name": "HBoxModel",
            "_view_module": "@jupyter-widgets/controls",
            "_model_module_version": "1.5.0",
            "_view_count": null,
            "_view_module_version": "1.5.0",
            "box_style": "",
            "layout": "IPY_MODEL_25e35b82386a45b194efefeddb35146e",
            "_model_module": "@jupyter-widgets/controls",
            "children": [
              "IPY_MODEL_838f33c6e80947f3ba20a173cee8640e",
              "IPY_MODEL_32eac9b5efbf4a44afc6d2d5f7c2d474"
            ]
          }
        },
        "25e35b82386a45b194efefeddb35146e": {
          "model_module": "@jupyter-widgets/base",
          "model_name": "LayoutModel",
          "state": {
            "_view_name": "LayoutView",
            "grid_template_rows": null,
            "right": null,
            "justify_content": null,
            "_view_module": "@jupyter-widgets/base",
            "overflow": null,
            "_model_module_version": "1.2.0",
            "_view_count": null,
            "flex_flow": null,
            "width": null,
            "min_width": null,
            "border": null,
            "align_items": null,
            "bottom": null,
            "_model_module": "@jupyter-widgets/base",
            "top": null,
            "grid_column": null,
            "overflow_y": null,
            "overflow_x": null,
            "grid_auto_flow": null,
            "grid_area": null,
            "grid_template_columns": null,
            "flex": null,
            "_model_name": "LayoutModel",
            "justify_items": null,
            "grid_row": null,
            "max_height": null,
            "align_content": null,
            "visibility": null,
            "align_self": null,
            "height": null,
            "min_height": null,
            "padding": null,
            "grid_auto_rows": null,
            "grid_gap": null,
            "max_width": null,
            "order": null,
            "_view_module_version": "1.2.0",
            "grid_template_areas": null,
            "object_position": null,
            "object_fit": null,
            "grid_auto_columns": null,
            "margin": null,
            "display": null,
            "left": null
          }
        },
        "838f33c6e80947f3ba20a173cee8640e": {
          "model_module": "@jupyter-widgets/controls",
          "model_name": "FloatProgressModel",
          "state": {
            "_view_name": "ProgressView",
            "style": "IPY_MODEL_9e935c4e321c4d9c81937b9928bc6ff0",
            "_dom_classes": [],
            "description": "Iteration: 100%",
            "_model_name": "FloatProgressModel",
            "bar_style": "success",
            "max": 1125,
            "_view_module": "@jupyter-widgets/controls",
            "_model_module_version": "1.5.0",
            "value": 1125,
            "_view_count": null,
            "_view_module_version": "1.5.0",
            "orientation": "horizontal",
            "min": 0,
            "description_tooltip": null,
            "_model_module": "@jupyter-widgets/controls",
            "layout": "IPY_MODEL_bb70280074634494a72d96578ec745ba"
          }
        },
        "32eac9b5efbf4a44afc6d2d5f7c2d474": {
          "model_module": "@jupyter-widgets/controls",
          "model_name": "HTMLModel",
          "state": {
            "_view_name": "HTMLView",
            "style": "IPY_MODEL_ec1bd14b8f73412d98ad5f43dd712bfa",
            "_dom_classes": [],
            "description": "",
            "_model_name": "HTMLModel",
            "placeholder": "​",
            "_view_module": "@jupyter-widgets/controls",
            "_model_module_version": "1.5.0",
            "value": " 1125/1125 [21:50&lt;00:00,  1.17s/it]",
            "_view_count": null,
            "_view_module_version": "1.5.0",
            "description_tooltip": null,
            "_model_module": "@jupyter-widgets/controls",
            "layout": "IPY_MODEL_8b75a2ae1b064d409d51e39adbf1c723"
          }
        },
        "9e935c4e321c4d9c81937b9928bc6ff0": {
          "model_module": "@jupyter-widgets/controls",
          "model_name": "ProgressStyleModel",
          "state": {
            "_view_name": "StyleView",
            "_model_name": "ProgressStyleModel",
            "description_width": "initial",
            "_view_module": "@jupyter-widgets/base",
            "_model_module_version": "1.5.0",
            "_view_count": null,
            "_view_module_version": "1.2.0",
            "bar_color": null,
            "_model_module": "@jupyter-widgets/controls"
          }
        },
        "bb70280074634494a72d96578ec745ba": {
          "model_module": "@jupyter-widgets/base",
          "model_name": "LayoutModel",
          "state": {
            "_view_name": "LayoutView",
            "grid_template_rows": null,
            "right": null,
            "justify_content": null,
            "_view_module": "@jupyter-widgets/base",
            "overflow": null,
            "_model_module_version": "1.2.0",
            "_view_count": null,
            "flex_flow": null,
            "width": null,
            "min_width": null,
            "border": null,
            "align_items": null,
            "bottom": null,
            "_model_module": "@jupyter-widgets/base",
            "top": null,
            "grid_column": null,
            "overflow_y": null,
            "overflow_x": null,
            "grid_auto_flow": null,
            "grid_area": null,
            "grid_template_columns": null,
            "flex": null,
            "_model_name": "LayoutModel",
            "justify_items": null,
            "grid_row": null,
            "max_height": null,
            "align_content": null,
            "visibility": null,
            "align_self": null,
            "height": null,
            "min_height": null,
            "padding": null,
            "grid_auto_rows": null,
            "grid_gap": null,
            "max_width": null,
            "order": null,
            "_view_module_version": "1.2.0",
            "grid_template_areas": null,
            "object_position": null,
            "object_fit": null,
            "grid_auto_columns": null,
            "margin": null,
            "display": null,
            "left": null
          }
        },
        "ec1bd14b8f73412d98ad5f43dd712bfa": {
          "model_module": "@jupyter-widgets/controls",
          "model_name": "DescriptionStyleModel",
          "state": {
            "_view_name": "StyleView",
            "_model_name": "DescriptionStyleModel",
            "description_width": "",
            "_view_module": "@jupyter-widgets/base",
            "_model_module_version": "1.5.0",
            "_view_count": null,
            "_view_module_version": "1.2.0",
            "_model_module": "@jupyter-widgets/controls"
          }
        },
        "8b75a2ae1b064d409d51e39adbf1c723": {
          "model_module": "@jupyter-widgets/base",
          "model_name": "LayoutModel",
          "state": {
            "_view_name": "LayoutView",
            "grid_template_rows": null,
            "right": null,
            "justify_content": null,
            "_view_module": "@jupyter-widgets/base",
            "overflow": null,
            "_model_module_version": "1.2.0",
            "_view_count": null,
            "flex_flow": null,
            "width": null,
            "min_width": null,
            "border": null,
            "align_items": null,
            "bottom": null,
            "_model_module": "@jupyter-widgets/base",
            "top": null,
            "grid_column": null,
            "overflow_y": null,
            "overflow_x": null,
            "grid_auto_flow": null,
            "grid_area": null,
            "grid_template_columns": null,
            "flex": null,
            "_model_name": "LayoutModel",
            "justify_items": null,
            "grid_row": null,
            "max_height": null,
            "align_content": null,
            "visibility": null,
            "align_self": null,
            "height": null,
            "min_height": null,
            "padding": null,
            "grid_auto_rows": null,
            "grid_gap": null,
            "max_width": null,
            "order": null,
            "_view_module_version": "1.2.0",
            "grid_template_areas": null,
            "object_position": null,
            "object_fit": null,
            "grid_auto_columns": null,
            "margin": null,
            "display": null,
            "left": null
          }
        },
        "5e132a1c829a41799bc39916386811e6": {
          "model_module": "@jupyter-widgets/controls",
          "model_name": "HBoxModel",
          "state": {
            "_view_name": "HBoxView",
            "_dom_classes": [],
            "_model_name": "HBoxModel",
            "_view_module": "@jupyter-widgets/controls",
            "_model_module_version": "1.5.0",
            "_view_count": null,
            "_view_module_version": "1.5.0",
            "box_style": "",
            "layout": "IPY_MODEL_ec91deecd9aa46539fcfa0d16a4524d2",
            "_model_module": "@jupyter-widgets/controls",
            "children": [
              "IPY_MODEL_bc375a70f1aa4f97b65931194ab07dfb",
              "IPY_MODEL_15aad78e5d4e44128ad2cb92cd825a7c"
            ]
          }
        },
        "ec91deecd9aa46539fcfa0d16a4524d2": {
          "model_module": "@jupyter-widgets/base",
          "model_name": "LayoutModel",
          "state": {
            "_view_name": "LayoutView",
            "grid_template_rows": null,
            "right": null,
            "justify_content": null,
            "_view_module": "@jupyter-widgets/base",
            "overflow": null,
            "_model_module_version": "1.2.0",
            "_view_count": null,
            "flex_flow": null,
            "width": null,
            "min_width": null,
            "border": null,
            "align_items": null,
            "bottom": null,
            "_model_module": "@jupyter-widgets/base",
            "top": null,
            "grid_column": null,
            "overflow_y": null,
            "overflow_x": null,
            "grid_auto_flow": null,
            "grid_area": null,
            "grid_template_columns": null,
            "flex": null,
            "_model_name": "LayoutModel",
            "justify_items": null,
            "grid_row": null,
            "max_height": null,
            "align_content": null,
            "visibility": null,
            "align_self": null,
            "height": null,
            "min_height": null,
            "padding": null,
            "grid_auto_rows": null,
            "grid_gap": null,
            "max_width": null,
            "order": null,
            "_view_module_version": "1.2.0",
            "grid_template_areas": null,
            "object_position": null,
            "object_fit": null,
            "grid_auto_columns": null,
            "margin": null,
            "display": null,
            "left": null
          }
        },
        "bc375a70f1aa4f97b65931194ab07dfb": {
          "model_module": "@jupyter-widgets/controls",
          "model_name": "FloatProgressModel",
          "state": {
            "_view_name": "ProgressView",
            "style": "IPY_MODEL_3de28d4498f547d6984c5c1e92c09465",
            "_dom_classes": [],
            "description": "Validation: rte: 100%",
            "_model_name": "FloatProgressModel",
            "bar_style": "success",
            "max": 35,
            "_view_module": "@jupyter-widgets/controls",
            "_model_module_version": "1.5.0",
            "value": 35,
            "_view_count": null,
            "_view_module_version": "1.5.0",
            "orientation": "horizontal",
            "min": 0,
            "description_tooltip": null,
            "_model_module": "@jupyter-widgets/controls",
            "layout": "IPY_MODEL_dac3b5212a6c4e19bf8fbbb45a328cb6"
          }
        },
        "15aad78e5d4e44128ad2cb92cd825a7c": {
          "model_module": "@jupyter-widgets/controls",
          "model_name": "HTMLModel",
          "state": {
            "_view_name": "HTMLView",
            "style": "IPY_MODEL_0f1cdbc7e9c843519ed5b56482ef9352",
            "_dom_classes": [],
            "description": "",
            "_model_name": "HTMLModel",
            "placeholder": "​",
            "_view_module": "@jupyter-widgets/controls",
            "_model_module_version": "1.5.0",
            "value": " 35/35 [00:14&lt;00:00,  2.38it/s]",
            "_view_count": null,
            "_view_module_version": "1.5.0",
            "description_tooltip": null,
            "_model_module": "@jupyter-widgets/controls",
            "layout": "IPY_MODEL_7d907580f95149f4a92192b7add5ba9f"
          }
        },
        "3de28d4498f547d6984c5c1e92c09465": {
          "model_module": "@jupyter-widgets/controls",
          "model_name": "ProgressStyleModel",
          "state": {
            "_view_name": "StyleView",
            "_model_name": "ProgressStyleModel",
            "description_width": "initial",
            "_view_module": "@jupyter-widgets/base",
            "_model_module_version": "1.5.0",
            "_view_count": null,
            "_view_module_version": "1.2.0",
            "bar_color": null,
            "_model_module": "@jupyter-widgets/controls"
          }
        },
        "dac3b5212a6c4e19bf8fbbb45a328cb6": {
          "model_module": "@jupyter-widgets/base",
          "model_name": "LayoutModel",
          "state": {
            "_view_name": "LayoutView",
            "grid_template_rows": null,
            "right": null,
            "justify_content": null,
            "_view_module": "@jupyter-widgets/base",
            "overflow": null,
            "_model_module_version": "1.2.0",
            "_view_count": null,
            "flex_flow": null,
            "width": null,
            "min_width": null,
            "border": null,
            "align_items": null,
            "bottom": null,
            "_model_module": "@jupyter-widgets/base",
            "top": null,
            "grid_column": null,
            "overflow_y": null,
            "overflow_x": null,
            "grid_auto_flow": null,
            "grid_area": null,
            "grid_template_columns": null,
            "flex": null,
            "_model_name": "LayoutModel",
            "justify_items": null,
            "grid_row": null,
            "max_height": null,
            "align_content": null,
            "visibility": null,
            "align_self": null,
            "height": null,
            "min_height": null,
            "padding": null,
            "grid_auto_rows": null,
            "grid_gap": null,
            "max_width": null,
            "order": null,
            "_view_module_version": "1.2.0",
            "grid_template_areas": null,
            "object_position": null,
            "object_fit": null,
            "grid_auto_columns": null,
            "margin": null,
            "display": null,
            "left": null
          }
        },
        "0f1cdbc7e9c843519ed5b56482ef9352": {
          "model_module": "@jupyter-widgets/controls",
          "model_name": "DescriptionStyleModel",
          "state": {
            "_view_name": "StyleView",
            "_model_name": "DescriptionStyleModel",
            "description_width": "",
            "_view_module": "@jupyter-widgets/base",
            "_model_module_version": "1.5.0",
            "_view_count": null,
            "_view_module_version": "1.2.0",
            "_model_module": "@jupyter-widgets/controls"
          }
        },
        "7d907580f95149f4a92192b7add5ba9f": {
          "model_module": "@jupyter-widgets/base",
          "model_name": "LayoutModel",
          "state": {
            "_view_name": "LayoutView",
            "grid_template_rows": null,
            "right": null,
            "justify_content": null,
            "_view_module": "@jupyter-widgets/base",
            "overflow": null,
            "_model_module_version": "1.2.0",
            "_view_count": null,
            "flex_flow": null,
            "width": null,
            "min_width": null,
            "border": null,
            "align_items": null,
            "bottom": null,
            "_model_module": "@jupyter-widgets/base",
            "top": null,
            "grid_column": null,
            "overflow_y": null,
            "overflow_x": null,
            "grid_auto_flow": null,
            "grid_area": null,
            "grid_template_columns": null,
            "flex": null,
            "_model_name": "LayoutModel",
            "justify_items": null,
            "grid_row": null,
            "max_height": null,
            "align_content": null,
            "visibility": null,
            "align_self": null,
            "height": null,
            "min_height": null,
            "padding": null,
            "grid_auto_rows": null,
            "grid_gap": null,
            "max_width": null,
            "order": null,
            "_view_module_version": "1.2.0",
            "grid_template_areas": null,
            "object_position": null,
            "object_fit": null,
            "grid_auto_columns": null,
            "margin": null,
            "display": null,
            "left": null
          }
        },
        "3cd4655f06ac4b48a0e50cbdb78f8f54": {
          "model_module": "@jupyter-widgets/controls",
          "model_name": "HBoxModel",
          "state": {
            "_view_name": "HBoxView",
            "_dom_classes": [],
            "_model_name": "HBoxModel",
            "_view_module": "@jupyter-widgets/controls",
            "_model_module_version": "1.5.0",
            "_view_count": null,
            "_view_module_version": "1.5.0",
            "box_style": "",
            "layout": "IPY_MODEL_0e757d28f64d45078f18f73b5e96ed95",
            "_model_module": "@jupyter-widgets/controls",
            "children": [
              "IPY_MODEL_d4633e61b0534d86a31f0f626949fdd4",
              "IPY_MODEL_318a48d36e1c4ca7b9f5758cce65e0bd"
            ]
          }
        },
        "0e757d28f64d45078f18f73b5e96ed95": {
          "model_module": "@jupyter-widgets/base",
          "model_name": "LayoutModel",
          "state": {
            "_view_name": "LayoutView",
            "grid_template_rows": null,
            "right": null,
            "justify_content": null,
            "_view_module": "@jupyter-widgets/base",
            "overflow": null,
            "_model_module_version": "1.2.0",
            "_view_count": null,
            "flex_flow": null,
            "width": null,
            "min_width": null,
            "border": null,
            "align_items": null,
            "bottom": null,
            "_model_module": "@jupyter-widgets/base",
            "top": null,
            "grid_column": null,
            "overflow_y": null,
            "overflow_x": null,
            "grid_auto_flow": null,
            "grid_area": null,
            "grid_template_columns": null,
            "flex": null,
            "_model_name": "LayoutModel",
            "justify_items": null,
            "grid_row": null,
            "max_height": null,
            "align_content": null,
            "visibility": null,
            "align_self": null,
            "height": null,
            "min_height": null,
            "padding": null,
            "grid_auto_rows": null,
            "grid_gap": null,
            "max_width": null,
            "order": null,
            "_view_module_version": "1.2.0",
            "grid_template_areas": null,
            "object_position": null,
            "object_fit": null,
            "grid_auto_columns": null,
            "margin": null,
            "display": null,
            "left": null
          }
        },
        "d4633e61b0534d86a31f0f626949fdd4": {
          "model_module": "@jupyter-widgets/controls",
          "model_name": "FloatProgressModel",
          "state": {
            "_view_name": "ProgressView",
            "style": "IPY_MODEL_a2f0041933444e13bed6665233daefa2",
            "_dom_classes": [],
            "description": "Validation: stsb: 100%",
            "_model_name": "FloatProgressModel",
            "bar_style": "success",
            "max": 188,
            "_view_module": "@jupyter-widgets/controls",
            "_model_module_version": "1.5.0",
            "value": 188,
            "_view_count": null,
            "_view_module_version": "1.5.0",
            "orientation": "horizontal",
            "min": 0,
            "description_tooltip": null,
            "_model_module": "@jupyter-widgets/controls",
            "layout": "IPY_MODEL_d1601111cdbb43d3974938e485bfa2e3"
          }
        },
        "318a48d36e1c4ca7b9f5758cce65e0bd": {
          "model_module": "@jupyter-widgets/controls",
          "model_name": "HTMLModel",
          "state": {
            "_view_name": "HTMLView",
            "style": "IPY_MODEL_6ad364874c614ddda46bb655a2564005",
            "_dom_classes": [],
            "description": "",
            "_model_name": "HTMLModel",
            "placeholder": "​",
            "_view_module": "@jupyter-widgets/controls",
            "_model_module_version": "1.5.0",
            "value": " 188/188 [00:12&lt;00:00, 15.29it/s]",
            "_view_count": null,
            "_view_module_version": "1.5.0",
            "description_tooltip": null,
            "_model_module": "@jupyter-widgets/controls",
            "layout": "IPY_MODEL_d2424a0e580e4d4c8909c700ce4d142c"
          }
        },
        "a2f0041933444e13bed6665233daefa2": {
          "model_module": "@jupyter-widgets/controls",
          "model_name": "ProgressStyleModel",
          "state": {
            "_view_name": "StyleView",
            "_model_name": "ProgressStyleModel",
            "description_width": "initial",
            "_view_module": "@jupyter-widgets/base",
            "_model_module_version": "1.5.0",
            "_view_count": null,
            "_view_module_version": "1.2.0",
            "bar_color": null,
            "_model_module": "@jupyter-widgets/controls"
          }
        },
        "d1601111cdbb43d3974938e485bfa2e3": {
          "model_module": "@jupyter-widgets/base",
          "model_name": "LayoutModel",
          "state": {
            "_view_name": "LayoutView",
            "grid_template_rows": null,
            "right": null,
            "justify_content": null,
            "_view_module": "@jupyter-widgets/base",
            "overflow": null,
            "_model_module_version": "1.2.0",
            "_view_count": null,
            "flex_flow": null,
            "width": null,
            "min_width": null,
            "border": null,
            "align_items": null,
            "bottom": null,
            "_model_module": "@jupyter-widgets/base",
            "top": null,
            "grid_column": null,
            "overflow_y": null,
            "overflow_x": null,
            "grid_auto_flow": null,
            "grid_area": null,
            "grid_template_columns": null,
            "flex": null,
            "_model_name": "LayoutModel",
            "justify_items": null,
            "grid_row": null,
            "max_height": null,
            "align_content": null,
            "visibility": null,
            "align_self": null,
            "height": null,
            "min_height": null,
            "padding": null,
            "grid_auto_rows": null,
            "grid_gap": null,
            "max_width": null,
            "order": null,
            "_view_module_version": "1.2.0",
            "grid_template_areas": null,
            "object_position": null,
            "object_fit": null,
            "grid_auto_columns": null,
            "margin": null,
            "display": null,
            "left": null
          }
        },
        "6ad364874c614ddda46bb655a2564005": {
          "model_module": "@jupyter-widgets/controls",
          "model_name": "DescriptionStyleModel",
          "state": {
            "_view_name": "StyleView",
            "_model_name": "DescriptionStyleModel",
            "description_width": "",
            "_view_module": "@jupyter-widgets/base",
            "_model_module_version": "1.5.0",
            "_view_count": null,
            "_view_module_version": "1.2.0",
            "_model_module": "@jupyter-widgets/controls"
          }
        },
        "d2424a0e580e4d4c8909c700ce4d142c": {
          "model_module": "@jupyter-widgets/base",
          "model_name": "LayoutModel",
          "state": {
            "_view_name": "LayoutView",
            "grid_template_rows": null,
            "right": null,
            "justify_content": null,
            "_view_module": "@jupyter-widgets/base",
            "overflow": null,
            "_model_module_version": "1.2.0",
            "_view_count": null,
            "flex_flow": null,
            "width": null,
            "min_width": null,
            "border": null,
            "align_items": null,
            "bottom": null,
            "_model_module": "@jupyter-widgets/base",
            "top": null,
            "grid_column": null,
            "overflow_y": null,
            "overflow_x": null,
            "grid_auto_flow": null,
            "grid_area": null,
            "grid_template_columns": null,
            "flex": null,
            "_model_name": "LayoutModel",
            "justify_items": null,
            "grid_row": null,
            "max_height": null,
            "align_content": null,
            "visibility": null,
            "align_self": null,
            "height": null,
            "min_height": null,
            "padding": null,
            "grid_auto_rows": null,
            "grid_gap": null,
            "max_width": null,
            "order": null,
            "_view_module_version": "1.2.0",
            "grid_template_areas": null,
            "object_position": null,
            "object_fit": null,
            "grid_auto_columns": null,
            "margin": null,
            "display": null,
            "left": null
          }
        },
        "bb3128fab81945f78b7b280151adfb87": {
          "model_module": "@jupyter-widgets/controls",
          "model_name": "HBoxModel",
          "state": {
            "_view_name": "HBoxView",
            "_dom_classes": [],
            "_model_name": "HBoxModel",
            "_view_module": "@jupyter-widgets/controls",
            "_model_module_version": "1.5.0",
            "_view_count": null,
            "_view_module_version": "1.5.0",
            "box_style": "",
            "layout": "IPY_MODEL_47a6e04e641845b395ee98f1dfa422be",
            "_model_module": "@jupyter-widgets/controls",
            "children": [
              "IPY_MODEL_4818fd9b38fe46399c255cf772598ecb",
              "IPY_MODEL_3f558964c6aa4faca3e2f58ed95c98bd"
            ]
          }
        },
        "47a6e04e641845b395ee98f1dfa422be": {
          "model_module": "@jupyter-widgets/base",
          "model_name": "LayoutModel",
          "state": {
            "_view_name": "LayoutView",
            "grid_template_rows": null,
            "right": null,
            "justify_content": null,
            "_view_module": "@jupyter-widgets/base",
            "overflow": null,
            "_model_module_version": "1.2.0",
            "_view_count": null,
            "flex_flow": null,
            "width": null,
            "min_width": null,
            "border": null,
            "align_items": null,
            "bottom": null,
            "_model_module": "@jupyter-widgets/base",
            "top": null,
            "grid_column": null,
            "overflow_y": null,
            "overflow_x": null,
            "grid_auto_flow": null,
            "grid_area": null,
            "grid_template_columns": null,
            "flex": null,
            "_model_name": "LayoutModel",
            "justify_items": null,
            "grid_row": null,
            "max_height": null,
            "align_content": null,
            "visibility": null,
            "align_self": null,
            "height": null,
            "min_height": null,
            "padding": null,
            "grid_auto_rows": null,
            "grid_gap": null,
            "max_width": null,
            "order": null,
            "_view_module_version": "1.2.0",
            "grid_template_areas": null,
            "object_position": null,
            "object_fit": null,
            "grid_auto_columns": null,
            "margin": null,
            "display": null,
            "left": null
          }
        },
        "4818fd9b38fe46399c255cf772598ecb": {
          "model_module": "@jupyter-widgets/controls",
          "model_name": "FloatProgressModel",
          "state": {
            "_view_name": "ProgressView",
            "style": "IPY_MODEL_825b98b4a66f41dab7a04d777ec4697d",
            "_dom_classes": [],
            "description": "Validation: commonsense_qa: 100%",
            "_model_name": "FloatProgressModel",
            "bar_style": "success",
            "max": 153,
            "_view_module": "@jupyter-widgets/controls",
            "_model_module_version": "1.5.0",
            "value": 153,
            "_view_count": null,
            "_view_module_version": "1.5.0",
            "orientation": "horizontal",
            "min": 0,
            "description_tooltip": null,
            "_model_module": "@jupyter-widgets/controls",
            "layout": "IPY_MODEL_7e61d56316ba45f29bd3ae6c2ee8e209"
          }
        },
        "3f558964c6aa4faca3e2f58ed95c98bd": {
          "model_module": "@jupyter-widgets/controls",
          "model_name": "HTMLModel",
          "state": {
            "_view_name": "HTMLView",
            "style": "IPY_MODEL_82a2975f7fab440da77d865a279ae0ba",
            "_dom_classes": [],
            "description": "",
            "_model_name": "HTMLModel",
            "placeholder": "​",
            "_view_module": "@jupyter-widgets/controls",
            "_model_module_version": "1.5.0",
            "value": " 153/153 [00:46&lt;00:00,  3.28it/s]",
            "_view_count": null,
            "_view_module_version": "1.5.0",
            "description_tooltip": null,
            "_model_module": "@jupyter-widgets/controls",
            "layout": "IPY_MODEL_b7e884754a8c4ef28498935e65cd497f"
          }
        },
        "825b98b4a66f41dab7a04d777ec4697d": {
          "model_module": "@jupyter-widgets/controls",
          "model_name": "ProgressStyleModel",
          "state": {
            "_view_name": "StyleView",
            "_model_name": "ProgressStyleModel",
            "description_width": "initial",
            "_view_module": "@jupyter-widgets/base",
            "_model_module_version": "1.5.0",
            "_view_count": null,
            "_view_module_version": "1.2.0",
            "bar_color": null,
            "_model_module": "@jupyter-widgets/controls"
          }
        },
        "7e61d56316ba45f29bd3ae6c2ee8e209": {
          "model_module": "@jupyter-widgets/base",
          "model_name": "LayoutModel",
          "state": {
            "_view_name": "LayoutView",
            "grid_template_rows": null,
            "right": null,
            "justify_content": null,
            "_view_module": "@jupyter-widgets/base",
            "overflow": null,
            "_model_module_version": "1.2.0",
            "_view_count": null,
            "flex_flow": null,
            "width": null,
            "min_width": null,
            "border": null,
            "align_items": null,
            "bottom": null,
            "_model_module": "@jupyter-widgets/base",
            "top": null,
            "grid_column": null,
            "overflow_y": null,
            "overflow_x": null,
            "grid_auto_flow": null,
            "grid_area": null,
            "grid_template_columns": null,
            "flex": null,
            "_model_name": "LayoutModel",
            "justify_items": null,
            "grid_row": null,
            "max_height": null,
            "align_content": null,
            "visibility": null,
            "align_self": null,
            "height": null,
            "min_height": null,
            "padding": null,
            "grid_auto_rows": null,
            "grid_gap": null,
            "max_width": null,
            "order": null,
            "_view_module_version": "1.2.0",
            "grid_template_areas": null,
            "object_position": null,
            "object_fit": null,
            "grid_auto_columns": null,
            "margin": null,
            "display": null,
            "left": null
          }
        },
        "82a2975f7fab440da77d865a279ae0ba": {
          "model_module": "@jupyter-widgets/controls",
          "model_name": "DescriptionStyleModel",
          "state": {
            "_view_name": "StyleView",
            "_model_name": "DescriptionStyleModel",
            "description_width": "",
            "_view_module": "@jupyter-widgets/base",
            "_model_module_version": "1.5.0",
            "_view_count": null,
            "_view_module_version": "1.2.0",
            "_model_module": "@jupyter-widgets/controls"
          }
        },
        "b7e884754a8c4ef28498935e65cd497f": {
          "model_module": "@jupyter-widgets/base",
          "model_name": "LayoutModel",
          "state": {
            "_view_name": "LayoutView",
            "grid_template_rows": null,
            "right": null,
            "justify_content": null,
            "_view_module": "@jupyter-widgets/base",
            "overflow": null,
            "_model_module_version": "1.2.0",
            "_view_count": null,
            "flex_flow": null,
            "width": null,
            "min_width": null,
            "border": null,
            "align_items": null,
            "bottom": null,
            "_model_module": "@jupyter-widgets/base",
            "top": null,
            "grid_column": null,
            "overflow_y": null,
            "overflow_x": null,
            "grid_auto_flow": null,
            "grid_area": null,
            "grid_template_columns": null,
            "flex": null,
            "_model_name": "LayoutModel",
            "justify_items": null,
            "grid_row": null,
            "max_height": null,
            "align_content": null,
            "visibility": null,
            "align_self": null,
            "height": null,
            "min_height": null,
            "padding": null,
            "grid_auto_rows": null,
            "grid_gap": null,
            "max_width": null,
            "order": null,
            "_view_module_version": "1.2.0",
            "grid_template_areas": null,
            "object_position": null,
            "object_fit": null,
            "grid_auto_columns": null,
            "margin": null,
            "display": null,
            "left": null
          }
        },
        "8cffa46764ca47308117e1a13813565b": {
          "model_module": "@jupyter-widgets/controls",
          "model_name": "HBoxModel",
          "state": {
            "_view_name": "HBoxView",
            "_dom_classes": [],
            "_model_name": "HBoxModel",
            "_view_module": "@jupyter-widgets/controls",
            "_model_module_version": "1.5.0",
            "_view_count": null,
            "_view_module_version": "1.5.0",
            "box_style": "",
            "layout": "IPY_MODEL_0420b4274988428a9059d1453b3459d1",
            "_model_module": "@jupyter-widgets/controls",
            "children": [
              "IPY_MODEL_7705fb23b72b427699af801ad02586d3",
              "IPY_MODEL_f60d733f9bfb4b0fa54c9affaa87b025"
            ]
          }
        },
        "0420b4274988428a9059d1453b3459d1": {
          "model_module": "@jupyter-widgets/base",
          "model_name": "LayoutModel",
          "state": {
            "_view_name": "LayoutView",
            "grid_template_rows": null,
            "right": null,
            "justify_content": null,
            "_view_module": "@jupyter-widgets/base",
            "overflow": null,
            "_model_module_version": "1.2.0",
            "_view_count": null,
            "flex_flow": null,
            "width": null,
            "min_width": null,
            "border": null,
            "align_items": null,
            "bottom": null,
            "_model_module": "@jupyter-widgets/base",
            "top": null,
            "grid_column": null,
            "overflow_y": null,
            "overflow_x": null,
            "grid_auto_flow": null,
            "grid_area": null,
            "grid_template_columns": null,
            "flex": null,
            "_model_name": "LayoutModel",
            "justify_items": null,
            "grid_row": null,
            "max_height": null,
            "align_content": null,
            "visibility": null,
            "align_self": null,
            "height": null,
            "min_height": null,
            "padding": null,
            "grid_auto_rows": null,
            "grid_gap": null,
            "max_width": null,
            "order": null,
            "_view_module_version": "1.2.0",
            "grid_template_areas": null,
            "object_position": null,
            "object_fit": null,
            "grid_auto_columns": null,
            "margin": null,
            "display": null,
            "left": null
          }
        },
        "7705fb23b72b427699af801ad02586d3": {
          "model_module": "@jupyter-widgets/controls",
          "model_name": "FloatProgressModel",
          "state": {
            "_view_name": "ProgressView",
            "style": "IPY_MODEL_329373b3b94047ff9e0fbfd90731edf1",
            "_dom_classes": [],
            "description": "Downloading: 100%",
            "_model_name": "FloatProgressModel",
            "bar_style": "success",
            "max": 4151,
            "_view_module": "@jupyter-widgets/controls",
            "_model_module_version": "1.5.0",
            "value": 4151,
            "_view_count": null,
            "_view_module_version": "1.5.0",
            "orientation": "horizontal",
            "min": 0,
            "description_tooltip": null,
            "_model_module": "@jupyter-widgets/controls",
            "layout": "IPY_MODEL_b9cf94be926547f7b4ee6e04cd3a7ce8"
          }
        },
        "f60d733f9bfb4b0fa54c9affaa87b025": {
          "model_module": "@jupyter-widgets/controls",
          "model_name": "HTMLModel",
          "state": {
            "_view_name": "HTMLView",
            "style": "IPY_MODEL_14f66a79f38c4b99916b6cb62ea736b7",
            "_dom_classes": [],
            "description": "",
            "_model_name": "HTMLModel",
            "placeholder": "​",
            "_view_module": "@jupyter-widgets/controls",
            "_model_module_version": "1.5.0",
            "value": " 4.15k/4.15k [2:28:51&lt;00:00, 2.15s/B]",
            "_view_count": null,
            "_view_module_version": "1.5.0",
            "description_tooltip": null,
            "_model_module": "@jupyter-widgets/controls",
            "layout": "IPY_MODEL_db6ed11e6fe94edf9568bc76135f5b8b"
          }
        },
        "329373b3b94047ff9e0fbfd90731edf1": {
          "model_module": "@jupyter-widgets/controls",
          "model_name": "ProgressStyleModel",
          "state": {
            "_view_name": "StyleView",
            "_model_name": "ProgressStyleModel",
            "description_width": "initial",
            "_view_module": "@jupyter-widgets/base",
            "_model_module_version": "1.5.0",
            "_view_count": null,
            "_view_module_version": "1.2.0",
            "bar_color": null,
            "_model_module": "@jupyter-widgets/controls"
          }
        },
        "b9cf94be926547f7b4ee6e04cd3a7ce8": {
          "model_module": "@jupyter-widgets/base",
          "model_name": "LayoutModel",
          "state": {
            "_view_name": "LayoutView",
            "grid_template_rows": null,
            "right": null,
            "justify_content": null,
            "_view_module": "@jupyter-widgets/base",
            "overflow": null,
            "_model_module_version": "1.2.0",
            "_view_count": null,
            "flex_flow": null,
            "width": null,
            "min_width": null,
            "border": null,
            "align_items": null,
            "bottom": null,
            "_model_module": "@jupyter-widgets/base",
            "top": null,
            "grid_column": null,
            "overflow_y": null,
            "overflow_x": null,
            "grid_auto_flow": null,
            "grid_area": null,
            "grid_template_columns": null,
            "flex": null,
            "_model_name": "LayoutModel",
            "justify_items": null,
            "grid_row": null,
            "max_height": null,
            "align_content": null,
            "visibility": null,
            "align_self": null,
            "height": null,
            "min_height": null,
            "padding": null,
            "grid_auto_rows": null,
            "grid_gap": null,
            "max_width": null,
            "order": null,
            "_view_module_version": "1.2.0",
            "grid_template_areas": null,
            "object_position": null,
            "object_fit": null,
            "grid_auto_columns": null,
            "margin": null,
            "display": null,
            "left": null
          }
        },
        "14f66a79f38c4b99916b6cb62ea736b7": {
          "model_module": "@jupyter-widgets/controls",
          "model_name": "DescriptionStyleModel",
          "state": {
            "_view_name": "StyleView",
            "_model_name": "DescriptionStyleModel",
            "description_width": "",
            "_view_module": "@jupyter-widgets/base",
            "_model_module_version": "1.5.0",
            "_view_count": null,
            "_view_module_version": "1.2.0",
            "_model_module": "@jupyter-widgets/controls"
          }
        },
        "db6ed11e6fe94edf9568bc76135f5b8b": {
          "model_module": "@jupyter-widgets/base",
          "model_name": "LayoutModel",
          "state": {
            "_view_name": "LayoutView",
            "grid_template_rows": null,
            "right": null,
            "justify_content": null,
            "_view_module": "@jupyter-widgets/base",
            "overflow": null,
            "_model_module_version": "1.2.0",
            "_view_count": null,
            "flex_flow": null,
            "width": null,
            "min_width": null,
            "border": null,
            "align_items": null,
            "bottom": null,
            "_model_module": "@jupyter-widgets/base",
            "top": null,
            "grid_column": null,
            "overflow_y": null,
            "overflow_x": null,
            "grid_auto_flow": null,
            "grid_area": null,
            "grid_template_columns": null,
            "flex": null,
            "_model_name": "LayoutModel",
            "justify_items": null,
            "grid_row": null,
            "max_height": null,
            "align_content": null,
            "visibility": null,
            "align_self": null,
            "height": null,
            "min_height": null,
            "padding": null,
            "grid_auto_rows": null,
            "grid_gap": null,
            "max_width": null,
            "order": null,
            "_view_module_version": "1.2.0",
            "grid_template_areas": null,
            "object_position": null,
            "object_fit": null,
            "grid_auto_columns": null,
            "margin": null,
            "display": null,
            "left": null
          }
        }
      }
    }
  },
  "cells": [
    {
      "cell_type": "markdown",
      "metadata": {
        "id": "view-in-github",
        "colab_type": "text"
      },
      "source": [
        "<a href=\"https://colab.research.google.com/github/chettkulkarni/advanced_deep_learning/blob/master/Assignment4/Assignment4_Multi_Task_Learning.ipynb\" target=\"_parent\"><img src=\"https://colab.research.google.com/assets/colab-badge.svg\" alt=\"Open In Colab\"/></a>"
      ]
    },
    {
      "cell_type": "markdown",
      "metadata": {
        "id": "2ZcKfgWP496z"
      },
      "source": [
        "# Multi Task Learning"
      ]
    },
    {
      "cell_type": "markdown",
      "metadata": {
        "id": "1XniDTKDpFB1"
      },
      "source": [
        "In this collab we we will show how to use both the new NLP library as well as the Trainer for a multi-task training scheme."
      ]
    },
    {
      "cell_type": "markdown",
      "metadata": {
        "id": "ttnLRH775QCz"
      },
      "source": [
        "# Setting up library and importing required libraries"
      ]
    },
    {
      "cell_type": "code",
      "metadata": {
        "id": "Uh7VQn1Hsehk",
        "outputId": "60722e55-3bf6-427d-a463-9f5f54619fe6",
        "colab": {
          "base_uri": "https://localhost:8080/"
        }
      },
      "source": [
        "#!pip install git+https://github.com/huggingface/nlp\n",
        "!pip install transformers==2.11.0\n",
        "!pip install nlp==0.2.0"
      ],
      "execution_count": null,
      "outputs": [
        {
          "output_type": "stream",
          "text": [
            "Collecting transformers==2.11.0\n",
            "\u001b[?25l  Downloading https://files.pythonhosted.org/packages/48/35/ad2c5b1b8f99feaaf9d7cdadaeef261f098c6e1a6a2935d4d07662a6b780/transformers-2.11.0-py3-none-any.whl (674kB)\n",
            "\u001b[K     |████████████████████████████████| 675kB 11.1MB/s \n",
            "\u001b[?25hRequirement already satisfied: numpy in /usr/local/lib/python3.6/dist-packages (from transformers==2.11.0) (1.18.5)\n",
            "Requirement already satisfied: packaging in /usr/local/lib/python3.6/dist-packages (from transformers==2.11.0) (20.4)\n",
            "Collecting sentencepiece\n",
            "\u001b[?25l  Downloading https://files.pythonhosted.org/packages/e5/2d/6d4ca4bef9a67070fa1cac508606328329152b1df10bdf31fb6e4e727894/sentencepiece-0.1.94-cp36-cp36m-manylinux2014_x86_64.whl (1.1MB)\n",
            "\u001b[K     |████████████████████████████████| 1.1MB 47.4MB/s \n",
            "\u001b[?25hRequirement already satisfied: requests in /usr/local/lib/python3.6/dist-packages (from transformers==2.11.0) (2.23.0)\n",
            "Collecting sacremoses\n",
            "\u001b[?25l  Downloading https://files.pythonhosted.org/packages/7d/34/09d19aff26edcc8eb2a01bed8e98f13a1537005d31e95233fd48216eed10/sacremoses-0.0.43.tar.gz (883kB)\n",
            "\u001b[K     |████████████████████████████████| 890kB 54.2MB/s \n",
            "\u001b[?25hCollecting tokenizers==0.7.0\n",
            "\u001b[?25l  Downloading https://files.pythonhosted.org/packages/14/e5/a26eb4716523808bb0a799fcfdceb6ebf77a18169d9591b2f46a9adb87d9/tokenizers-0.7.0-cp36-cp36m-manylinux1_x86_64.whl (3.8MB)\n",
            "\u001b[K     |████████████████████████████████| 3.8MB 54.6MB/s \n",
            "\u001b[?25hRequirement already satisfied: tqdm>=4.27 in /usr/local/lib/python3.6/dist-packages (from transformers==2.11.0) (4.41.1)\n",
            "Requirement already satisfied: regex!=2019.12.17 in /usr/local/lib/python3.6/dist-packages (from transformers==2.11.0) (2019.12.20)\n",
            "Requirement already satisfied: dataclasses; python_version < \"3.7\" in /usr/local/lib/python3.6/dist-packages (from transformers==2.11.0) (0.7)\n",
            "Requirement already satisfied: filelock in /usr/local/lib/python3.6/dist-packages (from transformers==2.11.0) (3.0.12)\n",
            "Requirement already satisfied: pyparsing>=2.0.2 in /usr/local/lib/python3.6/dist-packages (from packaging->transformers==2.11.0) (2.4.7)\n",
            "Requirement already satisfied: six in /usr/local/lib/python3.6/dist-packages (from packaging->transformers==2.11.0) (1.15.0)\n",
            "Requirement already satisfied: idna<3,>=2.5 in /usr/local/lib/python3.6/dist-packages (from requests->transformers==2.11.0) (2.10)\n",
            "Requirement already satisfied: urllib3!=1.25.0,!=1.25.1,<1.26,>=1.21.1 in /usr/local/lib/python3.6/dist-packages (from requests->transformers==2.11.0) (1.24.3)\n",
            "Requirement already satisfied: chardet<4,>=3.0.2 in /usr/local/lib/python3.6/dist-packages (from requests->transformers==2.11.0) (3.0.4)\n",
            "Requirement already satisfied: certifi>=2017.4.17 in /usr/local/lib/python3.6/dist-packages (from requests->transformers==2.11.0) (2020.6.20)\n",
            "Requirement already satisfied: click in /usr/local/lib/python3.6/dist-packages (from sacremoses->transformers==2.11.0) (7.1.2)\n",
            "Requirement already satisfied: joblib in /usr/local/lib/python3.6/dist-packages (from sacremoses->transformers==2.11.0) (0.17.0)\n",
            "Building wheels for collected packages: sacremoses\n",
            "  Building wheel for sacremoses (setup.py) ... \u001b[?25l\u001b[?25hdone\n",
            "  Created wheel for sacremoses: filename=sacremoses-0.0.43-cp36-none-any.whl size=893257 sha256=9c72646f0b07226ec73cf25a0586155a7192f342bfe644f4d26efd9648fcaa4d\n",
            "  Stored in directory: /root/.cache/pip/wheels/29/3c/fd/7ce5c3f0666dab31a50123635e6fb5e19ceb42ce38d4e58f45\n",
            "Successfully built sacremoses\n",
            "Installing collected packages: sentencepiece, sacremoses, tokenizers, transformers\n",
            "Successfully installed sacremoses-0.0.43 sentencepiece-0.1.94 tokenizers-0.7.0 transformers-2.11.0\n",
            "Collecting nlp==0.2.0\n",
            "\u001b[?25l  Downloading https://files.pythonhosted.org/packages/9c/69/17c95e9bdb431bb5102f331d3d34e0f3aabef14a8041690ad72c2b11d1d0/nlp-0.2.0-py3-none-any.whl (857kB)\n",
            "\u001b[K     |████████████████████████████████| 860kB 9.1MB/s \n",
            "\u001b[?25hRequirement already satisfied: requests>=2.19.0 in /usr/local/lib/python3.6/dist-packages (from nlp==0.2.0) (2.23.0)\n",
            "Requirement already satisfied: tqdm>=4.27 in /usr/local/lib/python3.6/dist-packages (from nlp==0.2.0) (4.41.1)\n",
            "Requirement already satisfied: dataclasses; python_version < \"3.7\" in /usr/local/lib/python3.6/dist-packages (from nlp==0.2.0) (0.7)\n",
            "Collecting pyarrow>=0.16.0\n",
            "\u001b[?25l  Downloading https://files.pythonhosted.org/packages/d7/e1/27958a70848f8f7089bff8d6ebe42519daf01f976d28b481e1bfd52c8097/pyarrow-2.0.0-cp36-cp36m-manylinux2014_x86_64.whl (17.7MB)\n",
            "\u001b[K     |████████████████████████████████| 17.7MB 200kB/s \n",
            "\u001b[?25hRequirement already satisfied: filelock in /usr/local/lib/python3.6/dist-packages (from nlp==0.2.0) (3.0.12)\n",
            "Requirement already satisfied: numpy in /usr/local/lib/python3.6/dist-packages (from nlp==0.2.0) (1.18.5)\n",
            "Requirement already satisfied: dill in /usr/local/lib/python3.6/dist-packages (from nlp==0.2.0) (0.3.2)\n",
            "Requirement already satisfied: idna<3,>=2.5 in /usr/local/lib/python3.6/dist-packages (from requests>=2.19.0->nlp==0.2.0) (2.10)\n",
            "Requirement already satisfied: certifi>=2017.4.17 in /usr/local/lib/python3.6/dist-packages (from requests>=2.19.0->nlp==0.2.0) (2020.6.20)\n",
            "Requirement already satisfied: urllib3!=1.25.0,!=1.25.1,<1.26,>=1.21.1 in /usr/local/lib/python3.6/dist-packages (from requests>=2.19.0->nlp==0.2.0) (1.24.3)\n",
            "Requirement already satisfied: chardet<4,>=3.0.2 in /usr/local/lib/python3.6/dist-packages (from requests>=2.19.0->nlp==0.2.0) (3.0.4)\n",
            "Installing collected packages: pyarrow, nlp\n",
            "  Found existing installation: pyarrow 0.14.1\n",
            "    Uninstalling pyarrow-0.14.1:\n",
            "      Successfully uninstalled pyarrow-0.14.1\n",
            "Successfully installed nlp-0.2.0 pyarrow-2.0.0\n"
          ],
          "name": "stdout"
        }
      ]
    },
    {
      "cell_type": "code",
      "metadata": {
        "id": "KiruCFQAse6l"
      },
      "source": [
        "import numpy as np\n",
        "import torch\n",
        "import torch.nn as nn\n",
        "import transformers\n",
        "import nlp\n",
        "import logging\n",
        "logging.basicConfig(level=logging.INFO)"
      ],
      "execution_count": null,
      "outputs": []
    },
    {
      "cell_type": "markdown",
      "metadata": {
        "id": "VvSYf9X95T9Y"
      },
      "source": [
        "# Fetching Data\n",
        "\n",
        "Details of the data\n",
        "\n",
        "To showcase our multi-task functionality, we will choose tasks of different formats:\n",
        "\n",
        "**STS-B**: A two-sentece textual similarity scoring task. (Prediction is a real number between 1 and 5)\n",
        "\n",
        "**RTE**: A two-sentence natural language entailment task. (Prediction is one of two classes)\n",
        "\n",
        "**Commonsense QA**: A multiple-choice question-answering task. (Each example consists of 5 seperate text inputs, prediction is which one of the 5 choices is correct)\n",
        "\n",
        "\n",
        "source: [Go Here](https://colab.research.google.com/github/zphang/zphang.github.io/blob/master/files/notebooks/Multi_task_Training_with_Transformers_NLP.ipynb#scrollTo=HXdgg0ucNGvj)"
      ]
    },
    {
      "cell_type": "code",
      "metadata": {
        "id": "iKrhQ59Issz-",
        "outputId": "a76cbd31-f1b7-42aa-a283-f44c6ecdcf20",
        "colab": {
          "base_uri": "https://localhost:8080/",
          "height": 1000,
          "referenced_widgets": [
            "e3c1b7e0b174481fb7a0e12ace332445",
            "5733678b9cbd4ab283c82a77ef465798",
            "743f58566195495d8319a7ad0a683a4b",
            "0313489d341f4136ac8065e151169a22",
            "92be97921790406daf652e7c58c79501",
            "82e14dce3942468097336be32c8fad1b",
            "7f55a579ebdf4786a8e222cfeab5554e",
            "be19619e18af4bbfa0b5c8112fabc6ff",
            "be0f70b62a1047449517b16050fad183",
            "4d4b550ad1c04009b3259f0f6a8a46bd",
            "6f2fa4a2a11f4f66a558033418826a5e",
            "d4928bfad3724a67831196b2e8df5d8c",
            "a8d1f25be9fd41d7a038a60e371f4372",
            "497018b272ff40d785e6472a1bc8d3cf",
            "74dd5b4310d646bba10b198e143fbf9d",
            "a1be81d320024104ac6e1761c0dde42f",
            "4a0f0c2d6a7e48a6944f6142b193297b",
            "34161fd5543941a080f9adbbbf2ba0d2",
            "5dbb5ebe8b9b4481aab9131231718edd",
            "ea9125357d784caa947821ebe17ebd6f",
            "a3198d70d2404948af70b6f7f5ed404a",
            "a5356e18d18d4c53b0202183518efaef",
            "c5aa3a916b9c4dbf9137c3415b34be42",
            "eb508e5287aa470c8b62d772ac4b2667",
            "e0b9dee2a9a4481fbe3a000a61692770",
            "c089cd51711245c28a9a22c7624c165a",
            "b7fb255dcb6d4eafb4c5599e58d27568",
            "2ca4439534b44e3a9a788dae39a085c3",
            "0e7d5f7564514ff796f4a23b2d239056",
            "0a89f1155e0745c28a93b813404b248f",
            "3d02043f101f4fdf8ab7fe7b265cc4e8",
            "cc810c231c424421b6c04b998200ef61",
            "c293fe8c910842f08c733d9139a07d68",
            "20ab418d63124b62a9801c8faa4a5d93",
            "04acdc083494485eae630d1b9f9ba427",
            "f66fa9ba80d345cf8a6f691bd12eb1ad",
            "9e71393cdabc43e9b256354c365687bd",
            "16d6dbf52e1e4701ad3fda963db34ff0",
            "c9ccc3e7dd334121a018de8bd1cbb2db",
            "fb6b3ac715eb4fda963a4b2a6c45f597",
            "28037a600f4b4efdae29f07ed1d298a0",
            "08ba2ee19d5949d0b88e4bc59b999f62",
            "bccc8ea9b893413b8023c80ef7684a63",
            "dc8f2f9c46284213a61feed1ed01864d",
            "422069d5181a4c0bb9152cf24a1bec7f",
            "ea66c979d74d499d8d05bcd0bd588757",
            "eb5e5ad6a27547e19768e3f7fd4e07d0",
            "6616f7532e0a457da690fe427268a68f",
            "04f6a90db7c54b89a0c8227ef28b42b7",
            "992fe43c6c6047a18b61515e3bf0835f",
            "00866835ce6e4ec6a4449330d8b12dfe",
            "6b6542f0545641399f1fad340f47ac79",
            "f05ab67dc0314273a9eb1195fc22c73e",
            "f0edc2c7b7964e0d85278859033a4563",
            "3d6d35fb9b7b458a9a42e6d6b84d5d93",
            "7c67fd7773cb41e1985b4cb91514cef3",
            "9feb9b8631ce4b259cbd7a0e6b94014a",
            "3091d746fe054e14a12b9ca6bf0f8957",
            "843ba675d47645e980632c946e0e6491",
            "6abd4cb0aa63418890dbd8ef64432e96",
            "d2da6877e94b4e098a603748edeeaaeb",
            "8c0952b7ab5f4bcaa3166e9a26231224",
            "d7aaa04ad6814f17a08b088e9e239b23",
            "3f96486b5bc74ca7b095e334f3b6cc64",
            "52f62882f32e4f89a8941e6dc3ab8cbc",
            "bd4f12c40b1944b0b79ff12fe8970633",
            "e8036906435d470ea1681cd4b822cc00",
            "36489ece6a764213822791bd5a6e6de1",
            "b721cf0a6ce04e4aa5418a7a4c8515c3",
            "6a2e8c1254264453969db04ecc9f3457",
            "ef1831b05aaa41bb8960a9383df53fcf",
            "39e83a6447c1468088f1df537ccd3a3f",
            "341f03803fac4186a359ae366bf9ee45",
            "9e07585521ac4437a4f7425553daa897",
            "1fdac0527a5943ad89da722c7c9b49f6",
            "7b63994021ce4a999adfd6a247e588bc",
            "d8ea2a1b7ab64106890ed76fde0f3e68",
            "0ec6cb38278e45579e672c28c0ace58d",
            "69a96c0e6475488c8f9aea5ab8a39ecc",
            "f9aafbd3e02a49a088c523dd6302bc4b",
            "bf4709ca8ab2421188ec529ab7061804",
            "bd09f32defde428a88f10da607ca62c8",
            "b063d9294f2846f2827c89db6560dfe7",
            "9c0ba3af8288439fb749dc4659a2542c",
            "87e2a0adb7c947c081c1ab83ab2d7866",
            "bb83e0cfe7224561a0abc141c1df3930",
            "743389851e784a5784cf6c62a65c87fd",
            "2d1a6b0b9ff847e0a2550a55ac0bf05f",
            "25721c9e424e4cc9a96636dd9857dd32",
            "ab391e7fba6d4ee9b23bd90e98f1aa5c",
            "d8b6ac8759924f8da2068ebda8948cf1",
            "d50087f1e7914a3d953d4aed091cc212",
            "33900b0f002d47ddb35d251a1f45d488",
            "964c71aa77c04751980636151b6d7efe",
            "5ed940b3ee0b41569cd49882d8966147",
            "361025d6a60743b8aeb8524d55de43c4",
            "d339b6c70f2c40d0952d9ef74f7f2530",
            "4d2c4583ac2443f2ac73a06bf9336660",
            "2e98054ab9d34780a6947327dcf2e09c",
            "0c5c6aa835ac465b93c80cbdfc225d0e",
            "49cdb9c5967d4f75befd19eccd0c25ce",
            "b27d769c57694bcca572045fe2b968c2",
            "8e8d2b7d6fac4beb9f22ed1e001b2f84",
            "d949b7ff949d4ad48ca65b43fa0cc6b6",
            "a03f31f5bff746659ee340c99deeb2d5",
            "99c4336aa3b445d2adc121731ed0294b",
            "41a440c69ac8449395e7bf3eed865f3f",
            "32c23f5d09004900a365b816a15287f2",
            "a02284c9b87449e397118ea6d5d4e7ed",
            "6f205d1129e940b28153691875ade418",
            "48a82c856ab24e4aa98436462e0aa138",
            "396c9d78f75e4590bd30226bfc91974e",
            "b99c532bc11548d9beba5b7e79485bd8",
            "359c0ff8e6b74a93a1509d3f1e3daf5b",
            "be538f6806d64adaab2988e4046890ca",
            "9e46819a6990425d9b91cfc112827020",
            "c2c00c4cf14f4e5488831a54e7564d92",
            "b2470c839de94b36869f9505e64959fa",
            "c4bed0888ab54b03a860feafa9ce42dc",
            "98aac6a80a6244399d8a974d959a9dcf",
            "d2b7b2f2af72499d9f7b60ab21bf00cf",
            "2ccb09e2429b4721bbcad7b30f7c9991",
            "a4cd8e7f0ce04681898d1379e6fada7c",
            "c961ff2bd5d040479e438bdd95d032d9",
            "c91915256e15476dbea37483d237fdd9",
            "de3e64adb1724c90a409ffeee5717368",
            "006e97e0ed1b481ba1de0be2792dd52f",
            "30f373fb900e4124b2327d11acead13b",
            "891e3f0bd89541b4b7bbf74b4e7038fa",
            "74851dc68ab143af91906c3857918cf1",
            "35389d7416ba441cbe43abaf04a96695",
            "4d0463289b964c4eb7fcfd5bb6ba1b9e",
            "06ecfba2a9624cf8b8722bafb17e12da",
            "783b1972bc55446ca4ac23b59c3198f0",
            "9bfa073b62c847f98d5117b9326ea471",
            "0df67e77081543e1a02e607be0cf8de3",
            "bf1660a7a6ea40009a9cb82a3adb122c",
            "b61914f90d974afca5483ea5ff61c8ef",
            "a40a3751d30e4c7e8b0c12e89a1b32c9",
            "18ccb94fd53a4d4badcedffc22ceeaae",
            "4e46234af11b4d7fbd405ef62ef81585",
            "020a21d907ec4f39b7f4fd6c3ddf6821",
            "553fa9ad69fa4013b2b6a64c5e106830",
            "d2e2250d99f249eb8046cfe664521f9f"
          ]
        }
      },
      "source": [
        "dataset_dict = {\n",
        "    \"stsb\": nlp.load_dataset('glue', name=\"stsb\"),\n",
        "    \"rte\": nlp.load_dataset('glue', name=\"rte\"),\n",
        "    \"commonsense_qa\": nlp.load_dataset('commonsense_qa'),\n",
        "}"
      ],
      "execution_count": null,
      "outputs": [
        {
          "output_type": "stream",
          "text": [
            "INFO:filelock:Lock 140359369967432 acquired on /root/.cache/huggingface/datasets/5fe6ab0df8a32a3371b2e6a969d31d855a19563724fb0d0f163748c270c0ac60.2ea96febf19981fae5f13f0a43d4e2aa58bc619bc23acf06de66675f425a5538.py.lock\n",
            "INFO:nlp.utils.file_utils:https://s3.amazonaws.com/datasets.huggingface.co/nlp/datasets/glue/glue.py not found in cache or force_download set to True, downloading to /root/.cache/huggingface/datasets/tmpwr8v6_y1\n"
          ],
          "name": "stderr"
        },
        {
          "output_type": "display_data",
          "data": {
            "application/vnd.jupyter.widget-view+json": {
              "model_id": "e3c1b7e0b174481fb7a0e12ace332445",
              "version_minor": 0,
              "version_major": 2
            },
            "text/plain": [
              "HBox(children=(FloatProgress(value=0.0, description='Downloading', max=28940.0, style=ProgressStyle(descriptio…"
            ]
          },
          "metadata": {
            "tags": []
          }
        },
        {
          "output_type": "stream",
          "text": [
            "INFO:nlp.utils.file_utils:storing https://s3.amazonaws.com/datasets.huggingface.co/nlp/datasets/glue/glue.py in cache at /root/.cache/huggingface/datasets/5fe6ab0df8a32a3371b2e6a969d31d855a19563724fb0d0f163748c270c0ac60.2ea96febf19981fae5f13f0a43d4e2aa58bc619bc23acf06de66675f425a5538.py\n",
            "INFO:nlp.utils.file_utils:creating metadata file for /root/.cache/huggingface/datasets/5fe6ab0df8a32a3371b2e6a969d31d855a19563724fb0d0f163748c270c0ac60.2ea96febf19981fae5f13f0a43d4e2aa58bc619bc23acf06de66675f425a5538.py\n",
            "INFO:filelock:Lock 140359369967432 released on /root/.cache/huggingface/datasets/5fe6ab0df8a32a3371b2e6a969d31d855a19563724fb0d0f163748c270c0ac60.2ea96febf19981fae5f13f0a43d4e2aa58bc619bc23acf06de66675f425a5538.py.lock\n",
            "INFO:filelock:Lock 140358691453416 acquired on /root/.cache/huggingface/datasets/23cce469d199e8c3aa4ce9bf9f72ede6da5dc1f8f73d38715bef3d9ec89cdc6a.c03a84103b958f3697ef9b9ea8027aca1786cd9117647dd97ada56e4d77d0fbe.lock\n",
            "INFO:nlp.utils.file_utils:https://s3.amazonaws.com/datasets.huggingface.co/nlp/datasets/glue/dataset_infos.json not found in cache or force_download set to True, downloading to /root/.cache/huggingface/datasets/tmpk7pklte7\n"
          ],
          "name": "stderr"
        },
        {
          "output_type": "stream",
          "text": [
            "\n"
          ],
          "name": "stdout"
        },
        {
          "output_type": "display_data",
          "data": {
            "application/vnd.jupyter.widget-view+json": {
              "model_id": "be0f70b62a1047449517b16050fad183",
              "version_minor": 0,
              "version_major": 2
            },
            "text/plain": [
              "HBox(children=(FloatProgress(value=0.0, description='Downloading', max=30329.0, style=ProgressStyle(descriptio…"
            ]
          },
          "metadata": {
            "tags": []
          }
        },
        {
          "output_type": "stream",
          "text": [
            "INFO:nlp.utils.file_utils:storing https://s3.amazonaws.com/datasets.huggingface.co/nlp/datasets/glue/dataset_infos.json in cache at /root/.cache/huggingface/datasets/23cce469d199e8c3aa4ce9bf9f72ede6da5dc1f8f73d38715bef3d9ec89cdc6a.c03a84103b958f3697ef9b9ea8027aca1786cd9117647dd97ada56e4d77d0fbe\n",
            "INFO:nlp.utils.file_utils:creating metadata file for /root/.cache/huggingface/datasets/23cce469d199e8c3aa4ce9bf9f72ede6da5dc1f8f73d38715bef3d9ec89cdc6a.c03a84103b958f3697ef9b9ea8027aca1786cd9117647dd97ada56e4d77d0fbe\n",
            "INFO:filelock:Lock 140358691453416 released on /root/.cache/huggingface/datasets/23cce469d199e8c3aa4ce9bf9f72ede6da5dc1f8f73d38715bef3d9ec89cdc6a.c03a84103b958f3697ef9b9ea8027aca1786cd9117647dd97ada56e4d77d0fbe.lock\n",
            "INFO:nlp.load:Checking /root/.cache/huggingface/datasets/5fe6ab0df8a32a3371b2e6a969d31d855a19563724fb0d0f163748c270c0ac60.2ea96febf19981fae5f13f0a43d4e2aa58bc619bc23acf06de66675f425a5538.py for additional imports.\n",
            "INFO:filelock:Lock 140358691453416 acquired on /root/.cache/huggingface/datasets/5fe6ab0df8a32a3371b2e6a969d31d855a19563724fb0d0f163748c270c0ac60.2ea96febf19981fae5f13f0a43d4e2aa58bc619bc23acf06de66675f425a5538.py.lock\n",
            "INFO:nlp.load:Found main folder for dataset https://s3.amazonaws.com/datasets.huggingface.co/nlp/datasets/glue/glue.py at /usr/local/lib/python3.6/dist-packages/nlp/datasets/glue\n",
            "INFO:nlp.load:Creating specific version folder for dataset https://s3.amazonaws.com/datasets.huggingface.co/nlp/datasets/glue/glue.py at /usr/local/lib/python3.6/dist-packages/nlp/datasets/glue/637080968c182118f006d3ea39dd9937940e81cfffc8d79836eaae8bba307fc4\n",
            "INFO:nlp.load:Copying script file from https://s3.amazonaws.com/datasets.huggingface.co/nlp/datasets/glue/glue.py to /usr/local/lib/python3.6/dist-packages/nlp/datasets/glue/637080968c182118f006d3ea39dd9937940e81cfffc8d79836eaae8bba307fc4/glue.py\n",
            "INFO:nlp.load:Copying dataset infos file from https://s3.amazonaws.com/datasets.huggingface.co/nlp/datasets/glue/dataset_infos.json to /usr/local/lib/python3.6/dist-packages/nlp/datasets/glue/637080968c182118f006d3ea39dd9937940e81cfffc8d79836eaae8bba307fc4/dataset_infos.json\n",
            "INFO:nlp.load:Creating metadata file for dataset https://s3.amazonaws.com/datasets.huggingface.co/nlp/datasets/glue/glue.py at /usr/local/lib/python3.6/dist-packages/nlp/datasets/glue/637080968c182118f006d3ea39dd9937940e81cfffc8d79836eaae8bba307fc4/glue.json\n",
            "INFO:filelock:Lock 140358691453416 released on /root/.cache/huggingface/datasets/5fe6ab0df8a32a3371b2e6a969d31d855a19563724fb0d0f163748c270c0ac60.2ea96febf19981fae5f13f0a43d4e2aa58bc619bc23acf06de66675f425a5538.py.lock\n",
            "INFO:nlp.info:Loading Dataset Infos from /usr/local/lib/python3.6/dist-packages/nlp/datasets/glue/637080968c182118f006d3ea39dd9937940e81cfffc8d79836eaae8bba307fc4\n",
            "INFO:nlp.builder:Generating dataset glue (/root/.cache/huggingface/datasets/glue/stsb/1.0.0)\n"
          ],
          "name": "stderr"
        },
        {
          "output_type": "stream",
          "text": [
            "\n"
          ],
          "name": "stdout"
        },
        {
          "output_type": "stream",
          "text": [
            "INFO:nlp.builder:Dataset not on Hf google storage. Downloading and preparing it from source\n",
            "INFO:nlp.utils.file_utils:Couldn't get ETag version for url https://firebasestorage.googleapis.com/v0/b/mtl-sentence-representations.appspot.com/o/data%2FSTS-B.zip?alt=media&token=bddb94a7-8706-4e0d-a694-1109e12273b5\n",
            "INFO:filelock:Lock 140358285898752 acquired on /root/.cache/huggingface/datasets/downloads/e9bb78c83f40c69507171fc0f3e25e9dd62da6a8f8cf46b60514a45e4937aae0.lock\n",
            "INFO:nlp.utils.file_utils:https://firebasestorage.googleapis.com/v0/b/mtl-sentence-representations.appspot.com/o/data%2FSTS-B.zip?alt=media&token=bddb94a7-8706-4e0d-a694-1109e12273b5 not found in cache or force_download set to True, downloading to /root/.cache/huggingface/datasets/downloads/tmpigknotkq\n"
          ],
          "name": "stderr"
        },
        {
          "output_type": "stream",
          "text": [
            "Downloading and preparing dataset glue/stsb (download: 784.05 KiB, generated: 1.09 MiB, total: 1.86 MiB) to /root/.cache/huggingface/datasets/glue/stsb/1.0.0...\n"
          ],
          "name": "stdout"
        },
        {
          "output_type": "display_data",
          "data": {
            "application/vnd.jupyter.widget-view+json": {
              "model_id": "4a0f0c2d6a7e48a6944f6142b193297b",
              "version_minor": 0,
              "version_major": 2
            },
            "text/plain": [
              "HBox(children=(FloatProgress(value=0.0, description='Downloading', max=802872.0, style=ProgressStyle(descripti…"
            ]
          },
          "metadata": {
            "tags": []
          }
        },
        {
          "output_type": "stream",
          "text": [
            "INFO:nlp.utils.file_utils:storing https://firebasestorage.googleapis.com/v0/b/mtl-sentence-representations.appspot.com/o/data%2FSTS-B.zip?alt=media&token=bddb94a7-8706-4e0d-a694-1109e12273b5 in cache at /root/.cache/huggingface/datasets/downloads/e9bb78c83f40c69507171fc0f3e25e9dd62da6a8f8cf46b60514a45e4937aae0\n",
            "INFO:nlp.utils.file_utils:creating metadata file for /root/.cache/huggingface/datasets/downloads/e9bb78c83f40c69507171fc0f3e25e9dd62da6a8f8cf46b60514a45e4937aae0\n",
            "INFO:filelock:Lock 140358285898752 released on /root/.cache/huggingface/datasets/downloads/e9bb78c83f40c69507171fc0f3e25e9dd62da6a8f8cf46b60514a45e4937aae0.lock\n",
            "INFO:filelock:Lock 140358285898192 acquired on /root/.cache/huggingface/datasets/downloads/e9bb78c83f40c69507171fc0f3e25e9dd62da6a8f8cf46b60514a45e4937aae0.lock\n",
            "INFO:filelock:Lock 140358285898192 released on /root/.cache/huggingface/datasets/downloads/e9bb78c83f40c69507171fc0f3e25e9dd62da6a8f8cf46b60514a45e4937aae0.lock\n",
            "INFO:nlp.utils.info_utils:All the checksums matched successfully.\n",
            "INFO:nlp.builder:Generating split train\n"
          ],
          "name": "stderr"
        },
        {
          "output_type": "stream",
          "text": [
            "\n"
          ],
          "name": "stdout"
        },
        {
          "output_type": "display_data",
          "data": {
            "application/vnd.jupyter.widget-view+json": {
              "model_id": "e0b9dee2a9a4481fbe3a000a61692770",
              "version_minor": 0,
              "version_major": 2
            },
            "text/plain": [
              "HBox(children=(FloatProgress(value=1.0, bar_style='info', max=1.0), HTML(value='')))"
            ]
          },
          "metadata": {
            "tags": []
          }
        },
        {
          "output_type": "stream",
          "text": [
            "INFO:nlp.arrow_writer:Done writing 5749 examples in 754799 bytes /root/.cache/huggingface/datasets/glue/stsb/1.0.0.incomplete/glue-train.arrow.\n",
            "INFO:nlp.builder:Generating split validation\n"
          ],
          "name": "stderr"
        },
        {
          "output_type": "stream",
          "text": [
            "\r"
          ],
          "name": "stdout"
        },
        {
          "output_type": "display_data",
          "data": {
            "application/vnd.jupyter.widget-view+json": {
              "model_id": "c293fe8c910842f08c733d9139a07d68",
              "version_minor": 0,
              "version_major": 2
            },
            "text/plain": [
              "HBox(children=(FloatProgress(value=1.0, bar_style='info', max=1.0), HTML(value='')))"
            ]
          },
          "metadata": {
            "tags": []
          }
        },
        {
          "output_type": "stream",
          "text": [
            "INFO:nlp.arrow_writer:Done writing 1500 examples in 216072 bytes /root/.cache/huggingface/datasets/glue/stsb/1.0.0.incomplete/glue-validation.arrow.\n",
            "INFO:nlp.builder:Generating split test\n"
          ],
          "name": "stderr"
        },
        {
          "output_type": "stream",
          "text": [
            "\r"
          ],
          "name": "stdout"
        },
        {
          "output_type": "display_data",
          "data": {
            "application/vnd.jupyter.widget-view+json": {
              "model_id": "28037a600f4b4efdae29f07ed1d298a0",
              "version_minor": 0,
              "version_major": 2
            },
            "text/plain": [
              "HBox(children=(FloatProgress(value=1.0, bar_style='info', max=1.0), HTML(value='')))"
            ]
          },
          "metadata": {
            "tags": []
          }
        },
        {
          "output_type": "stream",
          "text": [
            "INFO:nlp.arrow_writer:Done writing 1379 examples in 169982 bytes /root/.cache/huggingface/datasets/glue/stsb/1.0.0.incomplete/glue-test.arrow.\n",
            "INFO:nlp.utils.info_utils:All the splits matched successfully.\n",
            "INFO:nlp.builder:Constructing Dataset for split None, from /root/.cache/huggingface/datasets/glue/stsb/1.0.0\n"
          ],
          "name": "stderr"
        },
        {
          "output_type": "stream",
          "text": [
            "\rDataset glue downloaded and prepared to /root/.cache/huggingface/datasets/glue/stsb/1.0.0. Subsequent calls will reuse this data.\n"
          ],
          "name": "stdout"
        },
        {
          "output_type": "stream",
          "text": [
            "INFO:nlp.load:Checking /root/.cache/huggingface/datasets/5fe6ab0df8a32a3371b2e6a969d31d855a19563724fb0d0f163748c270c0ac60.2ea96febf19981fae5f13f0a43d4e2aa58bc619bc23acf06de66675f425a5538.py for additional imports.\n",
            "INFO:filelock:Lock 140358285830856 acquired on /root/.cache/huggingface/datasets/5fe6ab0df8a32a3371b2e6a969d31d855a19563724fb0d0f163748c270c0ac60.2ea96febf19981fae5f13f0a43d4e2aa58bc619bc23acf06de66675f425a5538.py.lock\n",
            "INFO:nlp.load:Found main folder for dataset https://s3.amazonaws.com/datasets.huggingface.co/nlp/datasets/glue/glue.py at /usr/local/lib/python3.6/dist-packages/nlp/datasets/glue\n",
            "INFO:nlp.load:Found specific version folder for dataset https://s3.amazonaws.com/datasets.huggingface.co/nlp/datasets/glue/glue.py at /usr/local/lib/python3.6/dist-packages/nlp/datasets/glue/637080968c182118f006d3ea39dd9937940e81cfffc8d79836eaae8bba307fc4\n",
            "INFO:nlp.load:Found script file from https://s3.amazonaws.com/datasets.huggingface.co/nlp/datasets/glue/glue.py to /usr/local/lib/python3.6/dist-packages/nlp/datasets/glue/637080968c182118f006d3ea39dd9937940e81cfffc8d79836eaae8bba307fc4/glue.py\n",
            "INFO:nlp.load:Found dataset infos file from https://s3.amazonaws.com/datasets.huggingface.co/nlp/datasets/glue/dataset_infos.json to /usr/local/lib/python3.6/dist-packages/nlp/datasets/glue/637080968c182118f006d3ea39dd9937940e81cfffc8d79836eaae8bba307fc4/dataset_infos.json\n",
            "INFO:nlp.load:Found metadata file for dataset https://s3.amazonaws.com/datasets.huggingface.co/nlp/datasets/glue/glue.py at /usr/local/lib/python3.6/dist-packages/nlp/datasets/glue/637080968c182118f006d3ea39dd9937940e81cfffc8d79836eaae8bba307fc4/glue.json\n",
            "INFO:filelock:Lock 140358285830856 released on /root/.cache/huggingface/datasets/5fe6ab0df8a32a3371b2e6a969d31d855a19563724fb0d0f163748c270c0ac60.2ea96febf19981fae5f13f0a43d4e2aa58bc619bc23acf06de66675f425a5538.py.lock\n",
            "INFO:nlp.info:Loading Dataset Infos from /usr/local/lib/python3.6/dist-packages/nlp/datasets/glue/637080968c182118f006d3ea39dd9937940e81cfffc8d79836eaae8bba307fc4\n",
            "INFO:nlp.builder:Generating dataset glue (/root/.cache/huggingface/datasets/glue/rte/1.0.0)\n",
            "INFO:nlp.builder:Dataset not on Hf google storage. Downloading and preparing it from source\n",
            "INFO:nlp.utils.file_utils:Couldn't get ETag version for url https://firebasestorage.googleapis.com/v0/b/mtl-sentence-representations.appspot.com/o/data%2FRTE.zip?alt=media&token=5efa7e85-a0bb-4f19-8ea2-9e1840f077fb\n",
            "INFO:filelock:Lock 140358285326096 acquired on /root/.cache/huggingface/datasets/downloads/e8b62ee44e6f8b6aea761935928579ffe1aa55d161808c482e0725abbdcf9c64.lock\n"
          ],
          "name": "stderr"
        },
        {
          "output_type": "stream",
          "text": [
            "Downloading and preparing dataset glue/rte (download: 680.81 KiB, generated: 1.83 MiB, total: 2.49 MiB) to /root/.cache/huggingface/datasets/glue/rte/1.0.0...\n"
          ],
          "name": "stdout"
        },
        {
          "output_type": "stream",
          "text": [
            "INFO:nlp.utils.file_utils:https://firebasestorage.googleapis.com/v0/b/mtl-sentence-representations.appspot.com/o/data%2FRTE.zip?alt=media&token=5efa7e85-a0bb-4f19-8ea2-9e1840f077fb not found in cache or force_download set to True, downloading to /root/.cache/huggingface/datasets/downloads/tmpxrpgsab1\n"
          ],
          "name": "stderr"
        },
        {
          "output_type": "display_data",
          "data": {
            "application/vnd.jupyter.widget-view+json": {
              "model_id": "04f6a90db7c54b89a0c8227ef28b42b7",
              "version_minor": 0,
              "version_major": 2
            },
            "text/plain": [
              "HBox(children=(FloatProgress(value=0.0, description='Downloading', max=697150.0, style=ProgressStyle(descripti…"
            ]
          },
          "metadata": {
            "tags": []
          }
        },
        {
          "output_type": "stream",
          "text": [
            "INFO:nlp.utils.file_utils:storing https://firebasestorage.googleapis.com/v0/b/mtl-sentence-representations.appspot.com/o/data%2FRTE.zip?alt=media&token=5efa7e85-a0bb-4f19-8ea2-9e1840f077fb in cache at /root/.cache/huggingface/datasets/downloads/e8b62ee44e6f8b6aea761935928579ffe1aa55d161808c482e0725abbdcf9c64\n",
            "INFO:nlp.utils.file_utils:creating metadata file for /root/.cache/huggingface/datasets/downloads/e8b62ee44e6f8b6aea761935928579ffe1aa55d161808c482e0725abbdcf9c64\n",
            "INFO:filelock:Lock 140358285326096 released on /root/.cache/huggingface/datasets/downloads/e8b62ee44e6f8b6aea761935928579ffe1aa55d161808c482e0725abbdcf9c64.lock\n",
            "INFO:filelock:Lock 140358285325984 acquired on /root/.cache/huggingface/datasets/downloads/e8b62ee44e6f8b6aea761935928579ffe1aa55d161808c482e0725abbdcf9c64.lock\n",
            "INFO:filelock:Lock 140358285325984 released on /root/.cache/huggingface/datasets/downloads/e8b62ee44e6f8b6aea761935928579ffe1aa55d161808c482e0725abbdcf9c64.lock\n",
            "INFO:nlp.utils.info_utils:All the checksums matched successfully.\n",
            "INFO:nlp.builder:Generating split train\n"
          ],
          "name": "stderr"
        },
        {
          "output_type": "stream",
          "text": [
            "\n"
          ],
          "name": "stdout"
        },
        {
          "output_type": "display_data",
          "data": {
            "application/vnd.jupyter.widget-view+json": {
              "model_id": "9feb9b8631ce4b259cbd7a0e6b94014a",
              "version_minor": 0,
              "version_major": 2
            },
            "text/plain": [
              "HBox(children=(FloatProgress(value=1.0, bar_style='info', max=1.0), HTML(value='')))"
            ]
          },
          "metadata": {
            "tags": []
          }
        },
        {
          "output_type": "stream",
          "text": [
            "INFO:nlp.arrow_writer:Done writing 2490 examples in 847328 bytes /root/.cache/huggingface/datasets/glue/rte/1.0.0.incomplete/glue-train.arrow.\n",
            "INFO:nlp.builder:Generating split validation\n"
          ],
          "name": "stderr"
        },
        {
          "output_type": "stream",
          "text": [
            "\r"
          ],
          "name": "stdout"
        },
        {
          "output_type": "display_data",
          "data": {
            "application/vnd.jupyter.widget-view+json": {
              "model_id": "52f62882f32e4f89a8941e6dc3ab8cbc",
              "version_minor": 0,
              "version_major": 2
            },
            "text/plain": [
              "HBox(children=(FloatProgress(value=1.0, bar_style='info', max=1.0), HTML(value='')))"
            ]
          },
          "metadata": {
            "tags": []
          }
        },
        {
          "output_type": "stream",
          "text": [
            "INFO:nlp.arrow_writer:Done writing 277 examples in 90736 bytes /root/.cache/huggingface/datasets/glue/rte/1.0.0.incomplete/glue-validation.arrow.\n",
            "INFO:nlp.builder:Generating split test\n"
          ],
          "name": "stderr"
        },
        {
          "output_type": "stream",
          "text": [
            "\r"
          ],
          "name": "stdout"
        },
        {
          "output_type": "display_data",
          "data": {
            "application/vnd.jupyter.widget-view+json": {
              "model_id": "341f03803fac4186a359ae366bf9ee45",
              "version_minor": 0,
              "version_major": 2
            },
            "text/plain": [
              "HBox(children=(FloatProgress(value=1.0, bar_style='info', max=1.0), HTML(value='')))"
            ]
          },
          "metadata": {
            "tags": []
          }
        },
        {
          "output_type": "stream",
          "text": [
            "INFO:nlp.arrow_writer:Done writing 3000 examples in 974061 bytes /root/.cache/huggingface/datasets/glue/rte/1.0.0.incomplete/glue-test.arrow.\n",
            "INFO:nlp.utils.info_utils:All the splits matched successfully.\n",
            "INFO:nlp.builder:Constructing Dataset for split None, from /root/.cache/huggingface/datasets/glue/rte/1.0.0\n"
          ],
          "name": "stderr"
        },
        {
          "output_type": "stream",
          "text": [
            "\rDataset glue downloaded and prepared to /root/.cache/huggingface/datasets/glue/rte/1.0.0. Subsequent calls will reuse this data.\n"
          ],
          "name": "stdout"
        },
        {
          "output_type": "stream",
          "text": [
            "INFO:filelock:Lock 140358285327944 acquired on /root/.cache/huggingface/datasets/ea29813e78501904688a90c430f89aca3126b45c3f3f072c4a4246096a5ad0ef.29f2def772f6505fbbc27537a807141066e57bf70f50bf1e0eeb544f7eb5cf3a.py.lock\n",
            "INFO:nlp.utils.file_utils:https://s3.amazonaws.com/datasets.huggingface.co/nlp/datasets/commonsense_qa/commonsense_qa.py not found in cache or force_download set to True, downloading to /root/.cache/huggingface/datasets/tmptnhfmsa3\n"
          ],
          "name": "stderr"
        },
        {
          "output_type": "display_data",
          "data": {
            "application/vnd.jupyter.widget-view+json": {
              "model_id": "bf4709ca8ab2421188ec529ab7061804",
              "version_minor": 0,
              "version_major": 2
            },
            "text/plain": [
              "HBox(children=(FloatProgress(value=0.0, description='Downloading', max=4021.0, style=ProgressStyle(description…"
            ]
          },
          "metadata": {
            "tags": []
          }
        },
        {
          "output_type": "stream",
          "text": [
            "INFO:nlp.utils.file_utils:storing https://s3.amazonaws.com/datasets.huggingface.co/nlp/datasets/commonsense_qa/commonsense_qa.py in cache at /root/.cache/huggingface/datasets/ea29813e78501904688a90c430f89aca3126b45c3f3f072c4a4246096a5ad0ef.29f2def772f6505fbbc27537a807141066e57bf70f50bf1e0eeb544f7eb5cf3a.py\n",
            "INFO:nlp.utils.file_utils:creating metadata file for /root/.cache/huggingface/datasets/ea29813e78501904688a90c430f89aca3126b45c3f3f072c4a4246096a5ad0ef.29f2def772f6505fbbc27537a807141066e57bf70f50bf1e0eeb544f7eb5cf3a.py\n",
            "INFO:filelock:Lock 140358285327944 released on /root/.cache/huggingface/datasets/ea29813e78501904688a90c430f89aca3126b45c3f3f072c4a4246096a5ad0ef.29f2def772f6505fbbc27537a807141066e57bf70f50bf1e0eeb544f7eb5cf3a.py.lock\n"
          ],
          "name": "stderr"
        },
        {
          "output_type": "stream",
          "text": [
            "\n"
          ],
          "name": "stdout"
        },
        {
          "output_type": "stream",
          "text": [
            "INFO:filelock:Lock 140358285900992 acquired on /root/.cache/huggingface/datasets/57f2f3ea75915746c8c82276c4fa8c5ad2eefec1b68f4916fd427e350e0548d1.8e7921b0f2e4b84d6fe54300e2304189b22d5d373f2574d7071269bf89d558c8.lock\n",
            "INFO:nlp.utils.file_utils:https://s3.amazonaws.com/datasets.huggingface.co/nlp/datasets/commonsense_qa/dataset_infos.json not found in cache or force_download set to True, downloading to /root/.cache/huggingface/datasets/tmpemvs1kx0\n"
          ],
          "name": "stderr"
        },
        {
          "output_type": "display_data",
          "data": {
            "application/vnd.jupyter.widget-view+json": {
              "model_id": "25721c9e424e4cc9a96636dd9857dd32",
              "version_minor": 0,
              "version_major": 2
            },
            "text/plain": [
              "HBox(children=(FloatProgress(value=0.0, description='Downloading', max=2306.0, style=ProgressStyle(description…"
            ]
          },
          "metadata": {
            "tags": []
          }
        },
        {
          "output_type": "stream",
          "text": [
            "INFO:nlp.utils.file_utils:storing https://s3.amazonaws.com/datasets.huggingface.co/nlp/datasets/commonsense_qa/dataset_infos.json in cache at /root/.cache/huggingface/datasets/57f2f3ea75915746c8c82276c4fa8c5ad2eefec1b68f4916fd427e350e0548d1.8e7921b0f2e4b84d6fe54300e2304189b22d5d373f2574d7071269bf89d558c8\n",
            "INFO:nlp.utils.file_utils:creating metadata file for /root/.cache/huggingface/datasets/57f2f3ea75915746c8c82276c4fa8c5ad2eefec1b68f4916fd427e350e0548d1.8e7921b0f2e4b84d6fe54300e2304189b22d5d373f2574d7071269bf89d558c8\n",
            "INFO:filelock:Lock 140358285900992 released on /root/.cache/huggingface/datasets/57f2f3ea75915746c8c82276c4fa8c5ad2eefec1b68f4916fd427e350e0548d1.8e7921b0f2e4b84d6fe54300e2304189b22d5d373f2574d7071269bf89d558c8.lock\n",
            "INFO:nlp.load:Checking /root/.cache/huggingface/datasets/ea29813e78501904688a90c430f89aca3126b45c3f3f072c4a4246096a5ad0ef.29f2def772f6505fbbc27537a807141066e57bf70f50bf1e0eeb544f7eb5cf3a.py for additional imports.\n",
            "INFO:filelock:Lock 140358285900992 acquired on /root/.cache/huggingface/datasets/ea29813e78501904688a90c430f89aca3126b45c3f3f072c4a4246096a5ad0ef.29f2def772f6505fbbc27537a807141066e57bf70f50bf1e0eeb544f7eb5cf3a.py.lock\n",
            "INFO:nlp.load:Found main folder for dataset https://s3.amazonaws.com/datasets.huggingface.co/nlp/datasets/commonsense_qa/commonsense_qa.py at /usr/local/lib/python3.6/dist-packages/nlp/datasets/commonsense_qa\n",
            "INFO:nlp.load:Creating specific version folder for dataset https://s3.amazonaws.com/datasets.huggingface.co/nlp/datasets/commonsense_qa/commonsense_qa.py at /usr/local/lib/python3.6/dist-packages/nlp/datasets/commonsense_qa/a3ca6d89a0ea731b712148dc01a2d5679a3bffd6af0896468b02834325cc2bf9\n",
            "INFO:nlp.load:Copying script file from https://s3.amazonaws.com/datasets.huggingface.co/nlp/datasets/commonsense_qa/commonsense_qa.py to /usr/local/lib/python3.6/dist-packages/nlp/datasets/commonsense_qa/a3ca6d89a0ea731b712148dc01a2d5679a3bffd6af0896468b02834325cc2bf9/commonsense_qa.py\n",
            "INFO:nlp.load:Copying dataset infos file from https://s3.amazonaws.com/datasets.huggingface.co/nlp/datasets/commonsense_qa/dataset_infos.json to /usr/local/lib/python3.6/dist-packages/nlp/datasets/commonsense_qa/a3ca6d89a0ea731b712148dc01a2d5679a3bffd6af0896468b02834325cc2bf9/dataset_infos.json\n",
            "INFO:nlp.load:Creating metadata file for dataset https://s3.amazonaws.com/datasets.huggingface.co/nlp/datasets/commonsense_qa/commonsense_qa.py at /usr/local/lib/python3.6/dist-packages/nlp/datasets/commonsense_qa/a3ca6d89a0ea731b712148dc01a2d5679a3bffd6af0896468b02834325cc2bf9/commonsense_qa.json\n",
            "INFO:filelock:Lock 140358285900992 released on /root/.cache/huggingface/datasets/ea29813e78501904688a90c430f89aca3126b45c3f3f072c4a4246096a5ad0ef.29f2def772f6505fbbc27537a807141066e57bf70f50bf1e0eeb544f7eb5cf3a.py.lock\n",
            "WARNING:nlp.builder:Using custom data configuration default\n",
            "INFO:nlp.info:Loading Dataset Infos from /usr/local/lib/python3.6/dist-packages/nlp/datasets/commonsense_qa/a3ca6d89a0ea731b712148dc01a2d5679a3bffd6af0896468b02834325cc2bf9\n",
            "INFO:nlp.builder:Generating dataset commonsense_qa (/root/.cache/huggingface/datasets/commonsense_qa/default/0.1.0)\n"
          ],
          "name": "stderr"
        },
        {
          "output_type": "stream",
          "text": [
            "\n"
          ],
          "name": "stdout"
        },
        {
          "output_type": "stream",
          "text": [
            "INFO:nlp.builder:Dataset not on Hf google storage. Downloading and preparing it from source\n",
            "INFO:filelock:Lock 140358298754520 acquired on /root/.cache/huggingface/datasets/downloads/f8ac90b19c90fe8ce59d56fa26d9c92ba19c31cbd83a80b10a875837b14d55cc.94445c194f4fa7081632829299edde11e6e705959b4711f3cf68f320e19fdb3a.lock\n",
            "INFO:nlp.utils.file_utils:https://s3.amazonaws.com/commensenseqa/train_rand_split.jsonl not found in cache or force_download set to True, downloading to /root/.cache/huggingface/datasets/downloads/tmpmzajy4xv\n"
          ],
          "name": "stderr"
        },
        {
          "output_type": "stream",
          "text": [
            "Downloading and preparing dataset commonsense_qa/default (download: 4.46 MiB, generated: 2.08 MiB, total: 6.54 MiB) to /root/.cache/huggingface/datasets/commonsense_qa/default/0.1.0...\n"
          ],
          "name": "stdout"
        },
        {
          "output_type": "display_data",
          "data": {
            "application/vnd.jupyter.widget-view+json": {
              "model_id": "d339b6c70f2c40d0952d9ef74f7f2530",
              "version_minor": 0,
              "version_major": 2
            },
            "text/plain": [
              "HBox(children=(FloatProgress(value=0.0, description='Downloading', max=3785890.0, style=ProgressStyle(descript…"
            ]
          },
          "metadata": {
            "tags": []
          }
        },
        {
          "output_type": "stream",
          "text": [
            "INFO:nlp.utils.file_utils:storing https://s3.amazonaws.com/commensenseqa/train_rand_split.jsonl in cache at /root/.cache/huggingface/datasets/downloads/f8ac90b19c90fe8ce59d56fa26d9c92ba19c31cbd83a80b10a875837b14d55cc.94445c194f4fa7081632829299edde11e6e705959b4711f3cf68f320e19fdb3a\n",
            "INFO:nlp.utils.file_utils:creating metadata file for /root/.cache/huggingface/datasets/downloads/f8ac90b19c90fe8ce59d56fa26d9c92ba19c31cbd83a80b10a875837b14d55cc.94445c194f4fa7081632829299edde11e6e705959b4711f3cf68f320e19fdb3a\n",
            "INFO:filelock:Lock 140358298754520 released on /root/.cache/huggingface/datasets/downloads/f8ac90b19c90fe8ce59d56fa26d9c92ba19c31cbd83a80b10a875837b14d55cc.94445c194f4fa7081632829299edde11e6e705959b4711f3cf68f320e19fdb3a.lock\n",
            "INFO:filelock:Lock 140358285830744 acquired on /root/.cache/huggingface/datasets/downloads/fe6a5184d14e087b1cbb56e3cea5ceb0a24dd497ee8f82dcf4963e20aa0c5fe5.9138d3568a6b3ae08fbf85c1057048c6d23f4daff8df252f1e85a643ef03c83a.lock\n",
            "INFO:nlp.utils.file_utils:https://s3.amazonaws.com/commensenseqa/test_rand_split_no_answers.jsonl not found in cache or force_download set to True, downloading to /root/.cache/huggingface/datasets/downloads/tmp8x99y5nc\n"
          ],
          "name": "stderr"
        },
        {
          "output_type": "stream",
          "text": [
            "\n"
          ],
          "name": "stdout"
        },
        {
          "output_type": "display_data",
          "data": {
            "application/vnd.jupyter.widget-view+json": {
              "model_id": "a03f31f5bff746659ee340c99deeb2d5",
              "version_minor": 0,
              "version_major": 2
            },
            "text/plain": [
              "HBox(children=(FloatProgress(value=0.0, description='Downloading', max=423148.0, style=ProgressStyle(descripti…"
            ]
          },
          "metadata": {
            "tags": []
          }
        },
        {
          "output_type": "stream",
          "text": [
            "INFO:nlp.utils.file_utils:storing https://s3.amazonaws.com/commensenseqa/test_rand_split_no_answers.jsonl in cache at /root/.cache/huggingface/datasets/downloads/fe6a5184d14e087b1cbb56e3cea5ceb0a24dd497ee8f82dcf4963e20aa0c5fe5.9138d3568a6b3ae08fbf85c1057048c6d23f4daff8df252f1e85a643ef03c83a\n",
            "INFO:nlp.utils.file_utils:creating metadata file for /root/.cache/huggingface/datasets/downloads/fe6a5184d14e087b1cbb56e3cea5ceb0a24dd497ee8f82dcf4963e20aa0c5fe5.9138d3568a6b3ae08fbf85c1057048c6d23f4daff8df252f1e85a643ef03c83a\n",
            "INFO:filelock:Lock 140358285830744 released on /root/.cache/huggingface/datasets/downloads/fe6a5184d14e087b1cbb56e3cea5ceb0a24dd497ee8f82dcf4963e20aa0c5fe5.9138d3568a6b3ae08fbf85c1057048c6d23f4daff8df252f1e85a643ef03c83a.lock\n",
            "INFO:filelock:Lock 140358283361360 acquired on /root/.cache/huggingface/datasets/downloads/712467f293862605fd78116a1c37eea362706de7051d865440c01296b042e1d0.babf491afa13fc9c974882ffa47e4a1707c82f5cb6f95ba74adeda5c380e222e.lock\n",
            "INFO:nlp.utils.file_utils:https://s3.amazonaws.com/commensenseqa/dev_rand_split.jsonl not found in cache or force_download set to True, downloading to /root/.cache/huggingface/datasets/downloads/tmp4f56068v\n"
          ],
          "name": "stderr"
        },
        {
          "output_type": "stream",
          "text": [
            "\n"
          ],
          "name": "stdout"
        },
        {
          "output_type": "display_data",
          "data": {
            "application/vnd.jupyter.widget-view+json": {
              "model_id": "b99c532bc11548d9beba5b7e79485bd8",
              "version_minor": 0,
              "version_major": 2
            },
            "text/plain": [
              "HBox(children=(FloatProgress(value=0.0, description='Downloading', max=471653.0, style=ProgressStyle(descripti…"
            ]
          },
          "metadata": {
            "tags": []
          }
        },
        {
          "output_type": "stream",
          "text": [
            "INFO:nlp.utils.file_utils:storing https://s3.amazonaws.com/commensenseqa/dev_rand_split.jsonl in cache at /root/.cache/huggingface/datasets/downloads/712467f293862605fd78116a1c37eea362706de7051d865440c01296b042e1d0.babf491afa13fc9c974882ffa47e4a1707c82f5cb6f95ba74adeda5c380e222e\n",
            "INFO:nlp.utils.file_utils:creating metadata file for /root/.cache/huggingface/datasets/downloads/712467f293862605fd78116a1c37eea362706de7051d865440c01296b042e1d0.babf491afa13fc9c974882ffa47e4a1707c82f5cb6f95ba74adeda5c380e222e\n",
            "INFO:filelock:Lock 140358283361360 released on /root/.cache/huggingface/datasets/downloads/712467f293862605fd78116a1c37eea362706de7051d865440c01296b042e1d0.babf491afa13fc9c974882ffa47e4a1707c82f5cb6f95ba74adeda5c380e222e.lock\n",
            "INFO:nlp.utils.info_utils:All the checksums matched successfully.\n",
            "INFO:nlp.builder:Generating split train\n"
          ],
          "name": "stderr"
        },
        {
          "output_type": "stream",
          "text": [
            "\n"
          ],
          "name": "stdout"
        },
        {
          "output_type": "display_data",
          "data": {
            "application/vnd.jupyter.widget-view+json": {
              "model_id": "d2b7b2f2af72499d9f7b60ab21bf00cf",
              "version_minor": 0,
              "version_major": 2
            },
            "text/plain": [
              "HBox(children=(FloatProgress(value=1.0, bar_style='info', max=1.0), HTML(value='')))"
            ]
          },
          "metadata": {
            "tags": []
          }
        },
        {
          "output_type": "stream",
          "text": [
            "INFO:nlp.arrow_writer:Done writing 9741 examples in 1736365 bytes /root/.cache/huggingface/datasets/commonsense_qa/default/0.1.0.incomplete/commonsense_qa-train.arrow.\n",
            "INFO:nlp.builder:Generating split validation\n"
          ],
          "name": "stderr"
        },
        {
          "output_type": "stream",
          "text": [
            "\r"
          ],
          "name": "stdout"
        },
        {
          "output_type": "display_data",
          "data": {
            "application/vnd.jupyter.widget-view+json": {
              "model_id": "891e3f0bd89541b4b7bbf74b4e7038fa",
              "version_minor": 0,
              "version_major": 2
            },
            "text/plain": [
              "HBox(children=(FloatProgress(value=1.0, bar_style='info', max=1.0), HTML(value='')))"
            ]
          },
          "metadata": {
            "tags": []
          }
        },
        {
          "output_type": "stream",
          "text": [
            "INFO:nlp.arrow_writer:Done writing 1221 examples in 215057 bytes /root/.cache/huggingface/datasets/commonsense_qa/default/0.1.0.incomplete/commonsense_qa-validation.arrow.\n",
            "INFO:nlp.builder:Generating split test\n"
          ],
          "name": "stderr"
        },
        {
          "output_type": "stream",
          "text": [
            "\r"
          ],
          "name": "stdout"
        },
        {
          "output_type": "display_data",
          "data": {
            "application/vnd.jupyter.widget-view+json": {
              "model_id": "bf1660a7a6ea40009a9cb82a3adb122c",
              "version_minor": 0,
              "version_major": 2
            },
            "text/plain": [
              "HBox(children=(FloatProgress(value=1.0, bar_style='info', max=1.0), HTML(value='')))"
            ]
          },
          "metadata": {
            "tags": []
          }
        },
        {
          "output_type": "stream",
          "text": [
            "INFO:nlp.arrow_writer:Done writing 1140 examples in 202782 bytes /root/.cache/huggingface/datasets/commonsense_qa/default/0.1.0.incomplete/commonsense_qa-test.arrow.\n",
            "INFO:nlp.utils.info_utils:All the splits matched successfully.\n",
            "INFO:nlp.builder:Constructing Dataset for split None, from /root/.cache/huggingface/datasets/commonsense_qa/default/0.1.0\n"
          ],
          "name": "stderr"
        },
        {
          "output_type": "stream",
          "text": [
            "\rDataset commonsense_qa downloaded and prepared to /root/.cache/huggingface/datasets/commonsense_qa/default/0.1.0. Subsequent calls will reuse this data.\n"
          ],
          "name": "stdout"
        }
      ]
    },
    {
      "cell_type": "markdown",
      "metadata": {
        "id": "L716lcp75k25"
      },
      "source": [
        "# Seeing how the data looks like "
      ]
    },
    {
      "cell_type": "code",
      "metadata": {
        "id": "xK79d3uTsxfE",
        "outputId": "efaccf41-6e27-4455-89b5-1948f1d30470",
        "colab": {
          "base_uri": "https://localhost:8080/"
        }
      },
      "source": [
        "for task_name, dataset in dataset_dict.items():\n",
        "    print(task_name)\n",
        "    print(dataset_dict[task_name][\"train\"][0])\n",
        "    print()"
      ],
      "execution_count": null,
      "outputs": [
        {
          "output_type": "stream",
          "text": [
            "stsb\n",
            "{'sentence1': 'A plane is taking off.', 'sentence2': 'An air plane is taking off.', 'label': 5.0, 'idx': 0}\n",
            "\n",
            "rte\n",
            "{'sentence1': 'No Weapons of Mass Destruction Found in Iraq Yet.', 'sentence2': 'Weapons of Mass Destruction Found in Iraq.', 'label': 1, 'idx': 0}\n",
            "\n",
            "commonsense_qa\n",
            "{'answerKey': 'A', 'question': 'The sanctions against the school were a punishing blow, and they seemed to what the efforts the school had made to change?', 'choices': {'label': ['A', 'B', 'C', 'D', 'E'], 'text': ['ignore', 'enforce', 'authoritarian', 'yell at', 'avoid']}}\n",
            "\n"
          ],
          "name": "stdout"
        }
      ]
    },
    {
      "cell_type": "markdown",
      "metadata": {
        "id": "TBXb-PDD5n-h"
      },
      "source": [
        "# Creating multi task model\n",
        "\n",
        "This is typical model\n",
        "\n",
        "![image.png](data:image/png;base64,iVBORw0KGgoAAAANSUhEUgAAAYIAAAE+CAYAAACA8heHAAAKv2lDQ1BJQ0MgUHJvZmlsZQAASImVlwdUU2kWx7/30hstEAEpoTfpLYCU0AMoSAdRCUkgocSYEFRsgAyO4IiiIoIVHARRcFSKqIiIYhsEG1gHZFBRxsGCqKjsA5Yws3t29+zNuef9zj/3u9+933nfOfcBQEGzRaJUWAGANGG6ONTPkx4dE0vH/Q4g5EcCANixORIRMyQkCGEw8/y7fbyPxCJ2x3wy17///19NkcuTcACAQhBO4Eo4aQifRnyYIxKnA4A6iOh6K9NFk9yOsLIYKRDh3klOmubhSU6YYjSYigkP9UJYGQA8mc0WJwFApiM6PYOThOQheyBsJeQKhAiLEHbj8NlchE8gPC8tbfkkP0bYOOEveZL+ljNBlpPNTpLxdC9ThvcWSESp7NX/53H8b0tLlc7sYYg4mS/2D53sGTmz3pTlgTIWJiwMnmEBdyp+ivlS/4gZ5ki8YmeYy/YOlK1NXRg0w4kCX5YsTzorfIZ5Ep+wGRYvD5XtlSj2Ys4wWzy7rzQlQqbzeSxZ/kx+eNQMZwgiF86wJCUscDbGS6aLpaGy+nlCP8/ZfX1lvadJ/tKvgCVbm84P95f1zp6tnydkzuaURMtq4/K8fWZjImTxonRP2V6i1BBZPC/VT6ZLMsJka9ORF3J2bYjsDJPZASEzDJggDEQgTgeRwB/YAFvASOetSp9sxGu5aLVYkMRPpzORG8ajs4Qci3l0GysbKwAm7+v06/C+d+oeQjT8rJZVAYCPMSIWzmphSM6qVgBomrOabgsASmoAnM3mSMUZ09rUXcIAIpBHKlQDWkAPGANzpDIH4AI8gA8IAMEgHMSApYAD+CANiMFKsBZkgzxQALaBXaAUHAAVoAocBydBIzgHLoIr4AboAvfAI9AHBsFrMAI+gnEIgnAQBaJCapA2ZACZQTYQA3KDfKAgKBSKgeKhJEgISaG10EaoACqCSqFDUDX0C3QGughdg7qhB1A/NAS9g77AKJgMK8OasCFsCTNgJhwIh8NL4CR4BZwJ58Jb4RK4HD4GN8AX4RvwPbgPfg2PogCKhKKhdFDmKAbKCxWMikUlosSo9ah8VDGqHFWLakZ1oO6g+lDDqM9oLJqKpqPN0S5of3QEmoNegV6P3oIuRVehG9Dt6DvofvQI+juGgtHAmGGcMSxMNCYJsxKThynGVGLqMZcx9zCDmI9YLJaGNcI6Yv2xMdhk7BrsFuw+bB22FduNHcCO4nA4NZwZzhUXjGPj0nF5uD24Y7gLuNu4QdwnPAmvjbfB++Jj8UJ8Dr4YfxTfgr+Nf4EfJygQDAjOhGACl7CaUEg4TGgm3CIMEsaJikQjoisxnJhMzCaWEGuJl4mPie9JJJIuyYm0iCQgZZFKSCdIV0n9pM9kJbIp2YscR5aSt5KPkFvJD8jvKRSKIcWDEktJp2ylVFMuUZ5SPslR5SzkWHJcuQ1yZXINcrfl3sgT5A3kmfJL5TPli+VPyd+SH1YgKBgqeCmwFdYrlCmcUehRGFWkKlorBiumKW5RPKp4TfGlEk7JUMlHiauUq1ShdElpgIqi6lG9qBzqRuph6mXqoDJW2UiZpZysXKB8XLlTeURFScVOJVJllUqZynmVPhqKZkhj0VJphbSTtPu0L3M05zDn8OZsnlM75/acMdW5qh6qPNV81TrVe6pf1OhqPmopatvVGtWeqKPVTdUXqa9U369+WX14rvJcl7mcuflzT859qAFrmGqEaqzRqNC4qTGqqaXppynS3KN5SXNYi6bloZWstVOrRWtIm6rtpi3Q3ql9QfsVXYXOpKfSS+jt9BEdDR1/HanOIZ1OnXFdI90I3RzdOt0nekQ9hl6i3k69Nr0RfW39Bfpr9Wv0HxoQDBgGfIPdBh0GY4ZGhlGGmwwbDV8aqRqxjDKNaoweG1OM3Y1XGJcb3zXBmjBMUkz2mXSZwqb2pnzTMtNbZrCZg5nAbJ9Z9zzMPKd5wnnl83rMyeZM8wzzGvN+C5pFkEWORaPFG0t9y1jL7ZYdlt+t7K1SrQ5bPbJWsg6wzrFutn5nY2rDsSmzuWtLsfW13WDbZPvWzsyOZ7ffrteear/AfpN9m/03B0cHsUOtw5CjvmO8417HHoYyI4SxhXHVCePk6bTB6ZzTZ2cH53Tnk85/upi7pLgcdXk532g+b/7h+QOuuq5s10OufW50t3i3g2597jrubPdy92ceeh5cj0qPF0wTZjLzGPONp5Wn2LPec8zL2WudV6s3ytvPO9+700fJJ8Kn1Oepr65vkm+N74ifvd8av1Z/jH+g/3b/HpYmi8OqZo0EOAasC2gPJAeGBZYGPgsyDRIHNS+AFwQs2LHg8UKDhcKFjcEgmBW8I/hJiFHIipCzi7CLQhaVLXoeah26NrQjjBq2LOxo2Mdwz/DC8EcRxhHSiLZI+ci4yOrIsSjvqKKovmjL6HXRN2LUYwQxTbG42MjYytjRxT6Ldy0ejLOPy4u7v8Royaol15aqL01den6Z/DL2slPxmPio+KPxX9nB7HL2aAIrYW/CCMeLs5vzmuvB3ckd4rnyingvEl0TixJfJrkm7Uga4rvzi/nDAi9BqeBtsn/ygeSxlOCUIykTqVGpdWn4tPi0M0IlYYqwfbnW8lXLu0VmojxR3wrnFbtWjIgDxZUSSLJE0pSujAxGN6XG0h+k/RluGWUZn1ZGrjy1SnGVcNXN1aarN69+kemb+fMa9BrOmra1Omuz1/avY647tB5an7C+bYPehtwNg1l+WVXZxOyU7F9zrHKKcj5sjNrYnKuZm5U78IPfDzV5cnnivJ5NLpsO/Ij+UfBj52bbzXs2f8/n5l8vsCooLvi6hbPl+k/WP5X8NLE1cWtnoUPh/m3YbcJt97e7b68qUizKLBrYsWBHw076zvydH3Yt23Wt2K74wG7ibunuvpKgkqY9+nu27flayi+9V+ZZVrdXY+/mvWP7uPtu7/fYX3tA80DBgS8HBQd7D/kdaig3LC+uwFZkVDw/HHm442fGz9WV6pUFld+OCI/0VYVWtVc7Vlcf1ThaWAPXSGuGjsUd6zrufbyp1rz2UB2truAEOCE98eqX+F/unww82XaKcar2tMHpvfXU+vwGqGF1w0gjv7GvKaap+0zAmbZml+b6sxZnj5zTOVd2XuV8YQuxJbdl4kLmhdFWUevwxaSLA23L2h5dir50t31Re+flwMtXr/heudTB7Lhw1fXquWvO185cZ1xvvOFwo+Gm/c36X+1/re906Gy45Xirqcupq7l7fnfLbffbF+9437lyl3X3xr2F97rvR9zv7Ynr6evl9r58kPrg7cOMh+OPsh5jHuc/UXhS/FTjaflvJr/V9Tn0ne/37r/5LOzZowHOwOvfJb9/Hcx9Tnle/EL7RfVLm5fnhnyHul4tfjX4WvR6fDjvD8U/9r4xfnP6T48/b45Ejwy+Fb+deLflvdr7Ix/sPrSNhow+/Zj2cXws/5Pap6rPjM8dX6K+vBhf+RX3teSbybfm74HfH0+kTUyI2GL21CiAQhxOTATg3REAKDEAULsAIC6enqenDJr+Bpgi8J94euaeMgcAKpAZJMYDAH/kuR+R9BFWRDwE8XAPANvayvyfJkm0tZnORWpERpPiiYn3yOyIMwHgW8/ExHjjxMS3SqTYhwC0fpye46fmGAHyCfF5kq7v2ZEF/sX+Ae3HD0ItQ58OAAAAOGVYSWZNTQAqAAAACAABh2kABAAAAAEAAAAaAAAAAAACoAIABAAAAAEAAAGCoAMABAAAAAEAAAE+AAAAADSDZbsAAEAASURBVHgB7Z0JvFVT+8ef5pEQDUKDQmnQaGguSbOUNL7Ci/xJiVSmkuHNmDe8QogkclNSSrMiSaY0aJY0CQ0aNN7/81vOOu0z3XvOvfeM+/f0uZ09rL322t+193rWep415EpXEQoJkAAJkIBrCeR27ZPzwUmABEiABAwBKgK+CCRAAiTgcgJUBC5/Afj4JEACJEBFwHeABEiABFxOgIrA5S8AH58ESIAEqAj4DpAACZCAywlQEbj8BeDjkwAJkAAVAd8BEiABEnA5ASoCl78AfHwSIAESoCJw4TuwYcMGadSokfnr3bt3hgRuu+02E65169YZhgt2cvv27ebawYMH+5z++eefZfPmzd5jL774ogn33XffeY9ltLF48WI5evRoRkGyfG7Pnj0mLXfddVfEccSKa0YJu/HGG036jx07llGwgHOh8iogIA+kJgFMMUFxF4EffvgB04p4/zZu3BgUwK+//uoNg/CRCuLFdW3atPFempaWZo598skn3mNa6Jpj8+bN8x4LtTFw4EATVgvsUEGydXzHjh0m/oYNG0YcT6y4ZpSwKlWqmPQfPnw4o2AB54LlVUAgHkhZAmwRpKZ+j+ippkyZEjT85MmTgx7PzsFvv/024PKbbrpJJk2aJFWrVg04539gwYIF/ocSdj+WXBMWAhOWFASoCJIim6KTyAoVKpiIJ0yYEPQGb7/9tpQoUSLgHMwyBw8eRBPB59yJEyfM8VBmiSNHjnhNOocOHRL8QS6++GK5+uqrpXjx4j7x+e8g/PHjx83hAwcOCOJzCs7B7ATT0apVqyRUOvbu3SswQ/3444/eNDjjCbaNuPDMWtMOdtrnWFa52kjAdevWrfLVV1/Jzp077eGgv0jPN998IzBpZSa7du2SpUuXirZ6MgvK824jkLJtHT5YSALWhNGqVat0mED0nU9X+7ZPeOzj+D333GN+sW3l5ptvNse0oLKHzK+2IMzxRx55xOz7mxuaNGnijQvx2Tj79+9vtjMyDWmhH3At0g/566+/0u++++6A86rE0j/66CMTBv9pYZ5+5513BoS74YYb0nfv3m3CBTMNqXJJP+ecc8x1jz76qDc+/43sckV8YHDBBRf4pBHmnmXLlvncTpVSeq9evXzCacsqXZWQOeY0DanCS69Vq5ZP2OrVq6cjvVb888oe5687CLBFoKWRm6VHjx7m8f3NGDDVQLp06WJ+w/lPPxkTzP76X3PHHXeIKgNzWJWJvPDCC2YbLYnMJE+ePDJq1ChvC+Xxxx+XW2+91Vz28MMPy8iRI0ULN3nsscfMdrNmzeS3336TDh06iBbyJtyrr74qcExroSjPPPOMCYftt956SxBHMPnll1+kQYMGov4SwT0ffPDBYMECjmWFK2r2SPfatWtFFZa8+eab5hnRuqlTp46sXLnSe5//+7//k3Hjxkn9+vVlzJgxMmjQIHnjjTdEC3RvGGxs2rRJqlWrJjDJIezLL78sqjRl+fLlUqNGDcHzUUjgZDXPHYqPT6kEnDVX7S1iaoqoMToFNUbUgrWQ9tYk7flQLYIPP/zQhB02bJgJGqyWef/995swWXUW161b11xvncX79+/3pk97Itkkml9bs160aJHZ79Spkwn75ZdfesNt2bLFPKcqDHPM2SLAOVvDVsXhvSbURna5akFt0vfaa6/53OL55583x1u0aGGO43m06EpHHqGlZEUVhzmOc7ZFoIrcHFNFYYOZX1XC5jhaFZBgeWVO8D9XEGCLwOWVgVKlSokWMKbGaGuTq1evNjVGOHFz5cqV0ISKFCkisPnDN3DeeeeZtMKWj9r12WefbfZVWZjfypUrm181BZlaNK5RZSda4It/i2jNmjXSuHFjU8MePny4qInMXBvuf5FyRRq/+OIL0+Lx79J7++23yymnnCKzZ882fg9VOCYZ6OKaL18+b5J69uxpwnkP6MaMGTPMLlp2aBnZP+Q55NNPPzW//M/dBKgI3J3/5um7du1qfm0vIe3iafY7d+4cczpa/TLKBwrI+Tdz5syQacmfP7/MnTtX2rZtK+eee65AOcCUYnsYIU4ITFMwBcH0csstt0j58uWNoxoFPZzPToFZySpGKJWsSCRc7b0uvPBCyZs3r8/t8HwXXXSROYbxF3a8RdmyZX3C4TqYx6zgGdR/YnZr164tZ5xxhvfPxocwVlHa6/jrPgK+b5z7np9PrATat29vOLz77rum5jt27FhRB6WxLWcEyBawNox/YWqPR/qL2q+/+BeO9jx680BhTZ8+3RyCHfy6664zBb6aqsQqN5xELV3NQqYWPG3aNNMKgP196NChpvuqf4EPn4SaZUQdzvLOO+8IatyRSCRcCxUqlGHUtrdU7ty5fVoB/hc5WwjOXlPwb1BIIBQBKoJQZFx0/MwzzxTtgWPMCCg4UTsdMWJESAK2sPn77799wtharc/BCHfQCti3b1/YV6E7JJQAumyi22jJkiW916L7K8Q6o7XnjRnRrL4CadeunYwePVpwrHnz5sYUBkVQrlw5cw0USt++fY0ybNq0qcA5C0euNTeZQJn8FwlXa9b6/vvvTRdbyxi3QLdZO/4C3XlRu4fAfHXllVeabfyH54Ris1K6dGm7abrnojVkBYpF/TTGFFW4cGF7mL8uJUDTkEsz3v+xu3XrZg5de+215jcjs9Dpp59uwjjNNX/++aeMHz/eP9qAfVvARVLYOyOBmQRizRnoFQM5//zzfZQAlAJs6hA7HYV2UzWth1mzZpnjUDrqfJZKlSqZfdS2rdht9HLq06ePMbHgN1IJl2uBAgWMooEpB72bnIKWCQSKCGYvpBkCZW1NP9ifOHGi6SmFbQier2PHjmYbPZCcgjjRYnnooYcS3g/kTDe3o0TAFS5xPqQPAWfvFntCC3IY0s0feuY4xR63x2yvFRxXx2Y6pn2wvWtwLKNeQ1oAmXugR5KaWtK1tpseyRQT6N2DeyCNatJJV3u/N93qVE3XrqBmTIGal7zHX3nlFZN0dcaaYzinhXo6egK1bNnSHEP6tZac7uw1ZJ8XYwwwJgH31VaGPRzwm12u9nrcB2MCtKund6wA7r9u3TrvPbUbq0kPekahV5GdegPX4s/2GsI19piazNK1+6w3Thy340e0NWfCOacD8d6MGylPgN1HUz6LAx9Q+5Cbj94OyLIhbCGLwsIpKDBQeDrlpZde8hYwOI/up+gSim07oExr6wGFi46UNd0eEQ5/2jfeOxhs/vz5zlsE3UbXT1vI2zRh/iKtLfukBwWjTY/tGooI8WxIq70/ftVMZBQAzqvz1JzTlgB2vYKBaQiLeyJMMMkJrmqeCkgf8umnn37yuSWU1pAhQ7wKCmmDUkYXU2w7u5WCse2ainP4gyJ2DrYLllc+N+ROShPIhafTF4NCAhETgJ15/fr1Alt4ZtND+EeO6Q5g5ilWrJj/qUz34QT9/fffzbVOJyuOYaoF9AbCALSMBF1GYVapWLGiSUdGYeNxDl1iMYgNZitrDguWDvgFtNYvZcqUkaJFiwYL4j0GZz5Maeg9BMe5NX95A3DDtQSoCFyb9XxwEiABEviHwEnvGImQAAmQAAm4kgAVgSuznQ9NAiRAAicJUBGcZMEtEiABEnAlASoCV2Y7H5oESIAEThIIObIYvSqwMAaFBEiABEgg+QlgMCfWHreDOp1PFLJFsHDhQrOCkzMwt0mABEiABJKTwNSpU81Mu8FSH7JFgMCYCTGjqQaCRchjJEACJEACiUfgs88+CzmdSMgWQeI9BlNEAiRAAiQQDQJUBNGgyjhJgARIIIkIUBEkUWYxqSRAAiQQDQJUBNGgyjhJgARIIIkIUBEkUWYxqSRAAiQQDQJUBNGgyjhJgARIIIkIUBEkUWYxqSRAAiQQDQJUBNGgyjhJgARIIIkIUBEkUWYxqSRAAiQQDQJUBNGgyjhJgARIIIkIUBEkUWYxqSRAAiQQDQJUBNGgyjhJgARIIIkIUBEkUWYxqSRAAiQQDQJUBNGgyjhJgARIIIkIUBEkUWYxqSRAAiQQDQJUBNGgyjhJgARIIIkIUBEkUWYxqSRAAiQQDQJUBNGgyjhJgARIIIkIZLhUZSI8x4EDB2TmzJmJkBRXpaFs2bJSp06dsJ952bJlsnnz5rDDM2DOELj66qulSJEimUbG7yhTRFEJgG8I31KiS8IrAhQu0yZPlrNz5Up0limTvkPp6bIiQkUwPS1N9v76qxRiPsXsPdiu+VS5cmWpUqVKpvecMWOGTMd3lJtGgExh5VCA3SdOyMoffpCHhw/PoRijF03CKwI8epmCBeWWPHmiR4Ex+xDYePy4LPQ5Et5OO82nCsyn8GDlQKgxEcZRJn9+uUX/KLEhMPvwYdkWm1tl+y6sHmQbISMgARIggeQmQEWQ3PnH1JMACZBAtglQEWQbISMgARIggeQmQEWQ3PnH1JMACZBAtglQEWQbISMgARIggeQmQEWQ3PnH1JMACZBAtglQEWQbISMgARIggeQmQEWQ3PnH1JMACZBAtglQEWQbISMgARIggeQmQEWQ3PnH1JMACZBAtglQEWQbISMgARIggeQmQEWQ3PnH1JMACZBAtglQEWQbISMgARIggeQmQEWQ3PnH1JMACZBAtglQEWQbISMgARIggeQmQEWQ3PnH1JMACZBAtglQEWQbISMgARIggeQmQEWQ3PnH1JMACZBAtglQEWQbISMgARIggeQmQEWQ3PnH1JMACZBAtglQEWQbISMgARIggeQmkDe5k5+zqe87d67sOngwrEjPLlpUnmvaNKyw4QZa/ccf8sjixXJJiRIy+NJLw73MVeE+//VXefG778J+5v61a8tlZ58ddvhwAj765Zey8vffZXj9+nLBGWeEc4mrwsT7O5q8bp28/9NP0qNyZWlXsaKr2Gf1YakIHOSW7dgh2w8ccBwJvXneKaeEPpnFM38dOSJLtm+XAnnyZDGG1L9s16FDhlG4T/rH33+HGzTscFDYyCfkFyWQQLy/o61//WXyp/G55wYmjkeCEqAicGB5v107OXrihPfIH1rodPn4Y7M/tWNHKZIvn/dc/ty0qnlhxHCjRdmyMrdLF587jvr2W/lo/Xq5/sIL5dYaNXzOlSpSxGefO9EnwO8o+oxz+g5UBA6i5516qmNPpFiBAt79CsWKSdH8+b373IgPAeSBfz4UL1TIJAa/5592WnwSxrt6CfA78qJImg0qgmxk1do//5QxP/4oq9RUsEJtxpCqZ55pbJPXX3SR5M6Vyxv7FLVbvrNqlfyk10AuUttys/POk1u0Bpsvk9bFqz/8IAu2bJGCefPK040biy34vJFzIyQBtPAmrF4tczdvlpWaT79rK+9MVRj1y5SRe+vUkXMdyn+nmgX/q60L+CF+UfMCzH/VzjpL7qhZU6oULx7yHjixdf9+eWDRIjly/Li0rlBBelapkmF4njxJIBbf0eFjx+ThL76QLZqv5bRS90TDhicTwC2hIsjiS7B461bpPn269+oaWmD8sGuXUQhDtED4U23TKEAgk9aulXsWLDDbKFxgYlq2c6f5W6p+ibGtWplzwf77nzpGn/r6a3Pqg/btqQSCQcrgWC/NI9jzIWjVFVZlikIepiQoh8U9esip2so4ePSo9PzkE1m3e7cJW1Md9tievnGj+QP7uqVKmXP+/21XJdBNTYiIt40qgS5qoqKERyAW39FhVc53aEeQOZrfeAdG5nAnj/CeNLFDURFkMX9e/v57c+UNF18sD11+ueTVWj0Kk5HffCOvLV9uav9WEby9cqUJ+0qLFtKyfHmzjVrQVWlppqa/Yc+eoCaN0XoPKIGiqjjGtW4tNUuWzGJq3XkZnJZWCcy//nopr4UAZL0W8NdMmSL7Nb8W/PKLtNeeJUtVWaDgR4vuww4dJL867I9pa2LwwoWSpor8XW1VBFMEO7QVcb1HCXSsVMm02PAuUMIjEO3vCC20vnPmGCVQ6fTT5d02beSswoXDS5yLQlERZCGzYW5AoYwX6m7tnmg//MJaYHfXLmtQBM7eR7s9PVf2HD4s6enpkktNRuh2+LYW7igyzvLYuJ1JGaNxjFi61CiBCW3bGhOF8zy3MyeAfOqlJpqLtXC3SgBXVdQC4apy5eRDNdfZvDmgpgMrezWfkLfI10H16klTNeGhJukvO7Sr8d3z55uWABzVMDfkoRLwxxRyP9rfEZRAv3nzZJa2BKDgUZk6vWDBkOlx8wkqgizkPmz6A9S+DEHPoq+0NvnLvn2yUWv2i7dtC4gRfZlfUhPPIK1dPq01/FbaKkDhclnp0gLl4S+fqY0af5Buqlhgp6ZETuByHT+APxQ4aIH9rHn08969xlcAsxDkiJ6D1POYfeDrqfvOO9JQfQjII3RBhLknmNyhNU0r96nCoBKwNML7jfZ3hNa5FYwnoRKwNAJ/qQgCmYR1ZIsWKkN18Nc8NS04BWYcfxmgLyFq/i+oMoCzcpw6jfEHQY2zjzqM0UoIJmhddL7gArmQA5eC4cn02Dg1y8EBDO5O8c8ntABmdOokA7SGv1qVxiL1AeFPdPAYapMvNm9unIzOOJzbjy9ZkuMDDJ3xp+p2rL6j4fqtooNAIfURUQIJoHyiREgAPRB6qBMSSgDO39svuURg/4cdeo5fH3dEjZriPXXryuqbbpK31DH872rVzHU496Saf2CicAoKKfSVt05HOJphr6ZERiBtzRp5SHuKQAm01Vr9ozoSeKKOFVl1443SSZUrBKY6K5W1Z9CMzp3ls65d5fEGDeRKHbMAQSuh89SpPmFx/CbNxznXXYdNk4ezfv7ZbPO/8AhE+zuqo+bbZb16GbMeHPnPeDpdhJc6d4WiIshCfi/XggEvFgrs6VqLRK0eTmDYoWF6cArszXD6/uerr8yIYZgaHlTn8gItbOBchCz0mIHsdbX1BUZ/+Pt1mgl0dURBhC6klMgIWAWL/Hnxyiullzr263nMcRgdDDnuUQSfaffcEZpHS9S0V1a7lPZQ38KYli1llioGCJTJRr+8baN5Dn8D4ofcr73FrM/BHOB/GRKI9nfUXBU5vp+ntMs15HXt6v21diCgBBKgIghkkukRO7UAep04DTr7tNB/TE0EVuCsgsMRTt9XtCCf7agxYoxBHo856JwQ01Wcpo4t1GIh6D1kxyDY+PmbMYF9nikgjvu1pj7UXkDotgtBHkG+/+03Ga15hLmeTjhaCfkc030Ec+rj2n9Xry6V1XQHZTFMr6eERyBW31Ed9f/01koA5B41/aF3H8WXAA1mvjzC2sOYAbQGoAiuU5PB1VozRE3wUy3onb2FMC9OGZ2c7jb1AUAR3DZ7tnFCoscQujZi3AEklDMS51qpSaOl9nBB3PeqiWjyNddkOgAN11HEDNhDa+qZZcuMoxg9f77VAh/9ya3s9EwyCFMR/DHwD9RTZzF6Ff2tJkBr7rlWW2+nOkaa2+vxC6cnap3tJk824xNa6/tguwk7w3Hbl0AsvyOYZqfpmBBjItL34WFtlVNOEmCL4CSLgC1nbd85Shgje1+96ioprfPYoOBA74Sx6pTEvDYf65xE7c4/38QFcwNkoL6EQ9TMA6cjHJBookIJYH/atdd6R61ah7H9NRfrf5jlEooHhdrYFSvsYf56CNh8si0sC+YO9d2gWycEYwHQqoISQJdf5BNkqg4sg58ArTJ004VjHgoA4wasaQk+IGteMBd5/nO+E+jZdbtnniP4dPZzQjovKps/OOBkFu3vyHmvU3TQ4DMeE9Eb+v19pxUCykkCufQjOOktO3lcxo8fb3qydO/e3XE09purtHfNu889J7c4muixT0XwO8KBiwFFMEHAruyclC74Ff9MRbBHWw8V1AeQqD0YNqq5ZKH6KYY+/nioxwg4/sjgwdJIFVWFBMwn5A9mpERhgOnDnQVEwIPoAYxExeCy07QFgBadv2IOdk08jo3Rm3br10+qhDGdRZoOXvxeOzjcogwSTVL1O5qtpuJt2gX54eHDEwJ53759ZcCAAVJeW6z+QtOQP5EI9mH/D2XfDxUNChb8UWJHAFNInJrJXEHO1GAacLTWKLEhwO8oNpwzugtNQxnR4TkSIAEScAEBKgIXZDIfkQRIgAQyIkBFkBEdniMBEiABFxCgInBBJvMRSYAESCAjAlQEGdHhORIgARJwAQEqAhdkMh+RBEiABDIikPLdRz/esEHG61iEhuec410xzB8IhlJ0mzbNHB6ls0yWiOPCFVjuEAvVYElK5zKK/mn238e0CFhEBdNhv6cTqyWbdFf+eIbnmzUzA/OCpR/Lfb7300/SROdr6qODvOIlmI4C8xJhiut+OjgtM8FqdZgFdaWOs8BIZqzpi0VuuupyplgAJxkkmb6jQzog8MYZM8za1pgvKjPBuJH39b36Qgd7/qb5gxHPV+hMpRhd7hZJeUWAZQSxShUGEoUSjKizK1lhVGk8BaOHMerYuVBKOOkZpVMtT9TZNjECORnFruNwIIN5YLZ58tJ/cfRYPy8GBOJ9CWftaKxn3UWnIcF0JFaQvyhYMRV5mi6BWSzE1BU2fCL8JtN3hAFqyJ9wvgUoDUwTg+/OCkYdY6YAzE+E1QfdsM4ETUM295P0FxNoPapz5j/vWIQjSR8l5ZKNye7u1MVroAQwpfUkLfTX6FTkqKVi3iOMXn7CMUlhygFIggf6r343UALID0xRvvbmm81U8VAiUAYzdY4vNwgVQRLnMqbUbT5xopm7KIkfI2WTvlYLejt1NeaLqq3moAK6MAqUAuY7gkzXidAo8SGAlsM7ngWisIIZpiiHqQ5Txd9QtapJlJ0vLD4pjN1dU940lF2UmEtopM5WiEIXHzWmHmik/oa+tWoFzBWE5RDH6IRWMAfYpibC99DlJq9Xe7BzjhtMwTtBJzbDJGiYEhnLVmKhk0gEdk3MdooFONCE7aALsrtVsAgNJolbrmaXglrYVlc7L1Z+w8ftFCxbCe5YqnKl5hOmjsac9Vi96l5dftTfL4P1CaaqGQezkGKW0WY6d0ywReyd97DbMDNiZlnMWeRvmrxc7wdBawHhkOZUlm/0HccMvJj9FcyxNOi1OsEfJgX0n8sJCz7h3UaLySpSLB16R82acpn6ZZyC9T9gEp25aZOx7yMfb9VpwcMRTIb3+tVXy3q9D2b5dQoWnILAf+AGSe23L5s5+N3OndLrk0/Mx4rCAoU1Cnj84cX7sEMHwZoBkMXqaOquk3pZgcMJtmCEHaIOYDgM8SJD4BTFvOhYVBuCghzhbp01y+yH+x/u0Vpf4KZag8ECOG4UOPrv0gXKYXOH1CxRwuQXChP8YT0HLEhjpZfmkfUHwRxQWAtgTE38kc5CCuWwuEcPwdxEEOR/V08nAoTFHETjVYngLxypqfn6kv4Fky+xDKYK4k11JYBa94Off26et5Iu5FNOneWo/ODvc12UCYsGWYGv6zmteEHwzWGdB+fSoTDfWOWObwqdPFAZQljEjena8ReOwPZ/qX7T+HPKGq3QYY1xCL4tN4hrFAFqdB10vvhwBc3G+7QXDmpsN2hBglXFUCPE9MIoeFDIYC3coVdcYaJ8WVchgyAsaueYSAv2e0xRjXnu8TFYRYB9KAG8uO+0bi0ldfpqZ7wmojD+cxZwYQRPiiB9dM0GFM7BZKs6i/1lhipkKAHYdNNUMV/kWdt5geZP75kzzVKVzdQUg4n+sAaEVQJYVhQrykFQI7xGW1PIa1zXvmJFo1hv8ShmmHX+5VEmNl7/dESyv1MLrkfUrwNBazGZJNLv6FdVslYJPN+0qVzjWZVvk9bkb9BKFtYIaKt5iDU90FHArsT3gvYea6f5ANmlPXnuUF8LFMcUVdhWEWB9aSgBrPQ3olEjo6jRQrDKIVKuaFU+q0rIrilyl7b67ZTykcaVbOFd4yPAR44aeqg//4xDVzI0TSHoIgglACmqtcV71IQAeVPXBkCzHuYG1P6weAlsv1ACkMJaOHX3fOj25cLxTzx2YSgMKAEI4kWB43YB81B5BJOCv8DcAOmlUzFbJYD9JmrCaenp/ocPHIJ8QjgUGlYJ4DiWm7RdBe1Sk0gD7ocWhlUCCIt4e4Yx7TPCBhPE31u7Ntq4rS06WNhEPBbpd4R1HSAwkVolgH3wv9ljCsX6AJA/lHc3/V5w3CoBHD9Lu3Nf51lXAmEgqDgt8Kz3gUVm0FqDlNN477/sMrMd6X+Iz/mdopcaWh1ukOBVrxR8cjjohuoLE0ywLHzj997zOYUaCwRNTtiUneJcwgE1HhQkAzzKAS/qV9p1Df35N+p4ANst0l6PlgYKGcilaid1Cqa0xgcDM5FbBS0krO0QTN7SXhzwwVhBPliWWA3ONuftebskobUzo98//qAQ4M/5WfMINUj4CmAWghzRc5Cf9BgEYxb8BX4C62T0P5fR/ma9H0xTMEXBJITFjWylIaPrEulcpN8RWluQglpQ++ePbeHBpwZBt+AHtBBHvuK7Qr4hf+B0t/mDvIOs028LAl/D6R7zrDmg/zVWH15W5JkmTcw4Fnyzr2kFA4sZLdVveWG3blmJLqmucY0igN3X3xFoc8q5Rq09tkVfRAhqbk/rylahZJs2TaEItuhHPlTXq4XJyCn+fZnhfLaCHiT+cra2ENysCEqrCSdUPp3h98E7a2v4aEMJlLIVDOyCSc+/deGfTxjUB/EvZHCsZBYGHCJPu378sTE/oZWBLqThjEPA/RJJIv2ONnnYL1N/C/6CCVoZUNpoQX+phfBw/Y7gF3CKf/5AQUCCMQy1pKgzvmDb1leDziDoENBwwgSjtLFWuLO1GezaZD8WWBIl+xPlUPrtIJ8OaqfEkoehBL1BDqt5qIenpofeBm10qcpL1JGLtYmxCtllutqbFecC6KjdWJOTPY+PghIeAZjTrKCPPlYgCyZW4cJE9NAXX5ggbdXJDifhhZpHaIU9uXSpoMVhW3t2waF9QZzwGQ16C3Z/+CZgDkLewlyF0dOJujpdsPRn51hxVd7rNAKYbxp4ekoFiw+mHZgF7Qh/dKBorq34izVvLtSKFpQI/AS20mZ7YQXrJGFbDcHu4zyG1jlaaTAz1VDl7BTkT21NAxzPaBVQETjpuGi7vMc8gZoHCnSnwC+AgSjoMYRFz1F7QXMftZbpnTr5FEjofugUFErW/INaImqHVqBQ0P2REh4BFB5QvGCPQhb99J0Cx+7XWoCAMcxNdg3iQfXqCdYhdspqj3niuJolINW0AIIEq8XasCZAJv+hEOmiLQEIbN/369rVbhiparGcr0uywkGPFpj/d4RWF5QzWoE4B0c0BOa4N7Rbp7O7tTUxWUWN3kQQfC+2NWEO6H8w+4UjMD9hHA5ktQ7081fOtiWZlRZgOPdPpDD/eDUTKUUJkhb080bBDhu0v48ASuBltSHC6Ys+4hgTAEFhlMuRftQmH3OMHD3i6ZOMeY8gT+p8NRjibgX2b7YILI3wfq0DEpwx9YMVmODunDvXxy6NtYshGPHrlA9hC9ZaO8TmUVVt0UHgQIRCsYIeLC94uhbaY6F+UWG4d8ECc/rfqgTcMl2Bk0crz/q4/9NeddYXgPOojYMNviNrhrXfEfLAqQSgeNHTDmK/F5h/0H0a38uLjvzAtej5E47AsVza01ljtKfXn70OTm5rnqoVoguwDZsKvzQNhchFOImHaO3tAe3/jHEAc7UwqOSp3WAuEgh6n8DZhxcSSgMvJeYtQVc49A5Bs9LZCwEOTXRj7Kfd0tBSQE2pvXZpvVKdj3B+YXAZJTICGDT2gdYqYVa48oMPBKY8mAswzgP5ARMQHJwQOHnRCntGCwo4iuGwxQAnJ3dMCgdB/sOZi7Ed6IbaRXutwPSE8Qb+/gVzQZD/4FBGawUCJY8J84LJ5+qMtONRgp1P5mMNtNKDPEA30daTJpkBZPAFwPkLNiiI7ShrmI5Gq2KAs/YmZQ47PfIVLQVbQbJKA0wwQWQbjRNKBhP6VdF1qRdpb79IfGyY3LGndmOF3wjdkPHtwjlt3wmcR6+lVJeUbxHYUYvOGkZGmeoM10O7Cb6uTj28rHgxUHuBEsD+SzoIprJnQXQ4rFBo4DhqERg7gHlKSun+xx07evsi2+HqcEohPAotTOaFeBE/+pTbGlSkGWOfM6NnS4ZzeXI521S+KbbP6AyBQmVm587SWU10KKBf1wIXjmMUHOjO+4ijSy58PRjJCkGYp7QTALijIEI+QaZqQW/ND+hS+myTJmZQE0avIm4ICgeIMx3mgN9/mKXUKUhTsL9/jFHOkIm3bdk7v4+MUukMB5/IYDXHobL0vnJEt2soAfgB4DRHHkKgNIZ5xuWg0wX8NjDnwVewRAf64XpUrKAcIDD3jdNeZhh1/JkOTMN3BCXwpFbQEDYcwT3f1jhgYkQvJSgVvBPYH6vmKdttNZy4kjlMLn3pg76H49XBiczv3r17XJ9vldaq3n3uObnF0084XomB2QHd3VDoY5pq54tu04TmLkwSMEHgJS0SxsuIpixspWim+tsobbyx/t2oaVqoH+nQxx8P+9aPDB4sjfQjrBDHfLLOP5h+yuiHHIo/8merFkSo4cPpGCwv/R8cChv+A+tE9j8fj/0xetNu/fpJlTDGNaSlpcn32qHhlhAO9VikH0UNvo/d2mJDpSlYjyykA76yX5U3wpfV78K/Q0WwtMIMi9YcxidkpUsu7oUpqNFqh08gJ1oBszVN27QV+vDw4cGSHPNjffv2lQEDBkh5j7nOmQCahpw0MthG0z2z5jtewEgLCkxyZVsWGdyep8IgAP5wTmYm6AJ5qqc1l1lYex4OTUr2CKBiCY6ZsUSHinDy0Zka+Ayy2m0U8SBtGNxpB3g643bDdqQWCDcw4TOSAAmQgKsIUBG4Krv5sCRAAiQQSICKIJAJj5AACZCAqwhQEbgqu/mwJEACJBBIgIogkAmPkAAJkICrCFARuCq7+bAkQAIkEEiAiiCQCY+QAAmQgKsIUBG4Krv5sCRAAiQQSICKIJAJj5AACZCAqwhQEbgqu/mwJEACJBBIgIogkAmPkAAJkICrCFARuCq7+bAkQAIkEEiAiiCQCY+QAAmQgKsIUBG4Krv5sCRAAiQQSICKIJAJj5AACZCAqwhQEbgqu/mwJEACJBBIgIogkAmPkAAJkICrCFARuCq7+bAkQAIkEEiAiiCQCY+QAAmQgKsIUBG4Krv5sCRAAiQQSCApFq/ffuSIjNHF45NNjqenmyTn0YWxk0n+1nSfogvBRyR58sgnel1BzzNHdC0DZ4nAtsOHI7pu+7FjMiZfvoiuSYTAx06ckLyRvo8JkPA/NQ0lk+TbT3hFULZsWbln8OAEyNasJeGjjz6SH3/8UUqUKCHFixeXs846S0qWLCmnnXaa+c1arNG/qkiRIhHdpPett8qBAwciuiYRAv/999/y1VdfSePGjRMhORGnAd9HONKqVSupUqVKOEHjEgb58Ntvv8mePXvkzz//lHXr1sm+ffskf/78ckufPlIwCSuCAInvPRkk4RUBCqREfoEzy2R8qMOGDZNt27bJzp07JW/evFKgQAE5ePCguRRKoVixYtK0adOkLYzwIOEWSJnxivX5zz77TFauXCm33357rG8d0/sl2ne0atUqWbp0qSnwt27dKke01Y9CP11blNjOpTXpfNp6efjhh5P23YppBmfzZhG2/7N5Nxdejg8QigAFPpTA8ePHvUoALz2Uw/r165Om5pBqWThnzhxTA928eXOqPVpCPw8qDvPnz5eNGzeagh+JhQI4evSoUQL4VgYNGkQlEKNcpCKIAWgog379+kketaPndtg6UeuBlCtXLqlbPTFAGJVb7Nq1SzZs2GDy5OOPP47KPRhpcAL4Jtq2bWtq/f4h8J3cfPPN/Cb8wURxn4oginCdUaMG9MgjjxhlYI+jRQDFcMkll9hD/I0hgWXLlhkz3Ql1RmKbElsCNWrU8KkY4XuAOQgKIll9NrElmHN3oyLIOZaZxgRl0LdvX28tCDWfatWqCcwSDzzwgHEqZxoJA+QYgalTp8phT88bFEJUBjmGNsOIdu/eLa+88ooxmVaqVMmYTHEBzEE1a9aU66+/PsPreTLnCVAR5DzTDGOsU6eO3HTTTaZlgJootu+55x7517/+Je+995488cQTsmXLlgzj4MnsE4Dy3b9/vzci2KZnzZrl3edGzhOAD2DixIly9913mx5mzz77rKkAlSlTxvgF0MOmf//+OX9jxpgpgYTvNZTpEyRhADR7URCh95DtXnbhhRfKY489Jl9++aXgA7noootMzej0009PwidM/CQH8wmsWLHCFFCwX1NyjgBaW4sWLZL333/fdJseMmSI4H230qtXLxkzZow8+uij9hB/Y0yAiiDGwO3t0ALw73cP5/EVV1wh9erVk08//dTUlqA02rdvL4UKFbKX8jcHCMAMhB5cToFixnHap51UsreNMTTjxo0zJjgU+Jdeeqmp/TtjRfdwKAcqYCeV2G5TEcSWt8/dQr34sJW2adNGmjRpIpMnT5aBAwdKhw4dpFmzZj7OZp/IuBM2ART2MFMULlzY9Fu3TnscmzZtGhVB2CRDB9y+fbu8+eabpms0KjJwAOO9DiW2ZRzqPI9Hl0DonInufRl7GASgKHr27CktW7Y0/gO0Erp27SrwM1CyR+Daa681EWCg39q1a43SzV6MvBoEMBp40qRJsmDBAsP0zjvvlFNPPZVwEpwAFUGCZxCSh9oSehth8M3bb79taq3dunXzsbMmwWMkTBKhSK0yRevgjz/+kM6dOydM+pIxIWhNffLJJ4KeWFWrVpURI0ZI6dKlk/FRXJlmKoIkyvYKFSqYLncovF599VXzofXo0YMfXBLlYaol1ekIRgsWo4GdjuBUe95UfR4qgiTMWdRm0d963rx5pqcF9lGjZRM8CTMziZO8Zs0aef31102nB/T9b9iwYYAjOIkfz1VJpyJI0uzGYLQWLVpIgwYNTA+jwTpDK/bhZMbkXRQSiBYBOIInTJgg6G4LR3Dr1q35zkULdozipSKIEeho3QbdSq+55hrToygtLU3uvfdegSMUXSDtXEbRujfjdRcBf0fw888/z1ZoirwCVAQpkpEwC2GUMmpr7777rsycOVO6d+8u1atXT5En5GPEi8AxXdAG3WrhCK5YsSIdwfHKiCjel4oginDjETV6amDKCthv0cPoww8/NNNXwNFMIYFICMARjEV7YAbCYDtMDYG5sSipR4CKIPXy1DyRc8qKUaNGCRQBupxy4E6KZngOP5atSGDFMDqCcxhuAkZHRZCAmZJTSfKfsgKrPdWvX186duzI4fw5BTnF4rGO4OXLlxsnMPxP7HyQYpkc5HE4+2gQKKl2yE5Z8cwzz5hHg0N5+vTpAtsvhQRAAPNeYUqI++67z1QSRo4cKV26dKEScMnrwRaBSzIaj+k/ZQUUAj72yy+/nD2MXPQeOB8VlQFMv405rcqXL2+mQT/33HOdQbjtAgJUBC7IZP9H9J+yAq0DzGFER6A/qdTd93cE33XXXcz/1M3uTJ+MiiBTRKkbwDllxdixY6V48eKCqYJZI0zdPMeTYc4qjAi2cyw1b96cLcLUzvJMn46KIFNEqR/AOWUFVkjDWrLoKcJFcVIr73ft2mUWh/nmm2+kVatW0q5dO65zkVpZnOWnoSLIMrrUutA5ZQVW74LT8Morr+SiOCmQzXAET5kyxfgCsPDRc889RyWfAvmak49ARZCTNFMgLkxZAQcy5i3C0oIDBgwwU1ZwUZzky1ynIxjrAmMpVJr9ki8fY5FiKoJYUE7Ce8As1KdPH9myZYtZahBTVmBAWu3atWlPToL8XLJkiRkRnC9fPrn99tulVq1aSZBqJjFeBKgI4kU+Se6LGuT9998vdu1ZdDPEesuccz4xM9AuXrRjxw4zNXnTpk25vGliZlVCpYqKIKGyI3ETg66lTz75pCxcuFAwZQX6nHNRnMTJL39HMBaIgZmPQgLhEKAiCIcSwxgCmLIC01tjABqWJcSUFdjmojjxe0GsIxjrWderV4+O4PhlRVLfmYogqbMvPonH3DPONRAw2ykWJ+GiOLHLj+PHj5sFiWCqgyN42LBhZmLB2KWAd0olAlQEqZSbMX4WuwYC+qRjDQRMU3zddddxUZwo58O3335reOM2dARHGbZLoqcicElGR/Mx/ddA4KI40aFtHcFbt241M8i2bNmSjuDooHZdrFQErsvy6D2wcw0ETGGALqjoYcRFcbLHfPfu3TJ+/HhZunSpoPAfOHAgpxHPHlJe7UeAisAPCHezR8C5BsL8+fPl6aeflsqVK3NRnCxgPXTokGCU94wZM8z4jWeffZYLC2WBIy/JnAAVQeaMGCILBLAGAkYnN2jQwBRmgwcPFvRp56I4mcOEIxhKNC0tTUqVKiUPPfQQW1WZY2OIbBCgIsgGPF6aOQH/KSvgUO7QoYMxcUBZUHwJWEfw0aNHpXfv3nLZZZf5BuAeCUSBAL/EKEBllIEE/KeswGIomOGUi+L8wwpTecCvYh3BV111lVBRBr5HPBIdAlQE0eHKWEMQ8J+yArNiYg0Ety6KA0fwxIkTZfHixYLCn47gEC8OD0eVABVBVPEy8lAEnFNWjB492gyKctOiONYRjBHa1atXF6wnjZXjKCQQDwJUBPGgznsaAv5TVmB0bN26dVN6URwsETl37lzjCMaKcEOGDOEEfvwe4k6AiiDuWcAEBJuyAv3l27dvn1ITp9kZXA8fPmwcwZdeeimn9ObrnxAEqAgSIhuYCBAINmVFp06dJNkXxbFrOmzatMl0n6UjmO97ohGgIki0HGF6JNiUFcm4KI51BH/++edGmfXr148jgvl+JyQBKoKEzBYmCgScU1aMGzdOkmVRnCNHjpg1gq0j+KmnnjLKjblKAolKgIogUXOG6TIEnFNWYM599K6BgkjERXHgCF60aJFZ6/m0006jI5jvcNIQoCJImqxyd0IxuArrHTRp0sS0DNDbplGjRgmzKI7TEYxusHQEu/t9TbanpyJIthxzeXqLFCkiPXv2NFNUvPfee2YNhLZt28ZtUZzt27fLm2++KevXrze9nJAWjgh2+UuahI9PRZCEmcYkixl81bdvX7Fz9M+ZM8csitOwYcOYzNG/b98+mTRpkixYsMC0Uu68807T64l5QwLJSICKIBlzjWn2EsBaBxiItmzZMpkwYYKZ6RQ9jOrUqeMNk5MbcATDCTx16lSpWrWqjBgxgo7gnATMuOJCgIogLth505wmgIK/Zs2aMm/ePBkzZoxMmzYtRxfFcTqCYZ4aNGgQRwTndCYyvrgRoCKIG3reOKcJ5MmTx2cNhOHDh0utWrWyvSjOmjVrzMygBw4cMNNfwPyE3kwUEkgVAlQEqZKTfA4vAf81EO69916jICJdFAeOYJibVqxYYRzBrVu3FkyHQSGBVCNARZBqOcrn8RKwayCg2ykGpPXv31+uueaaTBfF8XcEP//883QEe6lyIxUJUBGkYq7ymXwI+K+B4FwUxxnw2LFjxrcAR3DFihXpCHbC4XZKE6AiSOns5cM5CTjXQBg/fryZBgIDvyBLliwxZqACBQqYsQluXSjHyYvb7iFARRDnvJ49e7bs3bs3zqlw3+0xKnnDhg1GGaBH0KuvviqVK1eW8uXLC5zD+KPEjkDjxo25ME/scAfciYogAElsD2BUarmaTSV33nyxvTHvJlLobDm3xlmy/4+dcsqZpWVv7jzy/Zb9JBNjAr//vFLQEmvXrl2M78zbWQJUBJZEHH/L1Wou+QsViWMKeGsSiB+Bowf2xO/mvLMhkJscSIAESIAE3E2AisDd+c+nJwESIAGhIuBLQAIkQAIuJ0BF4PIXgI9PAiRAAlQEfAdIgARIwOUEqAhc/gLw8UmABEiAioDvAAmQAAm4nAAVgctfAD4+CZAACVAR8B0gARIgAZcToCJw+QvAxycBEiABKgK+AyRAAiTgcgJUBC5/Afj4JEACJEBFwHeABEiABFxOgIrA5S8AH58ESIAEqAj4DpAACZCAywlQEbj8BeDjkwAJkAAVAd8BEiABEnA5ASoCl78AfHwSIAESoCLgO0ACJEACLidAReDyF4CPTwIkQAJUBHwHSIAESMDlBKgIXP4C8PFJgARIgIqA7wAJkAAJuJwAFYHLXwA+PgmQAAlQEfAdIAESIAGXE6AicPkLwMcnARIgASoCvgMkQAIk4HICVAQufwH4+CRAAiRARcB3gARIgARcToCKwOUvAB+fBEiABKgI+A6QAAmQgMsJUBG4/AXg45MACZAAFQHfARIgARJwOQEqApe/AHx8EiABEqAi4DtAAiRAAi4nQEXg8heAj08CJEACVAR8B0iABEjA5QSoCFz+AvDxSYAESICKgO8ACZAACbicQF6XPz8fP8YE0tPT5am7OoV11/Mvri2d+zwQVth4Btq46jv54OVH5aJa9aXDjffEMym8NwlkiQAVQZaw8aKsEoAi+OnbxWFdXqBg4bDCxTvQ/r1/mmc65bTi8U4K708CWSJARZAlbLwoJwjcM/I9KV7ynJBRFSxcJOQ5niABEsg5AlQEOceSMUVIoESZ8lKiTNkIr2JwEiCBnCZARZDTRBlfVAhMGDVUtqxfKbcN/Z9Me/u/smLpAtnxywapVL2eNGrXQxq0vt7nvidOnJAvPnlfVnw1X5YvmWfOVaxWV9rd0E8uqHGZT9gf9fyn770iG1Z+Y46fV6mqXNaiozTu0Ety5/btT/HTd4tlyezJ8t3CGZI3X36pcUULkwafCD07Rw4fkunjXpQfl8yVTau/l7POLmvu3fHfA6V4qZMtoUXT35MvP02T9r0HyKfvj5bvP58lNRteLdfeMkjOOb9ysKh5jARylAAVQY7iZGTRIvDzTz/I2h+WyON92smubZulYOGi5m/d8qWCvyN/H5Rm197ovf2Hr/5HC+EXzH75ypfI9s3rjVKAYnhy4lfelsiHrz0pH48dacKVOu98KVCoiLkP7vWdFsj9nnxL8uT95zPZsOIbefLOa71h8+UvIPOnvGX+vDf2bMBv8J87rpFtm9aadF5U6wr57def5YsZ78s3n02Xe0e+L+dXrW1C/77tF1n9zedGWfx9cL859t2imdK17zBPbPwhgegSoCKILl/GngGBKa8/LUVOKRYyRJted8lpZ5b0OQ8l0Pc/b0q1y5pJnjx5ZcKoh2VO2usy+4MxXkWwWGvXUAKnnn6mDPzvB6ZWffzYMZmkymHG+JckbfRj8n+Pviao3Vsl0HfEWKmltXDIlvWr5Jn+XUxNfuHH46VpxxvkwL49MmrwDeZ8zwH/kead/lE6y7+cKyPv7WGOO/+b8vozRgmg51P/p8dJ0WJnCFopH499TnDuracHytDXZ3mVDK6FEuh02/1ySf0WsmPLBlVW5ZxRcpsEokaAiiBqaBlxZgRgDslIYJrxVwQd/32f1GrUyntZy659jCKAmcjKD1qTh3S+/UGvaQW1+nY33C1oWeTLX1AOHfhLvp431YS76vrbvEoAB86tWEW6939MRg/tIzPe/Z9RBJt++l727f5dULBbJYCw1S9vrud7y/zJY7Fr5OD+fTJ30htmu/2NA4wSwA7MTG3+1U9mThhtlA1aMmgpWEHcbf91l9mlSchS4W8sCFARxIIy7xGUwA0Dn9KCvlTQczh4ZqlzA87Bfu+U0846ef2J48cld548skkLe0jl2vWdQaVQkaJy36iTygctAkjNBi19wmGn+uVXmmNogRw9/LcpuHGg2uXNzHHnfzWuuNJHEeAaK1Agv6xbYXfNb+Gip5ra/85fN/oognIX1fAJxx0SiBUBKoJYkeZ9AghUqdvYa6sPOBnigH9ffZiHrGCMwmH1FdiCGKahjGT/nj/Naf84cRBKw8qeP36THepjgBQ99Qx72Pvr32r5Y8ev3nNTxjzt3fbf+GPnVp9DTgeyzwnukECUCZz8iqJ8I0ZPAjlCIFeuDKPJX6CQ9/yh/X+Jcx8n0JMHpqFcGk+x4iWMuefggX3ea+wGwlkpVPQUKV76n9bJwf177WHv7+FDB7zb2Cjs8Xugl1C/J9/2OefcKVrsdOeu5M2bz2efOyQQKwK+feNidVfehwSiRAAFPGz8kC0bVvnc5dixozKka325qUFpwbQQpc+raM5vWLHMJxx2cB6C3kmFixaTchdWN/vrln9tfp3//bLO9z7WyYuWCVoLZSpc6PO3+tvPTc+hPX/sdEbDbRKIGwEqgrih542jRaBus/YmaphlDh866L3N13Onyp+/bTOF+3mVLpa6zf8J99Ebz8pvW0/a9eHsTXv5cXPd5Vd1Mk5ea7/HmAD0FLKyV81G6AnklNPPKu0dW4DxD+ixZOWHxXNk/MgHZPKYpySYScqG4y8JxJIATUOxpM17+RAY1OVSUyj7HPTbeW7Kd2qvP8XvaMa7V11/qyyY8rYZIDbsphbaHfMq4+xd+fVn5sLu/R41g8HqNGkrVS9tasYXDO3dXOq36mKOozcRFAYGq3W542FzDfwN6GL6wuDeprtow7bdNF2nypJZk4x5yZkitEp63P24DLuxhRk38OvG1XJx3Uay7ee1ZrAYwsJRfkaJs52XcZsE4kaAiiBu6HljELADqELRgAMYkjvPP41XFLKhxJ7DZHXD3pxtat5fzZkiM3952VwCMw+6hTZs09UbxV1auE97678yVWv1tssnCv1GbbtL17seUUV1cr4jjDP494OjdBTyaFk0bYKJA2Fvuv95eeOJ/pJL/1kpe0E1eeydz+StpwaaAW+b1yy3p+Sam++VRu17evdzeUYv21/vCW6QQIwI5NIP7Z8vze+G48ePNw617t27+53hbk4SAN8mNz8m+XVEKyXnCRw9ctiM6M1XoKB2Rz3HdC8NdhcM9vp9+xZJTz8hJc8pHyyIzzG0GNBd9UyPE9nnpN8OejJhVHGBQoVNKwBTU1BOElg9b4I0qHG+tGvX7uRBbuU4gb59+8qAAQOkfPnA95stghzHzQgTiQCmgYCzNjPBYK9IJsCLxKyDFop1YGeWDp4ngXgQoLM4HtR5TxIgARJIIAJUBAmUGUwKCZAACcSDABVBPKjzniRAAiSQQASoCBIoM5gUEiABEogHASqCeFDnPUmABEgggQhQESRQZjApJEACJBAPAlQE8aDOe5IACZBAAhGgIkigzGBSSIAESCAeBKgI4kGd9yQBEiCBBCJARZBAmcGkkAAJkEA8CFARxIM670kCJEACCUSAiiCBMoNJIQESIIF4EKAiiAd13pMESIAEEogAFUECZQaTQgIkQALxIEBFEA/qvCcJkAAJJBABKoIEygwmhQRIgATiQYCKIB7UeU8SIAESSCACVAQJlBlMCgmQAAnEgwAVQTyo854kQAIkkEAEqAgSKDOYFBIgARKIBwEqgnhQ5z1JgARIIIEIUBEkUGYwKSRAAiQQDwJUBPGgznuSAAmQQAIRoCJIoMxgUkiABEggHgSoCOJBnfckARIggQQiQEWQQJnBpJAACZBAPAhQEcSDOu9JAiRAAglEgIoggTKDSSEBEiCBeBCgIogHdd6TBEiABBKIABVBAmUGk0ICJEAC8SBARRAP6rwnCZAACSQQASqCBMoMJoUESIAE4kGAiiAe1HlPEiABEkggAlQECZQZTAoJkAAJxIMAFUE8qPOeJEACJJBABKgIEigzmBQSIAESiAcBKoJ4UOc9SYAESCCBCFARJFBmMCkkQAIkEA8CeeNxU97Tl8CC1x/0PcA9EnAZgdw1K7nsiRPrcakI4pwfw4YNk2PHjsU5Fbw9CcSXQJkyZeKbAJffnYogzi/ABRdcEOcU8PYkQAJuJ0AfgdvfAD4/CZCA6wlQEbj+FSAAEiABtxOgInD7G8DnJwEScD0BKgLXvwIEQAIk4HYCVARufwP4/CRAAq4nQEXg+lfqyph6AAABLElEQVSAAEiABNxOgIrA7W8An58ESMD1BKgIXP8KEAAJkIDbCVARuP0N4POTAAm4ngAVgetfAQIgARJwOwEqAre/AXx+EiAB1xOgInD9K0AAJEACbidAReD2N4DPTwIk4HoCVASufwUIgARIwO0EqAjc/gbw+UmABFxPIMP1CNasWSNpaWmuh0QAJEACJJDsBA4ePCjp6elBHyOkIqhVq5YUKFAg6EU8SAIkQAIkkFwEWrVqJSVLlgya6FyqIYKriKDBeZAESIAESCDVCNBHkGo5yuchARIggQgJUBFECIzBSYAESCDVCFARpFqO8nlIgARIIEICVAQRAmNwEiABEkg1AlQEqZajfB4SIAESiJAAFUGEwBicBEiABFKNABVBquUon4cESIAEIiTw/38gDnxoroYSAAAAAElFTkSuQmCC)\n",
        "\n",
        "\n",
        "instead we will be doing the below\n",
        "that is we will make all the models share the same encoder\n",
        "\n",
        "![image.png](data:image/png;base64,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)\n",
        "\n",
        "\n",
        "\n"
      ]
    },
    {
      "cell_type": "code",
      "metadata": {
        "id": "sD5io5g4tH7J"
      },
      "source": [
        "class MultitaskModel(transformers.PreTrainedModel):\n",
        "    def __init__(self, encoder, taskmodels_dict):\n",
        "        \"\"\"\n",
        "        Setting MultitaskModel up as a PretrainedModel allows us\n",
        "        to take better advantage of Trainer features\n",
        "        \"\"\"\n",
        "        super().__init__(transformers.PretrainedConfig())\n",
        "\n",
        "        self.encoder = encoder\n",
        "        self.taskmodels_dict = nn.ModuleDict(taskmodels_dict)\n",
        "\n",
        "    @classmethod\n",
        "    def create(cls, model_name, model_type_dict, model_config_dict):\n",
        "        \"\"\"\n",
        "        This creates a MultitaskModel using the model class and config objects\n",
        "        from single-task models. \n",
        "\n",
        "        We do this by creating each single-task model, and having them share\n",
        "        the same encoder transformer.\n",
        "        \"\"\"\n",
        "        shared_encoder = None\n",
        "        taskmodels_dict = {}\n",
        "        for task_name, model_type in model_type_dict.items():\n",
        "            model = model_type.from_pretrained(\n",
        "                model_name, \n",
        "                config=model_config_dict[task_name],\n",
        "            )\n",
        "            if shared_encoder is None:\n",
        "                shared_encoder = getattr(model, cls.get_encoder_attr_name(model))\n",
        "            else:\n",
        "                setattr(model, cls.get_encoder_attr_name(model), shared_encoder)\n",
        "            taskmodels_dict[task_name] = model\n",
        "        return cls(encoder=shared_encoder, taskmodels_dict=taskmodels_dict)\n",
        "\n",
        "    @classmethod\n",
        "    def get_encoder_attr_name(cls, model):\n",
        "        \"\"\"\n",
        "        The encoder transformer is named differently in each model \"architecture\".\n",
        "        This method lets us get the name of the encoder attribute\n",
        "        \"\"\"\n",
        "        model_class_name = model.__class__.__name__\n",
        "        if model_class_name.startswith(\"Bert\"):\n",
        "            return \"bert\"\n",
        "        elif model_class_name.startswith(\"Roberta\"):\n",
        "            return \"roberta\"\n",
        "        elif model_class_name.startswith(\"Albert\"):\n",
        "            return \"albert\"\n",
        "        else:\n",
        "            raise KeyError(f\"Add support for new model {model_class_name}\")\n",
        "\n",
        "    def forward(self, task_name, **kwargs):\n",
        "        return self.taskmodels_dict[task_name](**kwargs)"
      ],
      "execution_count": null,
      "outputs": []
    },
    {
      "cell_type": "markdown",
      "metadata": {
        "id": "nZoUzor-6Vi_"
      },
      "source": [
        "Will be using **roberta-base** transformer"
      ]
    },
    {
      "cell_type": "code",
      "metadata": {
        "id": "KBIekBbetPus",
        "outputId": "862f8835-49c4-4c07-a70e-aa26bdb47c30",
        "colab": {
          "base_uri": "https://localhost:8080/",
          "height": 1000,
          "referenced_widgets": [
            "0d48353f07ab47dc8c97f3055f4c60d4",
            "d043db66e85d4801ab5eddaf7f37b824",
            "40a39a7cb9f442558fb257a59865f0ba",
            "b7f45ec42ada44af96c94778377fa3fe",
            "75c2b3e40b02451d8daabe6afe6e5908",
            "6e1a758940704ac588533305a9908bf2",
            "75a3744fa19f4de386bf7220b7733088",
            "5b32000358fb405d8b0e6b0743d6493f",
            "74beb5086ad04f6c97400b49ade2f8bf",
            "8c4a2effb41b416a9cd325218ecf7dc7",
            "f48ac86722b5429390ee63ff3f7e0f1b",
            "361ac55a341a4243886ca652dfe71dca",
            "170d2a0df5e543ba8bac3e7be33ba469",
            "cb915f3fb4554aeeab5ed896569b0fc8",
            "54c827b533274f07b1f58e008c672c78",
            "05c5f72753024294a89396bc3844d749"
          ]
        }
      },
      "source": [
        "model_name = \"roberta-base\"\n",
        "multitask_model = MultitaskModel.create(\n",
        "    model_name=model_name,\n",
        "    model_type_dict={\n",
        "        \"stsb\": transformers.AutoModelForSequenceClassification,\n",
        "        \"rte\": transformers.AutoModelForSequenceClassification,\n",
        "        \"commonsense_qa\": transformers.AutoModelForMultipleChoice,\n",
        "    },\n",
        "    model_config_dict={\n",
        "        \"stsb\": transformers.AutoConfig.from_pretrained(model_name, num_labels=1),\n",
        "        \"rte\": transformers.AutoConfig.from_pretrained(model_name, num_labels=2),\n",
        "        \"commonsense_qa\": transformers.AutoConfig.from_pretrained(model_name),\n",
        "    },\n",
        ")"
      ],
      "execution_count": null,
      "outputs": [
        {
          "output_type": "stream",
          "text": [
            "INFO:filelock:Lock 140360666965216 acquired on /root/.cache/torch/transformers/e1a2a406b5a05063c31f4dfdee7608986ba7c6393f7f79db5e69dcd197208534.117c81977c5979de8c088352e74ec6e70f5c66096c28b61d3c50101609b39690.lock\n",
            "INFO:transformers.file_utils:https://s3.amazonaws.com/models.huggingface.co/bert/roberta-base-config.json not found in cache or force_download set to True, downloading to /root/.cache/torch/transformers/tmpafjb1x1e\n"
          ],
          "name": "stderr"
        },
        {
          "output_type": "display_data",
          "data": {
            "application/vnd.jupyter.widget-view+json": {
              "model_id": "0d48353f07ab47dc8c97f3055f4c60d4",
              "version_minor": 0,
              "version_major": 2
            },
            "text/plain": [
              "HBox(children=(FloatProgress(value=0.0, description='Downloading', max=481.0, style=ProgressStyle(description_…"
            ]
          },
          "metadata": {
            "tags": []
          }
        },
        {
          "output_type": "stream",
          "text": [
            "INFO:transformers.file_utils:storing https://s3.amazonaws.com/models.huggingface.co/bert/roberta-base-config.json in cache at /root/.cache/torch/transformers/e1a2a406b5a05063c31f4dfdee7608986ba7c6393f7f79db5e69dcd197208534.117c81977c5979de8c088352e74ec6e70f5c66096c28b61d3c50101609b39690\n",
            "INFO:transformers.file_utils:creating metadata file for /root/.cache/torch/transformers/e1a2a406b5a05063c31f4dfdee7608986ba7c6393f7f79db5e69dcd197208534.117c81977c5979de8c088352e74ec6e70f5c66096c28b61d3c50101609b39690\n",
            "INFO:filelock:Lock 140360666965216 released on /root/.cache/torch/transformers/e1a2a406b5a05063c31f4dfdee7608986ba7c6393f7f79db5e69dcd197208534.117c81977c5979de8c088352e74ec6e70f5c66096c28b61d3c50101609b39690.lock\n",
            "INFO:transformers.configuration_utils:loading configuration file https://s3.amazonaws.com/models.huggingface.co/bert/roberta-base-config.json from cache at /root/.cache/torch/transformers/e1a2a406b5a05063c31f4dfdee7608986ba7c6393f7f79db5e69dcd197208534.117c81977c5979de8c088352e74ec6e70f5c66096c28b61d3c50101609b39690\n",
            "INFO:transformers.configuration_utils:Model config RobertaConfig {\n",
            "  \"architectures\": [\n",
            "    \"RobertaForMaskedLM\"\n",
            "  ],\n",
            "  \"attention_probs_dropout_prob\": 0.1,\n",
            "  \"bos_token_id\": 0,\n",
            "  \"eos_token_id\": 2,\n",
            "  \"hidden_act\": \"gelu\",\n",
            "  \"hidden_dropout_prob\": 0.1,\n",
            "  \"hidden_size\": 768,\n",
            "  \"id2label\": {\n",
            "    \"0\": \"LABEL_0\"\n",
            "  },\n",
            "  \"initializer_range\": 0.02,\n",
            "  \"intermediate_size\": 3072,\n",
            "  \"label2id\": {\n",
            "    \"LABEL_0\": 0\n",
            "  },\n",
            "  \"layer_norm_eps\": 1e-05,\n",
            "  \"max_position_embeddings\": 514,\n",
            "  \"model_type\": \"roberta\",\n",
            "  \"num_attention_heads\": 12,\n",
            "  \"num_hidden_layers\": 12,\n",
            "  \"pad_token_id\": 1,\n",
            "  \"type_vocab_size\": 1,\n",
            "  \"vocab_size\": 50265\n",
            "}\n",
            "\n"
          ],
          "name": "stderr"
        },
        {
          "output_type": "stream",
          "text": [
            "\n"
          ],
          "name": "stdout"
        },
        {
          "output_type": "stream",
          "text": [
            "INFO:transformers.configuration_utils:loading configuration file https://s3.amazonaws.com/models.huggingface.co/bert/roberta-base-config.json from cache at /root/.cache/torch/transformers/e1a2a406b5a05063c31f4dfdee7608986ba7c6393f7f79db5e69dcd197208534.117c81977c5979de8c088352e74ec6e70f5c66096c28b61d3c50101609b39690\n",
            "INFO:transformers.configuration_utils:Model config RobertaConfig {\n",
            "  \"architectures\": [\n",
            "    \"RobertaForMaskedLM\"\n",
            "  ],\n",
            "  \"attention_probs_dropout_prob\": 0.1,\n",
            "  \"bos_token_id\": 0,\n",
            "  \"eos_token_id\": 2,\n",
            "  \"hidden_act\": \"gelu\",\n",
            "  \"hidden_dropout_prob\": 0.1,\n",
            "  \"hidden_size\": 768,\n",
            "  \"initializer_range\": 0.02,\n",
            "  \"intermediate_size\": 3072,\n",
            "  \"layer_norm_eps\": 1e-05,\n",
            "  \"max_position_embeddings\": 514,\n",
            "  \"model_type\": \"roberta\",\n",
            "  \"num_attention_heads\": 12,\n",
            "  \"num_hidden_layers\": 12,\n",
            "  \"pad_token_id\": 1,\n",
            "  \"type_vocab_size\": 1,\n",
            "  \"vocab_size\": 50265\n",
            "}\n",
            "\n",
            "INFO:transformers.configuration_utils:loading configuration file https://s3.amazonaws.com/models.huggingface.co/bert/roberta-base-config.json from cache at /root/.cache/torch/transformers/e1a2a406b5a05063c31f4dfdee7608986ba7c6393f7f79db5e69dcd197208534.117c81977c5979de8c088352e74ec6e70f5c66096c28b61d3c50101609b39690\n",
            "INFO:transformers.configuration_utils:Model config RobertaConfig {\n",
            "  \"architectures\": [\n",
            "    \"RobertaForMaskedLM\"\n",
            "  ],\n",
            "  \"attention_probs_dropout_prob\": 0.1,\n",
            "  \"bos_token_id\": 0,\n",
            "  \"eos_token_id\": 2,\n",
            "  \"hidden_act\": \"gelu\",\n",
            "  \"hidden_dropout_prob\": 0.1,\n",
            "  \"hidden_size\": 768,\n",
            "  \"initializer_range\": 0.02,\n",
            "  \"intermediate_size\": 3072,\n",
            "  \"layer_norm_eps\": 1e-05,\n",
            "  \"max_position_embeddings\": 514,\n",
            "  \"model_type\": \"roberta\",\n",
            "  \"num_attention_heads\": 12,\n",
            "  \"num_hidden_layers\": 12,\n",
            "  \"pad_token_id\": 1,\n",
            "  \"type_vocab_size\": 1,\n",
            "  \"vocab_size\": 50265\n",
            "}\n",
            "\n",
            "INFO:filelock:Lock 140358273707536 acquired on /root/.cache/torch/transformers/80b4a484eddeb259bec2f06a6f2f05d90934111628e0e1c09a33bd4a121358e1.49b88ba7ec2c26a7558dda98ca3884c3b80fa31cf43a1b1f23aef3ff81ba344e.lock\n",
            "INFO:transformers.file_utils:https://cdn.huggingface.co/roberta-base-pytorch_model.bin not found in cache or force_download set to True, downloading to /root/.cache/torch/transformers/tmpdlldx1o6\n"
          ],
          "name": "stderr"
        },
        {
          "output_type": "display_data",
          "data": {
            "application/vnd.jupyter.widget-view+json": {
              "model_id": "74beb5086ad04f6c97400b49ade2f8bf",
              "version_minor": 0,
              "version_major": 2
            },
            "text/plain": [
              "HBox(children=(FloatProgress(value=0.0, description='Downloading', max=501200538.0, style=ProgressStyle(descri…"
            ]
          },
          "metadata": {
            "tags": []
          }
        },
        {
          "output_type": "stream",
          "text": [
            "INFO:transformers.file_utils:storing https://cdn.huggingface.co/roberta-base-pytorch_model.bin in cache at /root/.cache/torch/transformers/80b4a484eddeb259bec2f06a6f2f05d90934111628e0e1c09a33bd4a121358e1.49b88ba7ec2c26a7558dda98ca3884c3b80fa31cf43a1b1f23aef3ff81ba344e\n",
            "INFO:transformers.file_utils:creating metadata file for /root/.cache/torch/transformers/80b4a484eddeb259bec2f06a6f2f05d90934111628e0e1c09a33bd4a121358e1.49b88ba7ec2c26a7558dda98ca3884c3b80fa31cf43a1b1f23aef3ff81ba344e\n",
            "INFO:filelock:Lock 140358273707536 released on /root/.cache/torch/transformers/80b4a484eddeb259bec2f06a6f2f05d90934111628e0e1c09a33bd4a121358e1.49b88ba7ec2c26a7558dda98ca3884c3b80fa31cf43a1b1f23aef3ff81ba344e.lock\n",
            "INFO:transformers.modeling_utils:loading weights file https://cdn.huggingface.co/roberta-base-pytorch_model.bin from cache at /root/.cache/torch/transformers/80b4a484eddeb259bec2f06a6f2f05d90934111628e0e1c09a33bd4a121358e1.49b88ba7ec2c26a7558dda98ca3884c3b80fa31cf43a1b1f23aef3ff81ba344e\n"
          ],
          "name": "stderr"
        },
        {
          "output_type": "stream",
          "text": [
            "\n"
          ],
          "name": "stdout"
        },
        {
          "output_type": "stream",
          "text": [
            "INFO:transformers.modeling_utils:Weights of RobertaForSequenceClassification not initialized from pretrained model: ['classifier.dense.weight', 'classifier.dense.bias', 'classifier.out_proj.weight', 'classifier.out_proj.bias']\n",
            "INFO:transformers.modeling_utils:Weights from pretrained model not used in RobertaForSequenceClassification: ['lm_head.bias', 'lm_head.dense.weight', 'lm_head.dense.bias', 'lm_head.layer_norm.weight', 'lm_head.layer_norm.bias', 'lm_head.decoder.weight']\n",
            "INFO:transformers.modeling_utils:loading weights file https://cdn.huggingface.co/roberta-base-pytorch_model.bin from cache at /root/.cache/torch/transformers/80b4a484eddeb259bec2f06a6f2f05d90934111628e0e1c09a33bd4a121358e1.49b88ba7ec2c26a7558dda98ca3884c3b80fa31cf43a1b1f23aef3ff81ba344e\n",
            "INFO:transformers.modeling_utils:Weights of RobertaForSequenceClassification not initialized from pretrained model: ['classifier.dense.weight', 'classifier.dense.bias', 'classifier.out_proj.weight', 'classifier.out_proj.bias']\n",
            "INFO:transformers.modeling_utils:Weights from pretrained model not used in RobertaForSequenceClassification: ['lm_head.bias', 'lm_head.dense.weight', 'lm_head.dense.bias', 'lm_head.layer_norm.weight', 'lm_head.layer_norm.bias', 'lm_head.decoder.weight']\n",
            "INFO:transformers.modeling_utils:loading weights file https://cdn.huggingface.co/roberta-base-pytorch_model.bin from cache at /root/.cache/torch/transformers/80b4a484eddeb259bec2f06a6f2f05d90934111628e0e1c09a33bd4a121358e1.49b88ba7ec2c26a7558dda98ca3884c3b80fa31cf43a1b1f23aef3ff81ba344e\n",
            "INFO:transformers.modeling_utils:Weights of RobertaForMultipleChoice not initialized from pretrained model: ['classifier.weight', 'classifier.bias']\n",
            "INFO:transformers.modeling_utils:Weights from pretrained model not used in RobertaForMultipleChoice: ['lm_head.bias', 'lm_head.dense.weight', 'lm_head.dense.bias', 'lm_head.layer_norm.weight', 'lm_head.layer_norm.bias', 'lm_head.decoder.weight']\n"
          ],
          "name": "stderr"
        }
      ]
    },
    {
      "cell_type": "code",
      "metadata": {
        "id": "MtWhC8wntRXc",
        "outputId": "3714e69d-642a-45fc-ae48-e21066a920b4",
        "colab": {
          "base_uri": "https://localhost:8080/"
        }
      },
      "source": [
        "if model_name.startswith(\"roberta-\"):\n",
        "    print(multitask_model.encoder.embeddings.word_embeddings.weight.data_ptr())\n",
        "    print(multitask_model.taskmodels_dict[\"stsb\"].roberta.embeddings.word_embeddings.weight.data_ptr())\n",
        "    print(multitask_model.taskmodels_dict[\"rte\"].roberta.embeddings.word_embeddings.weight.data_ptr())\n",
        "    print(multitask_model.taskmodels_dict[\"commonsense_qa\"].roberta.embeddings.word_embeddings.weight.data_ptr())\n",
        "else:\n",
        "    print(\"Exercise for the reader: add a check for other model architectures =)\")"
      ],
      "execution_count": null,
      "outputs": [
        {
          "output_type": "stream",
          "text": [
            "803454976\n",
            "803454976\n",
            "803454976\n",
            "803454976\n"
          ],
          "name": "stdout"
        }
      ]
    },
    {
      "cell_type": "code",
      "metadata": {
        "id": "rR7_drHmwyo0",
        "outputId": "4fa448f1-0176-44ab-c5a2-6815f4956883",
        "colab": {
          "base_uri": "https://localhost:8080/",
          "height": 730,
          "referenced_widgets": [
            "5a10810957ad4ba5ad1a131ccc388e72",
            "cd12fe46ff0d42b5935b0d372ae940cb",
            "52130e524d5b4d4c88248d6936d51e09",
            "7005bdfc681e4fb7ad737b276937388b",
            "69760da6ed534e3ab207e463c6fbf41e",
            "cf153a460f2e487e8b12421a9b7bc241",
            "691c6d2b2d4644e1a6904c211a3bc057",
            "72a2809de2da45a79346e61d5aacbb35",
            "f5d9093168e348f588e0bb5be9fcb361",
            "891de988d2154868aff30013b02e6a26",
            "2c78728919a048c69e233fe8192a3294",
            "b1b18784db47411ea556c7187cf8f8f7",
            "a66e03e819ec453e8fd926edcaa9da5d",
            "b26e6d1c14b34a4e93e7d2e3bc5e3e26",
            "d6aad7fb6e264c929b5f6c951162c617",
            "befaa5b18c9143f9adb8c204275ddc64"
          ]
        }
      },
      "source": [
        "tokenizer = transformers.AutoTokenizer.from_pretrained(model_name)"
      ],
      "execution_count": null,
      "outputs": [
        {
          "output_type": "stream",
          "text": [
            "INFO:transformers.configuration_utils:loading configuration file https://s3.amazonaws.com/models.huggingface.co/bert/roberta-base-config.json from cache at /root/.cache/torch/transformers/e1a2a406b5a05063c31f4dfdee7608986ba7c6393f7f79db5e69dcd197208534.117c81977c5979de8c088352e74ec6e70f5c66096c28b61d3c50101609b39690\n",
            "INFO:transformers.configuration_utils:Model config RobertaConfig {\n",
            "  \"architectures\": [\n",
            "    \"RobertaForMaskedLM\"\n",
            "  ],\n",
            "  \"attention_probs_dropout_prob\": 0.1,\n",
            "  \"bos_token_id\": 0,\n",
            "  \"eos_token_id\": 2,\n",
            "  \"hidden_act\": \"gelu\",\n",
            "  \"hidden_dropout_prob\": 0.1,\n",
            "  \"hidden_size\": 768,\n",
            "  \"initializer_range\": 0.02,\n",
            "  \"intermediate_size\": 3072,\n",
            "  \"layer_norm_eps\": 1e-05,\n",
            "  \"max_position_embeddings\": 514,\n",
            "  \"model_type\": \"roberta\",\n",
            "  \"num_attention_heads\": 12,\n",
            "  \"num_hidden_layers\": 12,\n",
            "  \"pad_token_id\": 1,\n",
            "  \"type_vocab_size\": 1,\n",
            "  \"vocab_size\": 50265\n",
            "}\n",
            "\n",
            "INFO:filelock:Lock 140358284934560 acquired on /root/.cache/torch/transformers/d0c5776499adc1ded22493fae699da0971c1ee4c2587111707a4d177d20257a2.ef00af9e673c7160b4d41cfda1f48c5f4cba57d5142754525572a846a1ab1b9b.lock\n",
            "INFO:transformers.file_utils:https://s3.amazonaws.com/models.huggingface.co/bert/roberta-base-vocab.json not found in cache or force_download set to True, downloading to /root/.cache/torch/transformers/tmp6am1w_0a\n"
          ],
          "name": "stderr"
        },
        {
          "output_type": "display_data",
          "data": {
            "application/vnd.jupyter.widget-view+json": {
              "model_id": "5a10810957ad4ba5ad1a131ccc388e72",
              "version_minor": 0,
              "version_major": 2
            },
            "text/plain": [
              "HBox(children=(FloatProgress(value=0.0, description='Downloading', max=898823.0, style=ProgressStyle(descripti…"
            ]
          },
          "metadata": {
            "tags": []
          }
        },
        {
          "output_type": "stream",
          "text": [
            "INFO:transformers.file_utils:storing https://s3.amazonaws.com/models.huggingface.co/bert/roberta-base-vocab.json in cache at /root/.cache/torch/transformers/d0c5776499adc1ded22493fae699da0971c1ee4c2587111707a4d177d20257a2.ef00af9e673c7160b4d41cfda1f48c5f4cba57d5142754525572a846a1ab1b9b\n",
            "INFO:transformers.file_utils:creating metadata file for /root/.cache/torch/transformers/d0c5776499adc1ded22493fae699da0971c1ee4c2587111707a4d177d20257a2.ef00af9e673c7160b4d41cfda1f48c5f4cba57d5142754525572a846a1ab1b9b\n",
            "INFO:filelock:Lock 140358284934560 released on /root/.cache/torch/transformers/d0c5776499adc1ded22493fae699da0971c1ee4c2587111707a4d177d20257a2.ef00af9e673c7160b4d41cfda1f48c5f4cba57d5142754525572a846a1ab1b9b.lock\n"
          ],
          "name": "stderr"
        },
        {
          "output_type": "stream",
          "text": [
            "\n"
          ],
          "name": "stdout"
        },
        {
          "output_type": "stream",
          "text": [
            "INFO:filelock:Lock 140358298753400 acquired on /root/.cache/torch/transformers/b35e7cd126cd4229a746b5d5c29a749e8e84438b14bcdb575950584fe33207e8.70bec105b4158ed9a1747fea67a43f5dee97855c64d62b6ec3742f4cfdb5feda.lock\n",
            "INFO:transformers.file_utils:https://s3.amazonaws.com/models.huggingface.co/bert/roberta-base-merges.txt not found in cache or force_download set to True, downloading to /root/.cache/torch/transformers/tmp2_9tcqx3\n"
          ],
          "name": "stderr"
        },
        {
          "output_type": "display_data",
          "data": {
            "application/vnd.jupyter.widget-view+json": {
              "model_id": "f5d9093168e348f588e0bb5be9fcb361",
              "version_minor": 0,
              "version_major": 2
            },
            "text/plain": [
              "HBox(children=(FloatProgress(value=0.0, description='Downloading', max=456318.0, style=ProgressStyle(descripti…"
            ]
          },
          "metadata": {
            "tags": []
          }
        },
        {
          "output_type": "stream",
          "text": [
            "INFO:transformers.file_utils:storing https://s3.amazonaws.com/models.huggingface.co/bert/roberta-base-merges.txt in cache at /root/.cache/torch/transformers/b35e7cd126cd4229a746b5d5c29a749e8e84438b14bcdb575950584fe33207e8.70bec105b4158ed9a1747fea67a43f5dee97855c64d62b6ec3742f4cfdb5feda\n",
            "INFO:transformers.file_utils:creating metadata file for /root/.cache/torch/transformers/b35e7cd126cd4229a746b5d5c29a749e8e84438b14bcdb575950584fe33207e8.70bec105b4158ed9a1747fea67a43f5dee97855c64d62b6ec3742f4cfdb5feda\n",
            "INFO:filelock:Lock 140358298753400 released on /root/.cache/torch/transformers/b35e7cd126cd4229a746b5d5c29a749e8e84438b14bcdb575950584fe33207e8.70bec105b4158ed9a1747fea67a43f5dee97855c64d62b6ec3742f4cfdb5feda.lock\n",
            "INFO:transformers.tokenization_utils:loading file https://s3.amazonaws.com/models.huggingface.co/bert/roberta-base-vocab.json from cache at /root/.cache/torch/transformers/d0c5776499adc1ded22493fae699da0971c1ee4c2587111707a4d177d20257a2.ef00af9e673c7160b4d41cfda1f48c5f4cba57d5142754525572a846a1ab1b9b\n",
            "INFO:transformers.tokenization_utils:loading file https://s3.amazonaws.com/models.huggingface.co/bert/roberta-base-merges.txt from cache at /root/.cache/torch/transformers/b35e7cd126cd4229a746b5d5c29a749e8e84438b14bcdb575950584fe33207e8.70bec105b4158ed9a1747fea67a43f5dee97855c64d62b6ec3742f4cfdb5feda\n"
          ],
          "name": "stderr"
        },
        {
          "output_type": "stream",
          "text": [
            "\n"
          ],
          "name": "stdout"
        }
      ]
    },
    {
      "cell_type": "markdown",
      "metadata": {
        "id": "GgV5NU416jO6"
      },
      "source": [
        "# Processing the Data"
      ]
    },
    {
      "cell_type": "code",
      "metadata": {
        "id": "rpo_frQZw4lW"
      },
      "source": [
        "max_length = 128\n",
        "\n",
        "def convert_to_stsb_features(example_batch):\n",
        "    inputs = list(zip(example_batch['sentence1'], example_batch['sentence2']))\n",
        "    features = tokenizer.batch_encode_plus(\n",
        "        inputs, max_length=max_length, pad_to_max_length=True\n",
        "    )\n",
        "    features[\"labels\"] = example_batch[\"label\"]\n",
        "    return features\n",
        "\n",
        "def convert_to_rte_features(example_batch):\n",
        "    inputs = list(zip(example_batch['sentence1'], example_batch['sentence2']))\n",
        "    features = tokenizer.batch_encode_plus(\n",
        "        inputs, max_length=max_length, pad_to_max_length=True\n",
        "    )\n",
        "    features[\"labels\"] = example_batch[\"label\"]\n",
        "    return features\n",
        "\n",
        "def convert_to_commonsense_qa_features(example_batch):\n",
        "    num_examples = len(example_batch[\"question\"])\n",
        "    num_choices = len(example_batch[\"choices\"][0][\"text\"])\n",
        "    features = {}\n",
        "    for example_i in range(num_examples):\n",
        "        choices_inputs = tokenizer.batch_encode_plus(\n",
        "            list(zip(\n",
        "                [example_batch[\"question\"][example_i]] * num_choices,\n",
        "                example_batch[\"choices\"][example_i][\"text\"],\n",
        "            )),\n",
        "            max_length=max_length, pad_to_max_length=True,\n",
        "        )\n",
        "        for k, v in choices_inputs.items():\n",
        "            if k not in features:\n",
        "                features[k] = []\n",
        "            features[k].append(v)\n",
        "    labels2id = {char: i for i, char in enumerate(\"ABCDE\")}\n",
        "    # Dummy answers for test\n",
        "    if example_batch[\"answerKey\"][0]:\n",
        "        features[\"labels\"] = [labels2id[ans] for ans in example_batch[\"answerKey\"]]\n",
        "    else:\n",
        "        features[\"labels\"] = [0] * num_examples    \n",
        "    return features\n",
        "\n",
        "convert_func_dict = {\n",
        "    \"stsb\": convert_to_stsb_features,\n",
        "    \"rte\": convert_to_rte_features,\n",
        "    \"commonsense_qa\": convert_to_commonsense_qa_features,\n",
        "}"
      ],
      "execution_count": null,
      "outputs": []
    },
    {
      "cell_type": "code",
      "metadata": {
        "id": "bj90PLUow7PX",
        "outputId": "97e6de87-87df-4e32-d482-fc56d5acff9d",
        "colab": {
          "base_uri": "https://localhost:8080/"
        }
      },
      "source": [
        "columns_dict = {\n",
        "    \"stsb\": ['input_ids', 'attention_mask', 'labels'],\n",
        "    \"rte\": ['input_ids', 'attention_mask', 'labels'],\n",
        "    \"commonsense_qa\": ['input_ids', 'attention_mask', 'labels'],\n",
        "}\n",
        "\n",
        "features_dict = {}\n",
        "for task_name, dataset in dataset_dict.items():\n",
        "    features_dict[task_name] = {}\n",
        "    for phase, phase_dataset in dataset.items():\n",
        "        features_dict[task_name][phase] = phase_dataset.map(\n",
        "            convert_func_dict[task_name],\n",
        "            batched=True,\n",
        "            load_from_cache_file=False,\n",
        "        )\n",
        "        print(task_name, phase, len(phase_dataset), len(features_dict[task_name][phase]))\n",
        "        features_dict[task_name][phase].set_format(\n",
        "            type=\"torch\", \n",
        "            columns=columns_dict[task_name],\n",
        "        )\n",
        "        print(task_name, phase, len(phase_dataset), len(features_dict[task_name][phase]))"
      ],
      "execution_count": null,
      "outputs": [
        {
          "output_type": "stream",
          "text": [
            "INFO:nlp.arrow_dataset:Caching processed dataset at /root/.cache/huggingface/datasets/glue/stsb/1.0.0/cache-d2b0e2b1e353f1b9fbe0725471db143f.arrow\n",
            "100%|██████████| 6/6 [00:01<00:00,  3.85it/s]\n",
            "INFO:nlp.arrow_writer:Done writing 5749 examples in 12666815 bytes /root/.cache/huggingface/datasets/glue/stsb/1.0.0/cache-d2b0e2b1e353f1b9fbe0725471db143f.arrow.\n",
            "INFO:nlp.arrow_dataset:Set __getitem__(key) output type to torch for ['input_ids', 'attention_mask', 'labels'] columns  (when key is int or slice) and don't output other (un-formated) columns.\n",
            "INFO:nlp.arrow_dataset:Caching processed dataset at /root/.cache/huggingface/datasets/glue/stsb/1.0.0/cache-aec11a0dac2eda110e765a5c78c608aa.arrow\n",
            "  0%|          | 0/2 [00:00<?, ?it/s]"
          ],
          "name": "stderr"
        },
        {
          "output_type": "stream",
          "text": [
            "stsb train 5749 5749\n",
            "stsb train 5749 5749\n"
          ],
          "name": "stdout"
        },
        {
          "output_type": "stream",
          "text": [
            "100%|██████████| 2/2 [00:00<00:00,  5.05it/s]\n",
            "INFO:nlp.arrow_writer:Done writing 1500 examples in 3324096 bytes /root/.cache/huggingface/datasets/glue/stsb/1.0.0/cache-aec11a0dac2eda110e765a5c78c608aa.arrow.\n",
            "INFO:nlp.arrow_dataset:Set __getitem__(key) output type to torch for ['input_ids', 'attention_mask', 'labels'] columns  (when key is int or slice) and don't output other (un-formated) columns.\n",
            "INFO:nlp.arrow_dataset:Caching processed dataset at /root/.cache/huggingface/datasets/glue/stsb/1.0.0/cache-593c638955a8714e57a2c4867a2ef077.arrow\n",
            " 50%|█████     | 1/2 [00:00<00:00,  5.43it/s]"
          ],
          "name": "stderr"
        },
        {
          "output_type": "stream",
          "text": [
            "stsb validation 1500 1500\n",
            "stsb validation 1500 1500\n"
          ],
          "name": "stdout"
        },
        {
          "output_type": "stream",
          "text": [
            "\r100%|██████████| 2/2 [00:00<00:00,  7.10it/s]\n",
            "INFO:nlp.arrow_writer:Done writing 1379 examples in 3027294 bytes /root/.cache/huggingface/datasets/glue/stsb/1.0.0/cache-593c638955a8714e57a2c4867a2ef077.arrow.\n",
            "INFO:nlp.arrow_dataset:Set __getitem__(key) output type to torch for ['input_ids', 'attention_mask', 'labels'] columns  (when key is int or slice) and don't output other (un-formated) columns.\n",
            "INFO:nlp.arrow_dataset:Caching processed dataset at /root/.cache/huggingface/datasets/glue/rte/1.0.0/cache-38be6965ba491702cf4515ce3bf905d2.arrow\n",
            "  0%|          | 0/3 [00:00<?, ?it/s]"
          ],
          "name": "stderr"
        },
        {
          "output_type": "stream",
          "text": [
            "stsb test 1379 1379\n",
            "stsb test 1379 1379\n"
          ],
          "name": "stdout"
        },
        {
          "output_type": "stream",
          "text": [
            "100%|██████████| 3/3 [00:01<00:00,  2.53it/s]\n",
            "INFO:nlp.arrow_writer:Done writing 2490 examples in 5996688 bytes /root/.cache/huggingface/datasets/glue/rte/1.0.0/cache-38be6965ba491702cf4515ce3bf905d2.arrow.\n",
            "INFO:nlp.arrow_dataset:Set __getitem__(key) output type to torch for ['input_ids', 'attention_mask', 'labels'] columns  (when key is int or slice) and don't output other (un-formated) columns.\n",
            "INFO:nlp.arrow_dataset:Caching processed dataset at /root/.cache/huggingface/datasets/glue/rte/1.0.0/cache-24ce8344dcbe3bd232bdc5bc71e48d3b.arrow\n",
            "100%|██████████| 1/1 [00:00<00:00,  8.52it/s]\n",
            "INFO:nlp.arrow_writer:Done writing 277 examples in 663580 bytes /root/.cache/huggingface/datasets/glue/rte/1.0.0/cache-24ce8344dcbe3bd232bdc5bc71e48d3b.arrow.\n",
            "INFO:nlp.arrow_dataset:Set __getitem__(key) output type to torch for ['input_ids', 'attention_mask', 'labels'] columns  (when key is int or slice) and don't output other (un-formated) columns.\n",
            "INFO:nlp.arrow_dataset:Caching processed dataset at /root/.cache/huggingface/datasets/glue/rte/1.0.0/cache-fb596d2fec55c5205924eefa5c903826.arrow\n",
            "  0%|          | 0/3 [00:00<?, ?it/s]"
          ],
          "name": "stderr"
        },
        {
          "output_type": "stream",
          "text": [
            "rte train 2490 2490\n",
            "rte train 2490 2490\n",
            "rte validation 277 277\n",
            "rte validation 277 277\n"
          ],
          "name": "stdout"
        },
        {
          "output_type": "stream",
          "text": [
            "100%|██████████| 3/3 [00:01<00:00,  2.50it/s]\n",
            "INFO:nlp.arrow_writer:Done writing 3000 examples in 7178101 bytes /root/.cache/huggingface/datasets/glue/rte/1.0.0/cache-fb596d2fec55c5205924eefa5c903826.arrow.\n",
            "INFO:nlp.arrow_dataset:Set __getitem__(key) output type to torch for ['input_ids', 'attention_mask', 'labels'] columns  (when key is int or slice) and don't output other (un-formated) columns.\n",
            "INFO:nlp.arrow_dataset:Caching processed dataset at /root/.cache/huggingface/datasets/commonsense_qa/default/0.1.0/cache-b7200320d1603b178797c3e10a70c72a.arrow\n",
            "  0%|          | 0/10 [00:00<?, ?it/s]"
          ],
          "name": "stderr"
        },
        {
          "output_type": "stream",
          "text": [
            "rte test 3000 3000\n",
            "rte test 3000 3000\n"
          ],
          "name": "stdout"
        },
        {
          "output_type": "stream",
          "text": [
            "100%|██████████| 10/10 [00:07<00:00,  1.27it/s]\n",
            "INFO:nlp.arrow_writer:Done writing 9741 examples in 102030077 bytes /root/.cache/huggingface/datasets/commonsense_qa/default/0.1.0/cache-b7200320d1603b178797c3e10a70c72a.arrow.\n",
            "INFO:nlp.arrow_dataset:Set __getitem__(key) output type to torch for ['input_ids', 'attention_mask', 'labels'] columns  (when key is int or slice) and don't output other (un-formated) columns.\n",
            "INFO:nlp.arrow_dataset:Caching processed dataset at /root/.cache/huggingface/datasets/commonsense_qa/default/0.1.0/cache-55713c9b25e6141f0385d7a21a89818a.arrow\n",
            "  0%|          | 0/2 [00:00<?, ?it/s]"
          ],
          "name": "stderr"
        },
        {
          "output_type": "stream",
          "text": [
            "commonsense_qa train 9741 9741\n",
            "commonsense_qa train 9741 9741\n"
          ],
          "name": "stdout"
        },
        {
          "output_type": "stream",
          "text": [
            "100%|██████████| 2/2 [00:00<00:00,  2.13it/s]\n",
            "INFO:nlp.arrow_writer:Done writing 1221 examples in 12786529 bytes /root/.cache/huggingface/datasets/commonsense_qa/default/0.1.0/cache-55713c9b25e6141f0385d7a21a89818a.arrow.\n",
            "INFO:nlp.arrow_dataset:Set __getitem__(key) output type to torch for ['input_ids', 'attention_mask', 'labels'] columns  (when key is int or slice) and don't output other (un-formated) columns.\n",
            "INFO:nlp.arrow_dataset:Caching processed dataset at /root/.cache/huggingface/datasets/commonsense_qa/default/0.1.0/cache-e40d5adaeb67d334a4bdad765d7f911e.arrow\n",
            "  0%|          | 0/2 [00:00<?, ?it/s]"
          ],
          "name": "stderr"
        },
        {
          "output_type": "stream",
          "text": [
            "commonsense_qa validation 1221 1221\n",
            "commonsense_qa validation 1221 1221\n"
          ],
          "name": "stdout"
        },
        {
          "output_type": "stream",
          "text": [
            "100%|██████████| 2/2 [00:00<00:00,  2.15it/s]\n",
            "INFO:nlp.arrow_writer:Done writing 1140 examples in 11940278 bytes /root/.cache/huggingface/datasets/commonsense_qa/default/0.1.0/cache-e40d5adaeb67d334a4bdad765d7f911e.arrow.\n",
            "INFO:nlp.arrow_dataset:Set __getitem__(key) output type to torch for ['input_ids', 'attention_mask', 'labels'] columns  (when key is int or slice) and don't output other (un-formated) columns.\n"
          ],
          "name": "stderr"
        },
        {
          "output_type": "stream",
          "text": [
            "commonsense_qa test 1140 1140\n",
            "commonsense_qa test 1140 1140\n"
          ],
          "name": "stdout"
        }
      ]
    },
    {
      "cell_type": "markdown",
      "metadata": {
        "id": "vpi69DqU6pjd"
      },
      "source": [
        "# Preparing Multi task data loader and trainer"
      ]
    },
    {
      "cell_type": "code",
      "metadata": {
        "id": "u7rZle5gw-s2"
      },
      "source": [
        "import dataclasses\n",
        "from torch.utils.data.dataloader import DataLoader\n",
        "from transformers.training_args import is_tpu_available\n",
        "from transformers.trainer import get_tpu_sampler\n",
        "from transformers.data.data_collator import DataCollator, InputDataClass\n",
        "from torch.utils.data.distributed import DistributedSampler\n",
        "from torch.utils.data.sampler import RandomSampler\n",
        "from typing import List, Union, Dict\n",
        "\n",
        "\n",
        "class NLPDataCollator(DataCollator):\n",
        "    \"\"\"\n",
        "    Extending the existing DataCollator to work with NLP dataset batches\n",
        "    \"\"\"\n",
        "    def collate_batch(self, features: List[Union[InputDataClass, Dict]]) -> Dict[str, torch.Tensor]:\n",
        "        first = features[0]\n",
        "        if isinstance(first, dict):\n",
        "          # NLP data sets current works presents features as lists of dictionary\n",
        "          # (one per example), so we  will adapt the collate_batch logic for that\n",
        "          if \"labels\" in first and first[\"labels\"] is not None:\n",
        "              if first[\"labels\"].dtype == torch.int64:\n",
        "                  labels = torch.tensor([f[\"labels\"] for f in features], dtype=torch.long)\n",
        "              else:\n",
        "                  labels = torch.tensor([f[\"labels\"] for f in features], dtype=torch.float)\n",
        "              batch = {\"labels\": labels}\n",
        "          for k, v in first.items():\n",
        "              if k != \"labels\" and v is not None and not isinstance(v, str):\n",
        "                  batch[k] = torch.stack([f[k] for f in features])\n",
        "          return batch\n",
        "        else:\n",
        "          # otherwise, revert to using the default collate_batch\n",
        "          return DefaultDataCollator().collate_batch(features)\n",
        "\n",
        "\n",
        "class StrIgnoreDevice(str):\n",
        "    \"\"\"\n",
        "    This is a hack. The Trainer is going call .to(device) on every input\n",
        "    value, but we need to pass in an additional `task_name` string.\n",
        "    This prevents it from throwing an error\n",
        "    \"\"\"\n",
        "    def to(self, device):\n",
        "        return self\n",
        "\n",
        "\n",
        "class DataLoaderWithTaskname:\n",
        "    \"\"\"\n",
        "    Wrapper around a DataLoader to also yield a task name\n",
        "    \"\"\"\n",
        "    def __init__(self, task_name, data_loader):\n",
        "        self.task_name = task_name\n",
        "        self.data_loader = data_loader\n",
        "\n",
        "        self.batch_size = data_loader.batch_size\n",
        "        self.dataset = data_loader.dataset\n",
        "\n",
        "    def __len__(self):\n",
        "        return len(self.data_loader)\n",
        "    \n",
        "    def __iter__(self):\n",
        "        for batch in self.data_loader:\n",
        "            batch[\"task_name\"] = StrIgnoreDevice(self.task_name)\n",
        "            yield batch\n",
        "\n",
        "\n",
        "class MultitaskDataloader:\n",
        "    \"\"\"\n",
        "    Data loader that combines and samples from multiple single-task\n",
        "    data loaders.\n",
        "    \"\"\"\n",
        "    def __init__(self, dataloader_dict):\n",
        "        self.dataloader_dict = dataloader_dict\n",
        "        self.num_batches_dict = {\n",
        "            task_name: len(dataloader) \n",
        "            for task_name, dataloader in self.dataloader_dict.items()\n",
        "        }\n",
        "        self.task_name_list = list(self.dataloader_dict)\n",
        "        self.dataset = [None] * sum(\n",
        "            len(dataloader.dataset) \n",
        "            for dataloader in self.dataloader_dict.values()\n",
        "        )\n",
        "\n",
        "    def __len__(self):\n",
        "        return sum(self.num_batches_dict.values())\n",
        "\n",
        "    def __iter__(self):\n",
        "        \"\"\"\n",
        "        For each batch, sample a task, and yield a batch from the respective\n",
        "        task Dataloader.\n",
        "\n",
        "        We use size-proportional sampling, but you could easily modify this\n",
        "        to sample from some-other distribution.\n",
        "        \"\"\"\n",
        "        task_choice_list = []\n",
        "        for i, task_name in enumerate(self.task_name_list):\n",
        "            task_choice_list += [i] * self.num_batches_dict[task_name]\n",
        "        task_choice_list = np.array(task_choice_list)\n",
        "        np.random.shuffle(task_choice_list)\n",
        "        dataloader_iter_dict = {\n",
        "            task_name: iter(dataloader) \n",
        "            for task_name, dataloader in self.dataloader_dict.items()\n",
        "        }\n",
        "        for task_choice in task_choice_list:\n",
        "            task_name = self.task_name_list[task_choice]\n",
        "            yield next(dataloader_iter_dict[task_name])    \n",
        "\n",
        "class MultitaskTrainer(transformers.Trainer):\n",
        "\n",
        "    def get_single_train_dataloader(self, task_name, train_dataset):\n",
        "        \"\"\"\n",
        "        Create a single-task data loader that also yields task names\n",
        "        \"\"\"\n",
        "        if self.train_dataset is None:\n",
        "            raise ValueError(\"Trainer: training requires a train_dataset.\")\n",
        "        if is_tpu_available():\n",
        "            train_sampler = get_tpu_sampler(train_dataset)\n",
        "        else:\n",
        "            train_sampler = (\n",
        "                RandomSampler(train_dataset)\n",
        "                if self.args.local_rank == -1\n",
        "                else DistributedSampler(train_dataset)\n",
        "            )\n",
        "\n",
        "        data_loader = DataLoaderWithTaskname(\n",
        "            task_name=task_name,\n",
        "            data_loader=DataLoader(\n",
        "              train_dataset,\n",
        "              batch_size=self.args.train_batch_size,\n",
        "              sampler=train_sampler,\n",
        "              collate_fn=self.data_collator.collate_batch,\n",
        "            ),\n",
        "        )\n",
        "\n",
        "        if is_tpu_available():\n",
        "            data_loader = pl.ParallelLoader(\n",
        "                data_loader, [self.args.device]\n",
        "            ).per_device_loader(self.args.device)\n",
        "        return data_loader\n",
        "\n",
        "    def get_train_dataloader(self):\n",
        "        \"\"\"\n",
        "        Returns a MultitaskDataloader, which is not actually a Dataloader\n",
        "        but an iterable that returns a generator that samples from each \n",
        "        task Dataloader\n",
        "        \"\"\"\n",
        "        return MultitaskDataloader({\n",
        "            task_name: self.get_single_train_dataloader(task_name, task_dataset)\n",
        "            for task_name, task_dataset in self.train_dataset.items()\n",
        "        })"
      ],
      "execution_count": null,
      "outputs": []
    },
    {
      "cell_type": "markdown",
      "metadata": {
        "id": "3JzbLqpk60ju"
      },
      "source": [
        "# train"
      ]
    },
    {
      "cell_type": "code",
      "metadata": {
        "id": "FbBspd3IxI6w",
        "outputId": "16b6c49d-edba-4ea2-cf6a-15db38857e04",
        "colab": {
          "base_uri": "https://localhost:8080/",
          "height": 726,
          "referenced_widgets": [
            "c0b59a414f554cd1a156e987bd4a7e35",
            "37071ea1aa5a4d03949a0c4c7fae571e",
            "a700a1490b25478e88241d023535ffb8",
            "e0756a050aab47f3b2dfcf654a4416ed",
            "18fe00e64b0a43eb9ab29bf7086b9276",
            "0c55d251864a46d694883fa2fd9ebeec",
            "5557ee93e73545f583d4a3f19a17614c",
            "e6229190fa934080b6d4600e153c52aa",
            "1bd9fe55df3e422d9241d797dda5f0d3",
            "d2d609215acf4e269e37db6431ed81e4",
            "62d9c83b9404432985db7d454fba400e",
            "e6499b761c8d4a219d98cf0551175c03",
            "843845d4d96a454e91a5d29f7f1b4932",
            "a18ef93bac514c97ab74e9616cbb3431",
            "1bf40c2e55a243b792852b8188c2090a",
            "5037ecbda6ba415ab0c04a1dd3481c5d",
            "2d57671e6e264382bcaf95cd929bfd3c",
            "42b27b103873439dbb642e4f5950ba22",
            "02aaa095cbc7479cab4c969679f2bc84",
            "122a57dc921a488cb8112bd9e8e8e8d8",
            "bd71e61fa70c4d518a151284c2ea750c",
            "76df45abb86141279550d40ab4081e4c",
            "4372f53a5ffc4eca8a96663701c50528",
            "757caeac4726451390bc5ca8bde8f8bd",
            "5f54d6619c1f4dffbb4b1212f5bc6e47",
            "25e35b82386a45b194efefeddb35146e",
            "838f33c6e80947f3ba20a173cee8640e",
            "32eac9b5efbf4a44afc6d2d5f7c2d474",
            "9e935c4e321c4d9c81937b9928bc6ff0",
            "bb70280074634494a72d96578ec745ba",
            "ec1bd14b8f73412d98ad5f43dd712bfa",
            "8b75a2ae1b064d409d51e39adbf1c723"
          ]
        }
      },
      "source": [
        "train_dataset = {\n",
        "    task_name: dataset[\"train\"]\n",
        "    for task_name, dataset in features_dict.items()\n",
        "}\n",
        "# print((dataset[\"train\"] ))\n",
        "trainer = MultitaskTrainer(\n",
        "    model=multitask_model,\n",
        "    args=transformers.TrainingArguments(\n",
        "        output_dir=\"./models/multitask_model\",\n",
        "        overwrite_output_dir=True,\n",
        "        learning_rate=1e-5,\n",
        "        do_train=True,\n",
        "        num_train_epochs=3,\n",
        "        # Adjust batch size if this doesn't fit on the Colab GPU\n",
        "        per_device_train_batch_size=16,  \n",
        "        save_steps=1500,\n",
        "    ),\n",
        "    data_collator=NLPDataCollator(),\n",
        "    train_dataset=train_dataset,\n",
        ")\n",
        "trainer.train()"
      ],
      "execution_count": null,
      "outputs": [
        {
          "output_type": "stream",
          "text": [
            "INFO:transformers.training_args:PyTorch: setting up devices\n",
            "INFO:transformers.trainer:You are instantiating a Trainer but W&B is not installed. To use wandb logging, run `pip install wandb; wandb login` see https://docs.wandb.com/huggingface.\n",
            "INFO:transformers.trainer:***** Running training *****\n",
            "INFO:transformers.trainer:  Num examples = 17980\n",
            "INFO:transformers.trainer:  Num Epochs = 3\n",
            "INFO:transformers.trainer:  Instantaneous batch size per device = 16\n",
            "INFO:transformers.trainer:  Total train batch size (w. parallel, distributed & accumulation) = 16\n",
            "INFO:transformers.trainer:  Gradient Accumulation steps = 1\n",
            "INFO:transformers.trainer:  Total optimization steps = 3375\n"
          ],
          "name": "stderr"
        },
        {
          "output_type": "display_data",
          "data": {
            "application/vnd.jupyter.widget-view+json": {
              "model_id": "c0b59a414f554cd1a156e987bd4a7e35",
              "version_minor": 0,
              "version_major": 2
            },
            "text/plain": [
              "HBox(children=(FloatProgress(value=0.0, description='Epoch', max=3.0, style=ProgressStyle(description_width='i…"
            ]
          },
          "metadata": {
            "tags": []
          }
        },
        {
          "output_type": "display_data",
          "data": {
            "application/vnd.jupyter.widget-view+json": {
              "model_id": "1bd9fe55df3e422d9241d797dda5f0d3",
              "version_minor": 0,
              "version_major": 2
            },
            "text/plain": [
              "HBox(children=(FloatProgress(value=0.0, description='Iteration', max=1125.0, style=ProgressStyle(description_w…"
            ]
          },
          "metadata": {
            "tags": []
          }
        },
        {
          "output_type": "stream",
          "text": [
            "{\"loss\": 1.0868553631007671, \"learning_rate\": 8.518518518518519e-06, \"epoch\": 0.4444444444444444, \"step\": 500}\n",
            "{\"loss\": 1.041930394589901, \"learning_rate\": 7.0370370370370375e-06, \"epoch\": 0.8888888888888888, \"step\": 1000}\n",
            "\n"
          ],
          "name": "stdout"
        },
        {
          "output_type": "display_data",
          "data": {
            "application/vnd.jupyter.widget-view+json": {
              "model_id": "2d57671e6e264382bcaf95cd929bfd3c",
              "version_minor": 0,
              "version_major": 2
            },
            "text/plain": [
              "HBox(children=(FloatProgress(value=0.0, description='Iteration', max=1125.0, style=ProgressStyle(description_w…"
            ]
          },
          "metadata": {
            "tags": []
          }
        },
        {
          "output_type": "stream",
          "text": [
            "INFO:transformers.trainer:Saving model checkpoint to ./models/multitask_model/checkpoint-1500\n",
            "INFO:transformers.configuration_utils:Configuration saved in ./models/multitask_model/checkpoint-1500/config.json\n"
          ],
          "name": "stderr"
        },
        {
          "output_type": "stream",
          "text": [
            "{\"loss\": 0.887290985673666, \"learning_rate\": 5.555555555555557e-06, \"epoch\": 1.3333333333333333, \"step\": 1500}\n"
          ],
          "name": "stdout"
        },
        {
          "output_type": "stream",
          "text": [
            "INFO:transformers.modeling_utils:Model weights saved in ./models/multitask_model/checkpoint-1500/pytorch_model.bin\n",
            "/usr/local/lib/python3.6/dist-packages/torch/optim/lr_scheduler.py:200: UserWarning: Please also save or load the state of the optimzer when saving or loading the scheduler.\n",
            "  warnings.warn(SAVE_STATE_WARNING, UserWarning)\n"
          ],
          "name": "stderr"
        },
        {
          "output_type": "stream",
          "text": [
            "{\"loss\": 0.85491976287961, \"learning_rate\": 4.074074074074074e-06, \"epoch\": 1.7777777777777777, \"step\": 2000}\n",
            "\n"
          ],
          "name": "stdout"
        },
        {
          "output_type": "display_data",
          "data": {
            "application/vnd.jupyter.widget-view+json": {
              "model_id": "5f54d6619c1f4dffbb4b1212f5bc6e47",
              "version_minor": 0,
              "version_major": 2
            },
            "text/plain": [
              "HBox(children=(FloatProgress(value=0.0, description='Iteration', max=1125.0, style=ProgressStyle(description_w…"
            ]
          },
          "metadata": {
            "tags": []
          }
        },
        {
          "output_type": "stream",
          "text": [
            "{\"loss\": 0.785260528177023, \"learning_rate\": 2.5925925925925925e-06, \"epoch\": 2.2222222222222223, \"step\": 2500}\n"
          ],
          "name": "stdout"
        },
        {
          "output_type": "stream",
          "text": [
            "INFO:transformers.trainer:Saving model checkpoint to ./models/multitask_model/checkpoint-3000\n",
            "INFO:transformers.configuration_utils:Configuration saved in ./models/multitask_model/checkpoint-3000/config.json\n"
          ],
          "name": "stderr"
        },
        {
          "output_type": "stream",
          "text": [
            "{\"loss\": 0.7631007843911648, \"learning_rate\": 1.111111111111111e-06, \"epoch\": 2.6666666666666665, \"step\": 3000}\n"
          ],
          "name": "stdout"
        },
        {
          "output_type": "stream",
          "text": [
            "INFO:transformers.modeling_utils:Model weights saved in ./models/multitask_model/checkpoint-3000/pytorch_model.bin\n",
            "INFO:transformers.trainer:\n",
            "\n",
            "Training completed. Do not forget to share your model on huggingface.co/models =)\n",
            "\n",
            "\n"
          ],
          "name": "stderr"
        },
        {
          "output_type": "stream",
          "text": [
            "\n",
            "\n"
          ],
          "name": "stdout"
        },
        {
          "output_type": "execute_result",
          "data": {
            "text/plain": [
              "TrainOutput(global_step=3375, training_loss=0.8858165283975777)"
            ]
          },
          "metadata": {
            "tags": []
          },
          "execution_count": 20
        }
      ]
    },
    {
      "cell_type": "code",
      "metadata": {
        "id": "O9f_mmMZxKjC",
        "outputId": "1165e172-c283-48ae-a1fc-6db93628f385",
        "colab": {
          "base_uri": "https://localhost:8080/",
          "height": 368,
          "referenced_widgets": [
            "5e132a1c829a41799bc39916386811e6",
            "ec91deecd9aa46539fcfa0d16a4524d2",
            "bc375a70f1aa4f97b65931194ab07dfb",
            "15aad78e5d4e44128ad2cb92cd825a7c",
            "3de28d4498f547d6984c5c1e92c09465",
            "dac3b5212a6c4e19bf8fbbb45a328cb6",
            "0f1cdbc7e9c843519ed5b56482ef9352",
            "7d907580f95149f4a92192b7add5ba9f",
            "3cd4655f06ac4b48a0e50cbdb78f8f54",
            "0e757d28f64d45078f18f73b5e96ed95",
            "d4633e61b0534d86a31f0f626949fdd4",
            "318a48d36e1c4ca7b9f5758cce65e0bd",
            "a2f0041933444e13bed6665233daefa2",
            "d1601111cdbb43d3974938e485bfa2e3",
            "6ad364874c614ddda46bb655a2564005",
            "d2424a0e580e4d4c8909c700ce4d142c",
            "bb3128fab81945f78b7b280151adfb87",
            "47a6e04e641845b395ee98f1dfa422be",
            "4818fd9b38fe46399c255cf772598ecb",
            "3f558964c6aa4faca3e2f58ed95c98bd",
            "825b98b4a66f41dab7a04d777ec4697d",
            "7e61d56316ba45f29bd3ae6c2ee8e209",
            "82a2975f7fab440da77d865a279ae0ba",
            "b7e884754a8c4ef28498935e65cd497f"
          ]
        }
      },
      "source": [
        "preds_dict = {}\n",
        "for task_name in [\"rte\", \"stsb\", \"commonsense_qa\"]:\n",
        "    eval_dataloader = DataLoaderWithTaskname(\n",
        "        task_name,\n",
        "        trainer.get_eval_dataloader(eval_dataset=features_dict[task_name][\"validation\"])\n",
        "    )\n",
        "    print(eval_dataloader.data_loader.collate_fn)\n",
        "    preds_dict[task_name] = trainer._prediction_loop(\n",
        "        eval_dataloader, \n",
        "        description=f\"Validation: {task_name}\",\n",
        "    )"
      ],
      "execution_count": null,
      "outputs": [
        {
          "output_type": "stream",
          "text": [
            "INFO:transformers.trainer:***** Running Validation: rte *****\n",
            "INFO:transformers.trainer:  Num examples = 277\n",
            "INFO:transformers.trainer:  Batch size = 8\n"
          ],
          "name": "stderr"
        },
        {
          "output_type": "stream",
          "text": [
            "<bound method NLPDataCollator.collate_batch of <__main__.NLPDataCollator object at 0x7fa6f0055fd0>>\n"
          ],
          "name": "stdout"
        },
        {
          "output_type": "display_data",
          "data": {
            "application/vnd.jupyter.widget-view+json": {
              "model_id": "5e132a1c829a41799bc39916386811e6",
              "version_minor": 0,
              "version_major": 2
            },
            "text/plain": [
              "HBox(children=(FloatProgress(value=0.0, description='Validation: rte', max=35.0, style=ProgressStyle(descripti…"
            ]
          },
          "metadata": {
            "tags": []
          }
        },
        {
          "output_type": "stream",
          "text": [
            "INFO:transformers.trainer:***** Running Validation: stsb *****\n",
            "INFO:transformers.trainer:  Num examples = 1500\n",
            "INFO:transformers.trainer:  Batch size = 8\n"
          ],
          "name": "stderr"
        },
        {
          "output_type": "stream",
          "text": [
            "\n",
            "<bound method NLPDataCollator.collate_batch of <__main__.NLPDataCollator object at 0x7fa6f0055fd0>>\n"
          ],
          "name": "stdout"
        },
        {
          "output_type": "display_data",
          "data": {
            "application/vnd.jupyter.widget-view+json": {
              "model_id": "3cd4655f06ac4b48a0e50cbdb78f8f54",
              "version_minor": 0,
              "version_major": 2
            },
            "text/plain": [
              "HBox(children=(FloatProgress(value=0.0, description='Validation: stsb', max=188.0, style=ProgressStyle(descrip…"
            ]
          },
          "metadata": {
            "tags": []
          }
        },
        {
          "output_type": "stream",
          "text": [
            "INFO:transformers.trainer:***** Running Validation: commonsense_qa *****\n",
            "INFO:transformers.trainer:  Num examples = 1221\n",
            "INFO:transformers.trainer:  Batch size = 8\n"
          ],
          "name": "stderr"
        },
        {
          "output_type": "stream",
          "text": [
            "\n",
            "<bound method NLPDataCollator.collate_batch of <__main__.NLPDataCollator object at 0x7fa6f0055fd0>>\n"
          ],
          "name": "stdout"
        },
        {
          "output_type": "display_data",
          "data": {
            "application/vnd.jupyter.widget-view+json": {
              "model_id": "bb3128fab81945f78b7b280151adfb87",
              "version_minor": 0,
              "version_major": 2
            },
            "text/plain": [
              "HBox(children=(FloatProgress(value=0.0, description='Validation: commonsense_qa', max=153.0, style=ProgressSty…"
            ]
          },
          "metadata": {
            "tags": []
          }
        },
        {
          "output_type": "stream",
          "text": [
            "\n"
          ],
          "name": "stdout"
        }
      ]
    },
    {
      "cell_type": "markdown",
      "metadata": {
        "id": "iY5hvz7g63ov"
      },
      "source": [
        "# Model Evaluation"
      ]
    },
    {
      "cell_type": "code",
      "metadata": {
        "id": "79tjrSNnXLiJ",
        "outputId": "b3c30c24-1d1f-4c0b-87ad-53a517c7fc28",
        "colab": {
          "base_uri": "https://localhost:8080/",
          "height": 426,
          "referenced_widgets": [
            "8cffa46764ca47308117e1a13813565b",
            "0420b4274988428a9059d1453b3459d1",
            "7705fb23b72b427699af801ad02586d3",
            "f60d733f9bfb4b0fa54c9affaa87b025",
            "329373b3b94047ff9e0fbfd90731edf1",
            "b9cf94be926547f7b4ee6e04cd3a7ce8",
            "14f66a79f38c4b99916b6cb62ea736b7",
            "db6ed11e6fe94edf9568bc76135f5b8b"
          ]
        }
      },
      "source": [
        "# Evalute RTE\n",
        "nlp.load_metric('glue', name=\"rte\").compute(\n",
        "    np.argmax(preds_dict[\"rte\"].predictions, axis=1),\n",
        "    preds_dict[\"rte\"].label_ids,\n",
        ")"
      ],
      "execution_count": null,
      "outputs": [
        {
          "output_type": "stream",
          "text": [
            "INFO:filelock:Lock 140358262399664 acquired on /root/.cache/huggingface/datasets/ee5b3a098be9a0d5be9e705b2abdaf1c7bf81ebf279e965db8dbd7db418efa32.f1fd3484ce65950de4cdde6c3e2f332d0fc7dd681ea11d91ede37857561b30b4.py.lock\n",
            "INFO:nlp.utils.file_utils:https://s3.amazonaws.com/datasets.huggingface.co/nlp/metrics/glue/glue.py not found in cache or force_download set to True, downloading to /root/.cache/huggingface/datasets/tmpenpisp8p\n"
          ],
          "name": "stderr"
        },
        {
          "output_type": "display_data",
          "data": {
            "application/vnd.jupyter.widget-view+json": {
              "model_id": "8cffa46764ca47308117e1a13813565b",
              "version_minor": 0,
              "version_major": 2
            },
            "text/plain": [
              "HBox(children=(FloatProgress(value=0.0, description='Downloading', max=4151.0, style=ProgressStyle(description…"
            ]
          },
          "metadata": {
            "tags": []
          }
        },
        {
          "output_type": "stream",
          "text": [
            "INFO:nlp.utils.file_utils:storing https://s3.amazonaws.com/datasets.huggingface.co/nlp/metrics/glue/glue.py in cache at /root/.cache/huggingface/datasets/ee5b3a098be9a0d5be9e705b2abdaf1c7bf81ebf279e965db8dbd7db418efa32.f1fd3484ce65950de4cdde6c3e2f332d0fc7dd681ea11d91ede37857561b30b4.py\n",
            "INFO:nlp.utils.file_utils:creating metadata file for /root/.cache/huggingface/datasets/ee5b3a098be9a0d5be9e705b2abdaf1c7bf81ebf279e965db8dbd7db418efa32.f1fd3484ce65950de4cdde6c3e2f332d0fc7dd681ea11d91ede37857561b30b4.py\n",
            "INFO:filelock:Lock 140358262399664 released on /root/.cache/huggingface/datasets/ee5b3a098be9a0d5be9e705b2abdaf1c7bf81ebf279e965db8dbd7db418efa32.f1fd3484ce65950de4cdde6c3e2f332d0fc7dd681ea11d91ede37857561b30b4.py.lock\n",
            "INFO:nlp.load:Checking /root/.cache/huggingface/datasets/ee5b3a098be9a0d5be9e705b2abdaf1c7bf81ebf279e965db8dbd7db418efa32.f1fd3484ce65950de4cdde6c3e2f332d0fc7dd681ea11d91ede37857561b30b4.py for additional imports.\n",
            "INFO:filelock:Lock 140358262399664 acquired on /root/.cache/huggingface/datasets/ee5b3a098be9a0d5be9e705b2abdaf1c7bf81ebf279e965db8dbd7db418efa32.f1fd3484ce65950de4cdde6c3e2f332d0fc7dd681ea11d91ede37857561b30b4.py.lock\n",
            "INFO:nlp.load:Creating main folder for metric https://s3.amazonaws.com/datasets.huggingface.co/nlp/metrics/glue/glue.py at /usr/local/lib/python3.6/dist-packages/nlp/metrics/glue\n",
            "INFO:nlp.load:Creating specific version folder for metric https://s3.amazonaws.com/datasets.huggingface.co/nlp/metrics/glue/glue.py at /usr/local/lib/python3.6/dist-packages/nlp/metrics/glue/8e05e2fd41da255e1d729512a956f95cd909869a50ab5c8ac5ff2a060fbd2c68\n",
            "INFO:nlp.load:Copying script file from https://s3.amazonaws.com/datasets.huggingface.co/nlp/metrics/glue/glue.py to /usr/local/lib/python3.6/dist-packages/nlp/metrics/glue/8e05e2fd41da255e1d729512a956f95cd909869a50ab5c8ac5ff2a060fbd2c68/glue.py\n",
            "INFO:nlp.load:Couldn't find dataset infos file at https://s3.amazonaws.com/datasets.huggingface.co/nlp/metrics/glue/dataset_infos.json\n",
            "INFO:nlp.load:Creating metadata file for metric https://s3.amazonaws.com/datasets.huggingface.co/nlp/metrics/glue/glue.py at /usr/local/lib/python3.6/dist-packages/nlp/metrics/glue/8e05e2fd41da255e1d729512a956f95cd909869a50ab5c8ac5ff2a060fbd2c68/glue.json\n",
            "INFO:filelock:Lock 140358262399664 released on /root/.cache/huggingface/datasets/ee5b3a098be9a0d5be9e705b2abdaf1c7bf81ebf279e965db8dbd7db418efa32.f1fd3484ce65950de4cdde6c3e2f332d0fc7dd681ea11d91ede37857561b30b4.py.lock\n",
            "INFO:filelock:Lock 140351250400648 acquired on /root/.cache/huggingface/metrics/glue/1.0.0/cache-glue-0.arrow.lock\n",
            "INFO:nlp.arrow_writer:Done writing 277 examples in 4432 bytes /root/.cache/huggingface/metrics/glue/1.0.0/cache-glue-0.arrow.\n",
            "INFO:filelock:Lock 140351250400648 released on /root/.cache/huggingface/metrics/glue/1.0.0/cache-glue-0.arrow.lock\n",
            "INFO:filelock:Lock 140351250402720 acquired on /root/.cache/huggingface/metrics/glue/1.0.0/cache-glue-0.arrow.lock\n",
            "INFO:filelock:Lock 140351250402720 released on /root/.cache/huggingface/metrics/glue/1.0.0/cache-glue-0.arrow.lock\n",
            "INFO:nlp.arrow_dataset:Set __getitem__(key) output type to numpy for no columns  (when key is int or slice) and don't output other (un-formated) columns.\n"
          ],
          "name": "stderr"
        },
        {
          "output_type": "stream",
          "text": [
            "\n"
          ],
          "name": "stdout"
        },
        {
          "output_type": "execute_result",
          "data": {
            "text/plain": [
              "{'accuracy': 0.7292418772563177}"
            ]
          },
          "metadata": {
            "tags": []
          },
          "execution_count": 22
        }
      ]
    },
    {
      "cell_type": "code",
      "metadata": {
        "id": "ORQPCjbVXeCW",
        "outputId": "a77c68f7-c992-401c-d732-0876bd0d1331",
        "colab": {
          "base_uri": "https://localhost:8080/"
        }
      },
      "source": [
        "# Evalute STS-B\n",
        "nlp.load_metric('glue', name=\"stsb\").compute(\n",
        "    preds_dict[\"stsb\"].predictions.flatten(),\n",
        "    preds_dict[\"stsb\"].label_ids,\n",
        ")"
      ],
      "execution_count": null,
      "outputs": [
        {
          "output_type": "stream",
          "text": [
            "INFO:nlp.load:Checking /root/.cache/huggingface/datasets/ee5b3a098be9a0d5be9e705b2abdaf1c7bf81ebf279e965db8dbd7db418efa32.f1fd3484ce65950de4cdde6c3e2f332d0fc7dd681ea11d91ede37857561b30b4.py for additional imports.\n",
            "INFO:filelock:Lock 140351250399752 acquired on /root/.cache/huggingface/datasets/ee5b3a098be9a0d5be9e705b2abdaf1c7bf81ebf279e965db8dbd7db418efa32.f1fd3484ce65950de4cdde6c3e2f332d0fc7dd681ea11d91ede37857561b30b4.py.lock\n",
            "INFO:nlp.load:Found main folder for metric https://s3.amazonaws.com/datasets.huggingface.co/nlp/metrics/glue/glue.py at /usr/local/lib/python3.6/dist-packages/nlp/metrics/glue\n",
            "INFO:nlp.load:Found specific version folder for metric https://s3.amazonaws.com/datasets.huggingface.co/nlp/metrics/glue/glue.py at /usr/local/lib/python3.6/dist-packages/nlp/metrics/glue/8e05e2fd41da255e1d729512a956f95cd909869a50ab5c8ac5ff2a060fbd2c68\n",
            "INFO:nlp.load:Found script file from https://s3.amazonaws.com/datasets.huggingface.co/nlp/metrics/glue/glue.py to /usr/local/lib/python3.6/dist-packages/nlp/metrics/glue/8e05e2fd41da255e1d729512a956f95cd909869a50ab5c8ac5ff2a060fbd2c68/glue.py\n",
            "INFO:nlp.load:Couldn't find dataset infos file at https://s3.amazonaws.com/datasets.huggingface.co/nlp/metrics/glue/dataset_infos.json\n",
            "INFO:nlp.load:Found metadata file for metric https://s3.amazonaws.com/datasets.huggingface.co/nlp/metrics/glue/glue.py at /usr/local/lib/python3.6/dist-packages/nlp/metrics/glue/8e05e2fd41da255e1d729512a956f95cd909869a50ab5c8ac5ff2a060fbd2c68/glue.json\n",
            "INFO:filelock:Lock 140351250399752 released on /root/.cache/huggingface/datasets/ee5b3a098be9a0d5be9e705b2abdaf1c7bf81ebf279e965db8dbd7db418efa32.f1fd3484ce65950de4cdde6c3e2f332d0fc7dd681ea11d91ede37857561b30b4.py.lock\n",
            "INFO:filelock:Lock 140351250400984 acquired on /root/.cache/huggingface/metrics/glue/1.0.0/cache-glue-0.arrow.lock\n",
            "INFO:nlp.arrow_writer:Done writing 1500 examples in 12000 bytes /root/.cache/huggingface/metrics/glue/1.0.0/cache-glue-0.arrow.\n",
            "INFO:filelock:Lock 140351250400984 released on /root/.cache/huggingface/metrics/glue/1.0.0/cache-glue-0.arrow.lock\n",
            "INFO:filelock:Lock 140351250399640 acquired on /root/.cache/huggingface/metrics/glue/1.0.0/cache-glue-0.arrow.lock\n",
            "INFO:filelock:Lock 140351250399640 released on /root/.cache/huggingface/metrics/glue/1.0.0/cache-glue-0.arrow.lock\n",
            "INFO:nlp.arrow_dataset:Set __getitem__(key) output type to numpy for no columns  (when key is int or slice) and don't output other (un-formated) columns.\n"
          ],
          "name": "stderr"
        },
        {
          "output_type": "execute_result",
          "data": {
            "text/plain": [
              "{'pearson': 0.8962647786896379, 'spearmanr': 0.894764566869167}"
            ]
          },
          "metadata": {
            "tags": []
          },
          "execution_count": 23
        }
      ]
    },
    {
      "cell_type": "code",
      "metadata": {
        "id": "Vg6Kv7uSXf2r",
        "outputId": "c2b69a97-f7b9-41af-8b0e-4549432f2b5f",
        "colab": {
          "base_uri": "https://localhost:8080/"
        }
      },
      "source": [
        "# Evalute Commonsense QA\n",
        "np.mean(\n",
        "    np.argmax(preds_dict[\"commonsense_qa\"].predictions, axis=1)\n",
        "    == preds_dict[\"commonsense_qa\"].label_ids\n",
        ")"
      ],
      "execution_count": null,
      "outputs": [
        {
          "output_type": "execute_result",
          "data": {
            "text/plain": [
              "0.5798525798525799"
            ]
          },
          "metadata": {
            "tags": []
          },
          "execution_count": 24
        }
      ]
    }
  ]
}