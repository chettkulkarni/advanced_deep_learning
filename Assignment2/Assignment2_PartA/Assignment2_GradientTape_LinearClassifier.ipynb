{
  "nbformat": 4,
  "nbformat_minor": 0,
  "metadata": {
    "colab": {
      "name": "Assignment2_GradientTape_LinearClassifier.ipynb",
      "provenance": [],
      "authorship_tag": "ABX9TyMbeXmbHXaINIDm/6rGYkU+",
      "include_colab_link": true
    },
    "kernelspec": {
      "name": "python3",
      "display_name": "Python 3"
    }
  },
  "cells": [
    {
      "cell_type": "markdown",
      "metadata": {
        "id": "view-in-github",
        "colab_type": "text"
      },
      "source": [
        "<a href=\"https://colab.research.google.com/github/chettkulkarni/advanced_deep_learning/blob/master/Assignment2/Assignment2_PartA/Assignment2_GradientTape_LinearClassifier.ipynb\" target=\"_parent\"><img src=\"https://colab.research.google.com/assets/colab-badge.svg\" alt=\"Open In Colab\"/></a>"
      ]
    },
    {
      "cell_type": "markdown",
      "metadata": {
        "id": "HYgF_IyiFP73",
        "colab_type": "text"
      },
      "source": [
        "# GradientTape"
      ]
    },
    {
      "cell_type": "markdown",
      "metadata": {
        "id": "DNWFuJ7kFErW",
        "colab_type": "text"
      },
      "source": [
        "TensorFlow provides the tf.GradientTape API for automatic differentiation; that is, computing the gradient of a computation with respect to some inputs, usually tf.Variables. TensorFlow \"records\" relevant operations executed inside the context of a tf.GradientTape onto a \"tape\". TensorFlow then uses that tape to compute the gradients of a \"recorded\" computation using reverse mode differentiation.\n",
        "\n",
        "(Source :[TensorFlow Documentation](https://www.tensorflow.org/guide/autodiff)"
      ]
    },
    {
      "cell_type": "code",
      "metadata": {
        "id": "5Iwk2ZjeFOy8",
        "colab_type": "code",
        "colab": {}
      },
      "source": [
        "import numpy as np\n",
        "import pandas as pd\n",
        "import tensorflow as tf\n",
        "import matplotlib.pyplot as plt"
      ],
      "execution_count": null,
      "outputs": []
    },
    {
      "cell_type": "code",
      "metadata": {
        "id": "9GNjQxkDFU2z",
        "colab_type": "code",
        "colab": {}
      },
      "source": [
        "x = tf.Variable(4.0)\n",
        "\n",
        "with tf.GradientTape() as tape:\n",
        "  y = x**2"
      ],
      "execution_count": null,
      "outputs": []
    },
    {
      "cell_type": "code",
      "metadata": {
        "id": "703Xf0RUFXmS",
        "colab_type": "code",
        "colab": {
          "base_uri": "https://localhost:8080/",
          "height": 34
        },
        "outputId": "26b84723-6647-4c5e-b4ad-dcf48c5f7afa"
      },
      "source": [
        "dy_dx = tape.gradient(y, x)\n",
        "dy_dx.numpy()"
      ],
      "execution_count": null,
      "outputs": [
        {
          "output_type": "execute_result",
          "data": {
            "text/plain": [
              "8.0"
            ]
          },
          "metadata": {
            "tags": []
          },
          "execution_count": 7
        }
      ]
    },
    {
      "cell_type": "markdown",
      "metadata": {
        "id": "yGFL0QUpFk0u",
        "colab_type": "text"
      },
      "source": [
        "So as demonstrated above, Differentiation of equation , y=x**2\n",
        "is\n",
        "\n",
        "> 2*x\n",
        "\n",
        "hence when x=4, differntion is 8\n",
        "\n",
        "\n",
        "\n",
        "\n"
      ]
    },
    {
      "cell_type": "code",
      "metadata": {
        "id": "usXMS2cUFaib",
        "colab_type": "code",
        "colab": {}
      },
      "source": [
        ""
      ],
      "execution_count": null,
      "outputs": []
    },
    {
      "cell_type": "markdown",
      "metadata": {
        "id": "djC9rn0MGLT0",
        "colab_type": "text"
      },
      "source": [
        "# Linear Classifier with GradientTape"
      ]
    },
    {
      "cell_type": "markdown",
      "metadata": {
        "id": "x-XYjfFuGRZQ",
        "colab_type": "text"
      },
      "source": [
        "Lets build a linear classifier which classifies postive and negative numbers"
      ]
    },
    {
      "cell_type": "code",
      "metadata": {
        "id": "Nk8gPW2SGOdQ",
        "colab_type": "code",
        "colab": {}
      },
      "source": [
        "'''\n",
        "1. Generate random samples - postivie and negative (purple and yellow)\n",
        "2. Graph the data on x and y\n",
        "3. Write linear clf\n",
        "''' \n",
        "num_samples = 10000\n",
        "negative_samples = np.random.multivariate_normal(mean=[0, 3], cov=[[1, 0.5], [0.5, 1]], size=num_samples)\n",
        "positive_samples = np.random.multivariate_normal(mean=[3, 0], cov=[[1, 0.5], [0.5, 1]], size=num_samples)"
      ],
      "execution_count": null,
      "outputs": []
    },
    {
      "cell_type": "code",
      "metadata": {
        "id": "2pG54WFOGZWA",
        "colab_type": "code",
        "colab": {
          "base_uri": "https://localhost:8080/",
          "height": 136
        },
        "outputId": "636238d1-4705-4ada-dab0-8368dd27de1e"
      },
      "source": [
        "negative_samples"
      ],
      "execution_count": null,
      "outputs": [
        {
          "output_type": "execute_result",
          "data": {
            "text/plain": [
              "array([[ 0.4051192 ,  2.36515086],\n",
              "       [ 0.31053045,  4.38106968],\n",
              "       [-0.05610565,  5.08766215],\n",
              "       ...,\n",
              "       [ 1.18972634,  3.62748488],\n",
              "       [ 0.94461977,  2.87945677],\n",
              "       [ 2.00112988,  3.50724219]])"
            ]
          },
          "metadata": {
            "tags": []
          },
          "execution_count": 17
        }
      ]
    },
    {
      "cell_type": "code",
      "metadata": {
        "id": "owyAnlhEGazX",
        "colab_type": "code",
        "colab": {
          "base_uri": "https://localhost:8080/",
          "height": 136
        },
        "outputId": "05062a55-f3f7-49a0-ecf4-9ae164841931"
      },
      "source": [
        "positive_samples"
      ],
      "execution_count": null,
      "outputs": [
        {
          "output_type": "execute_result",
          "data": {
            "text/plain": [
              "array([[ 2.60149265,  0.53279469],\n",
              "       [ 2.14273955,  1.64685104],\n",
              "       [ 2.20974893,  0.02407279],\n",
              "       ...,\n",
              "       [ 2.40101843,  0.00491793],\n",
              "       [ 2.97838769, -0.77547022],\n",
              "       [ 2.00293672, -0.58752493]])"
            ]
          },
          "metadata": {
            "tags": []
          },
          "execution_count": 18
        }
      ]
    },
    {
      "cell_type": "code",
      "metadata": {
        "id": "DHeIjAs1GcM3",
        "colab_type": "code",
        "colab": {
          "base_uri": "https://localhost:8080/",
          "height": 282
        },
        "outputId": "62b8541b-86ef-4c78-a93d-1cd5036f9d88"
      },
      "source": [
        "features = np.vstack((negative_samples, positive_samples)).astype(np.float32)\n",
        "labels = np.vstack((np.zeros((num_samples, 1), dtype='float32'),\n",
        "                    np.ones((num_samples, 1), dtype='float32')))\n",
        "\n",
        "plt.scatter(features[:, 0], features[:, 1], c=labels[:, 0])"
      ],
      "execution_count": null,
      "outputs": [
        {
          "output_type": "execute_result",
          "data": {
            "text/plain": [
              "<matplotlib.collections.PathCollection at 0x7f7755d80400>"
            ]
          },
          "metadata": {
            "tags": []
          },
          "execution_count": 19
        },
        {
          "output_type": "display_data",
          "data": {
            "image/png": "[encoded data removed]",
            "text/plain": [
              "<Figure size 432x288 with 1 Axes>"
            ]
          },
          "metadata": {
            "tags": [],
            "needs_background": "light"
          }
        }
      ]
    },
    {
      "cell_type": "markdown",
      "metadata": {
        "id": "5VnzLfOkI7-A",
        "colab_type": "text"
      },
      "source": [
        "A basic tensor flow code to perform linear classification between postive and negative numbers.\n",
        "\n",
        "\n",
        "w and b are weight and bias values \n",
        "\n",
        "compute prediction , takes features , multiplies it with weight and adds the bias.\n",
        "\n",
        "loss is simple mean squared error\n",
        "\n",
        "and gradient calculation is performed using gradient tape.\n"
      ]
    },
    {
      "cell_type": "code",
      "metadata": {
        "id": "zqo6jzTgG50Q",
        "colab_type": "code",
        "colab": {}
      },
      "source": [
        "input_dim = 2\n",
        "output_dim = 1\n",
        "learning_rate = 0.01\n",
        "\n",
        "# This is our weight matrix\n",
        "w = tf.Variable(tf.random.uniform(shape=(input_dim, output_dim)))\n",
        "# This is our bias vector\n",
        "b = tf.Variable(tf.zeros(shape=(output_dim,)))\n",
        "\n",
        "def compute_predictions(features):\n",
        "  return tf.matmul(features, w) + b\n",
        "\n",
        "def compute_loss(labels, predictions):\n",
        "  return tf.reduce_mean(tf.square(labels - predictions))\n",
        "\n",
        "@tf.function\n",
        "def train_on_batch(x, y):\n",
        "  with tf.GradientTape() as tape:\n",
        "    predictions = compute_predictions(x)\n",
        "    loss = compute_loss(y, predictions)\n",
        "    # Note that `tape.gradient` works with a list as well (w, b).\n",
        "    dloss_dw, dloss_db = tape.gradient(loss, [w, b])\n",
        "  w.assign_sub(learning_rate * dloss_dw)\n",
        "  b.assign_sub(learning_rate * dloss_db)\n",
        "  return loss"
      ],
      "execution_count": null,
      "outputs": []
    },
    {
      "cell_type": "code",
      "metadata": {
        "id": "Bl2SqX03H88o",
        "colab_type": "code",
        "colab": {
          "base_uri": "https://localhost:8080/",
          "height": 187
        },
        "outputId": "8afb915c-5484-40c0-e80f-400a7b8014bf"
      },
      "source": [
        "# Shuffle the data.\n",
        "indices = np.random.permutation(len(features))\n",
        "features = features[indices]\n",
        "labels = labels[indices]\n",
        "\n",
        "# Create a tf.data.Dataset object for easy batched iteration\n",
        "dataset = tf.data.Dataset.from_tensor_slices((features, labels))\n",
        "dataset = dataset.shuffle(buffer_size=1024).batch(256)\n",
        "\n",
        "for epoch in range(10):\n",
        "  for step, (x, y) in enumerate(dataset):\n",
        "    loss = train_on_batch(x, y)\n",
        "  print('Epoch %d: last batch loss = %.4f' % (epoch, float(loss)))"
      ],
      "execution_count": null,
      "outputs": [
        {
          "output_type": "stream",
          "text": [
            "Epoch 0: last batch loss = 0.0277\n",
            "Epoch 1: last batch loss = 0.0239\n",
            "Epoch 2: last batch loss = 0.0202\n",
            "Epoch 3: last batch loss = 0.0260\n",
            "Epoch 4: last batch loss = 0.0149\n",
            "Epoch 5: last batch loss = 0.0357\n",
            "Epoch 6: last batch loss = 0.0375\n",
            "Epoch 7: last batch loss = 0.0237\n",
            "Epoch 8: last batch loss = 0.0215\n",
            "Epoch 9: last batch loss = 0.0229\n"
          ],
          "name": "stdout"
        }
      ]
    },
    {
      "cell_type": "code",
      "metadata": {
        "id": "Nim8biR4IAWt",
        "colab_type": "code",
        "colab": {
          "base_uri": "https://localhost:8080/",
          "height": 282
        },
        "outputId": "14f7e05f-40b1-4374-d026-33464636f62e"
      },
      "source": [
        "predictions = compute_predictions(features)\n",
        "plt.scatter(features[:, 0], features[:, 1], c=predictions[:, 0] > 0.5)"
      ],
      "execution_count": null,
      "outputs": [
        {
          "output_type": "execute_result",
          "data": {
            "text/plain": [
              "<matplotlib.collections.PathCollection at 0x7f774dadd400>"
            ]
          },
          "metadata": {
            "tags": []
          },
          "execution_count": 28
        },
        {
          "output_type": "display_data",
          "data": {
            "image/png": "[encoded data removed]",
            "text/plain": [
              "<Figure size 432x288 with 1 Axes>"
            ]
          },
          "metadata": {
            "tags": [],
            "needs_background": "light"
          }
        }
      ]
    },
    {
      "cell_type": "markdown",
      "metadata": {
        "id": "tqgT52Y1JwLd",
        "colab_type": "text"
      },
      "source": [
        "Hence from above, we demonstrated simple linear classifier , where gradient was calculated using gradienttape."
      ]
    },
    {
      "cell_type": "code",
      "metadata": {
        "id": "arL7SO1RIDCM",
        "colab_type": "code",
        "colab": {}
      },
      "source": [
        ""
      ],
      "execution_count": null,
      "outputs": []
    }
  ]
}